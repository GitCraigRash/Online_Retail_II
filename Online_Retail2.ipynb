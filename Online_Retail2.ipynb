{
  "cells": [
    {
      "cell_type": "markdown",
      "metadata": {
        "id": "view-in-github",
        "colab_type": "text"
      },
      "source": [
        "<a href=\"https://colab.research.google.com/github/GitCraigRash/Online_Retail_II/blob/main/Online_Retail2.ipynb\" target=\"_parent\"><img src=\"https://colab.research.google.com/assets/colab-badge.svg\" alt=\"Open In Colab\"/></a>"
      ]
    },
    {
      "cell_type": "markdown",
      "metadata": {
        "id": "37DhkC-9_UyW"
      },
      "source": [
        "#Using online retail data to\n",
        "#MAXIMIZE PROFITS.\n",
        "\n",
        "This dataset contains two years of online retail sales data. It includes Invoice, InvoiceDate, Customer ID, StockCode, Quantity, Price, Description, and Country.\n",
        "\n",
        "Rual, Jordon, Brian, and Craig (me) have taken this data from Kaggle to showcase our skills in Data Science. We consulted a senior data scientist for project direction as we needed to know how to benefit stakeholders.\n",
        "\n",
        "We used various methods to generate valuble information for stakeholders.\n",
        "\n",
        "###Method 1: Find Priority Countries by Total Spent.(DONE, may need updating)\n",
        "\n",
        "###Method 2: Code Customers by High, Meduim and Low 'Cart Value'(the total sum of all products purchased during an order process.)(WORKING)\n",
        "\n",
        "###Method 3: Bar Chart of Product Trends By Month (WORKING)\n",
        "\n",
        "###Method 4: Predict Repeat Customers using Random Forest. (DONE, Needs Optimizing)\n",
        "\n",
        "###Method 5: Bar Graph of when Repeat Customers come. Bar graph of when New Customers come. [Jordon](TODO)\n",
        "\n",
        "### Method 6: Multiple Linear Regression Model [Raul](DONE)\n",
        "\n",
        "### Method 7: Ridge Regression [Brian]\n",
        "\n",
        "Method 7 TODO What is the new results using mean_absolute_error with new featres?\n",
        "\n",
        "### TODO: find a way to reduce excessive loading time for .csv\n",
        "\n",
        "### TODO: Make code PEP8 complient.\n"
      ]
    },
    {
      "cell_type": "markdown",
      "source": [
        "#Download Libraries and Dataset"
      ],
      "metadata": {
        "id": "Cw99h_6SW5X0"
      }
    },
    {
      "cell_type": "code",
      "source": [
        "!pip install category_encoders"
      ],
      "metadata": {
        "colab": {
          "base_uri": "https://localhost:8080/"
        },
        "id": "CrUg1BrJQ6WF",
        "outputId": "9e6c145c-6851-4a98-c99a-13ae665cd895"
      },
      "execution_count": null,
      "outputs": [
        {
          "output_type": "stream",
          "name": "stdout",
          "text": [
            "Collecting category_encoders\n",
            "  Downloading category_encoders-2.6.3-py2.py3-none-any.whl.metadata (8.0 kB)\n",
            "Requirement already satisfied: numpy>=1.14.0 in /usr/local/lib/python3.10/dist-packages (from category_encoders) (1.26.4)\n",
            "Requirement already satisfied: scikit-learn>=0.20.0 in /usr/local/lib/python3.10/dist-packages (from category_encoders) (1.3.2)\n",
            "Requirement already satisfied: scipy>=1.0.0 in /usr/local/lib/python3.10/dist-packages (from category_encoders) (1.13.1)\n",
            "Requirement already satisfied: statsmodels>=0.9.0 in /usr/local/lib/python3.10/dist-packages (from category_encoders) (0.14.2)\n",
            "Requirement already satisfied: pandas>=1.0.5 in /usr/local/lib/python3.10/dist-packages (from category_encoders) (2.1.4)\n",
            "Requirement already satisfied: patsy>=0.5.1 in /usr/local/lib/python3.10/dist-packages (from category_encoders) (0.5.6)\n",
            "Requirement already satisfied: python-dateutil>=2.8.2 in /usr/local/lib/python3.10/dist-packages (from pandas>=1.0.5->category_encoders) (2.8.2)\n",
            "Requirement already satisfied: pytz>=2020.1 in /usr/local/lib/python3.10/dist-packages (from pandas>=1.0.5->category_encoders) (2024.1)\n",
            "Requirement already satisfied: tzdata>=2022.1 in /usr/local/lib/python3.10/dist-packages (from pandas>=1.0.5->category_encoders) (2024.1)\n",
            "Requirement already satisfied: six in /usr/local/lib/python3.10/dist-packages (from patsy>=0.5.1->category_encoders) (1.16.0)\n",
            "Requirement already satisfied: joblib>=1.1.1 in /usr/local/lib/python3.10/dist-packages (from scikit-learn>=0.20.0->category_encoders) (1.4.2)\n",
            "Requirement already satisfied: threadpoolctl>=2.0.0 in /usr/local/lib/python3.10/dist-packages (from scikit-learn>=0.20.0->category_encoders) (3.5.0)\n",
            "Requirement already satisfied: packaging>=21.3 in /usr/local/lib/python3.10/dist-packages (from statsmodels>=0.9.0->category_encoders) (24.1)\n",
            "Downloading category_encoders-2.6.3-py2.py3-none-any.whl (81 kB)\n",
            "\u001b[2K   \u001b[90m━━━━━━━━━━━━━━━━━━━━━━━━━━━━━━━━━━━━━━━━\u001b[0m \u001b[32m81.9/81.9 kB\u001b[0m \u001b[31m2.3 MB/s\u001b[0m eta \u001b[36m0:00:00\u001b[0m\n",
            "\u001b[?25hInstalling collected packages: category_encoders\n",
            "Successfully installed category_encoders-2.6.3\n"
          ]
        }
      ]
    },
    {
      "cell_type": "code",
      "execution_count": null,
      "metadata": {
        "id": "eqEr_bIGI9Wo"
      },
      "outputs": [],
      "source": [
        "# Import various libraries\n",
        "import pandas as pd\n",
        "import numpy as np\n",
        "import matplotlib.pyplot as plt\n",
        "import seaborn as sns\n",
        "from sklearn.model_selection import train_test_split\n",
        "from category_encoders import OrdinalEncoder\n",
        "\n",
        "from sklearn.linear_model import Ridge\n",
        "\n",
        "from sklearn.metrics import mean_absolute_error, mean_squared_error, r2_score"
      ]
    },
    {
      "cell_type": "code",
      "execution_count": null,
      "metadata": {
        "colab": {
          "base_uri": "https://localhost:8080/"
        },
        "id": "NNUEaI2lJAWm",
        "outputId": "0241de8f-aae4-4d7c-c961-8ebf1a9a49ef"
      },
      "outputs": [
        {
          "output_type": "stream",
          "name": "stdout",
          "text": [
            "Mounted at /content/drive\n"
          ]
        }
      ],
      "source": [
        "# Import online_retail_II.csv\n",
        "from google.colab import drive\n",
        "drive.mount('/content/drive')\n"
      ]
    },
    {
      "cell_type": "code",
      "source": [
        "def wrangle(csv):\n",
        "  '''\n",
        "  Seperate Known from Unknown customers. Drop Discription and Invoice columns.\n",
        "\n",
        "  '''\n",
        "  # Set InvoiceDate as Index\n",
        "  df = pd.read_csv(csv,\n",
        "                 index_col=\"InvoiceDate\",\n",
        "                 parse_dates=True)\n",
        "  # Dropped \"Description\" because 'StockCode' exists.\n",
        "  # and is better for machine learning.\n",
        "  df.drop(columns=[\"Description\",\"Invoice\"], inplace=True)\n",
        "\n",
        "  # A large portion of 'Customer ID' values are null.\n",
        "  # These customers will be seperated for analysis.\n",
        "  # Created a boolean mask indicating which rows have missing values.\n",
        "  missing_mask = df.isnull().any(axis=1)\n",
        "\n",
        "  # Define the categorical features\n",
        "  df['StockCode'] = OrdinalEncoder().fit_transform(df['StockCode'])\n",
        "  df['Country_id'] = OrdinalEncoder().fit_transform(df['Country'])\n",
        "\n",
        "  # Create 'TotalSpending' column to track cart value.\n",
        "  df['TotalSpending'] = df['Quantity'] * df['Price']\n",
        "\n",
        "  # Some countries have negative cart value.\n",
        "  # We conclude that these entries are returns or losses of some kind.\n",
        "  # We will exclude them from our study because the frequency\n",
        "  # and cost of these transactions are trivial(TODO:Provide precentage of return cost to revenue).\n",
        "  #df = df.loc[df[\"TotalSpending\"]>0].reset_index(drop=True)\n",
        "\n",
        "  # Use the mask to create two separate DataFrames.\n",
        "  unknown_df = df[missing_mask]\n",
        "  known_df = df[~missing_mask]\n",
        "  return df, unknown_df, known_df"
      ],
      "metadata": {
        "id": "mTupA2TPceq_"
      },
      "execution_count": null,
      "outputs": []
    },
    {
      "cell_type": "code",
      "source": [
        "df, unknown_df, known_df = wrangle(\"/content/drive/My Drive/online_retail_II.csv\")"
      ],
      "metadata": {
        "id": "rP2Agbm1d4I6"
      },
      "execution_count": null,
      "outputs": []
    },
    {
      "cell_type": "markdown",
      "source": [
        "Three datasets:\n",
        "\n",
        "df includes all customers.\n",
        "\n",
        "known_df includes only known custmers.\n",
        "\n",
        "unknown_df includes only unknown customers.\n",
        "\n"
      ],
      "metadata": {
        "id": "O_a5G0FLXELn"
      }
    },
    {
      "cell_type": "markdown",
      "source": [
        "Predict the quantity of the MOST common item, based on orders of the past 30 days.\n",
        "step 1 filter by most common item\n",
        "step 2 Feature engineer"
      ],
      "metadata": {
        "id": "TF7TgPpQv87O"
      }
    },
    {
      "cell_type": "markdown",
      "source": [
        "add a rolling function of the average of price variates over the last thirty days."
      ],
      "metadata": {
        "id": "ewQiXy42una_"
      }
    },
    {
      "cell_type": "code",
      "execution_count": null,
      "metadata": {
        "colab": {
          "base_uri": "https://localhost:8080/",
          "height": 455
        },
        "id": "ofpsaHFhCC4F",
        "outputId": "68477c63-10b9-4664-a590-33cff22bd342"
      },
      "outputs": [
        {
          "output_type": "execute_result",
          "data": {
            "text/plain": [
              "                     StockCode  Quantity  Price  Customer ID  Country  \\\n",
              "InvoiceDate                                                             \n",
              "2009-12-01 07:45:00          1        12   6.95      13085.0        1   \n",
              "2009-12-01 07:45:00          2        12   6.75      13085.0        1   \n",
              "2009-12-01 07:45:00          3        12   6.75      13085.0        1   \n",
              "2009-12-01 07:45:00          4        48   2.10      13085.0        1   \n",
              "2009-12-01 07:45:00          5        24   1.25      13085.0        1   \n",
              "...                        ...       ...    ...          ...      ...   \n",
              "2009-12-01 09:44:00         31        48   4.25      18087.0        1   \n",
              "2009-12-01 09:46:00         90         2   6.75      13635.0        1   \n",
              "2009-12-01 09:46:00         31         3   4.95      13635.0        1   \n",
              "2009-12-01 09:46:00         19        12   1.65      13635.0        1   \n",
              "2009-12-01 09:46:00         91        12   1.25      13635.0        1   \n",
              "\n",
              "                     TotalSpending  \n",
              "InvoiceDate                         \n",
              "2009-12-01 07:45:00          83.40  \n",
              "2009-12-01 07:45:00          81.00  \n",
              "2009-12-01 07:45:00          81.00  \n",
              "2009-12-01 07:45:00         100.80  \n",
              "2009-12-01 07:45:00          30.00  \n",
              "...                            ...  \n",
              "2009-12-01 09:44:00         204.00  \n",
              "2009-12-01 09:46:00          13.50  \n",
              "2009-12-01 09:46:00          14.85  \n",
              "2009-12-01 09:46:00          19.80  \n",
              "2009-12-01 09:46:00          15.00  \n",
              "\n",
              "[100 rows x 6 columns]"
            ],
            "text/html": [
              "\n",
              "  <div id=\"df-f92bd5a4-1434-43b9-991e-54864ad4679e\" class=\"colab-df-container\">\n",
              "    <div>\n",
              "<style scoped>\n",
              "    .dataframe tbody tr th:only-of-type {\n",
              "        vertical-align: middle;\n",
              "    }\n",
              "\n",
              "    .dataframe tbody tr th {\n",
              "        vertical-align: top;\n",
              "    }\n",
              "\n",
              "    .dataframe thead th {\n",
              "        text-align: right;\n",
              "    }\n",
              "</style>\n",
              "<table border=\"1\" class=\"dataframe\">\n",
              "  <thead>\n",
              "    <tr style=\"text-align: right;\">\n",
              "      <th></th>\n",
              "      <th>StockCode</th>\n",
              "      <th>Quantity</th>\n",
              "      <th>Price</th>\n",
              "      <th>Customer ID</th>\n",
              "      <th>Country</th>\n",
              "      <th>TotalSpending</th>\n",
              "    </tr>\n",
              "    <tr>\n",
              "      <th>InvoiceDate</th>\n",
              "      <th></th>\n",
              "      <th></th>\n",
              "      <th></th>\n",
              "      <th></th>\n",
              "      <th></th>\n",
              "      <th></th>\n",
              "    </tr>\n",
              "  </thead>\n",
              "  <tbody>\n",
              "    <tr>\n",
              "      <th>2009-12-01 07:45:00</th>\n",
              "      <td>1</td>\n",
              "      <td>12</td>\n",
              "      <td>6.95</td>\n",
              "      <td>13085.0</td>\n",
              "      <td>1</td>\n",
              "      <td>83.40</td>\n",
              "    </tr>\n",
              "    <tr>\n",
              "      <th>2009-12-01 07:45:00</th>\n",
              "      <td>2</td>\n",
              "      <td>12</td>\n",
              "      <td>6.75</td>\n",
              "      <td>13085.0</td>\n",
              "      <td>1</td>\n",
              "      <td>81.00</td>\n",
              "    </tr>\n",
              "    <tr>\n",
              "      <th>2009-12-01 07:45:00</th>\n",
              "      <td>3</td>\n",
              "      <td>12</td>\n",
              "      <td>6.75</td>\n",
              "      <td>13085.0</td>\n",
              "      <td>1</td>\n",
              "      <td>81.00</td>\n",
              "    </tr>\n",
              "    <tr>\n",
              "      <th>2009-12-01 07:45:00</th>\n",
              "      <td>4</td>\n",
              "      <td>48</td>\n",
              "      <td>2.10</td>\n",
              "      <td>13085.0</td>\n",
              "      <td>1</td>\n",
              "      <td>100.80</td>\n",
              "    </tr>\n",
              "    <tr>\n",
              "      <th>2009-12-01 07:45:00</th>\n",
              "      <td>5</td>\n",
              "      <td>24</td>\n",
              "      <td>1.25</td>\n",
              "      <td>13085.0</td>\n",
              "      <td>1</td>\n",
              "      <td>30.00</td>\n",
              "    </tr>\n",
              "    <tr>\n",
              "      <th>...</th>\n",
              "      <td>...</td>\n",
              "      <td>...</td>\n",
              "      <td>...</td>\n",
              "      <td>...</td>\n",
              "      <td>...</td>\n",
              "      <td>...</td>\n",
              "    </tr>\n",
              "    <tr>\n",
              "      <th>2009-12-01 09:44:00</th>\n",
              "      <td>31</td>\n",
              "      <td>48</td>\n",
              "      <td>4.25</td>\n",
              "      <td>18087.0</td>\n",
              "      <td>1</td>\n",
              "      <td>204.00</td>\n",
              "    </tr>\n",
              "    <tr>\n",
              "      <th>2009-12-01 09:46:00</th>\n",
              "      <td>90</td>\n",
              "      <td>2</td>\n",
              "      <td>6.75</td>\n",
              "      <td>13635.0</td>\n",
              "      <td>1</td>\n",
              "      <td>13.50</td>\n",
              "    </tr>\n",
              "    <tr>\n",
              "      <th>2009-12-01 09:46:00</th>\n",
              "      <td>31</td>\n",
              "      <td>3</td>\n",
              "      <td>4.95</td>\n",
              "      <td>13635.0</td>\n",
              "      <td>1</td>\n",
              "      <td>14.85</td>\n",
              "    </tr>\n",
              "    <tr>\n",
              "      <th>2009-12-01 09:46:00</th>\n",
              "      <td>19</td>\n",
              "      <td>12</td>\n",
              "      <td>1.65</td>\n",
              "      <td>13635.0</td>\n",
              "      <td>1</td>\n",
              "      <td>19.80</td>\n",
              "    </tr>\n",
              "    <tr>\n",
              "      <th>2009-12-01 09:46:00</th>\n",
              "      <td>91</td>\n",
              "      <td>12</td>\n",
              "      <td>1.25</td>\n",
              "      <td>13635.0</td>\n",
              "      <td>1</td>\n",
              "      <td>15.00</td>\n",
              "    </tr>\n",
              "  </tbody>\n",
              "</table>\n",
              "<p>100 rows × 6 columns</p>\n",
              "</div>\n",
              "    <div class=\"colab-df-buttons\">\n",
              "\n",
              "  <div class=\"colab-df-container\">\n",
              "    <button class=\"colab-df-convert\" onclick=\"convertToInteractive('df-f92bd5a4-1434-43b9-991e-54864ad4679e')\"\n",
              "            title=\"Convert this dataframe to an interactive table.\"\n",
              "            style=\"display:none;\">\n",
              "\n",
              "  <svg xmlns=\"http://www.w3.org/2000/svg\" height=\"24px\" viewBox=\"0 -960 960 960\">\n",
              "    <path d=\"M120-120v-720h720v720H120Zm60-500h600v-160H180v160Zm220 220h160v-160H400v160Zm0 220h160v-160H400v160ZM180-400h160v-160H180v160Zm440 0h160v-160H620v160ZM180-180h160v-160H180v160Zm440 0h160v-160H620v160Z\"/>\n",
              "  </svg>\n",
              "    </button>\n",
              "\n",
              "  <style>\n",
              "    .colab-df-container {\n",
              "      display:flex;\n",
              "      gap: 12px;\n",
              "    }\n",
              "\n",
              "    .colab-df-convert {\n",
              "      background-color: #E8F0FE;\n",
              "      border: none;\n",
              "      border-radius: 50%;\n",
              "      cursor: pointer;\n",
              "      display: none;\n",
              "      fill: #1967D2;\n",
              "      height: 32px;\n",
              "      padding: 0 0 0 0;\n",
              "      width: 32px;\n",
              "    }\n",
              "\n",
              "    .colab-df-convert:hover {\n",
              "      background-color: #E2EBFA;\n",
              "      box-shadow: 0px 1px 2px rgba(60, 64, 67, 0.3), 0px 1px 3px 1px rgba(60, 64, 67, 0.15);\n",
              "      fill: #174EA6;\n",
              "    }\n",
              "\n",
              "    .colab-df-buttons div {\n",
              "      margin-bottom: 4px;\n",
              "    }\n",
              "\n",
              "    [theme=dark] .colab-df-convert {\n",
              "      background-color: #3B4455;\n",
              "      fill: #D2E3FC;\n",
              "    }\n",
              "\n",
              "    [theme=dark] .colab-df-convert:hover {\n",
              "      background-color: #434B5C;\n",
              "      box-shadow: 0px 1px 3px 1px rgba(0, 0, 0, 0.15);\n",
              "      filter: drop-shadow(0px 1px 2px rgba(0, 0, 0, 0.3));\n",
              "      fill: #FFFFFF;\n",
              "    }\n",
              "  </style>\n",
              "\n",
              "    <script>\n",
              "      const buttonEl =\n",
              "        document.querySelector('#df-f92bd5a4-1434-43b9-991e-54864ad4679e button.colab-df-convert');\n",
              "      buttonEl.style.display =\n",
              "        google.colab.kernel.accessAllowed ? 'block' : 'none';\n",
              "\n",
              "      async function convertToInteractive(key) {\n",
              "        const element = document.querySelector('#df-f92bd5a4-1434-43b9-991e-54864ad4679e');\n",
              "        const dataTable =\n",
              "          await google.colab.kernel.invokeFunction('convertToInteractive',\n",
              "                                                    [key], {});\n",
              "        if (!dataTable) return;\n",
              "\n",
              "        const docLinkHtml = 'Like what you see? Visit the ' +\n",
              "          '<a target=\"_blank\" href=https://colab.research.google.com/notebooks/data_table.ipynb>data table notebook</a>'\n",
              "          + ' to learn more about interactive tables.';\n",
              "        element.innerHTML = '';\n",
              "        dataTable['output_type'] = 'display_data';\n",
              "        await google.colab.output.renderOutput(dataTable, element);\n",
              "        const docLink = document.createElement('div');\n",
              "        docLink.innerHTML = docLinkHtml;\n",
              "        element.appendChild(docLink);\n",
              "      }\n",
              "    </script>\n",
              "  </div>\n",
              "\n",
              "\n",
              "<div id=\"df-585e89d3-e0f1-4181-ab6c-8ec7232f3266\">\n",
              "  <button class=\"colab-df-quickchart\" onclick=\"quickchart('df-585e89d3-e0f1-4181-ab6c-8ec7232f3266')\"\n",
              "            title=\"Suggest charts.\"\n",
              "            style=\"display:none;\">\n",
              "\n",
              "<svg xmlns=\"http://www.w3.org/2000/svg\" height=\"24px\"viewBox=\"0 0 24 24\"\n",
              "     width=\"24px\">\n",
              "    <g>\n",
              "        <path d=\"M19 3H5c-1.1 0-2 .9-2 2v14c0 1.1.9 2 2 2h14c1.1 0 2-.9 2-2V5c0-1.1-.9-2-2-2zM9 17H7v-7h2v7zm4 0h-2V7h2v10zm4 0h-2v-4h2v4z\"/>\n",
              "    </g>\n",
              "</svg>\n",
              "  </button>\n",
              "\n",
              "<style>\n",
              "  .colab-df-quickchart {\n",
              "      --bg-color: #E8F0FE;\n",
              "      --fill-color: #1967D2;\n",
              "      --hover-bg-color: #E2EBFA;\n",
              "      --hover-fill-color: #174EA6;\n",
              "      --disabled-fill-color: #AAA;\n",
              "      --disabled-bg-color: #DDD;\n",
              "  }\n",
              "\n",
              "  [theme=dark] .colab-df-quickchart {\n",
              "      --bg-color: #3B4455;\n",
              "      --fill-color: #D2E3FC;\n",
              "      --hover-bg-color: #434B5C;\n",
              "      --hover-fill-color: #FFFFFF;\n",
              "      --disabled-bg-color: #3B4455;\n",
              "      --disabled-fill-color: #666;\n",
              "  }\n",
              "\n",
              "  .colab-df-quickchart {\n",
              "    background-color: var(--bg-color);\n",
              "    border: none;\n",
              "    border-radius: 50%;\n",
              "    cursor: pointer;\n",
              "    display: none;\n",
              "    fill: var(--fill-color);\n",
              "    height: 32px;\n",
              "    padding: 0;\n",
              "    width: 32px;\n",
              "  }\n",
              "\n",
              "  .colab-df-quickchart:hover {\n",
              "    background-color: var(--hover-bg-color);\n",
              "    box-shadow: 0 1px 2px rgba(60, 64, 67, 0.3), 0 1px 3px 1px rgba(60, 64, 67, 0.15);\n",
              "    fill: var(--button-hover-fill-color);\n",
              "  }\n",
              "\n",
              "  .colab-df-quickchart-complete:disabled,\n",
              "  .colab-df-quickchart-complete:disabled:hover {\n",
              "    background-color: var(--disabled-bg-color);\n",
              "    fill: var(--disabled-fill-color);\n",
              "    box-shadow: none;\n",
              "  }\n",
              "\n",
              "  .colab-df-spinner {\n",
              "    border: 2px solid var(--fill-color);\n",
              "    border-color: transparent;\n",
              "    border-bottom-color: var(--fill-color);\n",
              "    animation:\n",
              "      spin 1s steps(1) infinite;\n",
              "  }\n",
              "\n",
              "  @keyframes spin {\n",
              "    0% {\n",
              "      border-color: transparent;\n",
              "      border-bottom-color: var(--fill-color);\n",
              "      border-left-color: var(--fill-color);\n",
              "    }\n",
              "    20% {\n",
              "      border-color: transparent;\n",
              "      border-left-color: var(--fill-color);\n",
              "      border-top-color: var(--fill-color);\n",
              "    }\n",
              "    30% {\n",
              "      border-color: transparent;\n",
              "      border-left-color: var(--fill-color);\n",
              "      border-top-color: var(--fill-color);\n",
              "      border-right-color: var(--fill-color);\n",
              "    }\n",
              "    40% {\n",
              "      border-color: transparent;\n",
              "      border-right-color: var(--fill-color);\n",
              "      border-top-color: var(--fill-color);\n",
              "    }\n",
              "    60% {\n",
              "      border-color: transparent;\n",
              "      border-right-color: var(--fill-color);\n",
              "    }\n",
              "    80% {\n",
              "      border-color: transparent;\n",
              "      border-right-color: var(--fill-color);\n",
              "      border-bottom-color: var(--fill-color);\n",
              "    }\n",
              "    90% {\n",
              "      border-color: transparent;\n",
              "      border-bottom-color: var(--fill-color);\n",
              "    }\n",
              "  }\n",
              "</style>\n",
              "\n",
              "  <script>\n",
              "    async function quickchart(key) {\n",
              "      const quickchartButtonEl =\n",
              "        document.querySelector('#' + key + ' button');\n",
              "      quickchartButtonEl.disabled = true;  // To prevent multiple clicks.\n",
              "      quickchartButtonEl.classList.add('colab-df-spinner');\n",
              "      try {\n",
              "        const charts = await google.colab.kernel.invokeFunction(\n",
              "            'suggestCharts', [key], {});\n",
              "      } catch (error) {\n",
              "        console.error('Error during call to suggestCharts:', error);\n",
              "      }\n",
              "      quickchartButtonEl.classList.remove('colab-df-spinner');\n",
              "      quickchartButtonEl.classList.add('colab-df-quickchart-complete');\n",
              "    }\n",
              "    (() => {\n",
              "      let quickchartButtonEl =\n",
              "        document.querySelector('#df-585e89d3-e0f1-4181-ab6c-8ec7232f3266 button');\n",
              "      quickchartButtonEl.style.display =\n",
              "        google.colab.kernel.accessAllowed ? 'block' : 'none';\n",
              "    })();\n",
              "  </script>\n",
              "</div>\n",
              "    </div>\n",
              "  </div>\n"
            ]
          },
          "metadata": {},
          "execution_count": 27
        }
      ],
      "source": [
        "minidf = df.head(5000)\n",
        "minidf.head(100)"
      ]
    },
    {
      "cell_type": "markdown",
      "metadata": {
        "id": "7CBZOzKvmqde"
      },
      "source": [
        "#Method 1: Find Priority Countries by Total Spent.(Done, may need updating)"
      ]
    },
    {
      "cell_type": "code",
      "source": [
        "unique_countries = df[\"Country\"].unique()"
      ],
      "metadata": {
        "id": "8Olls8cvnHt3"
      },
      "execution_count": null,
      "outputs": []
    },
    {
      "cell_type": "code",
      "source": [
        "results = []\n",
        "for i in unique_countries:\n",
        "  count_spend = df['TotalSpending'].loc[df['Country_id']==i]\n",
        "  results.append(int(sum(count_spend)))"
      ],
      "metadata": {
        "id": "-UJlyvMfD0V-"
      },
      "execution_count": null,
      "outputs": []
    },
    {
      "cell_type": "code",
      "source": [
        "type(results),type(results[0])"
      ],
      "metadata": {
        "colab": {
          "base_uri": "https://localhost:8080/"
        },
        "id": "4TSNB3nYFF2Y",
        "outputId": "e6d8abe5-5867-4f70-c6fc-a2c217325217"
      },
      "execution_count": null,
      "outputs": [
        {
          "output_type": "execute_result",
          "data": {
            "text/plain": [
              "(list, int)"
            ]
          },
          "metadata": {},
          "execution_count": 21
        }
      ]
    },
    {
      "cell_type": "code",
      "execution_count": null,
      "metadata": {
        "id": "WvxBqMUaETBL"
      },
      "outputs": [],
      "source": [
        "countries_by_spending = df.groupby(\"Country_id\")[\"TotalSpending\"].sum().reset_index()\\\n",
        "             .sort_values(by=\"TotalSpending\",ascending=False).reset_index(drop=True)"
      ]
    },
    {
      "cell_type": "code",
      "source": [
        "Country_list = []\n",
        "for i in countries_by_spending[\"Country_id\"]:\n",
        "  Country_list.append(df[\"Country\"].loc[df[\"Country_id\"]==i][0])\n",
        "countries_by_spending[\"Country\"] = Country_list"
      ],
      "metadata": {
        "colab": {
          "base_uri": "https://localhost:8080/"
        },
        "id": "5N-1VtvirL9H",
        "outputId": "42708613-fe3b-4b3e-bdf8-bae430222123"
      },
      "execution_count": null,
      "outputs": [
        {
          "output_type": "stream",
          "name": "stderr",
          "text": [
            "<ipython-input-43-c222333c9a8c>:3: FutureWarning: Series.__getitem__ treating keys as positions is deprecated. In a future version, integer keys will always be treated as labels (consistent with DataFrame behavior). To access a value by position, use `ser.iloc[pos]`\n",
            "  Country_list.append(df[\"Country\"].loc[df[\"Country_id\"]==i][0])\n"
          ]
        }
      ]
    },
    {
      "cell_type": "code",
      "source": [
        "countries_by_spending[\"TotalSpending\"] = countries_by_spending[\"TotalSpending\"].apply(int)"
      ],
      "metadata": {
        "id": "4FEY2eYC7H6G"
      },
      "execution_count": null,
      "outputs": []
    },
    {
      "cell_type": "code",
      "source": [
        "countries_by_spending =  countries_by_spending[[\"Country_id\", \"Country\",\"TotalSpending\"]]\n",
        "countries_by_spending"
      ],
      "metadata": {
        "colab": {
          "base_uri": "https://localhost:8080/",
          "height": 1000
        },
        "id": "Qow96B8uLRBt",
        "outputId": "8dfce021-661b-4386-acaf-28f6cfe1b992"
      },
      "execution_count": null,
      "outputs": [
        {
          "output_type": "execute_result",
          "data": {
            "text/plain": [
              "    Country_id               Country  TotalSpending\n",
              "0            1        United Kingdom       16382583\n",
              "1            6                  EIRE         615519\n",
              "2           12           Netherlands         548524\n",
              "3            7               Germany         417988\n",
              "4            2                France         328191\n",
              "5            5             Australia         167129\n",
              "6           24           Switzerland          99728\n",
              "7           14                 Spain          91859\n",
              "8           21                Sweden          87809\n",
              "9           10               Denmark          65741\n",
              "10           4               Belgium          63574\n",
              "11           8              Portugal          53136\n",
              "12           9                 Japan          43776\n",
              "13          15       Channel Islands          41453\n",
              "14          19                Norway          39243\n",
              "15          16                 Italy          30679\n",
              "16          23               Finland          29514\n",
              "17          17                Cyprus          24162\n",
              "18          20               Austria          23177\n",
              "19          18                Greece          18995\n",
              "20          30             Hong Kong          14039\n",
              "21          31             Singapore          13158\n",
              "22          33                Israel          11107\n",
              "23          13                Poland          10528\n",
              "24          22  United Arab Emirates           9948\n",
              "25          25           Unspecified           9687\n",
              "26          34             Lithuania           6553\n",
              "27           3                   USA           6286\n",
              "28          40               Iceland           5633\n",
              "29          26                 Malta           5192\n",
              "30          39                Canada           4883\n",
              "31          28                   RSA           3369\n",
              "32          32              Thailand           3070\n",
              "33          27               Bahrain           2861\n",
              "34          36               Lebanon           1865\n",
              "35          38                Brazil           1411\n",
              "36          43    European Community           1291\n",
              "37          29               Bermuda           1253\n",
              "38          37                 Korea            949\n",
              "39          42        Czech Republic            707\n",
              "40          35           West Indies            536\n",
              "41          41          Saudi Arabia            131\n",
              "42          11               Nigeria             -6"
            ],
            "text/html": [
              "\n",
              "  <div id=\"df-39e8a52e-3122-4594-8746-511f84488602\" class=\"colab-df-container\">\n",
              "    <div>\n",
              "<style scoped>\n",
              "    .dataframe tbody tr th:only-of-type {\n",
              "        vertical-align: middle;\n",
              "    }\n",
              "\n",
              "    .dataframe tbody tr th {\n",
              "        vertical-align: top;\n",
              "    }\n",
              "\n",
              "    .dataframe thead th {\n",
              "        text-align: right;\n",
              "    }\n",
              "</style>\n",
              "<table border=\"1\" class=\"dataframe\">\n",
              "  <thead>\n",
              "    <tr style=\"text-align: right;\">\n",
              "      <th></th>\n",
              "      <th>Country_id</th>\n",
              "      <th>Country</th>\n",
              "      <th>TotalSpending</th>\n",
              "    </tr>\n",
              "  </thead>\n",
              "  <tbody>\n",
              "    <tr>\n",
              "      <th>0</th>\n",
              "      <td>1</td>\n",
              "      <td>United Kingdom</td>\n",
              "      <td>16382583</td>\n",
              "    </tr>\n",
              "    <tr>\n",
              "      <th>1</th>\n",
              "      <td>6</td>\n",
              "      <td>EIRE</td>\n",
              "      <td>615519</td>\n",
              "    </tr>\n",
              "    <tr>\n",
              "      <th>2</th>\n",
              "      <td>12</td>\n",
              "      <td>Netherlands</td>\n",
              "      <td>548524</td>\n",
              "    </tr>\n",
              "    <tr>\n",
              "      <th>3</th>\n",
              "      <td>7</td>\n",
              "      <td>Germany</td>\n",
              "      <td>417988</td>\n",
              "    </tr>\n",
              "    <tr>\n",
              "      <th>4</th>\n",
              "      <td>2</td>\n",
              "      <td>France</td>\n",
              "      <td>328191</td>\n",
              "    </tr>\n",
              "    <tr>\n",
              "      <th>5</th>\n",
              "      <td>5</td>\n",
              "      <td>Australia</td>\n",
              "      <td>167129</td>\n",
              "    </tr>\n",
              "    <tr>\n",
              "      <th>6</th>\n",
              "      <td>24</td>\n",
              "      <td>Switzerland</td>\n",
              "      <td>99728</td>\n",
              "    </tr>\n",
              "    <tr>\n",
              "      <th>7</th>\n",
              "      <td>14</td>\n",
              "      <td>Spain</td>\n",
              "      <td>91859</td>\n",
              "    </tr>\n",
              "    <tr>\n",
              "      <th>8</th>\n",
              "      <td>21</td>\n",
              "      <td>Sweden</td>\n",
              "      <td>87809</td>\n",
              "    </tr>\n",
              "    <tr>\n",
              "      <th>9</th>\n",
              "      <td>10</td>\n",
              "      <td>Denmark</td>\n",
              "      <td>65741</td>\n",
              "    </tr>\n",
              "    <tr>\n",
              "      <th>10</th>\n",
              "      <td>4</td>\n",
              "      <td>Belgium</td>\n",
              "      <td>63574</td>\n",
              "    </tr>\n",
              "    <tr>\n",
              "      <th>11</th>\n",
              "      <td>8</td>\n",
              "      <td>Portugal</td>\n",
              "      <td>53136</td>\n",
              "    </tr>\n",
              "    <tr>\n",
              "      <th>12</th>\n",
              "      <td>9</td>\n",
              "      <td>Japan</td>\n",
              "      <td>43776</td>\n",
              "    </tr>\n",
              "    <tr>\n",
              "      <th>13</th>\n",
              "      <td>15</td>\n",
              "      <td>Channel Islands</td>\n",
              "      <td>41453</td>\n",
              "    </tr>\n",
              "    <tr>\n",
              "      <th>14</th>\n",
              "      <td>19</td>\n",
              "      <td>Norway</td>\n",
              "      <td>39243</td>\n",
              "    </tr>\n",
              "    <tr>\n",
              "      <th>15</th>\n",
              "      <td>16</td>\n",
              "      <td>Italy</td>\n",
              "      <td>30679</td>\n",
              "    </tr>\n",
              "    <tr>\n",
              "      <th>16</th>\n",
              "      <td>23</td>\n",
              "      <td>Finland</td>\n",
              "      <td>29514</td>\n",
              "    </tr>\n",
              "    <tr>\n",
              "      <th>17</th>\n",
              "      <td>17</td>\n",
              "      <td>Cyprus</td>\n",
              "      <td>24162</td>\n",
              "    </tr>\n",
              "    <tr>\n",
              "      <th>18</th>\n",
              "      <td>20</td>\n",
              "      <td>Austria</td>\n",
              "      <td>23177</td>\n",
              "    </tr>\n",
              "    <tr>\n",
              "      <th>19</th>\n",
              "      <td>18</td>\n",
              "      <td>Greece</td>\n",
              "      <td>18995</td>\n",
              "    </tr>\n",
              "    <tr>\n",
              "      <th>20</th>\n",
              "      <td>30</td>\n",
              "      <td>Hong Kong</td>\n",
              "      <td>14039</td>\n",
              "    </tr>\n",
              "    <tr>\n",
              "      <th>21</th>\n",
              "      <td>31</td>\n",
              "      <td>Singapore</td>\n",
              "      <td>13158</td>\n",
              "    </tr>\n",
              "    <tr>\n",
              "      <th>22</th>\n",
              "      <td>33</td>\n",
              "      <td>Israel</td>\n",
              "      <td>11107</td>\n",
              "    </tr>\n",
              "    <tr>\n",
              "      <th>23</th>\n",
              "      <td>13</td>\n",
              "      <td>Poland</td>\n",
              "      <td>10528</td>\n",
              "    </tr>\n",
              "    <tr>\n",
              "      <th>24</th>\n",
              "      <td>22</td>\n",
              "      <td>United Arab Emirates</td>\n",
              "      <td>9948</td>\n",
              "    </tr>\n",
              "    <tr>\n",
              "      <th>25</th>\n",
              "      <td>25</td>\n",
              "      <td>Unspecified</td>\n",
              "      <td>9687</td>\n",
              "    </tr>\n",
              "    <tr>\n",
              "      <th>26</th>\n",
              "      <td>34</td>\n",
              "      <td>Lithuania</td>\n",
              "      <td>6553</td>\n",
              "    </tr>\n",
              "    <tr>\n",
              "      <th>27</th>\n",
              "      <td>3</td>\n",
              "      <td>USA</td>\n",
              "      <td>6286</td>\n",
              "    </tr>\n",
              "    <tr>\n",
              "      <th>28</th>\n",
              "      <td>40</td>\n",
              "      <td>Iceland</td>\n",
              "      <td>5633</td>\n",
              "    </tr>\n",
              "    <tr>\n",
              "      <th>29</th>\n",
              "      <td>26</td>\n",
              "      <td>Malta</td>\n",
              "      <td>5192</td>\n",
              "    </tr>\n",
              "    <tr>\n",
              "      <th>30</th>\n",
              "      <td>39</td>\n",
              "      <td>Canada</td>\n",
              "      <td>4883</td>\n",
              "    </tr>\n",
              "    <tr>\n",
              "      <th>31</th>\n",
              "      <td>28</td>\n",
              "      <td>RSA</td>\n",
              "      <td>3369</td>\n",
              "    </tr>\n",
              "    <tr>\n",
              "      <th>32</th>\n",
              "      <td>32</td>\n",
              "      <td>Thailand</td>\n",
              "      <td>3070</td>\n",
              "    </tr>\n",
              "    <tr>\n",
              "      <th>33</th>\n",
              "      <td>27</td>\n",
              "      <td>Bahrain</td>\n",
              "      <td>2861</td>\n",
              "    </tr>\n",
              "    <tr>\n",
              "      <th>34</th>\n",
              "      <td>36</td>\n",
              "      <td>Lebanon</td>\n",
              "      <td>1865</td>\n",
              "    </tr>\n",
              "    <tr>\n",
              "      <th>35</th>\n",
              "      <td>38</td>\n",
              "      <td>Brazil</td>\n",
              "      <td>1411</td>\n",
              "    </tr>\n",
              "    <tr>\n",
              "      <th>36</th>\n",
              "      <td>43</td>\n",
              "      <td>European Community</td>\n",
              "      <td>1291</td>\n",
              "    </tr>\n",
              "    <tr>\n",
              "      <th>37</th>\n",
              "      <td>29</td>\n",
              "      <td>Bermuda</td>\n",
              "      <td>1253</td>\n",
              "    </tr>\n",
              "    <tr>\n",
              "      <th>38</th>\n",
              "      <td>37</td>\n",
              "      <td>Korea</td>\n",
              "      <td>949</td>\n",
              "    </tr>\n",
              "    <tr>\n",
              "      <th>39</th>\n",
              "      <td>42</td>\n",
              "      <td>Czech Republic</td>\n",
              "      <td>707</td>\n",
              "    </tr>\n",
              "    <tr>\n",
              "      <th>40</th>\n",
              "      <td>35</td>\n",
              "      <td>West Indies</td>\n",
              "      <td>536</td>\n",
              "    </tr>\n",
              "    <tr>\n",
              "      <th>41</th>\n",
              "      <td>41</td>\n",
              "      <td>Saudi Arabia</td>\n",
              "      <td>131</td>\n",
              "    </tr>\n",
              "    <tr>\n",
              "      <th>42</th>\n",
              "      <td>11</td>\n",
              "      <td>Nigeria</td>\n",
              "      <td>-6</td>\n",
              "    </tr>\n",
              "  </tbody>\n",
              "</table>\n",
              "</div>\n",
              "    <div class=\"colab-df-buttons\">\n",
              "\n",
              "  <div class=\"colab-df-container\">\n",
              "    <button class=\"colab-df-convert\" onclick=\"convertToInteractive('df-39e8a52e-3122-4594-8746-511f84488602')\"\n",
              "            title=\"Convert this dataframe to an interactive table.\"\n",
              "            style=\"display:none;\">\n",
              "\n",
              "  <svg xmlns=\"http://www.w3.org/2000/svg\" height=\"24px\" viewBox=\"0 -960 960 960\">\n",
              "    <path d=\"M120-120v-720h720v720H120Zm60-500h600v-160H180v160Zm220 220h160v-160H400v160Zm0 220h160v-160H400v160ZM180-400h160v-160H180v160Zm440 0h160v-160H620v160ZM180-180h160v-160H180v160Zm440 0h160v-160H620v160Z\"/>\n",
              "  </svg>\n",
              "    </button>\n",
              "\n",
              "  <style>\n",
              "    .colab-df-container {\n",
              "      display:flex;\n",
              "      gap: 12px;\n",
              "    }\n",
              "\n",
              "    .colab-df-convert {\n",
              "      background-color: #E8F0FE;\n",
              "      border: none;\n",
              "      border-radius: 50%;\n",
              "      cursor: pointer;\n",
              "      display: none;\n",
              "      fill: #1967D2;\n",
              "      height: 32px;\n",
              "      padding: 0 0 0 0;\n",
              "      width: 32px;\n",
              "    }\n",
              "\n",
              "    .colab-df-convert:hover {\n",
              "      background-color: #E2EBFA;\n",
              "      box-shadow: 0px 1px 2px rgba(60, 64, 67, 0.3), 0px 1px 3px 1px rgba(60, 64, 67, 0.15);\n",
              "      fill: #174EA6;\n",
              "    }\n",
              "\n",
              "    .colab-df-buttons div {\n",
              "      margin-bottom: 4px;\n",
              "    }\n",
              "\n",
              "    [theme=dark] .colab-df-convert {\n",
              "      background-color: #3B4455;\n",
              "      fill: #D2E3FC;\n",
              "    }\n",
              "\n",
              "    [theme=dark] .colab-df-convert:hover {\n",
              "      background-color: #434B5C;\n",
              "      box-shadow: 0px 1px 3px 1px rgba(0, 0, 0, 0.15);\n",
              "      filter: drop-shadow(0px 1px 2px rgba(0, 0, 0, 0.3));\n",
              "      fill: #FFFFFF;\n",
              "    }\n",
              "  </style>\n",
              "\n",
              "    <script>\n",
              "      const buttonEl =\n",
              "        document.querySelector('#df-39e8a52e-3122-4594-8746-511f84488602 button.colab-df-convert');\n",
              "      buttonEl.style.display =\n",
              "        google.colab.kernel.accessAllowed ? 'block' : 'none';\n",
              "\n",
              "      async function convertToInteractive(key) {\n",
              "        const element = document.querySelector('#df-39e8a52e-3122-4594-8746-511f84488602');\n",
              "        const dataTable =\n",
              "          await google.colab.kernel.invokeFunction('convertToInteractive',\n",
              "                                                    [key], {});\n",
              "        if (!dataTable) return;\n",
              "\n",
              "        const docLinkHtml = 'Like what you see? Visit the ' +\n",
              "          '<a target=\"_blank\" href=https://colab.research.google.com/notebooks/data_table.ipynb>data table notebook</a>'\n",
              "          + ' to learn more about interactive tables.';\n",
              "        element.innerHTML = '';\n",
              "        dataTable['output_type'] = 'display_data';\n",
              "        await google.colab.output.renderOutput(dataTable, element);\n",
              "        const docLink = document.createElement('div');\n",
              "        docLink.innerHTML = docLinkHtml;\n",
              "        element.appendChild(docLink);\n",
              "      }\n",
              "    </script>\n",
              "  </div>\n",
              "\n",
              "\n",
              "<div id=\"df-050924e4-5286-4e3b-9984-1a00b9cdcc87\">\n",
              "  <button class=\"colab-df-quickchart\" onclick=\"quickchart('df-050924e4-5286-4e3b-9984-1a00b9cdcc87')\"\n",
              "            title=\"Suggest charts\"\n",
              "            style=\"display:none;\">\n",
              "\n",
              "<svg xmlns=\"http://www.w3.org/2000/svg\" height=\"24px\"viewBox=\"0 0 24 24\"\n",
              "     width=\"24px\">\n",
              "    <g>\n",
              "        <path d=\"M19 3H5c-1.1 0-2 .9-2 2v14c0 1.1.9 2 2 2h14c1.1 0 2-.9 2-2V5c0-1.1-.9-2-2-2zM9 17H7v-7h2v7zm4 0h-2V7h2v10zm4 0h-2v-4h2v4z\"/>\n",
              "    </g>\n",
              "</svg>\n",
              "  </button>\n",
              "\n",
              "<style>\n",
              "  .colab-df-quickchart {\n",
              "      --bg-color: #E8F0FE;\n",
              "      --fill-color: #1967D2;\n",
              "      --hover-bg-color: #E2EBFA;\n",
              "      --hover-fill-color: #174EA6;\n",
              "      --disabled-fill-color: #AAA;\n",
              "      --disabled-bg-color: #DDD;\n",
              "  }\n",
              "\n",
              "  [theme=dark] .colab-df-quickchart {\n",
              "      --bg-color: #3B4455;\n",
              "      --fill-color: #D2E3FC;\n",
              "      --hover-bg-color: #434B5C;\n",
              "      --hover-fill-color: #FFFFFF;\n",
              "      --disabled-bg-color: #3B4455;\n",
              "      --disabled-fill-color: #666;\n",
              "  }\n",
              "\n",
              "  .colab-df-quickchart {\n",
              "    background-color: var(--bg-color);\n",
              "    border: none;\n",
              "    border-radius: 50%;\n",
              "    cursor: pointer;\n",
              "    display: none;\n",
              "    fill: var(--fill-color);\n",
              "    height: 32px;\n",
              "    padding: 0;\n",
              "    width: 32px;\n",
              "  }\n",
              "\n",
              "  .colab-df-quickchart:hover {\n",
              "    background-color: var(--hover-bg-color);\n",
              "    box-shadow: 0 1px 2px rgba(60, 64, 67, 0.3), 0 1px 3px 1px rgba(60, 64, 67, 0.15);\n",
              "    fill: var(--button-hover-fill-color);\n",
              "  }\n",
              "\n",
              "  .colab-df-quickchart-complete:disabled,\n",
              "  .colab-df-quickchart-complete:disabled:hover {\n",
              "    background-color: var(--disabled-bg-color);\n",
              "    fill: var(--disabled-fill-color);\n",
              "    box-shadow: none;\n",
              "  }\n",
              "\n",
              "  .colab-df-spinner {\n",
              "    border: 2px solid var(--fill-color);\n",
              "    border-color: transparent;\n",
              "    border-bottom-color: var(--fill-color);\n",
              "    animation:\n",
              "      spin 1s steps(1) infinite;\n",
              "  }\n",
              "\n",
              "  @keyframes spin {\n",
              "    0% {\n",
              "      border-color: transparent;\n",
              "      border-bottom-color: var(--fill-color);\n",
              "      border-left-color: var(--fill-color);\n",
              "    }\n",
              "    20% {\n",
              "      border-color: transparent;\n",
              "      border-left-color: var(--fill-color);\n",
              "      border-top-color: var(--fill-color);\n",
              "    }\n",
              "    30% {\n",
              "      border-color: transparent;\n",
              "      border-left-color: var(--fill-color);\n",
              "      border-top-color: var(--fill-color);\n",
              "      border-right-color: var(--fill-color);\n",
              "    }\n",
              "    40% {\n",
              "      border-color: transparent;\n",
              "      border-right-color: var(--fill-color);\n",
              "      border-top-color: var(--fill-color);\n",
              "    }\n",
              "    60% {\n",
              "      border-color: transparent;\n",
              "      border-right-color: var(--fill-color);\n",
              "    }\n",
              "    80% {\n",
              "      border-color: transparent;\n",
              "      border-right-color: var(--fill-color);\n",
              "      border-bottom-color: var(--fill-color);\n",
              "    }\n",
              "    90% {\n",
              "      border-color: transparent;\n",
              "      border-bottom-color: var(--fill-color);\n",
              "    }\n",
              "  }\n",
              "</style>\n",
              "\n",
              "  <script>\n",
              "    async function quickchart(key) {\n",
              "      const quickchartButtonEl =\n",
              "        document.querySelector('#' + key + ' button');\n",
              "      quickchartButtonEl.disabled = true;  // To prevent multiple clicks.\n",
              "      quickchartButtonEl.classList.add('colab-df-spinner');\n",
              "      try {\n",
              "        const charts = await google.colab.kernel.invokeFunction(\n",
              "            'suggestCharts', [key], {});\n",
              "      } catch (error) {\n",
              "        console.error('Error during call to suggestCharts:', error);\n",
              "      }\n",
              "      quickchartButtonEl.classList.remove('colab-df-spinner');\n",
              "      quickchartButtonEl.classList.add('colab-df-quickchart-complete');\n",
              "    }\n",
              "    (() => {\n",
              "      let quickchartButtonEl =\n",
              "        document.querySelector('#df-050924e4-5286-4e3b-9984-1a00b9cdcc87 button');\n",
              "      quickchartButtonEl.style.display =\n",
              "        google.colab.kernel.accessAllowed ? 'block' : 'none';\n",
              "    })();\n",
              "  </script>\n",
              "</div>\n",
              "\n",
              "  <div id=\"id_da9e6e8c-0aab-40b7-936a-e1e762896f02\">\n",
              "    <style>\n",
              "      .colab-df-generate {\n",
              "        background-color: #E8F0FE;\n",
              "        border: none;\n",
              "        border-radius: 50%;\n",
              "        cursor: pointer;\n",
              "        display: none;\n",
              "        fill: #1967D2;\n",
              "        height: 32px;\n",
              "        padding: 0 0 0 0;\n",
              "        width: 32px;\n",
              "      }\n",
              "\n",
              "      .colab-df-generate:hover {\n",
              "        background-color: #E2EBFA;\n",
              "        box-shadow: 0px 1px 2px rgba(60, 64, 67, 0.3), 0px 1px 3px 1px rgba(60, 64, 67, 0.15);\n",
              "        fill: #174EA6;\n",
              "      }\n",
              "\n",
              "      [theme=dark] .colab-df-generate {\n",
              "        background-color: #3B4455;\n",
              "        fill: #D2E3FC;\n",
              "      }\n",
              "\n",
              "      [theme=dark] .colab-df-generate:hover {\n",
              "        background-color: #434B5C;\n",
              "        box-shadow: 0px 1px 3px 1px rgba(0, 0, 0, 0.15);\n",
              "        filter: drop-shadow(0px 1px 2px rgba(0, 0, 0, 0.3));\n",
              "        fill: #FFFFFF;\n",
              "      }\n",
              "    </style>\n",
              "    <button class=\"colab-df-generate\" onclick=\"generateWithVariable('countries_by_spending')\"\n",
              "            title=\"Generate code using this dataframe.\"\n",
              "            style=\"display:none;\">\n",
              "\n",
              "  <svg xmlns=\"http://www.w3.org/2000/svg\" height=\"24px\"viewBox=\"0 0 24 24\"\n",
              "       width=\"24px\">\n",
              "    <path d=\"M7,19H8.4L18.45,9,17,7.55,7,17.6ZM5,21V16.75L18.45,3.32a2,2,0,0,1,2.83,0l1.4,1.43a1.91,1.91,0,0,1,.58,1.4,1.91,1.91,0,0,1-.58,1.4L9.25,21ZM18.45,9,17,7.55Zm-12,3A5.31,5.31,0,0,0,4.9,8.1,5.31,5.31,0,0,0,1,6.5,5.31,5.31,0,0,0,4.9,4.9,5.31,5.31,0,0,0,6.5,1,5.31,5.31,0,0,0,8.1,4.9,5.31,5.31,0,0,0,12,6.5,5.46,5.46,0,0,0,6.5,12Z\"/>\n",
              "  </svg>\n",
              "    </button>\n",
              "    <script>\n",
              "      (() => {\n",
              "      const buttonEl =\n",
              "        document.querySelector('#id_da9e6e8c-0aab-40b7-936a-e1e762896f02 button.colab-df-generate');\n",
              "      buttonEl.style.display =\n",
              "        google.colab.kernel.accessAllowed ? 'block' : 'none';\n",
              "\n",
              "      buttonEl.onclick = () => {\n",
              "        google.colab.notebook.generateWithVariable('countries_by_spending');\n",
              "      }\n",
              "      })();\n",
              "    </script>\n",
              "  </div>\n",
              "\n",
              "    </div>\n",
              "  </div>\n"
            ],
            "application/vnd.google.colaboratory.intrinsic+json": {
              "type": "dataframe",
              "variable_name": "countries_by_spending",
              "summary": "{\n  \"name\": \"countries_by_spending\",\n  \"rows\": 43,\n  \"fields\": [\n    {\n      \"column\": \"Country_id\",\n      \"properties\": {\n        \"dtype\": \"number\",\n        \"std\": 12,\n        \"min\": 1,\n        \"max\": 43,\n        \"num_unique_values\": 43,\n        \"samples\": [\n          29,\n          22,\n          25\n        ],\n        \"semantic_type\": \"\",\n        \"description\": \"\"\n      }\n    },\n    {\n      \"column\": \"Country\",\n      \"properties\": {\n        \"dtype\": \"string\",\n        \"num_unique_values\": 43,\n        \"samples\": [\n          \"Bermuda\",\n          \"United Arab Emirates\",\n          \"Unspecified\"\n        ],\n        \"semantic_type\": \"\",\n        \"description\": \"\"\n      }\n    },\n    {\n      \"column\": \"TotalSpending\",\n      \"properties\": {\n        \"dtype\": \"number\",\n        \"std\": 2491771,\n        \"min\": -6,\n        \"max\": 16382583,\n        \"num_unique_values\": 43,\n        \"samples\": [\n          1253,\n          9948,\n          9687\n        ],\n        \"semantic_type\": \"\",\n        \"description\": \"\"\n      }\n    }\n  ]\n}"
            }
          },
          "metadata": {},
          "execution_count": 49
        }
      ]
    },
    {
      "cell_type": "markdown",
      "metadata": {
        "id": "VLy1ecOcEBE6"
      },
      "source": [
        "# Method 2: Code Known Customers by High, Meduim and Low Cart Value(the total sum of all products purchased during an order process.(DONE)"
      ]
    },
    {
      "cell_type": "markdown",
      "metadata": {
        "id": "F3quc-ZGpftq"
      },
      "source": [
        "1)Determine your customer segmentation goals and variables.\n",
        "\n",
        "2)Break goals into customer-centric segmentation projects.\n",
        "\n",
        "3)Set up and prioritize each customer segmentation project.\n",
        "\n",
        "4)Collect and organize your customer data.\n",
        "\n",
        "5)Segment your customers into groups of your choice.\n",
        "\n",
        "6)Target and market to your client and user segments.\n",
        "\n",
        "7)Run regular customer segmentation analysis."
      ]
    },
    {
      "cell_type": "code",
      "execution_count": null,
      "metadata": {
        "id": "FEwOMVJEEiyg"
      },
      "outputs": [],
      "source": [
        "Kndf=df.dropna(subset=[\"Customer ID\"]).reset_index()"
      ]
    },
    {
      "cell_type": "code",
      "execution_count": null,
      "metadata": {
        "id": "CQ4jXmmRGD_n"
      },
      "outputs": [],
      "source": [
        "customer_spending=Kndf.groupby(\"Customer ID\")[\"TotalSpending\"].sum().reset_index().sort_values(by=\"TotalSpending\",ascending=False)\n",
        "customer_spending[\"index\"]=np.arange(0,len(customer_spending))\n",
        "customer_spending.set_index(\"index\",inplace=True)"
      ]
    },
    {
      "cell_type": "code",
      "source": [
        "customer_spending"
      ],
      "metadata": {
        "colab": {
          "base_uri": "https://localhost:8080/",
          "height": 455
        },
        "id": "MWZ4Ffl8jk9O",
        "outputId": "99fec20b-f8c0-412b-fd78-07d96336c2ed"
      },
      "execution_count": null,
      "outputs": [
        {
          "output_type": "execute_result",
          "data": {
            "text/plain": [
              "       Customer ID  TotalSpending\n",
              "index                            \n",
              "0          18102.0      598215.22\n",
              "1          14646.0      523342.07\n",
              "2          14156.0      296564.69\n",
              "3          14911.0      270248.53\n",
              "4          17450.0      233579.39\n",
              "...            ...            ...\n",
              "5937       16981.0       -4620.86\n",
              "5938       15760.0       -5795.87\n",
              "5939       15849.0       -5876.34\n",
              "5940       12918.0      -10953.50\n",
              "5941       17399.0      -25111.09\n",
              "\n",
              "[5942 rows x 2 columns]"
            ],
            "text/html": [
              "\n",
              "  <div id=\"df-370af768-910d-406a-851f-9c55e07c905b\" class=\"colab-df-container\">\n",
              "    <div>\n",
              "<style scoped>\n",
              "    .dataframe tbody tr th:only-of-type {\n",
              "        vertical-align: middle;\n",
              "    }\n",
              "\n",
              "    .dataframe tbody tr th {\n",
              "        vertical-align: top;\n",
              "    }\n",
              "\n",
              "    .dataframe thead th {\n",
              "        text-align: right;\n",
              "    }\n",
              "</style>\n",
              "<table border=\"1\" class=\"dataframe\">\n",
              "  <thead>\n",
              "    <tr style=\"text-align: right;\">\n",
              "      <th></th>\n",
              "      <th>Customer ID</th>\n",
              "      <th>TotalSpending</th>\n",
              "    </tr>\n",
              "    <tr>\n",
              "      <th>index</th>\n",
              "      <th></th>\n",
              "      <th></th>\n",
              "    </tr>\n",
              "  </thead>\n",
              "  <tbody>\n",
              "    <tr>\n",
              "      <th>0</th>\n",
              "      <td>18102.0</td>\n",
              "      <td>598215.22</td>\n",
              "    </tr>\n",
              "    <tr>\n",
              "      <th>1</th>\n",
              "      <td>14646.0</td>\n",
              "      <td>523342.07</td>\n",
              "    </tr>\n",
              "    <tr>\n",
              "      <th>2</th>\n",
              "      <td>14156.0</td>\n",
              "      <td>296564.69</td>\n",
              "    </tr>\n",
              "    <tr>\n",
              "      <th>3</th>\n",
              "      <td>14911.0</td>\n",
              "      <td>270248.53</td>\n",
              "    </tr>\n",
              "    <tr>\n",
              "      <th>4</th>\n",
              "      <td>17450.0</td>\n",
              "      <td>233579.39</td>\n",
              "    </tr>\n",
              "    <tr>\n",
              "      <th>...</th>\n",
              "      <td>...</td>\n",
              "      <td>...</td>\n",
              "    </tr>\n",
              "    <tr>\n",
              "      <th>5937</th>\n",
              "      <td>16981.0</td>\n",
              "      <td>-4620.86</td>\n",
              "    </tr>\n",
              "    <tr>\n",
              "      <th>5938</th>\n",
              "      <td>15760.0</td>\n",
              "      <td>-5795.87</td>\n",
              "    </tr>\n",
              "    <tr>\n",
              "      <th>5939</th>\n",
              "      <td>15849.0</td>\n",
              "      <td>-5876.34</td>\n",
              "    </tr>\n",
              "    <tr>\n",
              "      <th>5940</th>\n",
              "      <td>12918.0</td>\n",
              "      <td>-10953.50</td>\n",
              "    </tr>\n",
              "    <tr>\n",
              "      <th>5941</th>\n",
              "      <td>17399.0</td>\n",
              "      <td>-25111.09</td>\n",
              "    </tr>\n",
              "  </tbody>\n",
              "</table>\n",
              "<p>5942 rows × 2 columns</p>\n",
              "</div>\n",
              "    <div class=\"colab-df-buttons\">\n",
              "\n",
              "  <div class=\"colab-df-container\">\n",
              "    <button class=\"colab-df-convert\" onclick=\"convertToInteractive('df-370af768-910d-406a-851f-9c55e07c905b')\"\n",
              "            title=\"Convert this dataframe to an interactive table.\"\n",
              "            style=\"display:none;\">\n",
              "\n",
              "  <svg xmlns=\"http://www.w3.org/2000/svg\" height=\"24px\" viewBox=\"0 -960 960 960\">\n",
              "    <path d=\"M120-120v-720h720v720H120Zm60-500h600v-160H180v160Zm220 220h160v-160H400v160Zm0 220h160v-160H400v160ZM180-400h160v-160H180v160Zm440 0h160v-160H620v160ZM180-180h160v-160H180v160Zm440 0h160v-160H620v160Z\"/>\n",
              "  </svg>\n",
              "    </button>\n",
              "\n",
              "  <style>\n",
              "    .colab-df-container {\n",
              "      display:flex;\n",
              "      gap: 12px;\n",
              "    }\n",
              "\n",
              "    .colab-df-convert {\n",
              "      background-color: #E8F0FE;\n",
              "      border: none;\n",
              "      border-radius: 50%;\n",
              "      cursor: pointer;\n",
              "      display: none;\n",
              "      fill: #1967D2;\n",
              "      height: 32px;\n",
              "      padding: 0 0 0 0;\n",
              "      width: 32px;\n",
              "    }\n",
              "\n",
              "    .colab-df-convert:hover {\n",
              "      background-color: #E2EBFA;\n",
              "      box-shadow: 0px 1px 2px rgba(60, 64, 67, 0.3), 0px 1px 3px 1px rgba(60, 64, 67, 0.15);\n",
              "      fill: #174EA6;\n",
              "    }\n",
              "\n",
              "    .colab-df-buttons div {\n",
              "      margin-bottom: 4px;\n",
              "    }\n",
              "\n",
              "    [theme=dark] .colab-df-convert {\n",
              "      background-color: #3B4455;\n",
              "      fill: #D2E3FC;\n",
              "    }\n",
              "\n",
              "    [theme=dark] .colab-df-convert:hover {\n",
              "      background-color: #434B5C;\n",
              "      box-shadow: 0px 1px 3px 1px rgba(0, 0, 0, 0.15);\n",
              "      filter: drop-shadow(0px 1px 2px rgba(0, 0, 0, 0.3));\n",
              "      fill: #FFFFFF;\n",
              "    }\n",
              "  </style>\n",
              "\n",
              "    <script>\n",
              "      const buttonEl =\n",
              "        document.querySelector('#df-370af768-910d-406a-851f-9c55e07c905b button.colab-df-convert');\n",
              "      buttonEl.style.display =\n",
              "        google.colab.kernel.accessAllowed ? 'block' : 'none';\n",
              "\n",
              "      async function convertToInteractive(key) {\n",
              "        const element = document.querySelector('#df-370af768-910d-406a-851f-9c55e07c905b');\n",
              "        const dataTable =\n",
              "          await google.colab.kernel.invokeFunction('convertToInteractive',\n",
              "                                                    [key], {});\n",
              "        if (!dataTable) return;\n",
              "\n",
              "        const docLinkHtml = 'Like what you see? Visit the ' +\n",
              "          '<a target=\"_blank\" href=https://colab.research.google.com/notebooks/data_table.ipynb>data table notebook</a>'\n",
              "          + ' to learn more about interactive tables.';\n",
              "        element.innerHTML = '';\n",
              "        dataTable['output_type'] = 'display_data';\n",
              "        await google.colab.output.renderOutput(dataTable, element);\n",
              "        const docLink = document.createElement('div');\n",
              "        docLink.innerHTML = docLinkHtml;\n",
              "        element.appendChild(docLink);\n",
              "      }\n",
              "    </script>\n",
              "  </div>\n",
              "\n",
              "\n",
              "<div id=\"df-240b31d5-dbdd-4a13-9999-c4f5e9af8623\">\n",
              "  <button class=\"colab-df-quickchart\" onclick=\"quickchart('df-240b31d5-dbdd-4a13-9999-c4f5e9af8623')\"\n",
              "            title=\"Suggest charts\"\n",
              "            style=\"display:none;\">\n",
              "\n",
              "<svg xmlns=\"http://www.w3.org/2000/svg\" height=\"24px\"viewBox=\"0 0 24 24\"\n",
              "     width=\"24px\">\n",
              "    <g>\n",
              "        <path d=\"M19 3H5c-1.1 0-2 .9-2 2v14c0 1.1.9 2 2 2h14c1.1 0 2-.9 2-2V5c0-1.1-.9-2-2-2zM9 17H7v-7h2v7zm4 0h-2V7h2v10zm4 0h-2v-4h2v4z\"/>\n",
              "    </g>\n",
              "</svg>\n",
              "  </button>\n",
              "\n",
              "<style>\n",
              "  .colab-df-quickchart {\n",
              "      --bg-color: #E8F0FE;\n",
              "      --fill-color: #1967D2;\n",
              "      --hover-bg-color: #E2EBFA;\n",
              "      --hover-fill-color: #174EA6;\n",
              "      --disabled-fill-color: #AAA;\n",
              "      --disabled-bg-color: #DDD;\n",
              "  }\n",
              "\n",
              "  [theme=dark] .colab-df-quickchart {\n",
              "      --bg-color: #3B4455;\n",
              "      --fill-color: #D2E3FC;\n",
              "      --hover-bg-color: #434B5C;\n",
              "      --hover-fill-color: #FFFFFF;\n",
              "      --disabled-bg-color: #3B4455;\n",
              "      --disabled-fill-color: #666;\n",
              "  }\n",
              "\n",
              "  .colab-df-quickchart {\n",
              "    background-color: var(--bg-color);\n",
              "    border: none;\n",
              "    border-radius: 50%;\n",
              "    cursor: pointer;\n",
              "    display: none;\n",
              "    fill: var(--fill-color);\n",
              "    height: 32px;\n",
              "    padding: 0;\n",
              "    width: 32px;\n",
              "  }\n",
              "\n",
              "  .colab-df-quickchart:hover {\n",
              "    background-color: var(--hover-bg-color);\n",
              "    box-shadow: 0 1px 2px rgba(60, 64, 67, 0.3), 0 1px 3px 1px rgba(60, 64, 67, 0.15);\n",
              "    fill: var(--button-hover-fill-color);\n",
              "  }\n",
              "\n",
              "  .colab-df-quickchart-complete:disabled,\n",
              "  .colab-df-quickchart-complete:disabled:hover {\n",
              "    background-color: var(--disabled-bg-color);\n",
              "    fill: var(--disabled-fill-color);\n",
              "    box-shadow: none;\n",
              "  }\n",
              "\n",
              "  .colab-df-spinner {\n",
              "    border: 2px solid var(--fill-color);\n",
              "    border-color: transparent;\n",
              "    border-bottom-color: var(--fill-color);\n",
              "    animation:\n",
              "      spin 1s steps(1) infinite;\n",
              "  }\n",
              "\n",
              "  @keyframes spin {\n",
              "    0% {\n",
              "      border-color: transparent;\n",
              "      border-bottom-color: var(--fill-color);\n",
              "      border-left-color: var(--fill-color);\n",
              "    }\n",
              "    20% {\n",
              "      border-color: transparent;\n",
              "      border-left-color: var(--fill-color);\n",
              "      border-top-color: var(--fill-color);\n",
              "    }\n",
              "    30% {\n",
              "      border-color: transparent;\n",
              "      border-left-color: var(--fill-color);\n",
              "      border-top-color: var(--fill-color);\n",
              "      border-right-color: var(--fill-color);\n",
              "    }\n",
              "    40% {\n",
              "      border-color: transparent;\n",
              "      border-right-color: var(--fill-color);\n",
              "      border-top-color: var(--fill-color);\n",
              "    }\n",
              "    60% {\n",
              "      border-color: transparent;\n",
              "      border-right-color: var(--fill-color);\n",
              "    }\n",
              "    80% {\n",
              "      border-color: transparent;\n",
              "      border-right-color: var(--fill-color);\n",
              "      border-bottom-color: var(--fill-color);\n",
              "    }\n",
              "    90% {\n",
              "      border-color: transparent;\n",
              "      border-bottom-color: var(--fill-color);\n",
              "    }\n",
              "  }\n",
              "</style>\n",
              "\n",
              "  <script>\n",
              "    async function quickchart(key) {\n",
              "      const quickchartButtonEl =\n",
              "        document.querySelector('#' + key + ' button');\n",
              "      quickchartButtonEl.disabled = true;  // To prevent multiple clicks.\n",
              "      quickchartButtonEl.classList.add('colab-df-spinner');\n",
              "      try {\n",
              "        const charts = await google.colab.kernel.invokeFunction(\n",
              "            'suggestCharts', [key], {});\n",
              "      } catch (error) {\n",
              "        console.error('Error during call to suggestCharts:', error);\n",
              "      }\n",
              "      quickchartButtonEl.classList.remove('colab-df-spinner');\n",
              "      quickchartButtonEl.classList.add('colab-df-quickchart-complete');\n",
              "    }\n",
              "    (() => {\n",
              "      let quickchartButtonEl =\n",
              "        document.querySelector('#df-240b31d5-dbdd-4a13-9999-c4f5e9af8623 button');\n",
              "      quickchartButtonEl.style.display =\n",
              "        google.colab.kernel.accessAllowed ? 'block' : 'none';\n",
              "    })();\n",
              "  </script>\n",
              "</div>\n",
              "\n",
              "  <div id=\"id_ab80d365-7715-482f-add1-54a020ea8c8b\">\n",
              "    <style>\n",
              "      .colab-df-generate {\n",
              "        background-color: #E8F0FE;\n",
              "        border: none;\n",
              "        border-radius: 50%;\n",
              "        cursor: pointer;\n",
              "        display: none;\n",
              "        fill: #1967D2;\n",
              "        height: 32px;\n",
              "        padding: 0 0 0 0;\n",
              "        width: 32px;\n",
              "      }\n",
              "\n",
              "      .colab-df-generate:hover {\n",
              "        background-color: #E2EBFA;\n",
              "        box-shadow: 0px 1px 2px rgba(60, 64, 67, 0.3), 0px 1px 3px 1px rgba(60, 64, 67, 0.15);\n",
              "        fill: #174EA6;\n",
              "      }\n",
              "\n",
              "      [theme=dark] .colab-df-generate {\n",
              "        background-color: #3B4455;\n",
              "        fill: #D2E3FC;\n",
              "      }\n",
              "\n",
              "      [theme=dark] .colab-df-generate:hover {\n",
              "        background-color: #434B5C;\n",
              "        box-shadow: 0px 1px 3px 1px rgba(0, 0, 0, 0.15);\n",
              "        filter: drop-shadow(0px 1px 2px rgba(0, 0, 0, 0.3));\n",
              "        fill: #FFFFFF;\n",
              "      }\n",
              "    </style>\n",
              "    <button class=\"colab-df-generate\" onclick=\"generateWithVariable('customer_spending')\"\n",
              "            title=\"Generate code using this dataframe.\"\n",
              "            style=\"display:none;\">\n",
              "\n",
              "  <svg xmlns=\"http://www.w3.org/2000/svg\" height=\"24px\"viewBox=\"0 0 24 24\"\n",
              "       width=\"24px\">\n",
              "    <path d=\"M7,19H8.4L18.45,9,17,7.55,7,17.6ZM5,21V16.75L18.45,3.32a2,2,0,0,1,2.83,0l1.4,1.43a1.91,1.91,0,0,1,.58,1.4,1.91,1.91,0,0,1-.58,1.4L9.25,21ZM18.45,9,17,7.55Zm-12,3A5.31,5.31,0,0,0,4.9,8.1,5.31,5.31,0,0,0,1,6.5,5.31,5.31,0,0,0,4.9,4.9,5.31,5.31,0,0,0,6.5,1,5.31,5.31,0,0,0,8.1,4.9,5.31,5.31,0,0,0,12,6.5,5.46,5.46,0,0,0,6.5,12Z\"/>\n",
              "  </svg>\n",
              "    </button>\n",
              "    <script>\n",
              "      (() => {\n",
              "      const buttonEl =\n",
              "        document.querySelector('#id_ab80d365-7715-482f-add1-54a020ea8c8b button.colab-df-generate');\n",
              "      buttonEl.style.display =\n",
              "        google.colab.kernel.accessAllowed ? 'block' : 'none';\n",
              "\n",
              "      buttonEl.onclick = () => {\n",
              "        google.colab.notebook.generateWithVariable('customer_spending');\n",
              "      }\n",
              "      })();\n",
              "    </script>\n",
              "  </div>\n",
              "\n",
              "    </div>\n",
              "  </div>\n"
            ],
            "application/vnd.google.colaboratory.intrinsic+json": {
              "type": "dataframe",
              "variable_name": "customer_spending",
              "summary": "{\n  \"name\": \"customer_spending\",\n  \"rows\": 5942,\n  \"fields\": [\n    {\n      \"column\": \"index\",\n      \"properties\": {\n        \"dtype\": \"number\",\n        \"std\": 1715,\n        \"min\": 0,\n        \"max\": 5941,\n        \"num_unique_values\": 5942,\n        \"samples\": [\n          4766,\n          2131,\n          1400\n        ],\n        \"semantic_type\": \"\",\n        \"description\": \"\"\n      }\n    },\n    {\n      \"column\": \"Customer ID\",\n      \"properties\": {\n        \"dtype\": \"number\",\n        \"std\": 1715.4519812574179,\n        \"min\": 12346.0,\n        \"max\": 18287.0,\n        \"num_unique_values\": 5942,\n        \"samples\": [\n          13806.0,\n          14116.0,\n          14443.0\n        ],\n        \"semantic_type\": \"\",\n        \"description\": \"\"\n      }\n    },\n    {\n      \"column\": \"TotalSpending\",\n      \"properties\": {\n        \"dtype\": \"number\",\n        \"std\": 13973.9225529134,\n        \"min\": -25111.09,\n        \"max\": 598215.22,\n        \"num_unique_values\": 5837,\n        \"samples\": [\n          200.82,\n          12749.14,\n          13091.61\n        ],\n        \"semantic_type\": \"\",\n        \"description\": \"\"\n      }\n    }\n  ]\n}"
            }
          },
          "metadata": {},
          "execution_count": 13
        }
      ]
    },
    {
      "cell_type": "code",
      "execution_count": null,
      "metadata": {
        "id": "ABI5LJs1N1jA",
        "colab": {
          "base_uri": "https://localhost:8080/",
          "height": 463
        },
        "outputId": "bbf2a645-d7a5-4dee-b621-c0657ddf034b"
      },
      "outputs": [
        {
          "output_type": "execute_result",
          "data": {
            "text/plain": [
              "[<matplotlib.lines.Line2D at 0x7c803f6bd6f0>]"
            ]
          },
          "metadata": {},
          "execution_count": 14
        },
        {
          "output_type": "display_data",
          "data": {
            "text/plain": [
              "<Figure size 1000x500 with 1 Axes>"
            ],
            "image/png": "[encoded data removed]"
          },
          "metadata": {}
        }
      ],
      "source": [
        "fig = plt.figure(figsize = (10, 5))\n",
        "x=range(len(customer_spending))\n",
        "y=np.array(customer_spending[\"TotalSpending\"])\n",
        "y.shape\n",
        "# creating the bar plot\n",
        "plt.plot(x,y)"
      ]
    },
    {
      "cell_type": "code",
      "execution_count": null,
      "metadata": {
        "id": "JLg8Z7PqQPm-",
        "colab": {
          "base_uri": "https://localhost:8080/",
          "height": 293
        },
        "outputId": "53ec84e3-5828-4192-c3e8-a169357d9efc"
      },
      "outputs": [
        {
          "output_type": "execute_result",
          "data": {
            "text/plain": [
              "{'whiskers': [<matplotlib.lines.Line2D at 0x7c803fcd7970>,\n",
              "  <matplotlib.lines.Line2D at 0x7c803fcd7c10>],\n",
              " 'caps': [<matplotlib.lines.Line2D at 0x7c803fcd7eb0>,\n",
              "  <matplotlib.lines.Line2D at 0x7c803fcac190>],\n",
              " 'boxes': [<matplotlib.lines.Line2D at 0x7c803fcd76a0>],\n",
              " 'medians': [<matplotlib.lines.Line2D at 0x7c803fcac430>],\n",
              " 'fliers': [<matplotlib.lines.Line2D at 0x7c803fcac6d0>],\n",
              " 'means': []}"
            ]
          },
          "metadata": {},
          "execution_count": 15
        },
        {
          "output_type": "display_data",
          "data": {
            "text/plain": [
              "<Figure size 2000x200 with 1 Axes>"
            ],
            "image/png": "[encoded data removed]"
          },
          "metadata": {}
        }
      ],
      "source": [
        "fig = plt.figure(figsize = (20, 2))\n",
        "plt.boxplot(y,vert=False)"
      ]
    },
    {
      "cell_type": "code",
      "execution_count": null,
      "metadata": {
        "id": "54_Wf2TzRNYY"
      },
      "outputs": [],
      "source": [
        "cs_sum=customer_spending[\"TotalSpending\"].sum()"
      ]
    },
    {
      "cell_type": "code",
      "execution_count": null,
      "metadata": {
        "colab": {
          "base_uri": "https://localhost:8080/"
        },
        "id": "LGXTcuIhaGlQ",
        "outputId": "4f122846-1056-4c0f-ca01-4e9dc92021f1"
      },
      "outputs": [
        {
          "data": {
            "text/plain": [
              "(1664829.2388000002, 166482.92388000002)"
            ]
          },
          "execution_count": 80,
          "metadata": {},
          "output_type": "execute_result"
        }
      ],
      "source": [
        "16648292.388*.10,16648292.388*.01"
      ]
    },
    {
      "cell_type": "code",
      "source": [
        "customer_spending.head()"
      ],
      "metadata": {
        "colab": {
          "base_uri": "https://localhost:8080/",
          "height": 238
        },
        "id": "sLZys9oQEbNQ",
        "outputId": "bf39b1e6-e4ef-4d87-f32c-059e2454000f"
      },
      "execution_count": null,
      "outputs": [
        {
          "output_type": "execute_result",
          "data": {
            "text/plain": [
              "       Customer ID  TotalSpending\n",
              "index                            \n",
              "0          18102.0      598215.22\n",
              "1          14646.0      523342.07\n",
              "2          14156.0      296564.69\n",
              "3          14911.0      270248.53\n",
              "4          17450.0      233579.39"
            ],
            "text/html": [
              "\n",
              "  <div id=\"df-7d91a9f6-51da-4fb2-9ea1-62c39d54da67\" class=\"colab-df-container\">\n",
              "    <div>\n",
              "<style scoped>\n",
              "    .dataframe tbody tr th:only-of-type {\n",
              "        vertical-align: middle;\n",
              "    }\n",
              "\n",
              "    .dataframe tbody tr th {\n",
              "        vertical-align: top;\n",
              "    }\n",
              "\n",
              "    .dataframe thead th {\n",
              "        text-align: right;\n",
              "    }\n",
              "</style>\n",
              "<table border=\"1\" class=\"dataframe\">\n",
              "  <thead>\n",
              "    <tr style=\"text-align: right;\">\n",
              "      <th></th>\n",
              "      <th>Customer ID</th>\n",
              "      <th>TotalSpending</th>\n",
              "    </tr>\n",
              "    <tr>\n",
              "      <th>index</th>\n",
              "      <th></th>\n",
              "      <th></th>\n",
              "    </tr>\n",
              "  </thead>\n",
              "  <tbody>\n",
              "    <tr>\n",
              "      <th>0</th>\n",
              "      <td>18102.0</td>\n",
              "      <td>598215.22</td>\n",
              "    </tr>\n",
              "    <tr>\n",
              "      <th>1</th>\n",
              "      <td>14646.0</td>\n",
              "      <td>523342.07</td>\n",
              "    </tr>\n",
              "    <tr>\n",
              "      <th>2</th>\n",
              "      <td>14156.0</td>\n",
              "      <td>296564.69</td>\n",
              "    </tr>\n",
              "    <tr>\n",
              "      <th>3</th>\n",
              "      <td>14911.0</td>\n",
              "      <td>270248.53</td>\n",
              "    </tr>\n",
              "    <tr>\n",
              "      <th>4</th>\n",
              "      <td>17450.0</td>\n",
              "      <td>233579.39</td>\n",
              "    </tr>\n",
              "  </tbody>\n",
              "</table>\n",
              "</div>\n",
              "    <div class=\"colab-df-buttons\">\n",
              "\n",
              "  <div class=\"colab-df-container\">\n",
              "    <button class=\"colab-df-convert\" onclick=\"convertToInteractive('df-7d91a9f6-51da-4fb2-9ea1-62c39d54da67')\"\n",
              "            title=\"Convert this dataframe to an interactive table.\"\n",
              "            style=\"display:none;\">\n",
              "\n",
              "  <svg xmlns=\"http://www.w3.org/2000/svg\" height=\"24px\" viewBox=\"0 -960 960 960\">\n",
              "    <path d=\"M120-120v-720h720v720H120Zm60-500h600v-160H180v160Zm220 220h160v-160H400v160Zm0 220h160v-160H400v160ZM180-400h160v-160H180v160Zm440 0h160v-160H620v160ZM180-180h160v-160H180v160Zm440 0h160v-160H620v160Z\"/>\n",
              "  </svg>\n",
              "    </button>\n",
              "\n",
              "  <style>\n",
              "    .colab-df-container {\n",
              "      display:flex;\n",
              "      gap: 12px;\n",
              "    }\n",
              "\n",
              "    .colab-df-convert {\n",
              "      background-color: #E8F0FE;\n",
              "      border: none;\n",
              "      border-radius: 50%;\n",
              "      cursor: pointer;\n",
              "      display: none;\n",
              "      fill: #1967D2;\n",
              "      height: 32px;\n",
              "      padding: 0 0 0 0;\n",
              "      width: 32px;\n",
              "    }\n",
              "\n",
              "    .colab-df-convert:hover {\n",
              "      background-color: #E2EBFA;\n",
              "      box-shadow: 0px 1px 2px rgba(60, 64, 67, 0.3), 0px 1px 3px 1px rgba(60, 64, 67, 0.15);\n",
              "      fill: #174EA6;\n",
              "    }\n",
              "\n",
              "    .colab-df-buttons div {\n",
              "      margin-bottom: 4px;\n",
              "    }\n",
              "\n",
              "    [theme=dark] .colab-df-convert {\n",
              "      background-color: #3B4455;\n",
              "      fill: #D2E3FC;\n",
              "    }\n",
              "\n",
              "    [theme=dark] .colab-df-convert:hover {\n",
              "      background-color: #434B5C;\n",
              "      box-shadow: 0px 1px 3px 1px rgba(0, 0, 0, 0.15);\n",
              "      filter: drop-shadow(0px 1px 2px rgba(0, 0, 0, 0.3));\n",
              "      fill: #FFFFFF;\n",
              "    }\n",
              "  </style>\n",
              "\n",
              "    <script>\n",
              "      const buttonEl =\n",
              "        document.querySelector('#df-7d91a9f6-51da-4fb2-9ea1-62c39d54da67 button.colab-df-convert');\n",
              "      buttonEl.style.display =\n",
              "        google.colab.kernel.accessAllowed ? 'block' : 'none';\n",
              "\n",
              "      async function convertToInteractive(key) {\n",
              "        const element = document.querySelector('#df-7d91a9f6-51da-4fb2-9ea1-62c39d54da67');\n",
              "        const dataTable =\n",
              "          await google.colab.kernel.invokeFunction('convertToInteractive',\n",
              "                                                    [key], {});\n",
              "        if (!dataTable) return;\n",
              "\n",
              "        const docLinkHtml = 'Like what you see? Visit the ' +\n",
              "          '<a target=\"_blank\" href=https://colab.research.google.com/notebooks/data_table.ipynb>data table notebook</a>'\n",
              "          + ' to learn more about interactive tables.';\n",
              "        element.innerHTML = '';\n",
              "        dataTable['output_type'] = 'display_data';\n",
              "        await google.colab.output.renderOutput(dataTable, element);\n",
              "        const docLink = document.createElement('div');\n",
              "        docLink.innerHTML = docLinkHtml;\n",
              "        element.appendChild(docLink);\n",
              "      }\n",
              "    </script>\n",
              "  </div>\n",
              "\n",
              "\n",
              "<div id=\"df-259005b7-6aa2-43f5-a082-3f279785d4e0\">\n",
              "  <button class=\"colab-df-quickchart\" onclick=\"quickchart('df-259005b7-6aa2-43f5-a082-3f279785d4e0')\"\n",
              "            title=\"Suggest charts\"\n",
              "            style=\"display:none;\">\n",
              "\n",
              "<svg xmlns=\"http://www.w3.org/2000/svg\" height=\"24px\"viewBox=\"0 0 24 24\"\n",
              "     width=\"24px\">\n",
              "    <g>\n",
              "        <path d=\"M19 3H5c-1.1 0-2 .9-2 2v14c0 1.1.9 2 2 2h14c1.1 0 2-.9 2-2V5c0-1.1-.9-2-2-2zM9 17H7v-7h2v7zm4 0h-2V7h2v10zm4 0h-2v-4h2v4z\"/>\n",
              "    </g>\n",
              "</svg>\n",
              "  </button>\n",
              "\n",
              "<style>\n",
              "  .colab-df-quickchart {\n",
              "      --bg-color: #E8F0FE;\n",
              "      --fill-color: #1967D2;\n",
              "      --hover-bg-color: #E2EBFA;\n",
              "      --hover-fill-color: #174EA6;\n",
              "      --disabled-fill-color: #AAA;\n",
              "      --disabled-bg-color: #DDD;\n",
              "  }\n",
              "\n",
              "  [theme=dark] .colab-df-quickchart {\n",
              "      --bg-color: #3B4455;\n",
              "      --fill-color: #D2E3FC;\n",
              "      --hover-bg-color: #434B5C;\n",
              "      --hover-fill-color: #FFFFFF;\n",
              "      --disabled-bg-color: #3B4455;\n",
              "      --disabled-fill-color: #666;\n",
              "  }\n",
              "\n",
              "  .colab-df-quickchart {\n",
              "    background-color: var(--bg-color);\n",
              "    border: none;\n",
              "    border-radius: 50%;\n",
              "    cursor: pointer;\n",
              "    display: none;\n",
              "    fill: var(--fill-color);\n",
              "    height: 32px;\n",
              "    padding: 0;\n",
              "    width: 32px;\n",
              "  }\n",
              "\n",
              "  .colab-df-quickchart:hover {\n",
              "    background-color: var(--hover-bg-color);\n",
              "    box-shadow: 0 1px 2px rgba(60, 64, 67, 0.3), 0 1px 3px 1px rgba(60, 64, 67, 0.15);\n",
              "    fill: var(--button-hover-fill-color);\n",
              "  }\n",
              "\n",
              "  .colab-df-quickchart-complete:disabled,\n",
              "  .colab-df-quickchart-complete:disabled:hover {\n",
              "    background-color: var(--disabled-bg-color);\n",
              "    fill: var(--disabled-fill-color);\n",
              "    box-shadow: none;\n",
              "  }\n",
              "\n",
              "  .colab-df-spinner {\n",
              "    border: 2px solid var(--fill-color);\n",
              "    border-color: transparent;\n",
              "    border-bottom-color: var(--fill-color);\n",
              "    animation:\n",
              "      spin 1s steps(1) infinite;\n",
              "  }\n",
              "\n",
              "  @keyframes spin {\n",
              "    0% {\n",
              "      border-color: transparent;\n",
              "      border-bottom-color: var(--fill-color);\n",
              "      border-left-color: var(--fill-color);\n",
              "    }\n",
              "    20% {\n",
              "      border-color: transparent;\n",
              "      border-left-color: var(--fill-color);\n",
              "      border-top-color: var(--fill-color);\n",
              "    }\n",
              "    30% {\n",
              "      border-color: transparent;\n",
              "      border-left-color: var(--fill-color);\n",
              "      border-top-color: var(--fill-color);\n",
              "      border-right-color: var(--fill-color);\n",
              "    }\n",
              "    40% {\n",
              "      border-color: transparent;\n",
              "      border-right-color: var(--fill-color);\n",
              "      border-top-color: var(--fill-color);\n",
              "    }\n",
              "    60% {\n",
              "      border-color: transparent;\n",
              "      border-right-color: var(--fill-color);\n",
              "    }\n",
              "    80% {\n",
              "      border-color: transparent;\n",
              "      border-right-color: var(--fill-color);\n",
              "      border-bottom-color: var(--fill-color);\n",
              "    }\n",
              "    90% {\n",
              "      border-color: transparent;\n",
              "      border-bottom-color: var(--fill-color);\n",
              "    }\n",
              "  }\n",
              "</style>\n",
              "\n",
              "  <script>\n",
              "    async function quickchart(key) {\n",
              "      const quickchartButtonEl =\n",
              "        document.querySelector('#' + key + ' button');\n",
              "      quickchartButtonEl.disabled = true;  // To prevent multiple clicks.\n",
              "      quickchartButtonEl.classList.add('colab-df-spinner');\n",
              "      try {\n",
              "        const charts = await google.colab.kernel.invokeFunction(\n",
              "            'suggestCharts', [key], {});\n",
              "      } catch (error) {\n",
              "        console.error('Error during call to suggestCharts:', error);\n",
              "      }\n",
              "      quickchartButtonEl.classList.remove('colab-df-spinner');\n",
              "      quickchartButtonEl.classList.add('colab-df-quickchart-complete');\n",
              "    }\n",
              "    (() => {\n",
              "      let quickchartButtonEl =\n",
              "        document.querySelector('#df-259005b7-6aa2-43f5-a082-3f279785d4e0 button');\n",
              "      quickchartButtonEl.style.display =\n",
              "        google.colab.kernel.accessAllowed ? 'block' : 'none';\n",
              "    })();\n",
              "  </script>\n",
              "</div>\n",
              "\n",
              "    </div>\n",
              "  </div>\n"
            ],
            "application/vnd.google.colaboratory.intrinsic+json": {
              "type": "dataframe",
              "variable_name": "customer_spending",
              "summary": "{\n  \"name\": \"customer_spending\",\n  \"rows\": 5942,\n  \"fields\": [\n    {\n      \"column\": \"index\",\n      \"properties\": {\n        \"dtype\": \"number\",\n        \"std\": 1715,\n        \"min\": 0,\n        \"max\": 5941,\n        \"num_unique_values\": 5942,\n        \"samples\": [\n          4766,\n          2131,\n          1400\n        ],\n        \"semantic_type\": \"\",\n        \"description\": \"\"\n      }\n    },\n    {\n      \"column\": \"Customer ID\",\n      \"properties\": {\n        \"dtype\": \"number\",\n        \"std\": 1715.4519812574179,\n        \"min\": 12346.0,\n        \"max\": 18287.0,\n        \"num_unique_values\": 5942,\n        \"samples\": [\n          13806.0,\n          14116.0,\n          14443.0\n        ],\n        \"semantic_type\": \"\",\n        \"description\": \"\"\n      }\n    },\n    {\n      \"column\": \"TotalSpending\",\n      \"properties\": {\n        \"dtype\": \"number\",\n        \"std\": 13973.9225529134,\n        \"min\": -25111.09,\n        \"max\": 598215.22,\n        \"num_unique_values\": 5837,\n        \"samples\": [\n          200.82,\n          12749.14,\n          13091.61\n        ],\n        \"semantic_type\": \"\",\n        \"description\": \"\"\n      }\n    }\n  ]\n}"
            }
          },
          "metadata": {},
          "execution_count": 31
        }
      ]
    },
    {
      "cell_type": "code",
      "execution_count": null,
      "metadata": {
        "id": "diqDn8e_WNlA"
      },
      "outputs": [],
      "source": [
        "#Classify medium paying customers as those contributing to the above the 10 percent of sales.\n",
        "high_paying_customers=[]\n",
        "start_sum=cs_sum\n",
        "threshold_sum = start_sum * 0.10\n",
        "for r in range(len(customer_spending)):\n",
        "  if start_sum > threshold_sum:\n",
        "    start_sum = start_sum - customer_spending[\"TotalSpending\"][r]\n",
        "    #high_paying_customers.append(customer_spending[\"Customer ID\"][r])\n",
        "    continue\n",
        "  high_paying_customers = customer_spending[\"Customer ID\"][:r]\n",
        "  break"
      ]
    },
    {
      "cell_type": "code",
      "source": [
        "high_paying_customers = [int(customer_spending[\"Customer ID\"][0])\n",
        "]"
      ],
      "metadata": {
        "id": "OUw18T-6nR9W"
      },
      "execution_count": null,
      "outputs": []
    },
    {
      "cell_type": "code",
      "source": [
        "#Classify medium paying customers as those contributing to the above the 10 percent of sales.\n",
        "start_sum = cs_sum * 0.1\n",
        "threshold_sum = start_sum * 0.01\n",
        "for r in range(len(customer_spending[2300:])):\n",
        "  if start_sum > threshold_sum:\n",
        "    start_sum = start_sum - customer_spending[\"TotalSpending\"][r+2300]\n",
        "    #medium_paying_customers.append(customer_spending[\"Customer ID\"][r])\n",
        "    continue\n",
        "  medium_paying_customers = customer_spending[\"Customer ID\"][:r+2300]\n",
        "  break"
      ],
      "metadata": {
        "id": "YSXpWCSwpUad",
        "colab": {
          "base_uri": "https://localhost:8080/",
          "height": 490
        },
        "outputId": "63fe97fe-7a95-401c-f2c8-7b53060b9e69"
      },
      "execution_count": null,
      "outputs": [
        {
          "output_type": "execute_result",
          "data": {
            "text/plain": [
              "index\n",
              "0       18102.0\n",
              "1       14646.0\n",
              "2       14156.0\n",
              "3       14911.0\n",
              "4       17450.0\n",
              "         ...   \n",
              "4987    13691.0\n",
              "4988    12961.0\n",
              "4989    12470.0\n",
              "4990    14843.0\n",
              "4991    15703.0\n",
              "Name: Customer ID, Length: 4992, dtype: float64"
            ],
            "text/html": [
              "<div>\n",
              "<style scoped>\n",
              "    .dataframe tbody tr th:only-of-type {\n",
              "        vertical-align: middle;\n",
              "    }\n",
              "\n",
              "    .dataframe tbody tr th {\n",
              "        vertical-align: top;\n",
              "    }\n",
              "\n",
              "    .dataframe thead th {\n",
              "        text-align: right;\n",
              "    }\n",
              "</style>\n",
              "<table border=\"1\" class=\"dataframe\">\n",
              "  <thead>\n",
              "    <tr style=\"text-align: right;\">\n",
              "      <th></th>\n",
              "      <th>Customer ID</th>\n",
              "    </tr>\n",
              "    <tr>\n",
              "      <th>index</th>\n",
              "      <th></th>\n",
              "    </tr>\n",
              "  </thead>\n",
              "  <tbody>\n",
              "    <tr>\n",
              "      <th>0</th>\n",
              "      <td>18102.0</td>\n",
              "    </tr>\n",
              "    <tr>\n",
              "      <th>1</th>\n",
              "      <td>14646.0</td>\n",
              "    </tr>\n",
              "    <tr>\n",
              "      <th>2</th>\n",
              "      <td>14156.0</td>\n",
              "    </tr>\n",
              "    <tr>\n",
              "      <th>3</th>\n",
              "      <td>14911.0</td>\n",
              "    </tr>\n",
              "    <tr>\n",
              "      <th>4</th>\n",
              "      <td>17450.0</td>\n",
              "    </tr>\n",
              "    <tr>\n",
              "      <th>...</th>\n",
              "      <td>...</td>\n",
              "    </tr>\n",
              "    <tr>\n",
              "      <th>4987</th>\n",
              "      <td>13691.0</td>\n",
              "    </tr>\n",
              "    <tr>\n",
              "      <th>4988</th>\n",
              "      <td>12961.0</td>\n",
              "    </tr>\n",
              "    <tr>\n",
              "      <th>4989</th>\n",
              "      <td>12470.0</td>\n",
              "    </tr>\n",
              "    <tr>\n",
              "      <th>4990</th>\n",
              "      <td>14843.0</td>\n",
              "    </tr>\n",
              "    <tr>\n",
              "      <th>4991</th>\n",
              "      <td>15703.0</td>\n",
              "    </tr>\n",
              "  </tbody>\n",
              "</table>\n",
              "<p>4992 rows × 1 columns</p>\n",
              "</div><br><label><b>dtype:</b> float64</label>"
            ]
          },
          "metadata": {},
          "execution_count": 75
        }
      ]
    },
    {
      "cell_type": "code",
      "execution_count": null,
      "metadata": {
        "id": "fVLsb6Yiwc-v"
      },
      "outputs": [],
      "source": [
        "#Finally, change df to include a column called percentile and change all rows according to customer division."
      ]
    },
    {
      "cell_type": "code",
      "source": [
        "high_paying_customers = list(high_paying_customers)\n",
        "medium_paying_customers = list(medium_paying_customers)"
      ],
      "metadata": {
        "id": "b_oyGBZ2Fuf2"
      },
      "execution_count": null,
      "outputs": []
    },
    {
      "cell_type": "code",
      "execution_count": null,
      "metadata": {
        "id": "7n8oi305tlf2"
      },
      "outputs": [],
      "source": [
        "Kndf['ContributionType'] = Kndf['Customer ID'].apply(\n",
        "    lambda x: 'Dominant Contributor' if x in high_paying_customers else\n",
        "              'Bottom Decile Contributor' if x in medium_paying_customers else\n",
        "              'Bottom Percentile Contributor' )"
      ]
    },
    {
      "cell_type": "code",
      "source": [
        "Kndf[\"ContributionType\"].value_counts()"
      ],
      "metadata": {
        "colab": {
          "base_uri": "https://localhost:8080/",
          "height": 210
        },
        "id": "xm_8s0G-Rb30",
        "outputId": "3f42b7d3-d28a-4eef-b8ed-b351ccf2a2c8"
      },
      "execution_count": null,
      "outputs": [
        {
          "output_type": "execute_result",
          "data": {
            "text/plain": [
              "ContributionType\n",
              "Dominant Contributor             674735\n",
              "Bottom Decile Contributor        137172\n",
              "Bottom Percentile Contributor     12457\n",
              "Name: count, dtype: int64"
            ],
            "text/html": [
              "<div>\n",
              "<style scoped>\n",
              "    .dataframe tbody tr th:only-of-type {\n",
              "        vertical-align: middle;\n",
              "    }\n",
              "\n",
              "    .dataframe tbody tr th {\n",
              "        vertical-align: top;\n",
              "    }\n",
              "\n",
              "    .dataframe thead th {\n",
              "        text-align: right;\n",
              "    }\n",
              "</style>\n",
              "<table border=\"1\" class=\"dataframe\">\n",
              "  <thead>\n",
              "    <tr style=\"text-align: right;\">\n",
              "      <th></th>\n",
              "      <th>count</th>\n",
              "    </tr>\n",
              "    <tr>\n",
              "      <th>ContributionType</th>\n",
              "      <th></th>\n",
              "    </tr>\n",
              "  </thead>\n",
              "  <tbody>\n",
              "    <tr>\n",
              "      <th>Dominant Contributor</th>\n",
              "      <td>674735</td>\n",
              "    </tr>\n",
              "    <tr>\n",
              "      <th>Bottom Decile Contributor</th>\n",
              "      <td>137172</td>\n",
              "    </tr>\n",
              "    <tr>\n",
              "      <th>Bottom Percentile Contributor</th>\n",
              "      <td>12457</td>\n",
              "    </tr>\n",
              "  </tbody>\n",
              "</table>\n",
              "</div><br><label><b>dtype:</b> int64</label>"
            ]
          },
          "metadata": {},
          "execution_count": 78
        }
      ]
    },
    {
      "cell_type": "markdown",
      "metadata": {
        "id": "EdnkSJfLywb8"
      },
      "source": [
        "#Method 3  Bar Chart of Product Trends By Month (WORKING)\n"
      ]
    },
    {
      "cell_type": "code",
      "execution_count": null,
      "metadata": {
        "id": "KO0KMSeGAAKq"
      },
      "outputs": [],
      "source": [
        "#There are over 5699 unique items. However, which items sell the most?\n",
        "#We are going to create a dataframe that ranks items by volume.\n",
        "# The closer the predictions are to reality, the better the prediction.\n",
        "# Predicting each item seperatly from each other."
      ]
    },
    {
      "cell_type": "code",
      "source": [
        "import pandas as pd\n",
        "\n",
        "# Define the start and end date\n",
        "start_date = '2010-01-01'\n",
        "end_date = '2012-12-01'\n",
        "\n",
        "# Generate a range of dates\n",
        "date_range = pd.date_range(start=start_date, end=end_date, freq='M')\n",
        "\n",
        "# Convert the dates to strings\n",
        "date_strings = date_range.strftime('%Y-%m-%d')\n",
        "\n",
        "# Print the list of datetime strings\n",
        "print(\"Dates:\")\n",
        "print(date_strings.tolist())\n"
      ],
      "metadata": {
        "colab": {
          "base_uri": "https://localhost:8080/",
          "height": 272
        },
        "id": "ei-Js7wMBefF",
        "outputId": "1135f1f8-6f3a-4d02-c5ed-69692612df6e"
      },
      "execution_count": 1,
      "outputs": [
        {
          "output_type": "stream",
          "name": "stdout",
          "text": [
            "Dates:\n",
            "['2010-01-31', '2010-02-28', '2010-03-31', '2010-04-30', '2010-05-31', '2010-06-30', '2010-07-31', '2010-08-31', '2010-09-30', '2010-10-31', '2010-11-30', '2010-12-31', '2011-01-31', '2011-02-28', '2011-03-31', '2011-04-30', '2011-05-31', '2011-06-30', '2011-07-31', '2011-08-31', '2011-09-30', '2011-10-31', '2011-11-30', '2011-12-31', '2012-01-31', '2012-02-29', '2012-03-31', '2012-04-30', '2012-05-31', '2012-06-30', '2012-07-31', '2012-08-31', '2012-09-30', '2012-10-31', '2012-11-30']\n",
            "\n",
            "Datetimes:\n"
          ]
        },
        {
          "output_type": "error",
          "ename": "NameError",
          "evalue": "name 'datetime_strings' is not defined",
          "traceback": [
            "\u001b[0;31m---------------------------------------------------------------------------\u001b[0m",
            "\u001b[0;31mNameError\u001b[0m                                 Traceback (most recent call last)",
            "\u001b[0;32m<ipython-input-1-05ab88c53860>\u001b[0m in \u001b[0;36m<cell line: 17>\u001b[0;34m()\u001b[0m\n\u001b[1;32m     15\u001b[0m \u001b[0mprint\u001b[0m\u001b[0;34m(\u001b[0m\u001b[0mdate_strings\u001b[0m\u001b[0;34m.\u001b[0m\u001b[0mtolist\u001b[0m\u001b[0;34m(\u001b[0m\u001b[0;34m)\u001b[0m\u001b[0;34m)\u001b[0m\u001b[0;34m\u001b[0m\u001b[0;34m\u001b[0m\u001b[0m\n\u001b[1;32m     16\u001b[0m \u001b[0mprint\u001b[0m\u001b[0;34m(\u001b[0m\u001b[0;34m\"\\nDatetimes:\"\u001b[0m\u001b[0;34m)\u001b[0m\u001b[0;34m\u001b[0m\u001b[0;34m\u001b[0m\u001b[0m\n\u001b[0;32m---> 17\u001b[0;31m \u001b[0mprint\u001b[0m\u001b[0;34m(\u001b[0m\u001b[0mdatetime_strings\u001b[0m\u001b[0;34m.\u001b[0m\u001b[0mtolist\u001b[0m\u001b[0;34m(\u001b[0m\u001b[0;34m)\u001b[0m\u001b[0;34m)\u001b[0m\u001b[0;34m\u001b[0m\u001b[0;34m\u001b[0m\u001b[0m\n\u001b[0m",
            "\u001b[0;31mNameError\u001b[0m: name 'datetime_strings' is not defined"
          ]
        }
      ]
    },
    {
      "cell_type": "code",
      "source": [
        "import pandas as pd\n",
        "\n",
        "# Example DataFrame with a DatetimeIndex\n",
        "data = {\n",
        "    'value': [10, 15, 20, 25, 30, 35, 40, 45],\n",
        "}\n",
        "index = pd.to_datetime([\n",
        "    '2009-10-01 07:45:00', '2009-12-05 12:30:00',\n",
        "    '2010-01-10 08:00:00', '2010-01-15 09:30:00',\n",
        "    '2010-02-01 10:00:00', '2010-02-05 11:00:00',\n",
        "    '2010-03-01 12:00:00', '2010-03-05 01:00:00'\n",
        "])\n",
        "\n",
        "df = pd.DataFrame(data, index=index)\n",
        "\n",
        "# Group by year and month\n",
        "grouped = df.groupby(pd.Grouper(freq='M'))\n",
        "\n",
        "# Split into separate DataFrames\n",
        "dfs_by_month = {f'{name.year}-{name.month}': group for name, group in grouped}\n",
        "\n",
        "# Accessing the DataFrames\n",
        "for key, frame in dfs_by_month.items():\n",
        "    print(f\"Data for {key}:\")\n",
        "    print(frame)\n",
        "    print()\n"
      ],
      "metadata": {
        "id": "5X47LmSTpr7s"
      },
      "execution_count": null,
      "outputs": []
    },
    {
      "cell_type": "code",
      "execution_count": null,
      "metadata": {
        "colab": {
          "base_uri": "https://localhost:8080/",
          "height": 486
        },
        "id": "-rUtnCYbOiVi",
        "outputId": "0178e918-fa65-40d6-8ad8-726324323e6b"
      },
      "outputs": [
        {
          "output_type": "display_data",
          "data": {
            "text/plain": [
              "<Figure size 640x480 with 1 Axes>"
            ],
            "image/png": "[encoded data removed]"
          },
          "metadata": {}
        }
      ],
      "source": [
        "import pandas as pd\n",
        "import numpy as np\n",
        "import matplotlib.pyplot as plt\n",
        "from statsmodels.tsa.arima_model import ARIMA\n",
        "\n",
        "# Aggregate the data by month\n",
        "df = df.reset_index()\n",
        "df[\"InvoiceDate\"] = pd.to_datetime(df['InvoiceDate'])\n",
        "monthly_data = df.groupby(pd.Grouper(key='InvoiceDate', freq='M'))['Quantity'].sum().reset_index()\n",
        "\n",
        "# Visualize the data\n",
        "plt.plot(monthly_data['InvoiceDate'], monthly_data['Quantity'])\n",
        "plt.xlabel('Month')\n",
        "plt.ylabel('Number of items sold')\n",
        "plt.xticks(rotation=45)\n",
        "plt.show()"
      ]
    },
    {
      "cell_type": "code",
      "execution_count": null,
      "metadata": {
        "colab": {
          "base_uri": "https://localhost:8080/"
        },
        "id": "3sr6wB2c0PE6",
        "outputId": "dcd7fd7e-5c29-4c2b-95ef-ce0e343f92c7"
      },
      "outputs": [
        {
          "data": {
            "text/plain": [
              "5305"
            ]
          },
          "execution_count": 20,
          "metadata": {},
          "output_type": "execute_result"
        }
      ],
      "source": [
        "len(df[\"StockCode\"].value_counts())\n"
      ]
    },
    {
      "cell_type": "code",
      "execution_count": null,
      "metadata": {
        "colab": {
          "base_uri": "https://localhost:8080/",
          "height": 592
        },
        "id": "bVXPo-FsyzNp",
        "outputId": "ea5d4691-8c1a-4008-e30b-87029a24dc85"
      },
      "outputs": [
        {
          "data": {
            "image/png": "[encoded data removed]",
            "text/plain": [
              "<Figure size 720x720 with 1 Axes>"
            ]
          },
          "metadata": {},
          "output_type": "display_data"
        }
      ],
      "source": [
        "\n",
        "plt.figure(figsize=(10,10))\n",
        "plt.hist(df[\"StockCode\"].value_counts(), bins=200)\n",
        "plt.show()"
      ]
    },
    {
      "cell_type": "code",
      "execution_count": null,
      "metadata": {
        "colab": {
          "base_uri": "https://localhost:8080/"
        },
        "id": "kQpNv6UouN5S",
        "outputId": "feb58e7f-6c5e-49b1-abc9-3caf424a2d4e"
      },
      "outputs": [
        {
          "data": {
            "text/plain": [
              "list"
            ]
          },
          "execution_count": 37,
          "metadata": {},
          "output_type": "execute_result"
        }
      ],
      "source": [
        "codes=df[\"StockCode\"].unique()\n",
        "type(codes.tolist())"
      ]
    },
    {
      "cell_type": "code",
      "execution_count": null,
      "metadata": {
        "id": "TNFSYBvW4f40"
      },
      "outputs": [],
      "source": [
        "#top_items=['84077', '85123A', '85099B', '21212', '84879', '22197', '17003', '21977', '84991', '22492', '15036', '21213', '22616', '84755', '20725', '22178', '22386', '21232', '84568', '84946', '21915', '22086', '85099F', '84992', '22952', '71459', '22355', '21982', '20724', '21975', '21980', '21080', '85099C', '23084', '16014', '21931', '21731', '22469', '21790', '22411', '47566', '22151', '21498', '84970S', '21981', '20727', '22423', '21985', '21984', '37410', '22383', '21929', '21181', '20719', '84212', '21928', '20728', '84945', '22417', '20726', '22629', '84978', '20668', '22384', '22382', '84836', '23203', '21137', '21166', '72741', '22356', '21094', '21231', '84692', '20972', '22910', '20971', '20713', '20914', '20723', '21326', '22189', '21175', '22630', '22470', '22585', '84270', '22029', '22693', '22961', '22489', '21497', '84970L', '21791', '21733', '20712', '22077', '22909', '84598', '20975', '22294', '22385', '82482', '79321', '21704', '22659', '16156S', '22090', '85152', '84947', '21500', '22379', '21086', '21121', '22457', '22326', '22551', '21967', '22865', '22560', '21499', '22969', '21210', '21976', '82494L', '21787', '21703', '22045', '21918', '84826', '23199', '22558', '22328', '22577', '40016', '21085', '22297', '21091', '22556', '21930', '22554', '22866', '21986', '22083', '20718', '22867', '23209', '21099', '84347', '21914', '82580', '75049L', '21889', '16161P', '20974', '21877', '22534', '22699', '21092', '23201', '22610', '22740', '21122', '21829', '22595', '22993', '71477', '22188', '85175', '22418', '21495', '20711', '22348', '82600', '82583', '22998', '22114', '22030', '16033', '22149', '22578', '22147', '17084R', '23206', '21891', '23310', '23307', '22555', '84949', '84029E', '84378', '21314', '35961', '22112', '22561', '84988', '21506', '22027', '22632', '21672', '82484', '22951', '21390', '21916', '21385', '20993', '16237', '22444', '21871', '23202', '22666', '22741', '21669', '22557', '20676', '15056N', '23077', '21668', '22467', '84380', '22139', '84997D', '22530', '84050', '21673', '21136', '48138', 'POST', '22536', '20973', '23344', '21124', '22662', '22111', '16161U', '22652', '21108', '22296', '22697', '20685', '21908', '21174', '79000', '22791', '62018', '15056BL', '22727', '22988', '21088', '22544', '22633', '85220', '21238', '22381', '21156', '47591D', '22734', '22759', '84997B', '21671', '22219', '22959', '22646', '22158', '21165', '21868', '22960', '21096', '22333', '15034', '22704', '21509', '21169', '21670', '22065', '23301', '22621', '22295', '37340', '22084', '22440', '23232', '23298', '22907', '22130', '23293', '22966', '21098', '22620', '22531', '21559', '22661', '21507', '35970', '22087', '22335', '23309', '85150', '22367', '23343', '84987', '23076', '21917', '22047', '84997C', '22553', '21989', '21154', '82581', '23230', '84950', '22698', '20677', '21485', '22726', '21892', '48194', '20979', '22041', '21754', '10002', '23204', '22154', '84375', '22464', '21481', '22432', '22771', '21936', '22950', '21786', '22243', '21240', '84029G', '21172', '22198', '22082', '21239', '23207', '48187', '84520B', '22834', '22491', '22816', '22712', '21519', '21479', '22720', '21988', '23231', '22150', '21623', '22579', '22352', '22037', '21523', '22710', '21935', '21242', '22419', '23200', '22609', '22945', '20991', '21900', '21078', '21810', '22488', '84832', '22413', '21974', '47503E', '21508', '21875', '23078', '22161', '21899', '22983', '21313', '72008', '22549', '23300', '82552', '22196', '84406B', '22602', '22064', '22437', '51014A', '22818', '20675', '21535', '85049E', '21874', '21621', '85110', '22138', '21155', '21429', '22046', '22596', '20996', '20983', '22728', '22631', '85049A', '22540', '21870', '22028', '37413', '23208', '23245', '21833', '84596B', '22713', '20992', '20717', '21983', '21811', '47556B', '17096', '18007', '85014B', '22152', '22900', '23308', '23170', '23171', '21901', '22155', '21987', '85199S', '84971S', '23295', '22227', '48185', '82582', '22156', '21544', '37370', '22338', '21164', '85061W', '21830', '22563', '22571', '21592', '22113', '22722', '21746', '22273', '22537', '21035', '22466', '20984', '22986', '22528', '22645', '20679', '47599A', '22663', '22153', '22614', '22567', '22539', '23355', '22608', '21755', '21114', '72351B', '22507', '23205', '22908', '21243', '21876', '47590B', '47503A', '20759', '21843', '20756', '22593', '82578', '16046', '22601', '21844', '20760', '37351', '16047', '22144', '22174', '22024', '22711', '22708', '82551', '21524', '85178', '23167', '22716', '22570', '22569']"
      ]
    },
    {
      "cell_type": "code",
      "execution_count": null,
      "metadata": {
        "colab": {
          "base_uri": "https://localhost:8080/",
          "height": 424
        },
        "id": "rS0h1A_-TbUC",
        "outputId": "ab602c1e-05b8-45e7-e071-d2e7526146a3"
      },
      "outputs": [
        {
          "data": {
            "text/html": [
              "\n",
              "  <div id=\"df-60e67bb0-cf9b-46d4-9883-8b1d80e44a9b\">\n",
              "    <div class=\"colab-df-container\">\n",
              "      <div>\n",
              "<style scoped>\n",
              "    .dataframe tbody tr th:only-of-type {\n",
              "        vertical-align: middle;\n",
              "    }\n",
              "\n",
              "    .dataframe tbody tr th {\n",
              "        vertical-align: top;\n",
              "    }\n",
              "\n",
              "    .dataframe thead th {\n",
              "        text-align: right;\n",
              "    }\n",
              "</style>\n",
              "<table border=\"1\" class=\"dataframe\">\n",
              "  <thead>\n",
              "    <tr style=\"text-align: right;\">\n",
              "      <th></th>\n",
              "      <th>StockCode</th>\n",
              "      <th>Number Ordered</th>\n",
              "    </tr>\n",
              "  </thead>\n",
              "  <tbody>\n",
              "    <tr>\n",
              "      <th>0</th>\n",
              "      <td>85048</td>\n",
              "      <td>2657</td>\n",
              "    </tr>\n",
              "    <tr>\n",
              "      <th>1</th>\n",
              "      <td>79323P</td>\n",
              "      <td>-633</td>\n",
              "    </tr>\n",
              "    <tr>\n",
              "      <th>2</th>\n",
              "      <td>79323W</td>\n",
              "      <td>-3050</td>\n",
              "    </tr>\n",
              "    <tr>\n",
              "      <th>3</th>\n",
              "      <td>22041</td>\n",
              "      <td>7819</td>\n",
              "    </tr>\n",
              "    <tr>\n",
              "      <th>4</th>\n",
              "      <td>21232</td>\n",
              "      <td>38033</td>\n",
              "    </tr>\n",
              "    <tr>\n",
              "      <th>...</th>\n",
              "      <td>...</td>\n",
              "      <td>...</td>\n",
              "    </tr>\n",
              "    <tr>\n",
              "      <th>5299</th>\n",
              "      <td>23576</td>\n",
              "      <td>198</td>\n",
              "    </tr>\n",
              "    <tr>\n",
              "      <th>5300</th>\n",
              "      <td>23562</td>\n",
              "      <td>253</td>\n",
              "    </tr>\n",
              "    <tr>\n",
              "      <th>5301</th>\n",
              "      <td>23561</td>\n",
              "      <td>170</td>\n",
              "    </tr>\n",
              "    <tr>\n",
              "      <th>5302</th>\n",
              "      <td>23609</td>\n",
              "      <td>1</td>\n",
              "    </tr>\n",
              "    <tr>\n",
              "      <th>5303</th>\n",
              "      <td>23617</td>\n",
              "      <td>2</td>\n",
              "    </tr>\n",
              "  </tbody>\n",
              "</table>\n",
              "<p>5304 rows × 2 columns</p>\n",
              "</div>\n",
              "      <button class=\"colab-df-convert\" onclick=\"convertToInteractive('df-60e67bb0-cf9b-46d4-9883-8b1d80e44a9b')\"\n",
              "              title=\"Convert this dataframe to an interactive table.\"\n",
              "              style=\"display:none;\">\n",
              "        \n",
              "  <svg xmlns=\"http://www.w3.org/2000/svg\" height=\"24px\"viewBox=\"0 0 24 24\"\n",
              "       width=\"24px\">\n",
              "    <path d=\"M0 0h24v24H0V0z\" fill=\"none\"/>\n",
              "    <path d=\"M18.56 5.44l.94 2.06.94-2.06 2.06-.94-2.06-.94-.94-2.06-.94 2.06-2.06.94zm-11 1L8.5 8.5l.94-2.06 2.06-.94-2.06-.94L8.5 2.5l-.94 2.06-2.06.94zm10 10l.94 2.06.94-2.06 2.06-.94-2.06-.94-.94-2.06-.94 2.06-2.06.94z\"/><path d=\"M17.41 7.96l-1.37-1.37c-.4-.4-.92-.59-1.43-.59-.52 0-1.04.2-1.43.59L10.3 9.45l-7.72 7.72c-.78.78-.78 2.05 0 2.83L4 21.41c.39.39.9.59 1.41.59.51 0 1.02-.2 1.41-.59l7.78-7.78 2.81-2.81c.8-.78.8-2.07 0-2.86zM5.41 20L4 18.59l7.72-7.72 1.47 1.35L5.41 20z\"/>\n",
              "  </svg>\n",
              "      </button>\n",
              "      \n",
              "  <style>\n",
              "    .colab-df-container {\n",
              "      display:flex;\n",
              "      flex-wrap:wrap;\n",
              "      gap: 12px;\n",
              "    }\n",
              "\n",
              "    .colab-df-convert {\n",
              "      background-color: #E8F0FE;\n",
              "      border: none;\n",
              "      border-radius: 50%;\n",
              "      cursor: pointer;\n",
              "      display: none;\n",
              "      fill: #1967D2;\n",
              "      height: 32px;\n",
              "      padding: 0 0 0 0;\n",
              "      width: 32px;\n",
              "    }\n",
              "\n",
              "    .colab-df-convert:hover {\n",
              "      background-color: #E2EBFA;\n",
              "      box-shadow: 0px 1px 2px rgba(60, 64, 67, 0.3), 0px 1px 3px 1px rgba(60, 64, 67, 0.15);\n",
              "      fill: #174EA6;\n",
              "    }\n",
              "\n",
              "    [theme=dark] .colab-df-convert {\n",
              "      background-color: #3B4455;\n",
              "      fill: #D2E3FC;\n",
              "    }\n",
              "\n",
              "    [theme=dark] .colab-df-convert:hover {\n",
              "      background-color: #434B5C;\n",
              "      box-shadow: 0px 1px 3px 1px rgba(0, 0, 0, 0.15);\n",
              "      filter: drop-shadow(0px 1px 2px rgba(0, 0, 0, 0.3));\n",
              "      fill: #FFFFFF;\n",
              "    }\n",
              "  </style>\n",
              "\n",
              "      <script>\n",
              "        const buttonEl =\n",
              "          document.querySelector('#df-60e67bb0-cf9b-46d4-9883-8b1d80e44a9b button.colab-df-convert');\n",
              "        buttonEl.style.display =\n",
              "          google.colab.kernel.accessAllowed ? 'block' : 'none';\n",
              "\n",
              "        async function convertToInteractive(key) {\n",
              "          const element = document.querySelector('#df-60e67bb0-cf9b-46d4-9883-8b1d80e44a9b');\n",
              "          const dataTable =\n",
              "            await google.colab.kernel.invokeFunction('convertToInteractive',\n",
              "                                                     [key], {});\n",
              "          if (!dataTable) return;\n",
              "\n",
              "          const docLinkHtml = 'Like what you see? Visit the ' +\n",
              "            '<a target=\"_blank\" href=https://colab.research.google.com/notebooks/data_table.ipynb>data table notebook</a>'\n",
              "            + ' to learn more about interactive tables.';\n",
              "          element.innerHTML = '';\n",
              "          dataTable['output_type'] = 'display_data';\n",
              "          await google.colab.output.renderOutput(dataTable, element);\n",
              "          const docLink = document.createElement('div');\n",
              "          docLink.innerHTML = docLinkHtml;\n",
              "          element.appendChild(docLink);\n",
              "        }\n",
              "      </script>\n",
              "    </div>\n",
              "  </div>\n",
              "  "
            ],
            "text/plain": [
              "     StockCode  Number Ordered\n",
              "0        85048            2657\n",
              "1       79323P            -633\n",
              "2       79323W           -3050\n",
              "3        22041            7819\n",
              "4        21232           38033\n",
              "...        ...             ...\n",
              "5299     23576             198\n",
              "5300     23562             253\n",
              "5301     23561             170\n",
              "5302     23609               1\n",
              "5303     23617               2\n",
              "\n",
              "[5304 rows x 2 columns]"
            ]
          },
          "execution_count": 41,
          "metadata": {},
          "output_type": "execute_result"
        }
      ],
      "source": [
        "#Takes 4m to compute.\n",
        "codes=df[\"StockCode\"].unique()\n",
        "codes.tolist()\n",
        "quantities=[]\n",
        "for i in codes[:-1]:\n",
        "  x=df['Quantity'].loc[df[\"StockCode\"]==i]\n",
        "  x=sum(x)\n",
        "  quantities.append(x)\n",
        "  items=list(zip(codes,quantities))\n",
        "items=pd.DataFrame(top_items,columns=[\"StockCode\",\"Number Ordered\"])\n",
        "items"
      ]
    },
    {
      "cell_type": "code",
      "source": [
        "import pandas as pd\n",
        "\n",
        "# Sample DataFrame with a datetime column\n",
        "data = {\n",
        "    'InvoiceDate': pd.to_datetime(['2010-01-01', '2010-02-01', '2010-03-01', '2010-04-01','2010-05-01','2010-06-01','2010-07-01','2010-08-01','2010-09-01','2010-10-01','2010-11-01','2010-12-01', '2011-01-01', '2011-02-01', '2011-03-01', '2011-04-01','2011-05-01','2011-06-01','2011-07-01','2011-08-01','2011-09-01','2011-10-01','2011-11-01','2011-12-01','2012-01-01', '2012-02-01', '2012-03-01', '2012-04-01','2012-05-01','2012-06-01','2012-07-01','2012-08-01','2012-09-01','2012-10-01','2012-11-01','2012-12-01']),\n",
        "    'DataFrame': []\n",
        "}\n",
        "\n",
        "df = pd.DataFrame(data)\n",
        "\n",
        "# Group by month\n",
        "monthly_groups = df.groupby(pd.Grouper(key='InvoiceDate', freq='M'))\n",
        "\n",
        "# Create a dictionary where each key is the month, and each value is the corresponding DataFrame\n",
        "monthly_dataframes = {month: group for month, group in monthly_groups}\n",
        "\n",
        "# Access DataFrames by month\n",
        "for month, data in monthly_dataframes.items():\n",
        "    print(f\"Month: {month}\")\n",
        "    print(data)\n"
      ],
      "metadata": {
        "id": "NrF3Ufenoj-8"
      },
      "execution_count": null,
      "outputs": []
    },
    {
      "cell_type": "code",
      "source": [
        "import pandas as pd\n",
        "\n",
        "# Sample DataFrame\n",
        "data = {\n",
        "    'InvoiceDate': pd.to_datetime(['2024-01-01', '2024-01-15', '2024-02-01', '2024-02-20', '2024-03-10']),\n",
        "    'Product': ['A', 'B', 'A', 'B', 'A'],\n",
        "    'Quantity': [10, 15, 20, 25, 30]\n",
        "}\n",
        "\n",
        "df = pd.DataFrame(data)\n",
        "\n",
        "# Group by month and product\n",
        "grouped_data = df.groupby([pd.Grouper(key='InvoiceDate', freq='M'), 'Product']).sum()\n",
        "\n",
        "print(grouped_data)\n"
      ],
      "metadata": {
        "id": "_21LaR8QvQ44"
      },
      "execution_count": null,
      "outputs": []
    },
    {
      "cell_type": "code",
      "execution_count": null,
      "metadata": {
        "id": "EstgEJOnSUlg",
        "colab": {
          "base_uri": "https://localhost:8080/",
          "height": 145
        },
        "outputId": "3b725f81-808a-4ce4-c381-d2f7b38acda1"
      },
      "outputs": [
        {
          "output_type": "error",
          "ename": "AttributeError",
          "evalue": "'list' object has no attribute 'sort_values'",
          "traceback": [
            "\u001b[0;31m---------------------------------------------------------------------------\u001b[0m",
            "\u001b[0;31mAttributeError\u001b[0m                            Traceback (most recent call last)",
            "\u001b[0;32m<ipython-input-119-9bc2bf37d1c7>\u001b[0m in \u001b[0;36m<cell line: 1>\u001b[0;34m()\u001b[0m\n\u001b[0;32m----> 1\u001b[0;31m \u001b[0mtop_items\u001b[0m\u001b[0;34m=\u001b[0m\u001b[0mtop_items\u001b[0m\u001b[0;34m.\u001b[0m\u001b[0msort_values\u001b[0m\u001b[0;34m(\u001b[0m\u001b[0mby\u001b[0m\u001b[0;34m=\u001b[0m\u001b[0;34m\"Number Ordered\"\u001b[0m\u001b[0;34m,\u001b[0m\u001b[0mascending\u001b[0m\u001b[0;34m=\u001b[0m\u001b[0;32mFalse\u001b[0m\u001b[0;34m)\u001b[0m\u001b[0;34m.\u001b[0m\u001b[0mhead\u001b[0m\u001b[0;34m(\u001b[0m\u001b[0;36m500\u001b[0m\u001b[0;34m)\u001b[0m\u001b[0;34m\u001b[0m\u001b[0;34m\u001b[0m\u001b[0m\n\u001b[0m",
            "\u001b[0;31mAttributeError\u001b[0m: 'list' object has no attribute 'sort_values'"
          ]
        }
      ],
      "source": [
        "top_items=top_items.sort_values(by=\"Number Ordered\",ascending=False).head(500)"
      ]
    },
    {
      "cell_type": "code",
      "execution_count": null,
      "metadata": {
        "id": "rOPNfZb1N5dS",
        "colab": {
          "base_uri": "https://localhost:8080/"
        },
        "outputId": "c7b5843c-d35d-4529-992b-7ebd9fa04a1d"
      },
      "outputs": [
        {
          "output_type": "execute_result",
          "data": {
            "text/plain": [
              "<pandas.core.groupby.generic.DataFrameGroupBy object at 0x7c803763e9e0>"
            ]
          },
          "metadata": {},
          "execution_count": 118
        }
      ],
      "source": [
        "df.groupby(pd.Grouper(key='InvoiceDate', freq='M'))"
      ]
    },
    {
      "cell_type": "code",
      "execution_count": null,
      "metadata": {
        "colab": {
          "base_uri": "https://localhost:8080/",
          "height": 222
        },
        "id": "Qk3_CC8jKAO-",
        "outputId": "b15b76de-98b6-41b3-eee8-5992dd901017"
      },
      "outputs": [
        {
          "ename": "AttributeError",
          "evalue": "ignored",
          "output_type": "error",
          "traceback": [
            "\u001b[0;31m---------------------------------------------------------------------------\u001b[0m",
            "\u001b[0;31mAttributeError\u001b[0m                            Traceback (most recent call last)",
            "\u001b[0;32m<ipython-input-93-fd8354ea5f02>\u001b[0m in \u001b[0;36m<module>\u001b[0;34m\u001b[0m\n\u001b[1;32m      1\u001b[0m \u001b[0mx\u001b[0m\u001b[0;34m=\u001b[0m\u001b[0mpd\u001b[0m\u001b[0;34m.\u001b[0m\u001b[0mto_datetime\u001b[0m\u001b[0;34m(\u001b[0m\u001b[0;34m\"2009-12-01 07:45:00\"\u001b[0m\u001b[0;34m)\u001b[0m\u001b[0;34m\u001b[0m\u001b[0;34m\u001b[0m\u001b[0m\n\u001b[1;32m      2\u001b[0m \u001b[0mx_list\u001b[0m\u001b[0;34m=\u001b[0m\u001b[0;34m(\u001b[0m\u001b[0mx\u001b[0m\u001b[0;34m,\u001b[0m\u001b[0mx\u001b[0m\u001b[0;34m,\u001b[0m\u001b[0mx\u001b[0m\u001b[0;34m,\u001b[0m\u001b[0mx\u001b[0m\u001b[0;34m)\u001b[0m\u001b[0;34m\u001b[0m\u001b[0;34m\u001b[0m\u001b[0m\n\u001b[0;32m----> 3\u001b[0;31m \u001b[0mb\u001b[0m\u001b[0;34m=\u001b[0m\u001b[0mx_list\u001b[0m\u001b[0;34m.\u001b[0m\u001b[0mgroupby\u001b[0m\u001b[0;34m(\u001b[0m\u001b[0mpd\u001b[0m\u001b[0;34m.\u001b[0m\u001b[0mGrouper\u001b[0m\u001b[0;34m(\u001b[0m\u001b[0mkey\u001b[0m\u001b[0;34m=\u001b[0m\u001b[0;34m'InvoceDate'\u001b[0m\u001b[0;34m,\u001b[0m \u001b[0mfreq\u001b[0m\u001b[0;34m=\u001b[0m\u001b[0;34m'M'\u001b[0m\u001b[0;34m)\u001b[0m\u001b[0;34m)\u001b[0m\u001b[0;34m\u001b[0m\u001b[0;34m\u001b[0m\u001b[0m\n\u001b[0m\u001b[1;32m      4\u001b[0m \u001b[0mb\u001b[0m\u001b[0;34m\u001b[0m\u001b[0;34m\u001b[0m\u001b[0m\n",
            "\u001b[0;31mAttributeError\u001b[0m: 'tuple' object has no attribute 'groupby'"
          ]
        }
      ],
      "source": [
        "x=pd.to_datetime(\"2009-12-01 07:45:00\")\n",
        "x_list=(x,x,x,x)\n",
        "b=x_list.groupby(pd.Grouper(key='InvoceDate', freq='M'))\n",
        "b"
      ]
    },
    {
      "cell_type": "code",
      "execution_count": null,
      "metadata": {
        "colab": {
          "base_uri": "https://localhost:8080/",
          "height": 371
        },
        "id": "N8r-1M-F3nlq",
        "outputId": "53d1bb01-827d-471a-cbf6-df89b7547817"
      },
      "outputs": [
        {
          "ename": "KeyboardInterrupt",
          "evalue": "ignored",
          "output_type": "error",
          "traceback": [
            "\u001b[0;31m---------------------------------------------------------------------------\u001b[0m",
            "\u001b[0;31mKeyboardInterrupt\u001b[0m                         Traceback (most recent call last)",
            "\u001b[0;32m<ipython-input-70-a1a016b9b600>\u001b[0m in \u001b[0;36m<module>\u001b[0;34m\u001b[0m\n\u001b[1;32m      1\u001b[0m \u001b[0;32mfor\u001b[0m \u001b[0mi\u001b[0m \u001b[0;32min\u001b[0m \u001b[0mtop_items\u001b[0m\u001b[0;34m[\u001b[0m\u001b[0;34m\"StockCode\"\u001b[0m\u001b[0;34m]\u001b[0m\u001b[0;34m:\u001b[0m\u001b[0;34m\u001b[0m\u001b[0;34m\u001b[0m\u001b[0m\n\u001b[0;32m----> 2\u001b[0;31m   \u001b[0mdf\u001b[0m\u001b[0;34m.\u001b[0m\u001b[0mloc\u001b[0m\u001b[0;34m[\u001b[0m\u001b[0mdf\u001b[0m\u001b[0;34m[\u001b[0m\u001b[0;34m'StockCode'\u001b[0m\u001b[0;34m]\u001b[0m\u001b[0;34m==\u001b[0m\u001b[0mi\u001b[0m\u001b[0;34m]\u001b[0m\u001b[0;34m\u001b[0m\u001b[0;34m\u001b[0m\u001b[0m\n\u001b[0m\u001b[1;32m      3\u001b[0m \u001b[0;34m\u001b[0m\u001b[0m\n",
            "\u001b[0;32m/usr/local/lib/python3.9/dist-packages/pandas/core/ops/common.py\u001b[0m in \u001b[0;36mnew_method\u001b[0;34m(self, other)\u001b[0m\n\u001b[1;32m     68\u001b[0m         \u001b[0mother\u001b[0m \u001b[0;34m=\u001b[0m \u001b[0mitem_from_zerodim\u001b[0m\u001b[0;34m(\u001b[0m\u001b[0mother\u001b[0m\u001b[0;34m)\u001b[0m\u001b[0;34m\u001b[0m\u001b[0;34m\u001b[0m\u001b[0m\n\u001b[1;32m     69\u001b[0m \u001b[0;34m\u001b[0m\u001b[0m\n\u001b[0;32m---> 70\u001b[0;31m         \u001b[0;32mreturn\u001b[0m \u001b[0mmethod\u001b[0m\u001b[0;34m(\u001b[0m\u001b[0mself\u001b[0m\u001b[0;34m,\u001b[0m \u001b[0mother\u001b[0m\u001b[0;34m)\u001b[0m\u001b[0;34m\u001b[0m\u001b[0;34m\u001b[0m\u001b[0m\n\u001b[0m\u001b[1;32m     71\u001b[0m \u001b[0;34m\u001b[0m\u001b[0m\n\u001b[1;32m     72\u001b[0m     \u001b[0;32mreturn\u001b[0m \u001b[0mnew_method\u001b[0m\u001b[0;34m\u001b[0m\u001b[0;34m\u001b[0m\u001b[0m\n",
            "\u001b[0;32m/usr/local/lib/python3.9/dist-packages/pandas/core/arraylike.py\u001b[0m in \u001b[0;36m__eq__\u001b[0;34m(self, other)\u001b[0m\n\u001b[1;32m     38\u001b[0m     \u001b[0;34m@\u001b[0m\u001b[0munpack_zerodim_and_defer\u001b[0m\u001b[0;34m(\u001b[0m\u001b[0;34m\"__eq__\"\u001b[0m\u001b[0;34m)\u001b[0m\u001b[0;34m\u001b[0m\u001b[0;34m\u001b[0m\u001b[0m\n\u001b[1;32m     39\u001b[0m     \u001b[0;32mdef\u001b[0m \u001b[0m__eq__\u001b[0m\u001b[0;34m(\u001b[0m\u001b[0mself\u001b[0m\u001b[0;34m,\u001b[0m \u001b[0mother\u001b[0m\u001b[0;34m)\u001b[0m\u001b[0;34m:\u001b[0m\u001b[0;34m\u001b[0m\u001b[0;34m\u001b[0m\u001b[0m\n\u001b[0;32m---> 40\u001b[0;31m         \u001b[0;32mreturn\u001b[0m \u001b[0mself\u001b[0m\u001b[0;34m.\u001b[0m\u001b[0m_cmp_method\u001b[0m\u001b[0;34m(\u001b[0m\u001b[0mother\u001b[0m\u001b[0;34m,\u001b[0m \u001b[0moperator\u001b[0m\u001b[0;34m.\u001b[0m\u001b[0meq\u001b[0m\u001b[0;34m)\u001b[0m\u001b[0;34m\u001b[0m\u001b[0;34m\u001b[0m\u001b[0m\n\u001b[0m\u001b[1;32m     41\u001b[0m \u001b[0;34m\u001b[0m\u001b[0m\n\u001b[1;32m     42\u001b[0m     \u001b[0;34m@\u001b[0m\u001b[0munpack_zerodim_and_defer\u001b[0m\u001b[0;34m(\u001b[0m\u001b[0;34m\"__ne__\"\u001b[0m\u001b[0;34m)\u001b[0m\u001b[0;34m\u001b[0m\u001b[0;34m\u001b[0m\u001b[0m\n",
            "\u001b[0;32m/usr/local/lib/python3.9/dist-packages/pandas/core/series.py\u001b[0m in \u001b[0;36m_cmp_method\u001b[0;34m(self, other, op)\u001b[0m\n\u001b[1;32m   5621\u001b[0m \u001b[0;34m\u001b[0m\u001b[0m\n\u001b[1;32m   5622\u001b[0m         \u001b[0;32mwith\u001b[0m \u001b[0mnp\u001b[0m\u001b[0;34m.\u001b[0m\u001b[0merrstate\u001b[0m\u001b[0;34m(\u001b[0m\u001b[0mall\u001b[0m\u001b[0;34m=\u001b[0m\u001b[0;34m\"ignore\"\u001b[0m\u001b[0;34m)\u001b[0m\u001b[0;34m:\u001b[0m\u001b[0;34m\u001b[0m\u001b[0;34m\u001b[0m\u001b[0m\n\u001b[0;32m-> 5623\u001b[0;31m             \u001b[0mres_values\u001b[0m \u001b[0;34m=\u001b[0m \u001b[0mops\u001b[0m\u001b[0;34m.\u001b[0m\u001b[0mcomparison_op\u001b[0m\u001b[0;34m(\u001b[0m\u001b[0mlvalues\u001b[0m\u001b[0;34m,\u001b[0m \u001b[0mrvalues\u001b[0m\u001b[0;34m,\u001b[0m \u001b[0mop\u001b[0m\u001b[0;34m)\u001b[0m\u001b[0;34m\u001b[0m\u001b[0;34m\u001b[0m\u001b[0m\n\u001b[0m\u001b[1;32m   5624\u001b[0m \u001b[0;34m\u001b[0m\u001b[0m\n\u001b[1;32m   5625\u001b[0m         \u001b[0;32mreturn\u001b[0m \u001b[0mself\u001b[0m\u001b[0;34m.\u001b[0m\u001b[0m_construct_result\u001b[0m\u001b[0;34m(\u001b[0m\u001b[0mres_values\u001b[0m\u001b[0;34m,\u001b[0m \u001b[0mname\u001b[0m\u001b[0;34m=\u001b[0m\u001b[0mres_name\u001b[0m\u001b[0;34m)\u001b[0m\u001b[0;34m\u001b[0m\u001b[0;34m\u001b[0m\u001b[0m\n",
            "\u001b[0;32m/usr/local/lib/python3.9/dist-packages/pandas/core/ops/array_ops.py\u001b[0m in \u001b[0;36mcomparison_op\u001b[0;34m(left, right, op)\u001b[0m\n\u001b[1;32m    281\u001b[0m \u001b[0;34m\u001b[0m\u001b[0m\n\u001b[1;32m    282\u001b[0m     \u001b[0;32melif\u001b[0m \u001b[0mis_object_dtype\u001b[0m\u001b[0;34m(\u001b[0m\u001b[0mlvalues\u001b[0m\u001b[0;34m.\u001b[0m\u001b[0mdtype\u001b[0m\u001b[0;34m)\u001b[0m \u001b[0;32mor\u001b[0m \u001b[0misinstance\u001b[0m\u001b[0;34m(\u001b[0m\u001b[0mrvalues\u001b[0m\u001b[0;34m,\u001b[0m \u001b[0mstr\u001b[0m\u001b[0;34m)\u001b[0m\u001b[0;34m:\u001b[0m\u001b[0;34m\u001b[0m\u001b[0;34m\u001b[0m\u001b[0m\n\u001b[0;32m--> 283\u001b[0;31m         \u001b[0mres_values\u001b[0m \u001b[0;34m=\u001b[0m \u001b[0mcomp_method_OBJECT_ARRAY\u001b[0m\u001b[0;34m(\u001b[0m\u001b[0mop\u001b[0m\u001b[0;34m,\u001b[0m \u001b[0mlvalues\u001b[0m\u001b[0;34m,\u001b[0m \u001b[0mrvalues\u001b[0m\u001b[0;34m)\u001b[0m\u001b[0;34m\u001b[0m\u001b[0;34m\u001b[0m\u001b[0m\n\u001b[0m\u001b[1;32m    284\u001b[0m \u001b[0;34m\u001b[0m\u001b[0m\n\u001b[1;32m    285\u001b[0m     \u001b[0;32melse\u001b[0m\u001b[0;34m:\u001b[0m\u001b[0;34m\u001b[0m\u001b[0;34m\u001b[0m\u001b[0m\n",
            "\u001b[0;32m/usr/local/lib/python3.9/dist-packages/pandas/core/ops/array_ops.py\u001b[0m in \u001b[0;36mcomp_method_OBJECT_ARRAY\u001b[0;34m(op, x, y)\u001b[0m\n\u001b[1;32m     71\u001b[0m         \u001b[0mresult\u001b[0m \u001b[0;34m=\u001b[0m \u001b[0mlibops\u001b[0m\u001b[0;34m.\u001b[0m\u001b[0mvec_compare\u001b[0m\u001b[0;34m(\u001b[0m\u001b[0mx\u001b[0m\u001b[0;34m.\u001b[0m\u001b[0mravel\u001b[0m\u001b[0;34m(\u001b[0m\u001b[0;34m)\u001b[0m\u001b[0;34m,\u001b[0m \u001b[0my\u001b[0m\u001b[0;34m.\u001b[0m\u001b[0mravel\u001b[0m\u001b[0;34m(\u001b[0m\u001b[0;34m)\u001b[0m\u001b[0;34m,\u001b[0m \u001b[0mop\u001b[0m\u001b[0;34m)\u001b[0m\u001b[0;34m\u001b[0m\u001b[0;34m\u001b[0m\u001b[0m\n\u001b[1;32m     72\u001b[0m     \u001b[0;32melse\u001b[0m\u001b[0;34m:\u001b[0m\u001b[0;34m\u001b[0m\u001b[0;34m\u001b[0m\u001b[0m\n\u001b[0;32m---> 73\u001b[0;31m         \u001b[0mresult\u001b[0m \u001b[0;34m=\u001b[0m \u001b[0mlibops\u001b[0m\u001b[0;34m.\u001b[0m\u001b[0mscalar_compare\u001b[0m\u001b[0;34m(\u001b[0m\u001b[0mx\u001b[0m\u001b[0;34m.\u001b[0m\u001b[0mravel\u001b[0m\u001b[0;34m(\u001b[0m\u001b[0;34m)\u001b[0m\u001b[0;34m,\u001b[0m \u001b[0my\u001b[0m\u001b[0;34m,\u001b[0m \u001b[0mop\u001b[0m\u001b[0;34m)\u001b[0m\u001b[0;34m\u001b[0m\u001b[0;34m\u001b[0m\u001b[0m\n\u001b[0m\u001b[1;32m     74\u001b[0m     \u001b[0;32mreturn\u001b[0m \u001b[0mresult\u001b[0m\u001b[0;34m.\u001b[0m\u001b[0mreshape\u001b[0m\u001b[0;34m(\u001b[0m\u001b[0mx\u001b[0m\u001b[0;34m.\u001b[0m\u001b[0mshape\u001b[0m\u001b[0;34m)\u001b[0m\u001b[0;34m\u001b[0m\u001b[0;34m\u001b[0m\u001b[0m\n\u001b[1;32m     75\u001b[0m \u001b[0;34m\u001b[0m\u001b[0m\n",
            "\u001b[0;31mKeyboardInterrupt\u001b[0m: "
          ]
        }
      ],
      "source": [
        "for i in top_items[\"StockCode\"]:\n",
        "  x=df.loc[df['StockCode']==i]\n",
        "    for k in range(len(x)):\n",
        "      if x[k].month==1\n",
        "        n.append(1)"
      ]
    },
    {
      "cell_type": "code",
      "execution_count": null,
      "metadata": {
        "id": "9BVonMOjX2zZ"
      },
      "outputs": [],
      "source": [
        "plt.figure(figsize=(10,10))\n",
        "plt.hist(top_items.value_counts(), bins=200)\n",
        "plt.show()"
      ]
    },
    {
      "cell_type": "code",
      "execution_count": null,
      "metadata": {
        "colab": {
          "base_uri": "https://localhost:8080/",
          "height": 294
        },
        "id": "gfp5WlFeXjR9",
        "outputId": "7327c769-dc34-4258-e06c-b1e5763823a8"
      },
      "outputs": [
        {
          "ename": "AttributeError",
          "evalue": "ignored",
          "output_type": "error",
          "traceback": [
            "\u001b[0;31m---------------------------------------------------------------------------\u001b[0m",
            "\u001b[0;31mAttributeError\u001b[0m                            Traceback (most recent call last)",
            "\u001b[0;32m<ipython-input-71-dd104148dafb>\u001b[0m in \u001b[0;36m<module>\u001b[0;34m\u001b[0m\n\u001b[0;32m----> 1\u001b[0;31m \u001b[0mtop_items\u001b[0m\u001b[0;34m.\u001b[0m\u001b[0msorted\u001b[0m\u001b[0;34m(\u001b[0m\u001b[0mascending\u001b[0m\u001b[0;34m=\u001b[0m\u001b[0;32mFalse\u001b[0m\u001b[0;34m)\u001b[0m\u001b[0;34m.\u001b[0m\u001b[0mhead\u001b[0m\u001b[0;34m(\u001b[0m\u001b[0;36m500\u001b[0m\u001b[0;34m)\u001b[0m\u001b[0;34m\u001b[0m\u001b[0;34m\u001b[0m\u001b[0m\n\u001b[0m",
            "\u001b[0;32m/usr/local/lib/python3.9/dist-packages/pandas/core/generic.py\u001b[0m in \u001b[0;36m__getattr__\u001b[0;34m(self, name)\u001b[0m\n\u001b[1;32m   5573\u001b[0m         ):\n\u001b[1;32m   5574\u001b[0m             \u001b[0;32mreturn\u001b[0m \u001b[0mself\u001b[0m\u001b[0;34m[\u001b[0m\u001b[0mname\u001b[0m\u001b[0;34m]\u001b[0m\u001b[0;34m\u001b[0m\u001b[0;34m\u001b[0m\u001b[0m\n\u001b[0;32m-> 5575\u001b[0;31m         \u001b[0;32mreturn\u001b[0m \u001b[0mobject\u001b[0m\u001b[0;34m.\u001b[0m\u001b[0m__getattribute__\u001b[0m\u001b[0;34m(\u001b[0m\u001b[0mself\u001b[0m\u001b[0;34m,\u001b[0m \u001b[0mname\u001b[0m\u001b[0;34m)\u001b[0m\u001b[0;34m\u001b[0m\u001b[0;34m\u001b[0m\u001b[0m\n\u001b[0m\u001b[1;32m   5576\u001b[0m \u001b[0;34m\u001b[0m\u001b[0m\n\u001b[1;32m   5577\u001b[0m     \u001b[0;32mdef\u001b[0m \u001b[0m__setattr__\u001b[0m\u001b[0;34m(\u001b[0m\u001b[0mself\u001b[0m\u001b[0;34m,\u001b[0m \u001b[0mname\u001b[0m\u001b[0;34m:\u001b[0m \u001b[0mstr\u001b[0m\u001b[0;34m,\u001b[0m \u001b[0mvalue\u001b[0m\u001b[0;34m)\u001b[0m \u001b[0;34m->\u001b[0m \u001b[0;32mNone\u001b[0m\u001b[0;34m:\u001b[0m\u001b[0;34m\u001b[0m\u001b[0;34m\u001b[0m\u001b[0m\n",
            "\u001b[0;31mAttributeError\u001b[0m: 'DataFrame' object has no attribute 'sorted'"
          ]
        }
      ],
      "source": [
        "top_items.sorted(ascending=False).head(500)"
      ]
    },
    {
      "cell_type": "code",
      "execution_count": null,
      "metadata": {
        "id": "XyR89bLJRbaV"
      },
      "outputs": [],
      "source": [
        "df['StockCode'].loc[df[\"StockCode\"].value_counts()>500)]"
      ]
    },
    {
      "cell_type": "code",
      "execution_count": null,
      "metadata": {
        "id": "3_YAinvGNer1"
      },
      "outputs": [],
      "source": [
        "meth2_df=df[['InvoiceDate','StockCode','Quantity']]\n",
        "meth2_df.set_index(\"InvoiceDate\",inplace=True)\n",
        "meth2_df.head()"
      ]
    },
    {
      "cell_type": "code",
      "execution_count": null,
      "metadata": {
        "colab": {
          "base_uri": "https://localhost:8080/",
          "height": 169
        },
        "id": "E5dandPq14iO",
        "outputId": "80599c36-76cb-49ce-819a-56c464f86dcb"
      },
      "outputs": [
        {
          "ename": "NameError",
          "evalue": "ignored",
          "output_type": "error",
          "traceback": [
            "\u001b[0;31m---------------------------------------------------------------------------\u001b[0m",
            "\u001b[0;31mNameError\u001b[0m                                 Traceback (most recent call last)",
            "\u001b[0;32m<ipython-input-72-bb44a08eb57c>\u001b[0m in \u001b[0;36m<module>\u001b[0;34m\u001b[0m\n\u001b[0;32m----> 1\u001b[0;31m \u001b[0mtype\u001b[0m\u001b[0;34m(\u001b[0m\u001b[0mmeth2_df\u001b[0m\u001b[0;34m[\u001b[0m\u001b[0;34m'InvoiceDate'\u001b[0m\u001b[0;34m]\u001b[0m\u001b[0;34m[\u001b[0m\u001b[0;36m0\u001b[0m\u001b[0;34m]\u001b[0m\u001b[0;34m)\u001b[0m\u001b[0;34m\u001b[0m\u001b[0;34m\u001b[0m\u001b[0m\n\u001b[0m",
            "\u001b[0;31mNameError\u001b[0m: name 'meth2_df' is not defined"
          ]
        }
      ],
      "source": [
        "type(meth2_df['InvoiceDate'][0])"
      ]
    },
    {
      "cell_type": "markdown",
      "metadata": {
        "id": "mFN41nVwyywk"
      },
      "source": []
    },
    {
      "cell_type": "code",
      "execution_count": null,
      "metadata": {
        "id": "mx7vetDuCnty"
      },
      "outputs": [],
      "source": [
        "meth2_df[\"Month\"]=pd.DatetimeIndex(df[\"InvoiceDate\"]).month\n",
        "meth2_df[\"Month\"].value_counts()"
      ]
    },
    {
      "cell_type": "code",
      "execution_count": null,
      "metadata": {
        "id": "MiXQ09vIWWJ_"
      },
      "outputs": [],
      "source": [
        "meth2_df.loc[df['StockCode']contains ]"
      ]
    },
    {
      "cell_type": "code",
      "execution_count": null,
      "metadata": {
        "id": "cGDb9v9VXadK"
      },
      "outputs": [],
      "source": [
        "stockseries=meth2_df['StockCode']"
      ]
    },
    {
      "cell_type": "code",
      "execution_count": null,
      "metadata": {
        "id": "fWy83_sM90--"
      },
      "outputs": [],
      "source": [
        "months=[12,1,2,3,4,5,6,7,8,9,10,11,12,1,2,3,4,5,6,7,8,9,10,11,12]\n",
        "for i in months:\n",
        "\n",
        "  for i in stockseries:\n",
        "    rows=df.loc[df['StockCode']==i]\n",
        "    date=.to_datetime64()\n",
        "  date=np.datetime64(date, 'M')\n",
        "  date + 1\n",
        "#every step another month is added until the last month is reached.\n",
        "# The totals are then saved as values to a dictionary with Stockseries.index as the keys.\n",
        "\n"
      ]
    },
    {
      "cell_type": "code",
      "execution_count": null,
      "metadata": {
        "colab": {
          "base_uri": "https://localhost:8080/"
        },
        "id": "s3XODQi_9y_A",
        "outputId": "5b1ffede-9074-4707-d899-05287383ba57"
      },
      "outputs": [
        {
          "data": {
            "text/plain": [
              "numpy.datetime64('2009-12-01T07:45:00.000000001')"
            ]
          },
          "execution_count": 189,
          "metadata": {},
          "output_type": "execute_result"
        }
      ],
      "source": [
        "months = [\"Jan\", \"Feb\", \"Mar\", \"Apr\", \"May\", \"Jun\",\n",
        "          \"Jul\", \"Aug\", \"Sep\", \"Oct\", \"Nov\", \"Dec\"]\n",
        "df['months'] = pd.Categorical(df['months'], categories=months, ordered=True)\n",
        "df.sort_values(...)  # same as you have now; can use inplace=True"
      ]
    },
    {
      "cell_type": "markdown",
      "metadata": {
        "id": "DJeSREq2m8Xl"
      },
      "source": [
        "###Deal with Null Values"
      ]
    },
    {
      "cell_type": "code",
      "execution_count": null,
      "metadata": {
        "colab": {
          "base_uri": "https://localhost:8080/"
        },
        "id": "ovbOOfm62H9X",
        "outputId": "344a07fc-f187-48a9-a74e-46579c569abe"
      },
      "outputs": [
        {
          "data": {
            "text/plain": [
              "500"
            ]
          },
          "execution_count": 141,
          "metadata": {},
          "output_type": "execute_result"
        }
      ],
      "source": []
    },
    {
      "cell_type": "code",
      "execution_count": null,
      "metadata": {
        "colab": {
          "base_uri": "https://localhost:8080/",
          "height": 483
        },
        "id": "I98kg7kMIvV9",
        "outputId": "c96622f4-e149-48bf-f98c-c5997beabd9c"
      },
      "outputs": [
        {
          "data": {
            "image/png": "[encoded data removed]",
            "text/plain": [
              "<Figure size 864x576 with 1 Axes>"
            ]
          },
          "metadata": {},
          "output_type": "display_data"
        }
      ],
      "source": [
        "#Found all Missing Customers\n",
        "MissingCustomers=df.loc[df['Customer ID'].isnull()==True]\n",
        "#Distribution of Quantiy Ordered for all Customers\n",
        "fig = plt.subplots(figsize =(12, 8))\n",
        "plt.hist(df['Quantity'], bins=100,range=(-20,50))\n",
        "\n",
        "plt.show()"
      ]
    },
    {
      "cell_type": "code",
      "execution_count": null,
      "metadata": {
        "colab": {
          "base_uri": "https://localhost:8080/",
          "height": 483
        },
        "id": "AmjTgutRMNxg",
        "outputId": "9ba060d2-f0b0-4392-d7c8-23f3b109ac51"
      },
      "outputs": [
        {
          "data": {
            "image/png": "[encoded data removed]",
            "text/plain": [
              "<Figure size 864x576 with 1 Axes>"
            ]
          },
          "metadata": {},
          "output_type": "display_data"
        }
      ],
      "source": [
        "#Distribution of Quantiy Ordered for all Customers\n",
        "fig = plt.subplots(figsize =(12, 8))\n",
        "plt.hist(MissingCustomers['Quantity'], bins=100,range=(-20,50))\n",
        "\n",
        "plt.show()"
      ]
    },
    {
      "cell_type": "code",
      "execution_count": null,
      "metadata": {
        "id": "8VE9oqGJB0ze"
      },
      "outputs": [],
      "source": [
        "known_customers=df.loc[df['Customer ID'].isnull()==False]"
      ]
    },
    {
      "cell_type": "code",
      "execution_count": null,
      "metadata": {
        "colab": {
          "base_uri": "https://localhost:8080/"
        },
        "id": "yPKCI5kOVRdc",
        "outputId": "ebf62428-8286-4716-bd49-855eea185a89"
      },
      "outputs": [
        {
          "data": {
            "text/plain": [
              "7307"
            ]
          },
          "execution_count": 86,
          "metadata": {},
          "output_type": "execute_result"
        }
      ],
      "source": [
        "len(known_customers['Customer ID'].loc[known_customers['Customer ID']==12748.0])"
      ]
    },
    {
      "cell_type": "code",
      "execution_count": null,
      "metadata": {
        "colab": {
          "base_uri": "https://localhost:8080/",
          "height": 169
        },
        "id": "pGwYA-CDTiB-",
        "outputId": "946f88da-baa8-4bc6-f050-8b23caeb835c"
      },
      "outputs": [
        {
          "ename": "TypeError",
          "evalue": "ignored",
          "output_type": "error",
          "traceback": [
            "\u001b[0;31m---------------------------------------------------------------------------\u001b[0m",
            "\u001b[0;31mTypeError\u001b[0m                                 Traceback (most recent call last)",
            "\u001b[0;32m<ipython-input-87-f0c70e7e69ed>\u001b[0m in \u001b[0;36m<module>\u001b[0;34m\u001b[0m\n\u001b[0;32m----> 1\u001b[0;31m \u001b[0mknown_customers\u001b[0m\u001b[0;34m[\u001b[0m\u001b[0;34m'Customer ID'\u001b[0m\u001b[0;34m]\u001b[0m\u001b[0;34m.\u001b[0m\u001b[0mvalue_counts\u001b[0m\u001b[0;34m(\u001b[0m\u001b[0;34m)\u001b[0m\u001b[0;34m.\u001b[0m\u001b[0mindex\u001b[0m\u001b[0;34m(\u001b[0m\u001b[0;34m)\u001b[0m\u001b[0;34m\u001b[0m\u001b[0;34m\u001b[0m\u001b[0m\n\u001b[0m",
            "\u001b[0;31mTypeError\u001b[0m: 'Float64Index' object is not callable"
          ]
        }
      ],
      "source": [
        "known_customers['Customer ID'].value_counts().index()"
      ]
    },
    {
      "cell_type": "code",
      "execution_count": null,
      "metadata": {
        "id": "CHQIAITWTsj-"
      },
      "outputs": [],
      "source": [
        "NonR_customer=[]\n",
        "for i in df['Customer ID'].value_counts().index:\n",
        "  if len(known_customers['Customer ID'].loc[known_customers['Customer ID']==i])>1:\n",
        "    continue\n",
        "  NonR_customer.append(i)"
      ]
    },
    {
      "cell_type": "markdown",
      "metadata": {
        "id": "W2fOCk0zoO9b"
      },
      "source": [
        "#Method 3:Find Repeat Customers and Perform Random Forest Classifier"
      ]
    },
    {
      "cell_type": "code",
      "execution_count": null,
      "metadata": {
        "id": "NU7hMTTaT_dF"
      },
      "outputs": [],
      "source": [
        "Repeat_customer=[]\n",
        "for i in df['Customer ID']:\n",
        "  if i in NonR_customer:\n",
        "    Repeat_customer.append(False)\n",
        "    continue\n",
        "  Repeat_customer.append(True)"
      ]
    },
    {
      "cell_type": "code",
      "execution_count": null,
      "metadata": {
        "colab": {
          "base_uri": "https://localhost:8080/"
        },
        "id": "L2e32Rt-Lqmi",
        "outputId": "54278e40-d08d-4e19-fd24-b4cd02c6d7a3"
      },
      "outputs": [
        {
          "data": {
            "text/plain": [
              "Index(['Invoice', 'StockCode', 'Description', 'Quantity', 'InvoiceDate',\n",
              "       'Price', 'Customer ID', 'Country', 'TotalSpending', 'Repeat_Customer'],\n",
              "      dtype='object')"
            ]
          },
          "execution_count": 90,
          "metadata": {},
          "output_type": "execute_result"
        }
      ],
      "source": [
        "df['Repeat_Customer']=Repeat_customer\n",
        "df.columns"
      ]
    },
    {
      "cell_type": "markdown",
      "metadata": {
        "id": "3CxTN8zOIQWe"
      },
      "source": [
        "###TODO:Replace Country with Ordinal Encoder\n",
        "###TODO:Standardize the values(price, quantitiy)"
      ]
    },
    {
      "cell_type": "code",
      "execution_count": null,
      "metadata": {
        "id": "tUcnu_OtX8jj"
      },
      "outputs": [],
      "source": [
        "#Predict Repeat Customers Using ____  'StockCode', 'Quantity', 'InvoiceDate', 'Price',  'Country',\n",
        "X=df[['StockCode', 'Quantity', 'InvoiceDate', 'Price',  'Country']]\n",
        "y=df['Repeat_Customer']"
      ]
    },
    {
      "cell_type": "code",
      "execution_count": null,
      "metadata": {
        "id": "1HTzLs1LX8HC"
      },
      "outputs": [],
      "source": [
        "X_train,X_test,y_train,y_test=train_test_split(X,y,test_size=.20)"
      ]
    },
    {
      "cell_type": "code",
      "execution_count": null,
      "metadata": {
        "colab": {
          "base_uri": "https://localhost:8080/"
        },
        "id": "Tj8ntJ8WP8dt",
        "outputId": "6803d2a7-7735-4f15-c76e-a9b833ada335"
      },
      "outputs": [
        {
          "data": {
            "text/plain": [
              "0.25000117110280407"
            ]
          },
          "execution_count": 142,
          "metadata": {},
          "output_type": "execute_result"
        }
      ],
      "source": [
        "len(X_test)/len(X_train)"
      ]
    },
    {
      "cell_type": "code",
      "execution_count": null,
      "metadata": {
        "colab": {
          "base_uri": "https://localhost:8080/",
          "height": 126
        },
        "id": "P-RtRRNsd7eM",
        "outputId": "82ec1829-8d76-4f9d-c570-e635b9e1be77"
      },
      "outputs": [
        {
          "data": {
            "text/html": [
              "<style>#sk-container-id-2 {color: black;background-color: white;}#sk-container-id-2 pre{padding: 0;}#sk-container-id-2 div.sk-toggleable {background-color: white;}#sk-container-id-2 label.sk-toggleable__label {cursor: pointer;display: block;width: 100%;margin-bottom: 0;padding: 0.3em;box-sizing: border-box;text-align: center;}#sk-container-id-2 label.sk-toggleable__label-arrow:before {content: \"▸\";float: left;margin-right: 0.25em;color: #696969;}#sk-container-id-2 label.sk-toggleable__label-arrow:hover:before {color: black;}#sk-container-id-2 div.sk-estimator:hover label.sk-toggleable__label-arrow:before {color: black;}#sk-container-id-2 div.sk-toggleable__content {max-height: 0;max-width: 0;overflow: hidden;text-align: left;background-color: #f0f8ff;}#sk-container-id-2 div.sk-toggleable__content pre {margin: 0.2em;color: black;border-radius: 0.25em;background-color: #f0f8ff;}#sk-container-id-2 input.sk-toggleable__control:checked~div.sk-toggleable__content {max-height: 200px;max-width: 100%;overflow: auto;}#sk-container-id-2 input.sk-toggleable__control:checked~label.sk-toggleable__label-arrow:before {content: \"▾\";}#sk-container-id-2 div.sk-estimator input.sk-toggleable__control:checked~label.sk-toggleable__label {background-color: #d4ebff;}#sk-container-id-2 div.sk-label input.sk-toggleable__control:checked~label.sk-toggleable__label {background-color: #d4ebff;}#sk-container-id-2 input.sk-hidden--visually {border: 0;clip: rect(1px 1px 1px 1px);clip: rect(1px, 1px, 1px, 1px);height: 1px;margin: -1px;overflow: hidden;padding: 0;position: absolute;width: 1px;}#sk-container-id-2 div.sk-estimator {font-family: monospace;background-color: #f0f8ff;border: 1px dotted black;border-radius: 0.25em;box-sizing: border-box;margin-bottom: 0.5em;}#sk-container-id-2 div.sk-estimator:hover {background-color: #d4ebff;}#sk-container-id-2 div.sk-parallel-item::after {content: \"\";width: 100%;border-bottom: 1px solid gray;flex-grow: 1;}#sk-container-id-2 div.sk-label:hover label.sk-toggleable__label {background-color: #d4ebff;}#sk-container-id-2 div.sk-serial::before {content: \"\";position: absolute;border-left: 1px solid gray;box-sizing: border-box;top: 0;bottom: 0;left: 50%;z-index: 0;}#sk-container-id-2 div.sk-serial {display: flex;flex-direction: column;align-items: center;background-color: white;padding-right: 0.2em;padding-left: 0.2em;position: relative;}#sk-container-id-2 div.sk-item {position: relative;z-index: 1;}#sk-container-id-2 div.sk-parallel {display: flex;align-items: stretch;justify-content: center;background-color: white;position: relative;}#sk-container-id-2 div.sk-item::before, #sk-container-id-2 div.sk-parallel-item::before {content: \"\";position: absolute;border-left: 1px solid gray;box-sizing: border-box;top: 0;bottom: 0;left: 50%;z-index: -1;}#sk-container-id-2 div.sk-parallel-item {display: flex;flex-direction: column;z-index: 1;position: relative;background-color: white;}#sk-container-id-2 div.sk-parallel-item:first-child::after {align-self: flex-end;width: 50%;}#sk-container-id-2 div.sk-parallel-item:last-child::after {align-self: flex-start;width: 50%;}#sk-container-id-2 div.sk-parallel-item:only-child::after {width: 0;}#sk-container-id-2 div.sk-dashed-wrapped {border: 1px dashed gray;margin: 0 0.4em 0.5em 0.4em;box-sizing: border-box;padding-bottom: 0.4em;background-color: white;}#sk-container-id-2 div.sk-label label {font-family: monospace;font-weight: bold;display: inline-block;line-height: 1.2em;}#sk-container-id-2 div.sk-label-container {text-align: center;}#sk-container-id-2 div.sk-container {/* jupyter's `normalize.less` sets `[hidden] { display: none; }` but bootstrap.min.css set `[hidden] { display: none !important; }` so we also need the `!important` here to be able to override the default hidden behavior on the sphinx rendered scikit-learn.org. See: https://github.com/scikit-learn/scikit-learn/issues/21755 */display: inline-block !important;position: relative;}#sk-container-id-2 div.sk-text-repr-fallback {display: none;}</style><div id=\"sk-container-id-2\" class=\"sk-top-container\"><div class=\"sk-text-repr-fallback\"><pre>Pipeline(steps=[(&#x27;ordinalencoder&#x27;,\n",
              "                 OrdinalEncoder(handle_unknown=&#x27;use_encoded_value&#x27;,\n",
              "                                unknown_value=-1)),\n",
              "                (&#x27;randomforestclassifier&#x27;, RandomForestClassifier())])</pre><b>In a Jupyter environment, please rerun this cell to show the HTML representation or trust the notebook. <br />On GitHub, the HTML representation is unable to render, please try loading this page with nbviewer.org.</b></div><div class=\"sk-container\" hidden><div class=\"sk-item sk-dashed-wrapped\"><div class=\"sk-label-container\"><div class=\"sk-label sk-toggleable\"><input class=\"sk-toggleable__control sk-hidden--visually\" id=\"sk-estimator-id-4\" type=\"checkbox\" ><label for=\"sk-estimator-id-4\" class=\"sk-toggleable__label sk-toggleable__label-arrow\">Pipeline</label><div class=\"sk-toggleable__content\"><pre>Pipeline(steps=[(&#x27;ordinalencoder&#x27;,\n",
              "                 OrdinalEncoder(handle_unknown=&#x27;use_encoded_value&#x27;,\n",
              "                                unknown_value=-1)),\n",
              "                (&#x27;randomforestclassifier&#x27;, RandomForestClassifier())])</pre></div></div></div><div class=\"sk-serial\"><div class=\"sk-item\"><div class=\"sk-estimator sk-toggleable\"><input class=\"sk-toggleable__control sk-hidden--visually\" id=\"sk-estimator-id-5\" type=\"checkbox\" ><label for=\"sk-estimator-id-5\" class=\"sk-toggleable__label sk-toggleable__label-arrow\">OrdinalEncoder</label><div class=\"sk-toggleable__content\"><pre>OrdinalEncoder(handle_unknown=&#x27;use_encoded_value&#x27;, unknown_value=-1)</pre></div></div></div><div class=\"sk-item\"><div class=\"sk-estimator sk-toggleable\"><input class=\"sk-toggleable__control sk-hidden--visually\" id=\"sk-estimator-id-6\" type=\"checkbox\" ><label for=\"sk-estimator-id-6\" class=\"sk-toggleable__label sk-toggleable__label-arrow\">RandomForestClassifier</label><div class=\"sk-toggleable__content\"><pre>RandomForestClassifier()</pre></div></div></div></div></div></div></div>"
            ],
            "text/plain": [
              "Pipeline(steps=[('ordinalencoder',\n",
              "                 OrdinalEncoder(handle_unknown='use_encoded_value',\n",
              "                                unknown_value=-1)),\n",
              "                ('randomforestclassifier', RandomForestClassifier())])"
            ]
          },
          "execution_count": 109,
          "metadata": {},
          "output_type": "execute_result"
        }
      ],
      "source": [
        "#Encode StockCode\n",
        "from sklearn.preprocessing import OrdinalEncoder\n",
        "from sklearn.pipeline import make_pipeline\n",
        "from sklearn.ensemble import RandomForestClassifier\n",
        "\n",
        "Pipe=make_pipeline(OrdinalEncoder(handle_unknown='use_encoded_value',unknown_value=-1),RandomForestClassifier())\n",
        "Pipe.fit(X_train,y_train)\n",
        "#df['StockCode']=Ord.transform(df['StockCode'])\n",
        "#df['Country']=Ord.tranform(df['Country'])"
      ]
    },
    {
      "cell_type": "code",
      "execution_count": null,
      "metadata": {
        "colab": {
          "base_uri": "https://localhost:8080/"
        },
        "id": "d6fCz6ZVcvDi",
        "outputId": "95a9f9b9-97dd-4724-f5e3-b1dac1abbf46"
      },
      "outputs": [
        {
          "name": "stdout",
          "output_type": "stream",
          "text": [
            "0.9998454151539993\n"
          ]
        }
      ],
      "source": [
        "print(Pipe.score(X_test,y_test))"
      ]
    },
    {
      "cell_type": "code",
      "execution_count": null,
      "metadata": {
        "id": "7lvFzLERvG79"
      },
      "outputs": [],
      "source": [
        "from sklearn.metrics import f1_score"
      ]
    },
    {
      "cell_type": "code",
      "execution_count": null,
      "metadata": {
        "colab": {
          "base_uri": "https://localhost:8080/"
        },
        "id": "6qc8mZ2vvpuN",
        "outputId": "de90d44d-d28c-4f95-a761-37c11fa562b5"
      },
      "outputs": [
        {
          "data": {
            "text/plain": [
              "0.9999227005160326"
            ]
          },
          "execution_count": 125,
          "metadata": {},
          "output_type": "execute_result"
        }
      ],
      "source": [
        "f1_score(y_test,Pipe.predict(X_test))"
      ]
    },
    {
      "cell_type": "code",
      "execution_count": null,
      "metadata": {
        "id": "iozQah3nv0Ed"
      },
      "outputs": [],
      "source": [
        "from sklearn.metrics import classification_report"
      ]
    },
    {
      "cell_type": "code",
      "execution_count": null,
      "metadata": {
        "colab": {
          "base_uri": "https://localhost:8080/"
        },
        "id": "9zJDbsTXv-cK",
        "outputId": "1d46e087-2bf6-4512-d71a-ee4896a20628"
      },
      "outputs": [
        {
          "name": "stdout",
          "output_type": "stream",
          "text": [
            "              precision    recall  f1-score   support\n",
            "\n",
            "       False       0.60      0.09      0.15        34\n",
            "        True       1.00      1.00      1.00    213441\n",
            "\n",
            "    accuracy                           1.00    213475\n",
            "   macro avg       0.80      0.54      0.58    213475\n",
            "weighted avg       1.00      1.00      1.00    213475\n",
            "\n"
          ]
        }
      ],
      "source": [
        "print(classification_report(y_test,Pipe.predict(X_test)))"
      ]
    },
    {
      "cell_type": "markdown",
      "metadata": {
        "id": "29FOL32SwfiN"
      },
      "source": [
        "###From the data, we can see that a grand majority of customers are returning customers. Churn is extremly low."
      ]
    },
    {
      "cell_type": "code",
      "execution_count": null,
      "metadata": {
        "id": "uJEskF1Ktm_o"
      },
      "outputs": [],
      "source": []
    },
    {
      "cell_type": "markdown",
      "source": [
        "#Method 6: Multiple Linear Regression"
      ],
      "metadata": {
        "id": "Fw5Ry8iRWXon"
      }
    },
    {
      "cell_type": "code",
      "source": [
        "!pip install pystan~=2.14\n",
        "!pip install fbprophet"
      ],
      "metadata": {
        "id": "3tIJlt08WcGw"
      },
      "execution_count": null,
      "outputs": []
    },
    {
      "cell_type": "code",
      "source": [
        "from fbprophet import Prophet"
      ],
      "metadata": {
        "colab": {
          "base_uri": "https://localhost:8080/",
          "height": 314
        },
        "id": "R-bcdid5ZTCd",
        "outputId": "5ad8d8ee-5312-424f-a932-8fee1c2222b9"
      },
      "execution_count": null,
      "outputs": [
        {
          "output_type": "error",
          "ename": "ModuleNotFoundError",
          "evalue": "ignored",
          "traceback": [
            "\u001b[0;31m---------------------------------------------------------------------------\u001b[0m",
            "\u001b[0;31mModuleNotFoundError\u001b[0m                       Traceback (most recent call last)",
            "\u001b[0;32m<ipython-input-17-f503e9c6cf11>\u001b[0m in \u001b[0;36m<cell line: 1>\u001b[0;34m()\u001b[0m\n\u001b[0;32m----> 1\u001b[0;31m \u001b[0;32mfrom\u001b[0m \u001b[0mfbprophet\u001b[0m \u001b[0;32mimport\u001b[0m \u001b[0mProphet\u001b[0m\u001b[0;34m\u001b[0m\u001b[0;34m\u001b[0m\u001b[0m\n\u001b[0m",
            "\u001b[0;31mModuleNotFoundError\u001b[0m: No module named 'fbprophet'",
            "",
            "\u001b[0;31m---------------------------------------------------------------------------\u001b[0;32m\nNOTE: If your import is failing due to a missing package, you can\nmanually install dependencies using either !pip or !apt.\n\nTo view examples of installing some common dependencies, click the\n\"Open Examples\" button below.\n\u001b[0;31m---------------------------------------------------------------------------\u001b[0m\n"
          ],
          "errorDetails": {
            "actions": [
              {
                "action": "open_url",
                "actionText": "Open Examples",
                "url": "/notebooks/snippets/importing_libraries.ipynb"
              }
            ]
          }
        }
      ]
    },
    {
      "cell_type": "code",
      "source": [
        "# Import necessary libraries\n",
        "import pandas as pd\n",
        "import matplotlib.pyplot as plt\n",
        "import statsmodels.api as sm\n",
        "\n",
        "# Set the date column as the index of the dataframe\n",
        "df.set_index('date', inplace=True)\n",
        "\n",
        "# Decompose the time series into trend, seasonality, and residuals using statsmodels\n",
        "decomposition = sm.tsa.seasonal_decompose(df, model='additive')\n",
        "\n",
        "# Plot the original time series and the decomposed components\n",
        "fig, (ax1, ax2, ax3, ax4) = plt.subplots(4, 1, figsize=(12, 8))\n",
        "ax1.plot(df)\n",
        "ax1.set_title('Original Time Series')\n",
        "ax2.plot(decomposition.trend)\n",
        "ax2.set_title('Trend')\n",
        "ax3.plot(decomposition.seasonal)\n",
        "ax3.set_title('Seasonality')\n",
        "ax4.plot(decomposition.resid)\n",
        "ax4.set_title('Residuals')\n",
        "\n",
        "# Show the plot\n",
        "plt.show()"
      ],
      "metadata": {
        "id": "VPJOCv7BZ3qv"
      },
      "execution_count": null,
      "outputs": []
    },
    {
      "cell_type": "code",
      "source": [],
      "metadata": {
        "id": "M3cEQ4Hd6XOL"
      },
      "execution_count": null,
      "outputs": []
    },
    {
      "cell_type": "code",
      "source": [
        "#LEAST ORDINARY SQUARES\n",
        "# Libraries for R^2 visualization\n",
        "from ipywidgets import interactive, IntSlider, FloatSlider\n",
        "from math import floor, ceil\n",
        "from sklearn.base import BaseEstimator, RegressorMixin\n",
        "\n",
        "# Libraries for model building\n",
        "from sklearn.linear_model import LinearRegression\n",
        "from sklearn.metrics import mean_absolute_error, mean_squared_error, r2_score\n",
        "from sklearn.model_selection import train_test_split\n",
        "\n",
        "from category_encoders import OrdinalEncoder\n",
        "\n",
        "import matplotlib.pyplot as plt\n",
        "import numpy as np\n",
        "import pandas as pd"
      ],
      "metadata": {
        "id": "Zyccju2Czl88"
      },
      "execution_count": null,
      "outputs": []
    },
    {
      "cell_type": "code",
      "source": [
        "target ='Quantity'\n",
        "X = known_df.drop(columns = target, axis = 1)\n",
        "y = known_df[target]"
      ],
      "metadata": {
        "id": "xZrig_T_Xkj4"
      },
      "execution_count": null,
      "outputs": []
    },
    {
      "cell_type": "code",
      "source": [
        "X_train, X_test, y_train, y_test=train_test_split(X,y, test_size=0.2,random_state=42)"
      ],
      "metadata": {
        "id": "_W4blLiYzWxZ"
      },
      "execution_count": null,
      "outputs": []
    },
    {
      "cell_type": "code",
      "source": [
        "# Providing the mean of our target we can have a baseline we always work with our train data & leave the test data for the end.\n",
        "y_pred_baseline = [y_train.mean()] * len(y_train)\n",
        "baseline_mae = mean_absolute_error(y_train, y_pred_baseline)\n",
        "\n",
        "print('Quantity:', y_train.mean())\n",
        "print('Baseline MAE:', baseline_mae)"
      ],
      "metadata": {
        "colab": {
          "base_uri": "https://localhost:8080/"
        },
        "id": "RPUQ3BrW1h6H",
        "outputId": "31310c22-45a1-4019-c3da-fa0a29009a2e"
      },
      "execution_count": null,
      "outputs": [
        {
          "output_type": "stream",
          "name": "stdout",
          "text": [
            "Quantity: 12.501427616146392\n",
            "Baseline MAE: 13.791227331755492\n"
          ]
        }
      ]
    },
    {
      "cell_type": "code",
      "source": [
        "#Fitting\n",
        "model=LinearRegression()\n",
        "model.fit(X_train,y_train)"
      ],
      "metadata": {
        "colab": {
          "base_uri": "https://localhost:8080/",
          "height": 74
        },
        "id": "ocNpgu611hW1",
        "outputId": "5a6475b2-50d9-424a-ad7e-d2dc277bdf5b"
      },
      "execution_count": null,
      "outputs": [
        {
          "output_type": "execute_result",
          "data": {
            "text/plain": [
              "LinearRegression()"
            ],
            "text/html": [
              "<style>#sk-container-id-1 {color: black;background-color: white;}#sk-container-id-1 pre{padding: 0;}#sk-container-id-1 div.sk-toggleable {background-color: white;}#sk-container-id-1 label.sk-toggleable__label {cursor: pointer;display: block;width: 100%;margin-bottom: 0;padding: 0.3em;box-sizing: border-box;text-align: center;}#sk-container-id-1 label.sk-toggleable__label-arrow:before {content: \"▸\";float: left;margin-right: 0.25em;color: #696969;}#sk-container-id-1 label.sk-toggleable__label-arrow:hover:before {color: black;}#sk-container-id-1 div.sk-estimator:hover label.sk-toggleable__label-arrow:before {color: black;}#sk-container-id-1 div.sk-toggleable__content {max-height: 0;max-width: 0;overflow: hidden;text-align: left;background-color: #f0f8ff;}#sk-container-id-1 div.sk-toggleable__content pre {margin: 0.2em;color: black;border-radius: 0.25em;background-color: #f0f8ff;}#sk-container-id-1 input.sk-toggleable__control:checked~div.sk-toggleable__content {max-height: 200px;max-width: 100%;overflow: auto;}#sk-container-id-1 input.sk-toggleable__control:checked~label.sk-toggleable__label-arrow:before {content: \"▾\";}#sk-container-id-1 div.sk-estimator input.sk-toggleable__control:checked~label.sk-toggleable__label {background-color: #d4ebff;}#sk-container-id-1 div.sk-label input.sk-toggleable__control:checked~label.sk-toggleable__label {background-color: #d4ebff;}#sk-container-id-1 input.sk-hidden--visually {border: 0;clip: rect(1px 1px 1px 1px);clip: rect(1px, 1px, 1px, 1px);height: 1px;margin: -1px;overflow: hidden;padding: 0;position: absolute;width: 1px;}#sk-container-id-1 div.sk-estimator {font-family: monospace;background-color: #f0f8ff;border: 1px dotted black;border-radius: 0.25em;box-sizing: border-box;margin-bottom: 0.5em;}#sk-container-id-1 div.sk-estimator:hover {background-color: #d4ebff;}#sk-container-id-1 div.sk-parallel-item::after {content: \"\";width: 100%;border-bottom: 1px solid gray;flex-grow: 1;}#sk-container-id-1 div.sk-label:hover label.sk-toggleable__label {background-color: #d4ebff;}#sk-container-id-1 div.sk-serial::before {content: \"\";position: absolute;border-left: 1px solid gray;box-sizing: border-box;top: 0;bottom: 0;left: 50%;z-index: 0;}#sk-container-id-1 div.sk-serial {display: flex;flex-direction: column;align-items: center;background-color: white;padding-right: 0.2em;padding-left: 0.2em;position: relative;}#sk-container-id-1 div.sk-item {position: relative;z-index: 1;}#sk-container-id-1 div.sk-parallel {display: flex;align-items: stretch;justify-content: center;background-color: white;position: relative;}#sk-container-id-1 div.sk-item::before, #sk-container-id-1 div.sk-parallel-item::before {content: \"\";position: absolute;border-left: 1px solid gray;box-sizing: border-box;top: 0;bottom: 0;left: 50%;z-index: -1;}#sk-container-id-1 div.sk-parallel-item {display: flex;flex-direction: column;z-index: 1;position: relative;background-color: white;}#sk-container-id-1 div.sk-parallel-item:first-child::after {align-self: flex-end;width: 50%;}#sk-container-id-1 div.sk-parallel-item:last-child::after {align-self: flex-start;width: 50%;}#sk-container-id-1 div.sk-parallel-item:only-child::after {width: 0;}#sk-container-id-1 div.sk-dashed-wrapped {border: 1px dashed gray;margin: 0 0.4em 0.5em 0.4em;box-sizing: border-box;padding-bottom: 0.4em;background-color: white;}#sk-container-id-1 div.sk-label label {font-family: monospace;font-weight: bold;display: inline-block;line-height: 1.2em;}#sk-container-id-1 div.sk-label-container {text-align: center;}#sk-container-id-1 div.sk-container {/* jupyter's `normalize.less` sets `[hidden] { display: none; }` but bootstrap.min.css set `[hidden] { display: none !important; }` so we also need the `!important` here to be able to override the default hidden behavior on the sphinx rendered scikit-learn.org. See: https://github.com/scikit-learn/scikit-learn/issues/21755 */display: inline-block !important;position: relative;}#sk-container-id-1 div.sk-text-repr-fallback {display: none;}</style><div id=\"sk-container-id-1\" class=\"sk-top-container\"><div class=\"sk-text-repr-fallback\"><pre>LinearRegression()</pre><b>In a Jupyter environment, please rerun this cell to show the HTML representation or trust the notebook. <br />On GitHub, the HTML representation is unable to render, please try loading this page with nbviewer.org.</b></div><div class=\"sk-container\" hidden><div class=\"sk-item\"><div class=\"sk-estimator sk-toggleable\"><input class=\"sk-toggleable__control sk-hidden--visually\" id=\"sk-estimator-id-1\" type=\"checkbox\" checked><label for=\"sk-estimator-id-1\" class=\"sk-toggleable__label sk-toggleable__label-arrow\">LinearRegression</label><div class=\"sk-toggleable__content\"><pre>LinearRegression()</pre></div></div></div></div></div>"
            ]
          },
          "metadata": {},
          "execution_count": 175
        }
      ]
    },
    {
      "cell_type": "code",
      "source": [
        "#MAE Accuracy Score\n",
        "print('Training MAE:', mean_absolute_error(y_train, model.predict(X_train)))\n",
        "print('Test MAE:', mean_absolute_error(y_test, model.predict(X_test)))"
      ],
      "metadata": {
        "id": "jaY4LGdy2BR7",
        "colab": {
          "base_uri": "https://localhost:8080/"
        },
        "outputId": "74345448-390b-4d75-d55f-f4b88d0e9a5c"
      },
      "execution_count": null,
      "outputs": [
        {
          "output_type": "stream",
          "name": "stdout",
          "text": [
            "Training MAE: 13.76784341359538\n",
            "Test MAE: 13.8290638389274\n"
          ]
        }
      ]
    },
    {
      "cell_type": "code",
      "source": [
        "# Training RMSE\n",
        "print('Training R-Squared:', r2_score(y_train, model.predict(X_train)))\n",
        "\n",
        "# Test RMSE\n",
        "print('Test R-Squared:', r2_score(y_test, model.predict(X_test)))"
      ],
      "metadata": {
        "colab": {
          "base_uri": "https://localhost:8080/"
        },
        "id": "V35FVi4W8SBV",
        "outputId": "adb3c1e0-9e84-4511-d4e4-6200bdb7f02e"
      },
      "execution_count": null,
      "outputs": [
        {
          "output_type": "stream",
          "name": "stdout",
          "text": [
            "Training R-Squared: 0.0002906756769159857\n",
            "Test R-Squared: 0.00027442299073199283\n"
          ]
        }
      ]
    },
    {
      "cell_type": "code",
      "source": [
        "# Coefficient with the most value allways is the absolut value of our coefficient in this case is the [0]\n",
        "print('The coefficient for Stock Code is:', model.coef_[0])\n",
        "print('The coefficient for Price is:', model.coef_[1])\n",
        "print('The coefficient for Customer ID is:', model.coef_[2])\n",
        "print('The coefficient for Country is:', model.coef_[3])\n",
        "# Intercept\n",
        "#print('The intercep for our model is:', model.intercept_)"
      ],
      "metadata": {
        "colab": {
          "base_uri": "https://localhost:8080/"
        },
        "id": "vwxyrVqb9Aas",
        "outputId": "fd4d8d8a-3c39-43c1-f6e7-0f79bb6d411f"
      },
      "execution_count": null,
      "outputs": [
        {
          "output_type": "stream",
          "name": "stdout",
          "text": [
            "The coefficient for Stock Code is: -0.0005397158253787512\n",
            "The coefficient for Price is: -0.005086663531309533\n",
            "The coefficient for Customer ID is: -0.00020597254245604234\n",
            "The coefficient for Country is: 0.8475541238402394\n"
          ]
        }
      ]
    },
    {
      "cell_type": "markdown",
      "source": [
        "#Ridge Regression"
      ],
      "metadata": {
        "id": "-Ksj3knWlFaf"
      }
    },
    {
      "cell_type": "code",
      "source": [
        "known_df[\"avg_price_30d\"]=known_df[\"Price\"].rolling(window=30).mean()\n",
        "\n",
        "known_df[\"avg_price_90d\"]=known_df[\"Price\"].rolling(window=90).mean()\n",
        "\n",
        "known_df[\"avg_price_1y\"]=known_df[\"Price\"].rolling(window=252).mean()\n",
        "known_df.dropna(inplace=True)"
      ],
      "metadata": {
        "id": "HryvcjRqxD-e"
      },
      "execution_count": null,
      "outputs": []
    },
    {
      "cell_type": "code",
      "source": [
        "known_df[\"avg_quant_30d\"]=known_df[\"Quantity\"].rolling(window=30).std()\n",
        "\n",
        "known_df[\"avg_quant_90d\"]=known_df[\"Quantity\"].rolling(window=90).std()\n",
        "\n",
        "known_df[\"avg_quant_1y\"]=known_df[\"Quantity\"].rolling(window=252).std()\n",
        "known_df.dropna(inplace=True)"
      ],
      "metadata": {
        "id": "5FzKzwb5xfbo"
      },
      "execution_count": null,
      "outputs": []
    },
    {
      "cell_type": "code",
      "source": [
        "known_df"
      ],
      "metadata": {
        "colab": {
          "base_uri": "https://localhost:8080/",
          "height": 455
        },
        "id": "QhKcKlg4xb7q",
        "outputId": "0558fd2b-fe30-46c0-c6f8-acef3264ebf1"
      },
      "execution_count": null,
      "outputs": [
        {
          "output_type": "execute_result",
          "data": {
            "text/plain": [
              "                     StockCode  Quantity  Price  Customer ID  Country  \\\n",
              "InvoiceDate                                                             \n",
              "2009-12-01 13:07:00        757         1   5.95      17998.0        1   \n",
              "2009-12-01 13:07:00        758         1   5.95      17998.0        1   \n",
              "2009-12-01 13:07:00        759         1   3.75      17998.0        1   \n",
              "2009-12-01 13:07:00        760         2   5.95      17998.0        1   \n",
              "2009-12-01 13:07:00        761        24   0.42      17998.0        1   \n",
              "...                        ...       ...    ...          ...      ...   \n",
              "2011-12-09 12:50:00       4444         6   2.10      12680.0        2   \n",
              "2011-12-09 12:50:00       4718         4   4.15      12680.0        2   \n",
              "2011-12-09 12:50:00       4720         4   4.15      12680.0        2   \n",
              "2011-12-09 12:50:00         72         3   4.95      12680.0        2   \n",
              "2011-12-09 12:50:00         87         1  18.00      12680.0        2   \n",
              "\n",
              "                     avg_price_30d  avg_price_90d  avg_price_1y  \\\n",
              "InvoiceDate                                                       \n",
              "2009-12-01 13:07:00       5.657000       2.704556      3.206151   \n",
              "2009-12-01 13:07:00       5.827000       2.693444      3.214881   \n",
              "2009-12-01 13:07:00       5.930333       2.731000      3.170437   \n",
              "2009-12-01 13:07:00       6.080333       2.787667      3.174405   \n",
              "2009-12-01 13:07:00       6.029333       2.782889      3.156429   \n",
              "...                            ...            ...           ...   \n",
              "2011-12-09 12:50:00       2.695333       2.310000      2.793056   \n",
              "2011-12-09 12:50:00       2.805333       2.328444      2.803770   \n",
              "2011-12-09 12:50:00       2.802000       2.341778      2.815278   \n",
              "2011-12-09 12:50:00       2.768667       2.364000      2.825040   \n",
              "2011-12-09 12:50:00       3.243667       2.550111      2.881587   \n",
              "\n",
              "                     avg_quant_30d  avg_quant_90d  avg_quant_1y  \n",
              "InvoiceDate                                                      \n",
              "2009-12-01 13:07:00       5.575398      48.605400     32.930536  \n",
              "2009-12-01 13:07:00       5.575398      48.643683     32.936092  \n",
              "2009-12-01 13:07:00       5.575398      39.530288     32.936092  \n",
              "2009-12-01 13:07:00       5.569312      38.390718     32.937322  \n",
              "2009-12-01 13:07:00       6.802298      25.324057     32.939323  \n",
              "...                            ...            ...           ...  \n",
              "2011-12-09 12:50:00       6.926876      12.077987     17.506651  \n",
              "2011-12-09 12:50:00       6.572671      12.108462     17.500661  \n",
              "2011-12-09 12:50:00       6.572671      12.138202     17.494661  \n",
              "2011-12-09 12:50:00       6.572671      12.174942     17.490427  \n",
              "2011-12-09 12:50:00       6.774615      12.158776     17.490427  \n",
              "\n",
              "[823080 rows x 11 columns]"
            ],
            "text/html": [
              "\n",
              "  <div id=\"df-69056ff4-a298-40d5-99ae-d3b3fa14fd5a\">\n",
              "    <div class=\"colab-df-container\">\n",
              "      <div>\n",
              "<style scoped>\n",
              "    .dataframe tbody tr th:only-of-type {\n",
              "        vertical-align: middle;\n",
              "    }\n",
              "\n",
              "    .dataframe tbody tr th {\n",
              "        vertical-align: top;\n",
              "    }\n",
              "\n",
              "    .dataframe thead th {\n",
              "        text-align: right;\n",
              "    }\n",
              "</style>\n",
              "<table border=\"1\" class=\"dataframe\">\n",
              "  <thead>\n",
              "    <tr style=\"text-align: right;\">\n",
              "      <th></th>\n",
              "      <th>StockCode</th>\n",
              "      <th>Quantity</th>\n",
              "      <th>Price</th>\n",
              "      <th>Customer ID</th>\n",
              "      <th>Country</th>\n",
              "      <th>avg_price_30d</th>\n",
              "      <th>avg_price_90d</th>\n",
              "      <th>avg_price_1y</th>\n",
              "      <th>avg_quant_30d</th>\n",
              "      <th>avg_quant_90d</th>\n",
              "      <th>avg_quant_1y</th>\n",
              "    </tr>\n",
              "    <tr>\n",
              "      <th>InvoiceDate</th>\n",
              "      <th></th>\n",
              "      <th></th>\n",
              "      <th></th>\n",
              "      <th></th>\n",
              "      <th></th>\n",
              "      <th></th>\n",
              "      <th></th>\n",
              "      <th></th>\n",
              "      <th></th>\n",
              "      <th></th>\n",
              "      <th></th>\n",
              "    </tr>\n",
              "  </thead>\n",
              "  <tbody>\n",
              "    <tr>\n",
              "      <th>2009-12-01 13:07:00</th>\n",
              "      <td>757</td>\n",
              "      <td>1</td>\n",
              "      <td>5.95</td>\n",
              "      <td>17998.0</td>\n",
              "      <td>1</td>\n",
              "      <td>5.657000</td>\n",
              "      <td>2.704556</td>\n",
              "      <td>3.206151</td>\n",
              "      <td>5.575398</td>\n",
              "      <td>48.605400</td>\n",
              "      <td>32.930536</td>\n",
              "    </tr>\n",
              "    <tr>\n",
              "      <th>2009-12-01 13:07:00</th>\n",
              "      <td>758</td>\n",
              "      <td>1</td>\n",
              "      <td>5.95</td>\n",
              "      <td>17998.0</td>\n",
              "      <td>1</td>\n",
              "      <td>5.827000</td>\n",
              "      <td>2.693444</td>\n",
              "      <td>3.214881</td>\n",
              "      <td>5.575398</td>\n",
              "      <td>48.643683</td>\n",
              "      <td>32.936092</td>\n",
              "    </tr>\n",
              "    <tr>\n",
              "      <th>2009-12-01 13:07:00</th>\n",
              "      <td>759</td>\n",
              "      <td>1</td>\n",
              "      <td>3.75</td>\n",
              "      <td>17998.0</td>\n",
              "      <td>1</td>\n",
              "      <td>5.930333</td>\n",
              "      <td>2.731000</td>\n",
              "      <td>3.170437</td>\n",
              "      <td>5.575398</td>\n",
              "      <td>39.530288</td>\n",
              "      <td>32.936092</td>\n",
              "    </tr>\n",
              "    <tr>\n",
              "      <th>2009-12-01 13:07:00</th>\n",
              "      <td>760</td>\n",
              "      <td>2</td>\n",
              "      <td>5.95</td>\n",
              "      <td>17998.0</td>\n",
              "      <td>1</td>\n",
              "      <td>6.080333</td>\n",
              "      <td>2.787667</td>\n",
              "      <td>3.174405</td>\n",
              "      <td>5.569312</td>\n",
              "      <td>38.390718</td>\n",
              "      <td>32.937322</td>\n",
              "    </tr>\n",
              "    <tr>\n",
              "      <th>2009-12-01 13:07:00</th>\n",
              "      <td>761</td>\n",
              "      <td>24</td>\n",
              "      <td>0.42</td>\n",
              "      <td>17998.0</td>\n",
              "      <td>1</td>\n",
              "      <td>6.029333</td>\n",
              "      <td>2.782889</td>\n",
              "      <td>3.156429</td>\n",
              "      <td>6.802298</td>\n",
              "      <td>25.324057</td>\n",
              "      <td>32.939323</td>\n",
              "    </tr>\n",
              "    <tr>\n",
              "      <th>...</th>\n",
              "      <td>...</td>\n",
              "      <td>...</td>\n",
              "      <td>...</td>\n",
              "      <td>...</td>\n",
              "      <td>...</td>\n",
              "      <td>...</td>\n",
              "      <td>...</td>\n",
              "      <td>...</td>\n",
              "      <td>...</td>\n",
              "      <td>...</td>\n",
              "      <td>...</td>\n",
              "    </tr>\n",
              "    <tr>\n",
              "      <th>2011-12-09 12:50:00</th>\n",
              "      <td>4444</td>\n",
              "      <td>6</td>\n",
              "      <td>2.10</td>\n",
              "      <td>12680.0</td>\n",
              "      <td>2</td>\n",
              "      <td>2.695333</td>\n",
              "      <td>2.310000</td>\n",
              "      <td>2.793056</td>\n",
              "      <td>6.926876</td>\n",
              "      <td>12.077987</td>\n",
              "      <td>17.506651</td>\n",
              "    </tr>\n",
              "    <tr>\n",
              "      <th>2011-12-09 12:50:00</th>\n",
              "      <td>4718</td>\n",
              "      <td>4</td>\n",
              "      <td>4.15</td>\n",
              "      <td>12680.0</td>\n",
              "      <td>2</td>\n",
              "      <td>2.805333</td>\n",
              "      <td>2.328444</td>\n",
              "      <td>2.803770</td>\n",
              "      <td>6.572671</td>\n",
              "      <td>12.108462</td>\n",
              "      <td>17.500661</td>\n",
              "    </tr>\n",
              "    <tr>\n",
              "      <th>2011-12-09 12:50:00</th>\n",
              "      <td>4720</td>\n",
              "      <td>4</td>\n",
              "      <td>4.15</td>\n",
              "      <td>12680.0</td>\n",
              "      <td>2</td>\n",
              "      <td>2.802000</td>\n",
              "      <td>2.341778</td>\n",
              "      <td>2.815278</td>\n",
              "      <td>6.572671</td>\n",
              "      <td>12.138202</td>\n",
              "      <td>17.494661</td>\n",
              "    </tr>\n",
              "    <tr>\n",
              "      <th>2011-12-09 12:50:00</th>\n",
              "      <td>72</td>\n",
              "      <td>3</td>\n",
              "      <td>4.95</td>\n",
              "      <td>12680.0</td>\n",
              "      <td>2</td>\n",
              "      <td>2.768667</td>\n",
              "      <td>2.364000</td>\n",
              "      <td>2.825040</td>\n",
              "      <td>6.572671</td>\n",
              "      <td>12.174942</td>\n",
              "      <td>17.490427</td>\n",
              "    </tr>\n",
              "    <tr>\n",
              "      <th>2011-12-09 12:50:00</th>\n",
              "      <td>87</td>\n",
              "      <td>1</td>\n",
              "      <td>18.00</td>\n",
              "      <td>12680.0</td>\n",
              "      <td>2</td>\n",
              "      <td>3.243667</td>\n",
              "      <td>2.550111</td>\n",
              "      <td>2.881587</td>\n",
              "      <td>6.774615</td>\n",
              "      <td>12.158776</td>\n",
              "      <td>17.490427</td>\n",
              "    </tr>\n",
              "  </tbody>\n",
              "</table>\n",
              "<p>823080 rows × 11 columns</p>\n",
              "</div>\n",
              "      <button class=\"colab-df-convert\" onclick=\"convertToInteractive('df-69056ff4-a298-40d5-99ae-d3b3fa14fd5a')\"\n",
              "              title=\"Convert this dataframe to an interactive table.\"\n",
              "              style=\"display:none;\">\n",
              "        \n",
              "  <svg xmlns=\"http://www.w3.org/2000/svg\" height=\"24px\"viewBox=\"0 0 24 24\"\n",
              "       width=\"24px\">\n",
              "    <path d=\"M0 0h24v24H0V0z\" fill=\"none\"/>\n",
              "    <path d=\"M18.56 5.44l.94 2.06.94-2.06 2.06-.94-2.06-.94-.94-2.06-.94 2.06-2.06.94zm-11 1L8.5 8.5l.94-2.06 2.06-.94-2.06-.94L8.5 2.5l-.94 2.06-2.06.94zm10 10l.94 2.06.94-2.06 2.06-.94-2.06-.94-.94-2.06-.94 2.06-2.06.94z\"/><path d=\"M17.41 7.96l-1.37-1.37c-.4-.4-.92-.59-1.43-.59-.52 0-1.04.2-1.43.59L10.3 9.45l-7.72 7.72c-.78.78-.78 2.05 0 2.83L4 21.41c.39.39.9.59 1.41.59.51 0 1.02-.2 1.41-.59l7.78-7.78 2.81-2.81c.8-.78.8-2.07 0-2.86zM5.41 20L4 18.59l7.72-7.72 1.47 1.35L5.41 20z\"/>\n",
              "  </svg>\n",
              "      </button>\n",
              "      \n",
              "  <style>\n",
              "    .colab-df-container {\n",
              "      display:flex;\n",
              "      flex-wrap:wrap;\n",
              "      gap: 12px;\n",
              "    }\n",
              "\n",
              "    .colab-df-convert {\n",
              "      background-color: #E8F0FE;\n",
              "      border: none;\n",
              "      border-radius: 50%;\n",
              "      cursor: pointer;\n",
              "      display: none;\n",
              "      fill: #1967D2;\n",
              "      height: 32px;\n",
              "      padding: 0 0 0 0;\n",
              "      width: 32px;\n",
              "    }\n",
              "\n",
              "    .colab-df-convert:hover {\n",
              "      background-color: #E2EBFA;\n",
              "      box-shadow: 0px 1px 2px rgba(60, 64, 67, 0.3), 0px 1px 3px 1px rgba(60, 64, 67, 0.15);\n",
              "      fill: #174EA6;\n",
              "    }\n",
              "\n",
              "    [theme=dark] .colab-df-convert {\n",
              "      background-color: #3B4455;\n",
              "      fill: #D2E3FC;\n",
              "    }\n",
              "\n",
              "    [theme=dark] .colab-df-convert:hover {\n",
              "      background-color: #434B5C;\n",
              "      box-shadow: 0px 1px 3px 1px rgba(0, 0, 0, 0.15);\n",
              "      filter: drop-shadow(0px 1px 2px rgba(0, 0, 0, 0.3));\n",
              "      fill: #FFFFFF;\n",
              "    }\n",
              "  </style>\n",
              "\n",
              "      <script>\n",
              "        const buttonEl =\n",
              "          document.querySelector('#df-69056ff4-a298-40d5-99ae-d3b3fa14fd5a button.colab-df-convert');\n",
              "        buttonEl.style.display =\n",
              "          google.colab.kernel.accessAllowed ? 'block' : 'none';\n",
              "\n",
              "        async function convertToInteractive(key) {\n",
              "          const element = document.querySelector('#df-69056ff4-a298-40d5-99ae-d3b3fa14fd5a');\n",
              "          const dataTable =\n",
              "            await google.colab.kernel.invokeFunction('convertToInteractive',\n",
              "                                                     [key], {});\n",
              "          if (!dataTable) return;\n",
              "\n",
              "          const docLinkHtml = 'Like what you see? Visit the ' +\n",
              "            '<a target=\"_blank\" href=https://colab.research.google.com/notebooks/data_table.ipynb>data table notebook</a>'\n",
              "            + ' to learn more about interactive tables.';\n",
              "          element.innerHTML = '';\n",
              "          dataTable['output_type'] = 'display_data';\n",
              "          await google.colab.output.renderOutput(dataTable, element);\n",
              "          const docLink = document.createElement('div');\n",
              "          docLink.innerHTML = docLinkHtml;\n",
              "          element.appendChild(docLink);\n",
              "        }\n",
              "      </script>\n",
              "    </div>\n",
              "  </div>\n",
              "  "
            ]
          },
          "metadata": {},
          "execution_count": 41
        }
      ]
    },
    {
      "cell_type": "code",
      "source": [
        "#Ridge Regression\n",
        "\n",
        "target ='Quantity'\n",
        "X = known_df.drop(columns = target, axis = 1)\n",
        "y = known_df[target]"
      ],
      "metadata": {
        "id": "TmZs4eTJlFKF"
      },
      "execution_count": null,
      "outputs": []
    },
    {
      "cell_type": "code",
      "source": [
        "X_train, X_test, y_train, y_test=train_test_split(X,y, test_size=0.2,random_state=42)"
      ],
      "metadata": {
        "id": "1IG5a_SDpTHQ"
      },
      "execution_count": null,
      "outputs": []
    },
    {
      "cell_type": "code",
      "source": [
        "X"
      ],
      "metadata": {
        "colab": {
          "base_uri": "https://localhost:8080/",
          "height": 455
        },
        "id": "yRwRrH42qotf",
        "outputId": "7e2f5d25-19e8-4a0c-e49e-e5fe42ef4c90"
      },
      "execution_count": null,
      "outputs": [
        {
          "output_type": "execute_result",
          "data": {
            "text/plain": [
              "                     StockCode  Price  Customer ID  Country  avg_price_30d  \\\n",
              "InvoiceDate                                                                  \n",
              "2009-12-01 13:07:00        757   5.95      17998.0        1       5.657000   \n",
              "2009-12-01 13:07:00        758   5.95      17998.0        1       5.827000   \n",
              "2009-12-01 13:07:00        759   3.75      17998.0        1       5.930333   \n",
              "2009-12-01 13:07:00        760   5.95      17998.0        1       6.080333   \n",
              "2009-12-01 13:07:00        761   0.42      17998.0        1       6.029333   \n",
              "...                        ...    ...          ...      ...            ...   \n",
              "2011-12-09 12:50:00       4444   2.10      12680.0        2       2.695333   \n",
              "2011-12-09 12:50:00       4718   4.15      12680.0        2       2.805333   \n",
              "2011-12-09 12:50:00       4720   4.15      12680.0        2       2.802000   \n",
              "2011-12-09 12:50:00         72   4.95      12680.0        2       2.768667   \n",
              "2011-12-09 12:50:00         87  18.00      12680.0        2       3.243667   \n",
              "\n",
              "                     avg_price_90d  avg_price_1y  avg_quant_30d  \\\n",
              "InvoiceDate                                                       \n",
              "2009-12-01 13:07:00       2.704556      3.206151       5.575398   \n",
              "2009-12-01 13:07:00       2.693444      3.214881       5.575398   \n",
              "2009-12-01 13:07:00       2.731000      3.170437       5.575398   \n",
              "2009-12-01 13:07:00       2.787667      3.174405       5.569312   \n",
              "2009-12-01 13:07:00       2.782889      3.156429       6.802298   \n",
              "...                            ...           ...            ...   \n",
              "2011-12-09 12:50:00       2.310000      2.793056       6.926876   \n",
              "2011-12-09 12:50:00       2.328444      2.803770       6.572671   \n",
              "2011-12-09 12:50:00       2.341778      2.815278       6.572671   \n",
              "2011-12-09 12:50:00       2.364000      2.825040       6.572671   \n",
              "2011-12-09 12:50:00       2.550111      2.881587       6.774615   \n",
              "\n",
              "                     avg_quant_90d  avg_quant_1y  \n",
              "InvoiceDate                                       \n",
              "2009-12-01 13:07:00      48.605400     32.930536  \n",
              "2009-12-01 13:07:00      48.643683     32.936092  \n",
              "2009-12-01 13:07:00      39.530288     32.936092  \n",
              "2009-12-01 13:07:00      38.390718     32.937322  \n",
              "2009-12-01 13:07:00      25.324057     32.939323  \n",
              "...                            ...           ...  \n",
              "2011-12-09 12:50:00      12.077987     17.506651  \n",
              "2011-12-09 12:50:00      12.108462     17.500661  \n",
              "2011-12-09 12:50:00      12.138202     17.494661  \n",
              "2011-12-09 12:50:00      12.174942     17.490427  \n",
              "2011-12-09 12:50:00      12.158776     17.490427  \n",
              "\n",
              "[823080 rows x 10 columns]"
            ],
            "text/html": [
              "\n",
              "  <div id=\"df-055d7256-3d93-4eb6-b9ec-5a3c7b51c445\">\n",
              "    <div class=\"colab-df-container\">\n",
              "      <div>\n",
              "<style scoped>\n",
              "    .dataframe tbody tr th:only-of-type {\n",
              "        vertical-align: middle;\n",
              "    }\n",
              "\n",
              "    .dataframe tbody tr th {\n",
              "        vertical-align: top;\n",
              "    }\n",
              "\n",
              "    .dataframe thead th {\n",
              "        text-align: right;\n",
              "    }\n",
              "</style>\n",
              "<table border=\"1\" class=\"dataframe\">\n",
              "  <thead>\n",
              "    <tr style=\"text-align: right;\">\n",
              "      <th></th>\n",
              "      <th>StockCode</th>\n",
              "      <th>Price</th>\n",
              "      <th>Customer ID</th>\n",
              "      <th>Country</th>\n",
              "      <th>avg_price_30d</th>\n",
              "      <th>avg_price_90d</th>\n",
              "      <th>avg_price_1y</th>\n",
              "      <th>avg_quant_30d</th>\n",
              "      <th>avg_quant_90d</th>\n",
              "      <th>avg_quant_1y</th>\n",
              "    </tr>\n",
              "    <tr>\n",
              "      <th>InvoiceDate</th>\n",
              "      <th></th>\n",
              "      <th></th>\n",
              "      <th></th>\n",
              "      <th></th>\n",
              "      <th></th>\n",
              "      <th></th>\n",
              "      <th></th>\n",
              "      <th></th>\n",
              "      <th></th>\n",
              "      <th></th>\n",
              "    </tr>\n",
              "  </thead>\n",
              "  <tbody>\n",
              "    <tr>\n",
              "      <th>2009-12-01 13:07:00</th>\n",
              "      <td>757</td>\n",
              "      <td>5.95</td>\n",
              "      <td>17998.0</td>\n",
              "      <td>1</td>\n",
              "      <td>5.657000</td>\n",
              "      <td>2.704556</td>\n",
              "      <td>3.206151</td>\n",
              "      <td>5.575398</td>\n",
              "      <td>48.605400</td>\n",
              "      <td>32.930536</td>\n",
              "    </tr>\n",
              "    <tr>\n",
              "      <th>2009-12-01 13:07:00</th>\n",
              "      <td>758</td>\n",
              "      <td>5.95</td>\n",
              "      <td>17998.0</td>\n",
              "      <td>1</td>\n",
              "      <td>5.827000</td>\n",
              "      <td>2.693444</td>\n",
              "      <td>3.214881</td>\n",
              "      <td>5.575398</td>\n",
              "      <td>48.643683</td>\n",
              "      <td>32.936092</td>\n",
              "    </tr>\n",
              "    <tr>\n",
              "      <th>2009-12-01 13:07:00</th>\n",
              "      <td>759</td>\n",
              "      <td>3.75</td>\n",
              "      <td>17998.0</td>\n",
              "      <td>1</td>\n",
              "      <td>5.930333</td>\n",
              "      <td>2.731000</td>\n",
              "      <td>3.170437</td>\n",
              "      <td>5.575398</td>\n",
              "      <td>39.530288</td>\n",
              "      <td>32.936092</td>\n",
              "    </tr>\n",
              "    <tr>\n",
              "      <th>2009-12-01 13:07:00</th>\n",
              "      <td>760</td>\n",
              "      <td>5.95</td>\n",
              "      <td>17998.0</td>\n",
              "      <td>1</td>\n",
              "      <td>6.080333</td>\n",
              "      <td>2.787667</td>\n",
              "      <td>3.174405</td>\n",
              "      <td>5.569312</td>\n",
              "      <td>38.390718</td>\n",
              "      <td>32.937322</td>\n",
              "    </tr>\n",
              "    <tr>\n",
              "      <th>2009-12-01 13:07:00</th>\n",
              "      <td>761</td>\n",
              "      <td>0.42</td>\n",
              "      <td>17998.0</td>\n",
              "      <td>1</td>\n",
              "      <td>6.029333</td>\n",
              "      <td>2.782889</td>\n",
              "      <td>3.156429</td>\n",
              "      <td>6.802298</td>\n",
              "      <td>25.324057</td>\n",
              "      <td>32.939323</td>\n",
              "    </tr>\n",
              "    <tr>\n",
              "      <th>...</th>\n",
              "      <td>...</td>\n",
              "      <td>...</td>\n",
              "      <td>...</td>\n",
              "      <td>...</td>\n",
              "      <td>...</td>\n",
              "      <td>...</td>\n",
              "      <td>...</td>\n",
              "      <td>...</td>\n",
              "      <td>...</td>\n",
              "      <td>...</td>\n",
              "    </tr>\n",
              "    <tr>\n",
              "      <th>2011-12-09 12:50:00</th>\n",
              "      <td>4444</td>\n",
              "      <td>2.10</td>\n",
              "      <td>12680.0</td>\n",
              "      <td>2</td>\n",
              "      <td>2.695333</td>\n",
              "      <td>2.310000</td>\n",
              "      <td>2.793056</td>\n",
              "      <td>6.926876</td>\n",
              "      <td>12.077987</td>\n",
              "      <td>17.506651</td>\n",
              "    </tr>\n",
              "    <tr>\n",
              "      <th>2011-12-09 12:50:00</th>\n",
              "      <td>4718</td>\n",
              "      <td>4.15</td>\n",
              "      <td>12680.0</td>\n",
              "      <td>2</td>\n",
              "      <td>2.805333</td>\n",
              "      <td>2.328444</td>\n",
              "      <td>2.803770</td>\n",
              "      <td>6.572671</td>\n",
              "      <td>12.108462</td>\n",
              "      <td>17.500661</td>\n",
              "    </tr>\n",
              "    <tr>\n",
              "      <th>2011-12-09 12:50:00</th>\n",
              "      <td>4720</td>\n",
              "      <td>4.15</td>\n",
              "      <td>12680.0</td>\n",
              "      <td>2</td>\n",
              "      <td>2.802000</td>\n",
              "      <td>2.341778</td>\n",
              "      <td>2.815278</td>\n",
              "      <td>6.572671</td>\n",
              "      <td>12.138202</td>\n",
              "      <td>17.494661</td>\n",
              "    </tr>\n",
              "    <tr>\n",
              "      <th>2011-12-09 12:50:00</th>\n",
              "      <td>72</td>\n",
              "      <td>4.95</td>\n",
              "      <td>12680.0</td>\n",
              "      <td>2</td>\n",
              "      <td>2.768667</td>\n",
              "      <td>2.364000</td>\n",
              "      <td>2.825040</td>\n",
              "      <td>6.572671</td>\n",
              "      <td>12.174942</td>\n",
              "      <td>17.490427</td>\n",
              "    </tr>\n",
              "    <tr>\n",
              "      <th>2011-12-09 12:50:00</th>\n",
              "      <td>87</td>\n",
              "      <td>18.00</td>\n",
              "      <td>12680.0</td>\n",
              "      <td>2</td>\n",
              "      <td>3.243667</td>\n",
              "      <td>2.550111</td>\n",
              "      <td>2.881587</td>\n",
              "      <td>6.774615</td>\n",
              "      <td>12.158776</td>\n",
              "      <td>17.490427</td>\n",
              "    </tr>\n",
              "  </tbody>\n",
              "</table>\n",
              "<p>823080 rows × 10 columns</p>\n",
              "</div>\n",
              "      <button class=\"colab-df-convert\" onclick=\"convertToInteractive('df-055d7256-3d93-4eb6-b9ec-5a3c7b51c445')\"\n",
              "              title=\"Convert this dataframe to an interactive table.\"\n",
              "              style=\"display:none;\">\n",
              "        \n",
              "  <svg xmlns=\"http://www.w3.org/2000/svg\" height=\"24px\"viewBox=\"0 0 24 24\"\n",
              "       width=\"24px\">\n",
              "    <path d=\"M0 0h24v24H0V0z\" fill=\"none\"/>\n",
              "    <path d=\"M18.56 5.44l.94 2.06.94-2.06 2.06-.94-2.06-.94-.94-2.06-.94 2.06-2.06.94zm-11 1L8.5 8.5l.94-2.06 2.06-.94-2.06-.94L8.5 2.5l-.94 2.06-2.06.94zm10 10l.94 2.06.94-2.06 2.06-.94-2.06-.94-.94-2.06-.94 2.06-2.06.94z\"/><path d=\"M17.41 7.96l-1.37-1.37c-.4-.4-.92-.59-1.43-.59-.52 0-1.04.2-1.43.59L10.3 9.45l-7.72 7.72c-.78.78-.78 2.05 0 2.83L4 21.41c.39.39.9.59 1.41.59.51 0 1.02-.2 1.41-.59l7.78-7.78 2.81-2.81c.8-.78.8-2.07 0-2.86zM5.41 20L4 18.59l7.72-7.72 1.47 1.35L5.41 20z\"/>\n",
              "  </svg>\n",
              "      </button>\n",
              "      \n",
              "  <style>\n",
              "    .colab-df-container {\n",
              "      display:flex;\n",
              "      flex-wrap:wrap;\n",
              "      gap: 12px;\n",
              "    }\n",
              "\n",
              "    .colab-df-convert {\n",
              "      background-color: #E8F0FE;\n",
              "      border: none;\n",
              "      border-radius: 50%;\n",
              "      cursor: pointer;\n",
              "      display: none;\n",
              "      fill: #1967D2;\n",
              "      height: 32px;\n",
              "      padding: 0 0 0 0;\n",
              "      width: 32px;\n",
              "    }\n",
              "\n",
              "    .colab-df-convert:hover {\n",
              "      background-color: #E2EBFA;\n",
              "      box-shadow: 0px 1px 2px rgba(60, 64, 67, 0.3), 0px 1px 3px 1px rgba(60, 64, 67, 0.15);\n",
              "      fill: #174EA6;\n",
              "    }\n",
              "\n",
              "    [theme=dark] .colab-df-convert {\n",
              "      background-color: #3B4455;\n",
              "      fill: #D2E3FC;\n",
              "    }\n",
              "\n",
              "    [theme=dark] .colab-df-convert:hover {\n",
              "      background-color: #434B5C;\n",
              "      box-shadow: 0px 1px 3px 1px rgba(0, 0, 0, 0.15);\n",
              "      filter: drop-shadow(0px 1px 2px rgba(0, 0, 0, 0.3));\n",
              "      fill: #FFFFFF;\n",
              "    }\n",
              "  </style>\n",
              "\n",
              "      <script>\n",
              "        const buttonEl =\n",
              "          document.querySelector('#df-055d7256-3d93-4eb6-b9ec-5a3c7b51c445 button.colab-df-convert');\n",
              "        buttonEl.style.display =\n",
              "          google.colab.kernel.accessAllowed ? 'block' : 'none';\n",
              "\n",
              "        async function convertToInteractive(key) {\n",
              "          const element = document.querySelector('#df-055d7256-3d93-4eb6-b9ec-5a3c7b51c445');\n",
              "          const dataTable =\n",
              "            await google.colab.kernel.invokeFunction('convertToInteractive',\n",
              "                                                     [key], {});\n",
              "          if (!dataTable) return;\n",
              "\n",
              "          const docLinkHtml = 'Like what you see? Visit the ' +\n",
              "            '<a target=\"_blank\" href=https://colab.research.google.com/notebooks/data_table.ipynb>data table notebook</a>'\n",
              "            + ' to learn more about interactive tables.';\n",
              "          element.innerHTML = '';\n",
              "          dataTable['output_type'] = 'display_data';\n",
              "          await google.colab.output.renderOutput(dataTable, element);\n",
              "          const docLink = document.createElement('div');\n",
              "          docLink.innerHTML = docLinkHtml;\n",
              "          element.appendChild(docLink);\n",
              "        }\n",
              "      </script>\n",
              "    </div>\n",
              "  </div>\n",
              "  "
            ]
          },
          "metadata": {},
          "execution_count": 44
        }
      ]
    },
    {
      "cell_type": "code",
      "source": [
        "# Providing the mean of our target we can have a baseline we always work with our train data & leave the test data for the end.\n",
        "y_pred_baseline = [y_train.mean()] * len(y_train)\n",
        "baseline_mae = mean_absolute_error(y_train, y_pred_baseline)\n",
        "baseline_mae"
      ],
      "metadata": {
        "colab": {
          "base_uri": "https://localhost:8080/"
        },
        "id": "IknNoTrwlcpf",
        "outputId": "ed8778cc-6edc-46e0-e16b-e2b6fd3ba3ef"
      },
      "execution_count": null,
      "outputs": [
        {
          "output_type": "execute_result",
          "data": {
            "text/plain": [
              "13.784324844301768"
            ]
          },
          "metadata": {},
          "execution_count": 105
        }
      ]
    },
    {
      "cell_type": "code",
      "source": [
        "y_train"
      ],
      "metadata": {
        "colab": {
          "base_uri": "https://localhost:8080/"
        },
        "id": "vxrWxHAZ9NSj",
        "outputId": "dc6db610-5c88-4322-8217-16de99d3b941"
      },
      "execution_count": null,
      "outputs": [
        {
          "output_type": "execute_result",
          "data": {
            "text/plain": [
              "InvoiceDate\n",
              "2010-11-04 16:50:00    12\n",
              "2010-10-17 13:10:00     3\n",
              "2011-09-08 12:04:00     2\n",
              "2011-12-06 12:56:00     1\n",
              "2011-05-25 12:55:00    12\n",
              "                       ..\n",
              "2010-09-07 13:25:00     1\n",
              "2010-11-14 14:00:00     1\n",
              "2010-04-26 15:43:00     2\n",
              "2011-09-20 12:21:00    12\n",
              "2010-04-16 15:55:00    12\n",
              "Name: Quantity, Length: 658464, dtype: int64"
            ]
          },
          "metadata": {},
          "execution_count": 104
        }
      ]
    },
    {
      "cell_type": "code",
      "source": [
        "from sklearn.model_selection import GridSearchCV"
      ],
      "metadata": {
        "id": "JOdRkPcSqQYP"
      },
      "execution_count": null,
      "outputs": []
    },
    {
      "cell_type": "code",
      "source": [
        "#Fitting\n",
        "ridge=Ridge()\n",
        "parameters={'alpha':[1,.5,.25,.10,.001]}\n",
        "grid=GridSearchCV(ridge,parameters,n_jobs=-1,scoring='neg_mean_absolute_error')\n",
        "\n",
        "\n",
        "grid.fit(X_train,y_train)"
      ],
      "metadata": {
        "colab": {
          "base_uri": "https://localhost:8080/",
          "height": 119
        },
        "id": "7GrDH9VgpnDa",
        "outputId": "c78287ed-a8ea-4bcd-97ad-50a807325e12"
      },
      "execution_count": null,
      "outputs": [
        {
          "output_type": "execute_result",
          "data": {
            "text/plain": [
              "GridSearchCV(estimator=Ridge(), n_jobs=-1,\n",
              "             param_grid={'alpha': [1, 0.5, 0.25, 0.1, 0.001]},\n",
              "             scoring='neg_mean_absolute_error')"
            ],
            "text/html": [
              "<style>#sk-container-id-7 {color: black;background-color: white;}#sk-container-id-7 pre{padding: 0;}#sk-container-id-7 div.sk-toggleable {background-color: white;}#sk-container-id-7 label.sk-toggleable__label {cursor: pointer;display: block;width: 100%;margin-bottom: 0;padding: 0.3em;box-sizing: border-box;text-align: center;}#sk-container-id-7 label.sk-toggleable__label-arrow:before {content: \"▸\";float: left;margin-right: 0.25em;color: #696969;}#sk-container-id-7 label.sk-toggleable__label-arrow:hover:before {color: black;}#sk-container-id-7 div.sk-estimator:hover label.sk-toggleable__label-arrow:before {color: black;}#sk-container-id-7 div.sk-toggleable__content {max-height: 0;max-width: 0;overflow: hidden;text-align: left;background-color: #f0f8ff;}#sk-container-id-7 div.sk-toggleable__content pre {margin: 0.2em;color: black;border-radius: 0.25em;background-color: #f0f8ff;}#sk-container-id-7 input.sk-toggleable__control:checked~div.sk-toggleable__content {max-height: 200px;max-width: 100%;overflow: auto;}#sk-container-id-7 input.sk-toggleable__control:checked~label.sk-toggleable__label-arrow:before {content: \"▾\";}#sk-container-id-7 div.sk-estimator input.sk-toggleable__control:checked~label.sk-toggleable__label {background-color: #d4ebff;}#sk-container-id-7 div.sk-label input.sk-toggleable__control:checked~label.sk-toggleable__label {background-color: #d4ebff;}#sk-container-id-7 input.sk-hidden--visually {border: 0;clip: rect(1px 1px 1px 1px);clip: rect(1px, 1px, 1px, 1px);height: 1px;margin: -1px;overflow: hidden;padding: 0;position: absolute;width: 1px;}#sk-container-id-7 div.sk-estimator {font-family: monospace;background-color: #f0f8ff;border: 1px dotted black;border-radius: 0.25em;box-sizing: border-box;margin-bottom: 0.5em;}#sk-container-id-7 div.sk-estimator:hover {background-color: #d4ebff;}#sk-container-id-7 div.sk-parallel-item::after {content: \"\";width: 100%;border-bottom: 1px solid gray;flex-grow: 1;}#sk-container-id-7 div.sk-label:hover label.sk-toggleable__label {background-color: #d4ebff;}#sk-container-id-7 div.sk-serial::before {content: \"\";position: absolute;border-left: 1px solid gray;box-sizing: border-box;top: 0;bottom: 0;left: 50%;z-index: 0;}#sk-container-id-7 div.sk-serial {display: flex;flex-direction: column;align-items: center;background-color: white;padding-right: 0.2em;padding-left: 0.2em;position: relative;}#sk-container-id-7 div.sk-item {position: relative;z-index: 1;}#sk-container-id-7 div.sk-parallel {display: flex;align-items: stretch;justify-content: center;background-color: white;position: relative;}#sk-container-id-7 div.sk-item::before, #sk-container-id-7 div.sk-parallel-item::before {content: \"\";position: absolute;border-left: 1px solid gray;box-sizing: border-box;top: 0;bottom: 0;left: 50%;z-index: -1;}#sk-container-id-7 div.sk-parallel-item {display: flex;flex-direction: column;z-index: 1;position: relative;background-color: white;}#sk-container-id-7 div.sk-parallel-item:first-child::after {align-self: flex-end;width: 50%;}#sk-container-id-7 div.sk-parallel-item:last-child::after {align-self: flex-start;width: 50%;}#sk-container-id-7 div.sk-parallel-item:only-child::after {width: 0;}#sk-container-id-7 div.sk-dashed-wrapped {border: 1px dashed gray;margin: 0 0.4em 0.5em 0.4em;box-sizing: border-box;padding-bottom: 0.4em;background-color: white;}#sk-container-id-7 div.sk-label label {font-family: monospace;font-weight: bold;display: inline-block;line-height: 1.2em;}#sk-container-id-7 div.sk-label-container {text-align: center;}#sk-container-id-7 div.sk-container {/* jupyter's `normalize.less` sets `[hidden] { display: none; }` but bootstrap.min.css set `[hidden] { display: none !important; }` so we also need the `!important` here to be able to override the default hidden behavior on the sphinx rendered scikit-learn.org. See: https://github.com/scikit-learn/scikit-learn/issues/21755 */display: inline-block !important;position: relative;}#sk-container-id-7 div.sk-text-repr-fallback {display: none;}</style><div id=\"sk-container-id-7\" class=\"sk-top-container\"><div class=\"sk-text-repr-fallback\"><pre>GridSearchCV(estimator=Ridge(), n_jobs=-1,\n",
              "             param_grid={&#x27;alpha&#x27;: [1, 0.5, 0.25, 0.1, 0.001]},\n",
              "             scoring=&#x27;neg_mean_absolute_error&#x27;)</pre><b>In a Jupyter environment, please rerun this cell to show the HTML representation or trust the notebook. <br />On GitHub, the HTML representation is unable to render, please try loading this page with nbviewer.org.</b></div><div class=\"sk-container\" hidden><div class=\"sk-item sk-dashed-wrapped\"><div class=\"sk-label-container\"><div class=\"sk-label sk-toggleable\"><input class=\"sk-toggleable__control sk-hidden--visually\" id=\"sk-estimator-id-17\" type=\"checkbox\" ><label for=\"sk-estimator-id-17\" class=\"sk-toggleable__label sk-toggleable__label-arrow\">GridSearchCV</label><div class=\"sk-toggleable__content\"><pre>GridSearchCV(estimator=Ridge(), n_jobs=-1,\n",
              "             param_grid={&#x27;alpha&#x27;: [1, 0.5, 0.25, 0.1, 0.001]},\n",
              "             scoring=&#x27;neg_mean_absolute_error&#x27;)</pre></div></div></div><div class=\"sk-parallel\"><div class=\"sk-parallel-item\"><div class=\"sk-item\"><div class=\"sk-label-container\"><div class=\"sk-label sk-toggleable\"><input class=\"sk-toggleable__control sk-hidden--visually\" id=\"sk-estimator-id-18\" type=\"checkbox\" ><label for=\"sk-estimator-id-18\" class=\"sk-toggleable__label sk-toggleable__label-arrow\">estimator: Ridge</label><div class=\"sk-toggleable__content\"><pre>Ridge()</pre></div></div></div><div class=\"sk-serial\"><div class=\"sk-item\"><div class=\"sk-estimator sk-toggleable\"><input class=\"sk-toggleable__control sk-hidden--visually\" id=\"sk-estimator-id-19\" type=\"checkbox\" ><label for=\"sk-estimator-id-19\" class=\"sk-toggleable__label sk-toggleable__label-arrow\">Ridge</label><div class=\"sk-toggleable__content\"><pre>Ridge()</pre></div></div></div></div></div></div></div></div></div></div>"
            ]
          },
          "metadata": {},
          "execution_count": 98
        }
      ]
    },
    {
      "cell_type": "code",
      "source": [
        "from sklearn.metrics import get_scorer_names\n",
        "get_scorer_names()"
      ],
      "metadata": {
        "colab": {
          "base_uri": "https://localhost:8080/"
        },
        "id": "k8nY7dWlz9R4",
        "outputId": "7297eeef-6fc6-41df-a59f-c25923c5f8cf"
      },
      "execution_count": null,
      "outputs": [
        {
          "output_type": "execute_result",
          "data": {
            "text/plain": [
              "['accuracy',\n",
              " 'adjusted_mutual_info_score',\n",
              " 'adjusted_rand_score',\n",
              " 'average_precision',\n",
              " 'balanced_accuracy',\n",
              " 'completeness_score',\n",
              " 'explained_variance',\n",
              " 'f1',\n",
              " 'f1_macro',\n",
              " 'f1_micro',\n",
              " 'f1_samples',\n",
              " 'f1_weighted',\n",
              " 'fowlkes_mallows_score',\n",
              " 'homogeneity_score',\n",
              " 'jaccard',\n",
              " 'jaccard_macro',\n",
              " 'jaccard_micro',\n",
              " 'jaccard_samples',\n",
              " 'jaccard_weighted',\n",
              " 'matthews_corrcoef',\n",
              " 'max_error',\n",
              " 'mutual_info_score',\n",
              " 'neg_brier_score',\n",
              " 'neg_log_loss',\n",
              " 'neg_mean_absolute_error',\n",
              " 'neg_mean_absolute_percentage_error',\n",
              " 'neg_mean_gamma_deviance',\n",
              " 'neg_mean_poisson_deviance',\n",
              " 'neg_mean_squared_error',\n",
              " 'neg_mean_squared_log_error',\n",
              " 'neg_median_absolute_error',\n",
              " 'neg_negative_likelihood_ratio',\n",
              " 'neg_root_mean_squared_error',\n",
              " 'normalized_mutual_info_score',\n",
              " 'positive_likelihood_ratio',\n",
              " 'precision',\n",
              " 'precision_macro',\n",
              " 'precision_micro',\n",
              " 'precision_samples',\n",
              " 'precision_weighted',\n",
              " 'r2',\n",
              " 'rand_score',\n",
              " 'recall',\n",
              " 'recall_macro',\n",
              " 'recall_micro',\n",
              " 'recall_samples',\n",
              " 'recall_weighted',\n",
              " 'roc_auc',\n",
              " 'roc_auc_ovo',\n",
              " 'roc_auc_ovo_weighted',\n",
              " 'roc_auc_ovr',\n",
              " 'roc_auc_ovr_weighted',\n",
              " 'top_k_accuracy',\n",
              " 'v_measure_score']"
            ]
          },
          "metadata": {},
          "execution_count": 54
        }
      ]
    },
    {
      "cell_type": "code",
      "source": [
        "grid.best_params_"
      ],
      "metadata": {
        "colab": {
          "base_uri": "https://localhost:8080/"
        },
        "id": "LLRxCsmKmeqZ",
        "outputId": "c9946873-9246-4c59-db54-524a026d43b9"
      },
      "execution_count": null,
      "outputs": [
        {
          "output_type": "execute_result",
          "data": {
            "text/plain": [
              "{'alpha': 1}"
            ]
          },
          "metadata": {},
          "execution_count": 99
        }
      ]
    },
    {
      "cell_type": "code",
      "source": [
        "grid.best_score_,baseline_mae"
      ],
      "metadata": {
        "colab": {
          "base_uri": "https://localhost:8080/"
        },
        "id": "vsWKK8fHsq9s",
        "outputId": "e5ac872d-eb24-47b9-e4c0-bd08ab306700"
      },
      "execution_count": null,
      "outputs": [
        {
          "output_type": "execute_result",
          "data": {
            "text/plain": [
              "(-14.065649790290195, 13.784324844301768)"
            ]
          },
          "metadata": {},
          "execution_count": 106
        }
      ]
    },
    {
      "cell_type": "code",
      "source": [],
      "metadata": {
        "id": "XlBQHrZW9DaH"
      },
      "execution_count": null,
      "outputs": []
    },
    {
      "cell_type": "code",
      "source": [
        "a=grid.best_estimator_.coef_\n",
        "for i,k in enumerate(a):\n",
        "  print(round(i,9),k)\n"
      ],
      "metadata": {
        "colab": {
          "base_uri": "https://localhost:8080/"
        },
        "id": "EEebT6Sn6dwv",
        "outputId": "76a5ce4e-22f7-42f6-a16b-053992191981"
      },
      "execution_count": null,
      "outputs": [
        {
          "output_type": "stream",
          "name": "stdout",
          "text": [
            "0 -0.0005778289122553957\n",
            "1 -0.012582105326949164\n",
            "2 -0.00011561710430664384\n",
            "3 0.8909666303026675\n",
            "4 0.17361336945151545\n",
            "5 -0.07099329539490266\n",
            "6 0.1803343444723105\n",
            "7 5.3964227218745284e-05\n",
            "8 0.005385108465474201\n",
            "9 0.00010578137236593736\n"
          ]
        }
      ]
    },
    {
      "cell_type": "code",
      "source": [
        "X"
      ],
      "metadata": {
        "colab": {
          "base_uri": "https://localhost:8080/",
          "height": 455
        },
        "id": "rsRju-yj748W",
        "outputId": "86b6008b-5332-49d2-b8c0-2e448e00663a"
      },
      "execution_count": null,
      "outputs": [
        {
          "output_type": "execute_result",
          "data": {
            "text/plain": [
              "                     StockCode  Price  Customer ID  Country  avg_price_30d  \\\n",
              "InvoiceDate                                                                  \n",
              "2009-12-01 13:07:00        757   5.95      17998.0        1       5.657000   \n",
              "2009-12-01 13:07:00        758   5.95      17998.0        1       5.827000   \n",
              "2009-12-01 13:07:00        759   3.75      17998.0        1       5.930333   \n",
              "2009-12-01 13:07:00        760   5.95      17998.0        1       6.080333   \n",
              "2009-12-01 13:07:00        761   0.42      17998.0        1       6.029333   \n",
              "...                        ...    ...          ...      ...            ...   \n",
              "2011-12-09 12:50:00       4444   2.10      12680.0        2       2.695333   \n",
              "2011-12-09 12:50:00       4718   4.15      12680.0        2       2.805333   \n",
              "2011-12-09 12:50:00       4720   4.15      12680.0        2       2.802000   \n",
              "2011-12-09 12:50:00         72   4.95      12680.0        2       2.768667   \n",
              "2011-12-09 12:50:00         87  18.00      12680.0        2       3.243667   \n",
              "\n",
              "                     avg_price_90d  avg_price_1y  avg_quant_30d  \\\n",
              "InvoiceDate                                                       \n",
              "2009-12-01 13:07:00       2.704556      3.206151       5.575398   \n",
              "2009-12-01 13:07:00       2.693444      3.214881       5.575398   \n",
              "2009-12-01 13:07:00       2.731000      3.170437       5.575398   \n",
              "2009-12-01 13:07:00       2.787667      3.174405       5.569312   \n",
              "2009-12-01 13:07:00       2.782889      3.156429       6.802298   \n",
              "...                            ...           ...            ...   \n",
              "2011-12-09 12:50:00       2.310000      2.793056       6.926876   \n",
              "2011-12-09 12:50:00       2.328444      2.803770       6.572671   \n",
              "2011-12-09 12:50:00       2.341778      2.815278       6.572671   \n",
              "2011-12-09 12:50:00       2.364000      2.825040       6.572671   \n",
              "2011-12-09 12:50:00       2.550111      2.881587       6.774615   \n",
              "\n",
              "                     avg_quant_90d  avg_quant_1y  \n",
              "InvoiceDate                                       \n",
              "2009-12-01 13:07:00      48.605400     32.930536  \n",
              "2009-12-01 13:07:00      48.643683     32.936092  \n",
              "2009-12-01 13:07:00      39.530288     32.936092  \n",
              "2009-12-01 13:07:00      38.390718     32.937322  \n",
              "2009-12-01 13:07:00      25.324057     32.939323  \n",
              "...                            ...           ...  \n",
              "2011-12-09 12:50:00      12.077987     17.506651  \n",
              "2011-12-09 12:50:00      12.108462     17.500661  \n",
              "2011-12-09 12:50:00      12.138202     17.494661  \n",
              "2011-12-09 12:50:00      12.174942     17.490427  \n",
              "2011-12-09 12:50:00      12.158776     17.490427  \n",
              "\n",
              "[823080 rows x 10 columns]"
            ],
            "text/html": [
              "\n",
              "  <div id=\"df-ef0ead12-82e0-4632-91b0-0931993e7e72\">\n",
              "    <div class=\"colab-df-container\">\n",
              "      <div>\n",
              "<style scoped>\n",
              "    .dataframe tbody tr th:only-of-type {\n",
              "        vertical-align: middle;\n",
              "    }\n",
              "\n",
              "    .dataframe tbody tr th {\n",
              "        vertical-align: top;\n",
              "    }\n",
              "\n",
              "    .dataframe thead th {\n",
              "        text-align: right;\n",
              "    }\n",
              "</style>\n",
              "<table border=\"1\" class=\"dataframe\">\n",
              "  <thead>\n",
              "    <tr style=\"text-align: right;\">\n",
              "      <th></th>\n",
              "      <th>StockCode</th>\n",
              "      <th>Price</th>\n",
              "      <th>Customer ID</th>\n",
              "      <th>Country</th>\n",
              "      <th>avg_price_30d</th>\n",
              "      <th>avg_price_90d</th>\n",
              "      <th>avg_price_1y</th>\n",
              "      <th>avg_quant_30d</th>\n",
              "      <th>avg_quant_90d</th>\n",
              "      <th>avg_quant_1y</th>\n",
              "    </tr>\n",
              "    <tr>\n",
              "      <th>InvoiceDate</th>\n",
              "      <th></th>\n",
              "      <th></th>\n",
              "      <th></th>\n",
              "      <th></th>\n",
              "      <th></th>\n",
              "      <th></th>\n",
              "      <th></th>\n",
              "      <th></th>\n",
              "      <th></th>\n",
              "      <th></th>\n",
              "    </tr>\n",
              "  </thead>\n",
              "  <tbody>\n",
              "    <tr>\n",
              "      <th>2009-12-01 13:07:00</th>\n",
              "      <td>757</td>\n",
              "      <td>5.95</td>\n",
              "      <td>17998.0</td>\n",
              "      <td>1</td>\n",
              "      <td>5.657000</td>\n",
              "      <td>2.704556</td>\n",
              "      <td>3.206151</td>\n",
              "      <td>5.575398</td>\n",
              "      <td>48.605400</td>\n",
              "      <td>32.930536</td>\n",
              "    </tr>\n",
              "    <tr>\n",
              "      <th>2009-12-01 13:07:00</th>\n",
              "      <td>758</td>\n",
              "      <td>5.95</td>\n",
              "      <td>17998.0</td>\n",
              "      <td>1</td>\n",
              "      <td>5.827000</td>\n",
              "      <td>2.693444</td>\n",
              "      <td>3.214881</td>\n",
              "      <td>5.575398</td>\n",
              "      <td>48.643683</td>\n",
              "      <td>32.936092</td>\n",
              "    </tr>\n",
              "    <tr>\n",
              "      <th>2009-12-01 13:07:00</th>\n",
              "      <td>759</td>\n",
              "      <td>3.75</td>\n",
              "      <td>17998.0</td>\n",
              "      <td>1</td>\n",
              "      <td>5.930333</td>\n",
              "      <td>2.731000</td>\n",
              "      <td>3.170437</td>\n",
              "      <td>5.575398</td>\n",
              "      <td>39.530288</td>\n",
              "      <td>32.936092</td>\n",
              "    </tr>\n",
              "    <tr>\n",
              "      <th>2009-12-01 13:07:00</th>\n",
              "      <td>760</td>\n",
              "      <td>5.95</td>\n",
              "      <td>17998.0</td>\n",
              "      <td>1</td>\n",
              "      <td>6.080333</td>\n",
              "      <td>2.787667</td>\n",
              "      <td>3.174405</td>\n",
              "      <td>5.569312</td>\n",
              "      <td>38.390718</td>\n",
              "      <td>32.937322</td>\n",
              "    </tr>\n",
              "    <tr>\n",
              "      <th>2009-12-01 13:07:00</th>\n",
              "      <td>761</td>\n",
              "      <td>0.42</td>\n",
              "      <td>17998.0</td>\n",
              "      <td>1</td>\n",
              "      <td>6.029333</td>\n",
              "      <td>2.782889</td>\n",
              "      <td>3.156429</td>\n",
              "      <td>6.802298</td>\n",
              "      <td>25.324057</td>\n",
              "      <td>32.939323</td>\n",
              "    </tr>\n",
              "    <tr>\n",
              "      <th>...</th>\n",
              "      <td>...</td>\n",
              "      <td>...</td>\n",
              "      <td>...</td>\n",
              "      <td>...</td>\n",
              "      <td>...</td>\n",
              "      <td>...</td>\n",
              "      <td>...</td>\n",
              "      <td>...</td>\n",
              "      <td>...</td>\n",
              "      <td>...</td>\n",
              "    </tr>\n",
              "    <tr>\n",
              "      <th>2011-12-09 12:50:00</th>\n",
              "      <td>4444</td>\n",
              "      <td>2.10</td>\n",
              "      <td>12680.0</td>\n",
              "      <td>2</td>\n",
              "      <td>2.695333</td>\n",
              "      <td>2.310000</td>\n",
              "      <td>2.793056</td>\n",
              "      <td>6.926876</td>\n",
              "      <td>12.077987</td>\n",
              "      <td>17.506651</td>\n",
              "    </tr>\n",
              "    <tr>\n",
              "      <th>2011-12-09 12:50:00</th>\n",
              "      <td>4718</td>\n",
              "      <td>4.15</td>\n",
              "      <td>12680.0</td>\n",
              "      <td>2</td>\n",
              "      <td>2.805333</td>\n",
              "      <td>2.328444</td>\n",
              "      <td>2.803770</td>\n",
              "      <td>6.572671</td>\n",
              "      <td>12.108462</td>\n",
              "      <td>17.500661</td>\n",
              "    </tr>\n",
              "    <tr>\n",
              "      <th>2011-12-09 12:50:00</th>\n",
              "      <td>4720</td>\n",
              "      <td>4.15</td>\n",
              "      <td>12680.0</td>\n",
              "      <td>2</td>\n",
              "      <td>2.802000</td>\n",
              "      <td>2.341778</td>\n",
              "      <td>2.815278</td>\n",
              "      <td>6.572671</td>\n",
              "      <td>12.138202</td>\n",
              "      <td>17.494661</td>\n",
              "    </tr>\n",
              "    <tr>\n",
              "      <th>2011-12-09 12:50:00</th>\n",
              "      <td>72</td>\n",
              "      <td>4.95</td>\n",
              "      <td>12680.0</td>\n",
              "      <td>2</td>\n",
              "      <td>2.768667</td>\n",
              "      <td>2.364000</td>\n",
              "      <td>2.825040</td>\n",
              "      <td>6.572671</td>\n",
              "      <td>12.174942</td>\n",
              "      <td>17.490427</td>\n",
              "    </tr>\n",
              "    <tr>\n",
              "      <th>2011-12-09 12:50:00</th>\n",
              "      <td>87</td>\n",
              "      <td>18.00</td>\n",
              "      <td>12680.0</td>\n",
              "      <td>2</td>\n",
              "      <td>3.243667</td>\n",
              "      <td>2.550111</td>\n",
              "      <td>2.881587</td>\n",
              "      <td>6.774615</td>\n",
              "      <td>12.158776</td>\n",
              "      <td>17.490427</td>\n",
              "    </tr>\n",
              "  </tbody>\n",
              "</table>\n",
              "<p>823080 rows × 10 columns</p>\n",
              "</div>\n",
              "      <button class=\"colab-df-convert\" onclick=\"convertToInteractive('df-ef0ead12-82e0-4632-91b0-0931993e7e72')\"\n",
              "              title=\"Convert this dataframe to an interactive table.\"\n",
              "              style=\"display:none;\">\n",
              "        \n",
              "  <svg xmlns=\"http://www.w3.org/2000/svg\" height=\"24px\"viewBox=\"0 0 24 24\"\n",
              "       width=\"24px\">\n",
              "    <path d=\"M0 0h24v24H0V0z\" fill=\"none\"/>\n",
              "    <path d=\"M18.56 5.44l.94 2.06.94-2.06 2.06-.94-2.06-.94-.94-2.06-.94 2.06-2.06.94zm-11 1L8.5 8.5l.94-2.06 2.06-.94-2.06-.94L8.5 2.5l-.94 2.06-2.06.94zm10 10l.94 2.06.94-2.06 2.06-.94-2.06-.94-.94-2.06-.94 2.06-2.06.94z\"/><path d=\"M17.41 7.96l-1.37-1.37c-.4-.4-.92-.59-1.43-.59-.52 0-1.04.2-1.43.59L10.3 9.45l-7.72 7.72c-.78.78-.78 2.05 0 2.83L4 21.41c.39.39.9.59 1.41.59.51 0 1.02-.2 1.41-.59l7.78-7.78 2.81-2.81c.8-.78.8-2.07 0-2.86zM5.41 20L4 18.59l7.72-7.72 1.47 1.35L5.41 20z\"/>\n",
              "  </svg>\n",
              "      </button>\n",
              "      \n",
              "  <style>\n",
              "    .colab-df-container {\n",
              "      display:flex;\n",
              "      flex-wrap:wrap;\n",
              "      gap: 12px;\n",
              "    }\n",
              "\n",
              "    .colab-df-convert {\n",
              "      background-color: #E8F0FE;\n",
              "      border: none;\n",
              "      border-radius: 50%;\n",
              "      cursor: pointer;\n",
              "      display: none;\n",
              "      fill: #1967D2;\n",
              "      height: 32px;\n",
              "      padding: 0 0 0 0;\n",
              "      width: 32px;\n",
              "    }\n",
              "\n",
              "    .colab-df-convert:hover {\n",
              "      background-color: #E2EBFA;\n",
              "      box-shadow: 0px 1px 2px rgba(60, 64, 67, 0.3), 0px 1px 3px 1px rgba(60, 64, 67, 0.15);\n",
              "      fill: #174EA6;\n",
              "    }\n",
              "\n",
              "    [theme=dark] .colab-df-convert {\n",
              "      background-color: #3B4455;\n",
              "      fill: #D2E3FC;\n",
              "    }\n",
              "\n",
              "    [theme=dark] .colab-df-convert:hover {\n",
              "      background-color: #434B5C;\n",
              "      box-shadow: 0px 1px 3px 1px rgba(0, 0, 0, 0.15);\n",
              "      filter: drop-shadow(0px 1px 2px rgba(0, 0, 0, 0.3));\n",
              "      fill: #FFFFFF;\n",
              "    }\n",
              "  </style>\n",
              "\n",
              "      <script>\n",
              "        const buttonEl =\n",
              "          document.querySelector('#df-ef0ead12-82e0-4632-91b0-0931993e7e72 button.colab-df-convert');\n",
              "        buttonEl.style.display =\n",
              "          google.colab.kernel.accessAllowed ? 'block' : 'none';\n",
              "\n",
              "        async function convertToInteractive(key) {\n",
              "          const element = document.querySelector('#df-ef0ead12-82e0-4632-91b0-0931993e7e72');\n",
              "          const dataTable =\n",
              "            await google.colab.kernel.invokeFunction('convertToInteractive',\n",
              "                                                     [key], {});\n",
              "          if (!dataTable) return;\n",
              "\n",
              "          const docLinkHtml = 'Like what you see? Visit the ' +\n",
              "            '<a target=\"_blank\" href=https://colab.research.google.com/notebooks/data_table.ipynb>data table notebook</a>'\n",
              "            + ' to learn more about interactive tables.';\n",
              "          element.innerHTML = '';\n",
              "          dataTable['output_type'] = 'display_data';\n",
              "          await google.colab.output.renderOutput(dataTable, element);\n",
              "          const docLink = document.createElement('div');\n",
              "          docLink.innerHTML = docLinkHtml;\n",
              "          element.appendChild(docLink);\n",
              "        }\n",
              "      </script>\n",
              "    </div>\n",
              "  </div>\n",
              "  "
            ]
          },
          "metadata": {},
          "execution_count": 97
        }
      ]
    },
    {
      "cell_type": "code",
      "source": [
        "y_pred=grid.predict(X_test)"
      ],
      "metadata": {
        "id": "VISXDPBc5nxx"
      },
      "execution_count": null,
      "outputs": []
    },
    {
      "cell_type": "code",
      "source": [
        "from sklearn.linear_model import Ridge\n",
        "from sklearn.metrics import mean_absolute_error\n",
        "from sklearn.model_selection import train_test_split\n",
        "import numpy as np"
      ],
      "metadata": {
        "id": "lW67DTtW6Edw"
      },
      "execution_count": null,
      "outputs": []
    },
    {
      "cell_type": "code",
      "source": [
        "mae = mean_absolute_error(y_test, y_pred)\n",
        "\n",
        "# Get coefficients\n",
        "coefficients = gird.coef_\n",
        "\n",
        "print(\"Mean Absolute Error:\", mae)\n",
        "print(\"Coefficients:\", coefficients)"
      ],
      "metadata": {
        "colab": {
          "base_uri": "https://localhost:8080/",
          "height": 235
        },
        "id": "P8VbLW_g5eJ3",
        "outputId": "9bfae148-c916-4aec-c131-7b3fdfb69900"
      },
      "execution_count": null,
      "outputs": [
        {
          "output_type": "error",
          "ename": "AttributeError",
          "evalue": "ignored",
          "traceback": [
            "\u001b[0;31m---------------------------------------------------------------------------\u001b[0m",
            "\u001b[0;31mAttributeError\u001b[0m                            Traceback (most recent call last)",
            "\u001b[0;32m<ipython-input-83-3b09c38d4035>\u001b[0m in \u001b[0;36m<cell line: 4>\u001b[0;34m()\u001b[0m\n\u001b[1;32m      2\u001b[0m \u001b[0;34m\u001b[0m\u001b[0m\n\u001b[1;32m      3\u001b[0m \u001b[0;31m# Get coefficients\u001b[0m\u001b[0;34m\u001b[0m\u001b[0;34m\u001b[0m\u001b[0m\n\u001b[0;32m----> 4\u001b[0;31m \u001b[0mcoefficients\u001b[0m \u001b[0;34m=\u001b[0m \u001b[0mridge\u001b[0m\u001b[0;34m.\u001b[0m\u001b[0mcoef_\u001b[0m\u001b[0;34m\u001b[0m\u001b[0;34m\u001b[0m\u001b[0m\n\u001b[0m\u001b[1;32m      5\u001b[0m \u001b[0;34m\u001b[0m\u001b[0m\n\u001b[1;32m      6\u001b[0m \u001b[0mprint\u001b[0m\u001b[0;34m(\u001b[0m\u001b[0;34m\"Mean Absolute Error:\"\u001b[0m\u001b[0;34m,\u001b[0m \u001b[0mmae\u001b[0m\u001b[0;34m)\u001b[0m\u001b[0;34m\u001b[0m\u001b[0;34m\u001b[0m\u001b[0m\n",
            "\u001b[0;31mAttributeError\u001b[0m: 'Ridge' object has no attribute 'coef_'"
          ]
        }
      ]
    },
    {
      "cell_type": "code",
      "source": [
        "#This model is a wierd predictor."
      ],
      "metadata": {
        "id": "2WhF5efjs5pO"
      },
      "execution_count": null,
      "outputs": []
    },
    {
      "cell_type": "code",
      "source": [
        "import Tensorflow\n",
        "lstm_model = tf.keras.models.Sequential([\n",
        "    # Shape [batch, time, features] => [batch, time, lstm_units]\n",
        "    tf.keras.layers.LSTM(32, return_sequences=True),\n",
        "    # Shape => [batch, time, features]\n",
        "    tf.keras.layers.Dense(units=1)\n",
        "])"
      ],
      "metadata": {
        "id": "QVD0J-XA6HLA"
      },
      "execution_count": null,
      "outputs": []
    }
  ],
  "metadata": {
    "colab": {
      "provenance": [],
      "collapsed_sections": [
        "7CBZOzKvmqde",
        "VLy1ecOcEBE6"
      ],
      "include_colab_link": true
    },
    "kernelspec": {
      "display_name": "Python 3",
      "name": "python3"
    },
    "language_info": {
      "name": "python"
    }
  },
  "nbformat": 4,
  "nbformat_minor": 0
}