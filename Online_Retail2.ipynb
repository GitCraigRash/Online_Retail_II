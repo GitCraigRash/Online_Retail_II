{
  "cells": [
    {
      "cell_type": "markdown",
      "metadata": {
        "id": "37DhkC-9_UyW"
      },
      "source": [
        "#Using online retail data to \n",
        "#MAXIMIZE PROFITS.\n",
        "\n",
        "###Method 1: Find Priority Countries by Total Spent.(DONE, may need updating))\n",
        "\n",
        "###Method 2: Code Customers by High, Meduim and Low 'Cart Value'(the total sum of all products purchased during an order process.(WORKING)\n",
        "\n",
        "###Method 3: Bar Chart of Product Trends By Month (WORKING)\n",
        "\n",
        "###Method 4: Predict Repeat Customers using Random Forest. (DONE, Needs Optimizing)\n",
        "\n",
        "###Method 5: Bar Graph of when Repeat Customers come. Bar graph of when New Customers come.[Jordon](TODO)\n",
        "\n",
        "### Method 6: Multiple Linear Regression Model[Raul](DONE)\n",
        "\n",
        "### Method 7: Ridge Regression[Brian?]\n",
        "\n",
        "Method 7 TODO What is the new results using mean_absolute_error with new featres?\n"
      ],
      "id": "37DhkC-9_UyW"
    },
    {
      "cell_type": "markdown",
      "metadata": {
        "id": "W0kUJL0HAyoK"
      },
      "source": [
        "##Step1) Create Hypothosis\n",
        "\n",
        "Find seasonal products/trends\n",
        "\n",
        "TODO create graph of repeat customers etc. Jan -March , Oct-Dec \n",
        "\n",
        "When do new customers come in?(when to do marketing campaigns)\n",
        "\n",
        "Increase cart value(avg. how much customer spent across the month). Which product/month has highest cart value. \n",
        "\n",
        "Spending Score based on ??? Bucket (low,med,high) value. Look at average price. \n",
        "##Step 2) Go to the data\n",
        "\n",
        "\n",
        "\n",
        "\n"
      ],
      "id": "W0kUJL0HAyoK"
    },
    {
      "cell_type": "code",
      "source": [
        "!pip install category_encoders"
      ],
      "metadata": {
        "colab": {
          "base_uri": "https://localhost:8080/"
        },
        "id": "CrUg1BrJQ6WF",
        "outputId": "77830185-e065-4669-9887-61eaac04e232"
      },
      "execution_count": null,
      "outputs": [
        {
          "output_type": "stream",
          "name": "stdout",
          "text": [
            "Looking in indexes: https://pypi.org/simple, https://us-python.pkg.dev/colab-wheels/public/simple/\n",
            "Collecting category_encoders\n",
            "  Downloading category_encoders-2.6.0-py2.py3-none-any.whl (81 kB)\n",
            "\u001b[2K     \u001b[90m━━━━━━━━━━━━━━━━━━━━━━━━━━━━━━━━━━━━━━━━\u001b[0m \u001b[32m81.2/81.2 kB\u001b[0m \u001b[31m3.0 MB/s\u001b[0m eta \u001b[36m0:00:00\u001b[0m\n",
            "\u001b[?25hRequirement already satisfied: numpy>=1.14.0 in /usr/local/lib/python3.9/dist-packages (from category_encoders) (1.22.4)\n",
            "Requirement already satisfied: patsy>=0.5.1 in /usr/local/lib/python3.9/dist-packages (from category_encoders) (0.5.3)\n",
            "Requirement already satisfied: pandas>=1.0.5 in /usr/local/lib/python3.9/dist-packages (from category_encoders) (1.5.3)\n",
            "Requirement already satisfied: statsmodels>=0.9.0 in /usr/local/lib/python3.9/dist-packages (from category_encoders) (0.13.5)\n",
            "Requirement already satisfied: scipy>=1.0.0 in /usr/local/lib/python3.9/dist-packages (from category_encoders) (1.10.1)\n",
            "Requirement already satisfied: scikit-learn>=0.20.0 in /usr/local/lib/python3.9/dist-packages (from category_encoders) (1.2.2)\n",
            "Requirement already satisfied: python-dateutil>=2.8.1 in /usr/local/lib/python3.9/dist-packages (from pandas>=1.0.5->category_encoders) (2.8.2)\n",
            "Requirement already satisfied: pytz>=2020.1 in /usr/local/lib/python3.9/dist-packages (from pandas>=1.0.5->category_encoders) (2022.7.1)\n",
            "Requirement already satisfied: six in /usr/local/lib/python3.9/dist-packages (from patsy>=0.5.1->category_encoders) (1.16.0)\n",
            "Requirement already satisfied: joblib>=1.1.1 in /usr/local/lib/python3.9/dist-packages (from scikit-learn>=0.20.0->category_encoders) (1.2.0)\n",
            "Requirement already satisfied: threadpoolctl>=2.0.0 in /usr/local/lib/python3.9/dist-packages (from scikit-learn>=0.20.0->category_encoders) (3.1.0)\n",
            "Requirement already satisfied: packaging>=21.3 in /usr/local/lib/python3.9/dist-packages (from statsmodels>=0.9.0->category_encoders) (23.1)\n",
            "Installing collected packages: category_encoders\n",
            "Successfully installed category_encoders-2.6.0\n"
          ]
        }
      ],
      "id": "CrUg1BrJQ6WF"
    },
    {
      "cell_type": "code",
      "execution_count": null,
      "metadata": {
        "id": "eqEr_bIGI9Wo"
      },
      "outputs": [],
      "source": [
        "#Import various libraries\n",
        "import pandas as pd\n",
        "import numpy as np\n",
        "import matplotlib.pyplot as plt\n",
        "import seaborn as sns\n",
        "from sklearn.model_selection import train_test_split\n",
        "from category_encoders import OrdinalEncoder\n",
        "\n",
        "from sklearn.linear_model import Ridge\n",
        "\n",
        "from sklearn.metrics import mean_absolute_error, mean_squared_error, r2_score"
      ],
      "id": "eqEr_bIGI9Wo"
    },
    {
      "cell_type": "code",
      "execution_count": null,
      "metadata": {
        "colab": {
          "base_uri": "https://localhost:8080/",
          "height": 74
        },
        "id": "NNUEaI2lJAWm",
        "outputId": "bc5734ba-4cf8-49f8-d996-459c26ffd014"
      },
      "outputs": [
        {
          "output_type": "display_data",
          "data": {
            "text/plain": [
              "<IPython.core.display.HTML object>"
            ],
            "text/html": [
              "\n",
              "     <input type=\"file\" id=\"files-0607a1f0-aa9e-479b-ae65-feb2b6400d80\" name=\"files[]\" multiple disabled\n",
              "        style=\"border:none\" />\n",
              "     <output id=\"result-0607a1f0-aa9e-479b-ae65-feb2b6400d80\">\n",
              "      Upload widget is only available when the cell has been executed in the\n",
              "      current browser session. Please rerun this cell to enable.\n",
              "      </output>\n",
              "      <script>// Copyright 2017 Google LLC\n",
              "//\n",
              "// Licensed under the Apache License, Version 2.0 (the \"License\");\n",
              "// you may not use this file except in compliance with the License.\n",
              "// You may obtain a copy of the License at\n",
              "//\n",
              "//      http://www.apache.org/licenses/LICENSE-2.0\n",
              "//\n",
              "// Unless required by applicable law or agreed to in writing, software\n",
              "// distributed under the License is distributed on an \"AS IS\" BASIS,\n",
              "// WITHOUT WARRANTIES OR CONDITIONS OF ANY KIND, either express or implied.\n",
              "// See the License for the specific language governing permissions and\n",
              "// limitations under the License.\n",
              "\n",
              "/**\n",
              " * @fileoverview Helpers for google.colab Python module.\n",
              " */\n",
              "(function(scope) {\n",
              "function span(text, styleAttributes = {}) {\n",
              "  const element = document.createElement('span');\n",
              "  element.textContent = text;\n",
              "  for (const key of Object.keys(styleAttributes)) {\n",
              "    element.style[key] = styleAttributes[key];\n",
              "  }\n",
              "  return element;\n",
              "}\n",
              "\n",
              "// Max number of bytes which will be uploaded at a time.\n",
              "const MAX_PAYLOAD_SIZE = 100 * 1024;\n",
              "\n",
              "function _uploadFiles(inputId, outputId) {\n",
              "  const steps = uploadFilesStep(inputId, outputId);\n",
              "  const outputElement = document.getElementById(outputId);\n",
              "  // Cache steps on the outputElement to make it available for the next call\n",
              "  // to uploadFilesContinue from Python.\n",
              "  outputElement.steps = steps;\n",
              "\n",
              "  return _uploadFilesContinue(outputId);\n",
              "}\n",
              "\n",
              "// This is roughly an async generator (not supported in the browser yet),\n",
              "// where there are multiple asynchronous steps and the Python side is going\n",
              "// to poll for completion of each step.\n",
              "// This uses a Promise to block the python side on completion of each step,\n",
              "// then passes the result of the previous step as the input to the next step.\n",
              "function _uploadFilesContinue(outputId) {\n",
              "  const outputElement = document.getElementById(outputId);\n",
              "  const steps = outputElement.steps;\n",
              "\n",
              "  const next = steps.next(outputElement.lastPromiseValue);\n",
              "  return Promise.resolve(next.value.promise).then((value) => {\n",
              "    // Cache the last promise value to make it available to the next\n",
              "    // step of the generator.\n",
              "    outputElement.lastPromiseValue = value;\n",
              "    return next.value.response;\n",
              "  });\n",
              "}\n",
              "\n",
              "/**\n",
              " * Generator function which is called between each async step of the upload\n",
              " * process.\n",
              " * @param {string} inputId Element ID of the input file picker element.\n",
              " * @param {string} outputId Element ID of the output display.\n",
              " * @return {!Iterable<!Object>} Iterable of next steps.\n",
              " */\n",
              "function* uploadFilesStep(inputId, outputId) {\n",
              "  const inputElement = document.getElementById(inputId);\n",
              "  inputElement.disabled = false;\n",
              "\n",
              "  const outputElement = document.getElementById(outputId);\n",
              "  outputElement.innerHTML = '';\n",
              "\n",
              "  const pickedPromise = new Promise((resolve) => {\n",
              "    inputElement.addEventListener('change', (e) => {\n",
              "      resolve(e.target.files);\n",
              "    });\n",
              "  });\n",
              "\n",
              "  const cancel = document.createElement('button');\n",
              "  inputElement.parentElement.appendChild(cancel);\n",
              "  cancel.textContent = 'Cancel upload';\n",
              "  const cancelPromise = new Promise((resolve) => {\n",
              "    cancel.onclick = () => {\n",
              "      resolve(null);\n",
              "    };\n",
              "  });\n",
              "\n",
              "  // Wait for the user to pick the files.\n",
              "  const files = yield {\n",
              "    promise: Promise.race([pickedPromise, cancelPromise]),\n",
              "    response: {\n",
              "      action: 'starting',\n",
              "    }\n",
              "  };\n",
              "\n",
              "  cancel.remove();\n",
              "\n",
              "  // Disable the input element since further picks are not allowed.\n",
              "  inputElement.disabled = true;\n",
              "\n",
              "  if (!files) {\n",
              "    return {\n",
              "      response: {\n",
              "        action: 'complete',\n",
              "      }\n",
              "    };\n",
              "  }\n",
              "\n",
              "  for (const file of files) {\n",
              "    const li = document.createElement('li');\n",
              "    li.append(span(file.name, {fontWeight: 'bold'}));\n",
              "    li.append(span(\n",
              "        `(${file.type || 'n/a'}) - ${file.size} bytes, ` +\n",
              "        `last modified: ${\n",
              "            file.lastModifiedDate ? file.lastModifiedDate.toLocaleDateString() :\n",
              "                                    'n/a'} - `));\n",
              "    const percent = span('0% done');\n",
              "    li.appendChild(percent);\n",
              "\n",
              "    outputElement.appendChild(li);\n",
              "\n",
              "    const fileDataPromise = new Promise((resolve) => {\n",
              "      const reader = new FileReader();\n",
              "      reader.onload = (e) => {\n",
              "        resolve(e.target.result);\n",
              "      };\n",
              "      reader.readAsArrayBuffer(file);\n",
              "    });\n",
              "    // Wait for the data to be ready.\n",
              "    let fileData = yield {\n",
              "      promise: fileDataPromise,\n",
              "      response: {\n",
              "        action: 'continue',\n",
              "      }\n",
              "    };\n",
              "\n",
              "    // Use a chunked sending to avoid message size limits. See b/62115660.\n",
              "    let position = 0;\n",
              "    do {\n",
              "      const length = Math.min(fileData.byteLength - position, MAX_PAYLOAD_SIZE);\n",
              "      const chunk = new Uint8Array(fileData, position, length);\n",
              "      position += length;\n",
              "\n",
              "      const base64 = btoa(String.fromCharCode.apply(null, chunk));\n",
              "      yield {\n",
              "        response: {\n",
              "          action: 'append',\n",
              "          file: file.name,\n",
              "          data: base64,\n",
              "        },\n",
              "      };\n",
              "\n",
              "      let percentDone = fileData.byteLength === 0 ?\n",
              "          100 :\n",
              "          Math.round((position / fileData.byteLength) * 100);\n",
              "      percent.textContent = `${percentDone}% done`;\n",
              "\n",
              "    } while (position < fileData.byteLength);\n",
              "  }\n",
              "\n",
              "  // All done.\n",
              "  yield {\n",
              "    response: {\n",
              "      action: 'complete',\n",
              "    }\n",
              "  };\n",
              "}\n",
              "\n",
              "scope.google = scope.google || {};\n",
              "scope.google.colab = scope.google.colab || {};\n",
              "scope.google.colab._files = {\n",
              "  _uploadFiles,\n",
              "  _uploadFilesContinue,\n",
              "};\n",
              "})(self);\n",
              "</script> "
            ]
          },
          "metadata": {}
        },
        {
          "output_type": "stream",
          "name": "stdout",
          "text": [
            "Saving online_retail_II.csv to online_retail_II.csv\n"
          ]
        }
      ],
      "source": [
        "#Import online_retail_II.csv\n",
        "from google.colab import files\n",
        "uploaded = files.upload()"
      ],
      "id": "NNUEaI2lJAWm"
    },
    {
      "cell_type": "code",
      "source": [
        "def wrangle(csv):\n",
        "  df=pd.read_csv(csv,\n",
        "                 index_col=\"InvoiceDate\",\n",
        "                 parse_dates=True)\n",
        "  df.drop(columns=[\"Description\",\"Invoice\"], inplace=True)\n",
        "  #Deal with null(unknown Customer ID) values.\n",
        "\n",
        "  # Create a boolean mask indicating which rows have missing values\n",
        "  missing_mask = df.isnull().any(axis=1)\n",
        "  \n",
        "  # Define the categorical features\n",
        "  df['StockCode']=OrdinalEncoder().fit_transform(df['StockCode'])\n",
        "  df['Country']=OrdinalEncoder().fit_transform(df['Country'])\n",
        "  # Use the mask to create two separate DataFrames\n",
        "  unknown_df = df[missing_mask]\n",
        "  known_df = df[~missing_mask]\n",
        "  return unknown_df,known_df"
      ],
      "metadata": {
        "id": "mTupA2TPceq_"
      },
      "execution_count": null,
      "outputs": [],
      "id": "mTupA2TPceq_"
    },
    {
      "cell_type": "code",
      "source": [
        "unknown_df,known_df=wrangle(\"online_retail_II.csv\")\n",
        "unknown_df"
      ],
      "metadata": {
        "colab": {
          "base_uri": "https://localhost:8080/",
          "height": 455
        },
        "id": "rP2Agbm1d4I6",
        "outputId": "8dd6a4a2-9160-41fe-8697-d0b59e8df735"
      },
      "execution_count": null,
      "outputs": [
        {
          "output_type": "execute_result",
          "data": {
            "text/plain": [
              "                     StockCode  Quantity    Price  Customer ID  Country\n",
              "InvoiceDate                                                            \n",
              "2009-12-01 10:52:00        131       -96     0.00          NaN        1\n",
              "2009-12-01 10:52:00        214      -240     0.00          NaN        1\n",
              "2009-12-01 10:53:00         92      -192     0.00          NaN        1\n",
              "2009-12-01 11:44:00        333       -50     0.00          NaN        1\n",
              "2009-12-01 11:49:00        408         1     0.55          NaN        1\n",
              "...                        ...       ...      ...          ...      ...\n",
              "2011-12-09 10:26:00        142         5     4.13          NaN        1\n",
              "2011-12-09 10:26:00        625         4     4.13          NaN        1\n",
              "2011-12-09 10:26:00        113         1     4.96          NaN        1\n",
              "2011-12-09 10:26:00        898         1    10.79          NaN        1\n",
              "2011-12-09 10:26:00       1162         1  1714.17          NaN        1\n",
              "\n",
              "[243007 rows x 5 columns]"
            ],
            "text/html": [
              "\n",
              "  <div id=\"df-d91047e6-4961-4508-9451-14858b061575\">\n",
              "    <div class=\"colab-df-container\">\n",
              "      <div>\n",
              "<style scoped>\n",
              "    .dataframe tbody tr th:only-of-type {\n",
              "        vertical-align: middle;\n",
              "    }\n",
              "\n",
              "    .dataframe tbody tr th {\n",
              "        vertical-align: top;\n",
              "    }\n",
              "\n",
              "    .dataframe thead th {\n",
              "        text-align: right;\n",
              "    }\n",
              "</style>\n",
              "<table border=\"1\" class=\"dataframe\">\n",
              "  <thead>\n",
              "    <tr style=\"text-align: right;\">\n",
              "      <th></th>\n",
              "      <th>StockCode</th>\n",
              "      <th>Quantity</th>\n",
              "      <th>Price</th>\n",
              "      <th>Customer ID</th>\n",
              "      <th>Country</th>\n",
              "    </tr>\n",
              "    <tr>\n",
              "      <th>InvoiceDate</th>\n",
              "      <th></th>\n",
              "      <th></th>\n",
              "      <th></th>\n",
              "      <th></th>\n",
              "      <th></th>\n",
              "    </tr>\n",
              "  </thead>\n",
              "  <tbody>\n",
              "    <tr>\n",
              "      <th>2009-12-01 10:52:00</th>\n",
              "      <td>131</td>\n",
              "      <td>-96</td>\n",
              "      <td>0.00</td>\n",
              "      <td>NaN</td>\n",
              "      <td>1</td>\n",
              "    </tr>\n",
              "    <tr>\n",
              "      <th>2009-12-01 10:52:00</th>\n",
              "      <td>214</td>\n",
              "      <td>-240</td>\n",
              "      <td>0.00</td>\n",
              "      <td>NaN</td>\n",
              "      <td>1</td>\n",
              "    </tr>\n",
              "    <tr>\n",
              "      <th>2009-12-01 10:53:00</th>\n",
              "      <td>92</td>\n",
              "      <td>-192</td>\n",
              "      <td>0.00</td>\n",
              "      <td>NaN</td>\n",
              "      <td>1</td>\n",
              "    </tr>\n",
              "    <tr>\n",
              "      <th>2009-12-01 11:44:00</th>\n",
              "      <td>333</td>\n",
              "      <td>-50</td>\n",
              "      <td>0.00</td>\n",
              "      <td>NaN</td>\n",
              "      <td>1</td>\n",
              "    </tr>\n",
              "    <tr>\n",
              "      <th>2009-12-01 11:49:00</th>\n",
              "      <td>408</td>\n",
              "      <td>1</td>\n",
              "      <td>0.55</td>\n",
              "      <td>NaN</td>\n",
              "      <td>1</td>\n",
              "    </tr>\n",
              "    <tr>\n",
              "      <th>...</th>\n",
              "      <td>...</td>\n",
              "      <td>...</td>\n",
              "      <td>...</td>\n",
              "      <td>...</td>\n",
              "      <td>...</td>\n",
              "    </tr>\n",
              "    <tr>\n",
              "      <th>2011-12-09 10:26:00</th>\n",
              "      <td>142</td>\n",
              "      <td>5</td>\n",
              "      <td>4.13</td>\n",
              "      <td>NaN</td>\n",
              "      <td>1</td>\n",
              "    </tr>\n",
              "    <tr>\n",
              "      <th>2011-12-09 10:26:00</th>\n",
              "      <td>625</td>\n",
              "      <td>4</td>\n",
              "      <td>4.13</td>\n",
              "      <td>NaN</td>\n",
              "      <td>1</td>\n",
              "    </tr>\n",
              "    <tr>\n",
              "      <th>2011-12-09 10:26:00</th>\n",
              "      <td>113</td>\n",
              "      <td>1</td>\n",
              "      <td>4.96</td>\n",
              "      <td>NaN</td>\n",
              "      <td>1</td>\n",
              "    </tr>\n",
              "    <tr>\n",
              "      <th>2011-12-09 10:26:00</th>\n",
              "      <td>898</td>\n",
              "      <td>1</td>\n",
              "      <td>10.79</td>\n",
              "      <td>NaN</td>\n",
              "      <td>1</td>\n",
              "    </tr>\n",
              "    <tr>\n",
              "      <th>2011-12-09 10:26:00</th>\n",
              "      <td>1162</td>\n",
              "      <td>1</td>\n",
              "      <td>1714.17</td>\n",
              "      <td>NaN</td>\n",
              "      <td>1</td>\n",
              "    </tr>\n",
              "  </tbody>\n",
              "</table>\n",
              "<p>243007 rows × 5 columns</p>\n",
              "</div>\n",
              "      <button class=\"colab-df-convert\" onclick=\"convertToInteractive('df-d91047e6-4961-4508-9451-14858b061575')\"\n",
              "              title=\"Convert this dataframe to an interactive table.\"\n",
              "              style=\"display:none;\">\n",
              "        \n",
              "  <svg xmlns=\"http://www.w3.org/2000/svg\" height=\"24px\"viewBox=\"0 0 24 24\"\n",
              "       width=\"24px\">\n",
              "    <path d=\"M0 0h24v24H0V0z\" fill=\"none\"/>\n",
              "    <path d=\"M18.56 5.44l.94 2.06.94-2.06 2.06-.94-2.06-.94-.94-2.06-.94 2.06-2.06.94zm-11 1L8.5 8.5l.94-2.06 2.06-.94-2.06-.94L8.5 2.5l-.94 2.06-2.06.94zm10 10l.94 2.06.94-2.06 2.06-.94-2.06-.94-.94-2.06-.94 2.06-2.06.94z\"/><path d=\"M17.41 7.96l-1.37-1.37c-.4-.4-.92-.59-1.43-.59-.52 0-1.04.2-1.43.59L10.3 9.45l-7.72 7.72c-.78.78-.78 2.05 0 2.83L4 21.41c.39.39.9.59 1.41.59.51 0 1.02-.2 1.41-.59l7.78-7.78 2.81-2.81c.8-.78.8-2.07 0-2.86zM5.41 20L4 18.59l7.72-7.72 1.47 1.35L5.41 20z\"/>\n",
              "  </svg>\n",
              "      </button>\n",
              "      \n",
              "  <style>\n",
              "    .colab-df-container {\n",
              "      display:flex;\n",
              "      flex-wrap:wrap;\n",
              "      gap: 12px;\n",
              "    }\n",
              "\n",
              "    .colab-df-convert {\n",
              "      background-color: #E8F0FE;\n",
              "      border: none;\n",
              "      border-radius: 50%;\n",
              "      cursor: pointer;\n",
              "      display: none;\n",
              "      fill: #1967D2;\n",
              "      height: 32px;\n",
              "      padding: 0 0 0 0;\n",
              "      width: 32px;\n",
              "    }\n",
              "\n",
              "    .colab-df-convert:hover {\n",
              "      background-color: #E2EBFA;\n",
              "      box-shadow: 0px 1px 2px rgba(60, 64, 67, 0.3), 0px 1px 3px 1px rgba(60, 64, 67, 0.15);\n",
              "      fill: #174EA6;\n",
              "    }\n",
              "\n",
              "    [theme=dark] .colab-df-convert {\n",
              "      background-color: #3B4455;\n",
              "      fill: #D2E3FC;\n",
              "    }\n",
              "\n",
              "    [theme=dark] .colab-df-convert:hover {\n",
              "      background-color: #434B5C;\n",
              "      box-shadow: 0px 1px 3px 1px rgba(0, 0, 0, 0.15);\n",
              "      filter: drop-shadow(0px 1px 2px rgba(0, 0, 0, 0.3));\n",
              "      fill: #FFFFFF;\n",
              "    }\n",
              "  </style>\n",
              "\n",
              "      <script>\n",
              "        const buttonEl =\n",
              "          document.querySelector('#df-d91047e6-4961-4508-9451-14858b061575 button.colab-df-convert');\n",
              "        buttonEl.style.display =\n",
              "          google.colab.kernel.accessAllowed ? 'block' : 'none';\n",
              "\n",
              "        async function convertToInteractive(key) {\n",
              "          const element = document.querySelector('#df-d91047e6-4961-4508-9451-14858b061575');\n",
              "          const dataTable =\n",
              "            await google.colab.kernel.invokeFunction('convertToInteractive',\n",
              "                                                     [key], {});\n",
              "          if (!dataTable) return;\n",
              "\n",
              "          const docLinkHtml = 'Like what you see? Visit the ' +\n",
              "            '<a target=\"_blank\" href=https://colab.research.google.com/notebooks/data_table.ipynb>data table notebook</a>'\n",
              "            + ' to learn more about interactive tables.';\n",
              "          element.innerHTML = '';\n",
              "          dataTable['output_type'] = 'display_data';\n",
              "          await google.colab.output.renderOutput(dataTable, element);\n",
              "          const docLink = document.createElement('div');\n",
              "          docLink.innerHTML = docLinkHtml;\n",
              "          element.appendChild(docLink);\n",
              "        }\n",
              "      </script>\n",
              "    </div>\n",
              "  </div>\n",
              "  "
            ]
          },
          "metadata": {},
          "execution_count": 5
        }
      ],
      "id": "rP2Agbm1d4I6"
    },
    {
      "cell_type": "markdown",
      "source": [
        "Predict the quantity of the MOST common item, based on orders of the past 30 days.\n",
        "step 1 filter by most common item\n",
        "step 2 Feature engineer "
      ],
      "metadata": {
        "id": "TF7TgPpQv87O"
      },
      "id": "TF7TgPpQv87O"
    },
    {
      "cell_type": "markdown",
      "source": [
        "# add a rolling function of the average of price variates over the last thirty days. "
      ],
      "metadata": {
        "id": "ewQiXy42una_"
      },
      "id": "ewQiXy42una_"
    },
    {
      "cell_type": "code",
      "source": [
        "known_df['StockCode']=OrdinalEncoder().fit_transform(known_df['StockCode'])\n",
        "known_df['Country']=OrdinalEncoder().fit_transform(known_df['Country'])"
      ],
      "metadata": {
        "id": "f27FSvpX4o5A",
        "colab": {
          "base_uri": "https://localhost:8080/"
        },
        "outputId": "1e17bee8-3d38-45c9-c28d-0f67c8377239"
      },
      "execution_count": null,
      "outputs": [
        {
          "output_type": "stream",
          "name": "stdout",
          "text": [
            "Warning: No categorical columns found. Calling 'transform' will only return input data.\n",
            "Warning: No categorical columns found. Calling 'transform' will only return input data.\n"
          ]
        }
      ],
      "id": "f27FSvpX4o5A"
    },
    {
      "cell_type": "code",
      "source": [
        "type(dknown_dff[\"InvoiceDate\"][0])"
      ],
      "metadata": {
        "colab": {
          "base_uri": "https://localhost:8080/",
          "height": 169
        },
        "id": "fcOcGE_qc9WN",
        "outputId": "3d2e031b-4586-4b4c-a114-9e4866de34f8"
      },
      "execution_count": null,
      "outputs": [
        {
          "output_type": "error",
          "ename": "NameError",
          "evalue": "ignored",
          "traceback": [
            "\u001b[0;31m---------------------------------------------------------------------------\u001b[0m",
            "\u001b[0;31mNameError\u001b[0m                                 Traceback (most recent call last)",
            "\u001b[0;32m<ipython-input-8-e47c5d26028e>\u001b[0m in \u001b[0;36m<cell line: 1>\u001b[0;34m()\u001b[0m\n\u001b[0;32m----> 1\u001b[0;31m \u001b[0mtype\u001b[0m\u001b[0;34m(\u001b[0m\u001b[0mdknown_dff\u001b[0m\u001b[0;34m[\u001b[0m\u001b[0;34m\"InvoiceDate\"\u001b[0m\u001b[0;34m]\u001b[0m\u001b[0;34m[\u001b[0m\u001b[0;36m0\u001b[0m\u001b[0;34m]\u001b[0m\u001b[0;34m)\u001b[0m\u001b[0;34m\u001b[0m\u001b[0;34m\u001b[0m\u001b[0m\n\u001b[0m",
            "\u001b[0;31mNameError\u001b[0m: name 'dknown_dff' is not defined"
          ]
        }
      ],
      "id": "fcOcGE_qc9WN"
    },
    {
      "cell_type": "code",
      "execution_count": null,
      "metadata": {
        "id": "ofpsaHFhCC4F"
      },
      "outputs": [],
      "source": [
        "minidf=known_df.head(5000)\n",
        "minidf.head(100)"
      ],
      "id": "ofpsaHFhCC4F"
    },
    {
      "cell_type": "markdown",
      "metadata": {
        "id": "7CBZOzKvmqde"
      },
      "source": [
        "##Method 1: Find Priority Countries by Total Spent.(Done, may need updating) "
      ],
      "id": "7CBZOzKvmqde"
    },
    {
      "cell_type": "code",
      "execution_count": null,
      "metadata": {
        "id": "BTEd90o-XM12"
      },
      "outputs": [],
      "source": [
        "#Create totalspending column.\n",
        "known_df['totalspending'] = known_df['Quantity'] * known_df['Price']"
      ],
      "id": "BTEd90o-XM12"
    },
    {
      "cell_type": "code",
      "execution_count": null,
      "metadata": {
        "colab": {
          "base_uri": "https://localhost:8080/",
          "height": 514
        },
        "id": "LPnjU5heLHXT",
        "outputId": "7361e595-36e0-4a06-ec1c-e10a7720eff8"
      },
      "outputs": [
        {
          "output_type": "error",
          "ename": "KeyError",
          "evalue": "ignored",
          "traceback": [
            "\u001b[0;31m---------------------------------------------------------------------------\u001b[0m",
            "\u001b[0;31mKeyError\u001b[0m                                  Traceback (most recent call last)",
            "\u001b[0;32m/usr/local/lib/python3.9/dist-packages/pandas/core/indexes/base.py\u001b[0m in \u001b[0;36mget_loc\u001b[0;34m(self, key, method, tolerance)\u001b[0m\n\u001b[1;32m   3801\u001b[0m             \u001b[0;32mtry\u001b[0m\u001b[0;34m:\u001b[0m\u001b[0;34m\u001b[0m\u001b[0;34m\u001b[0m\u001b[0m\n\u001b[0;32m-> 3802\u001b[0;31m                 \u001b[0;32mreturn\u001b[0m \u001b[0mself\u001b[0m\u001b[0;34m.\u001b[0m\u001b[0m_engine\u001b[0m\u001b[0;34m.\u001b[0m\u001b[0mget_loc\u001b[0m\u001b[0;34m(\u001b[0m\u001b[0mcasted_key\u001b[0m\u001b[0;34m)\u001b[0m\u001b[0;34m\u001b[0m\u001b[0;34m\u001b[0m\u001b[0m\n\u001b[0m\u001b[1;32m   3803\u001b[0m             \u001b[0;32mexcept\u001b[0m \u001b[0mKeyError\u001b[0m \u001b[0;32mas\u001b[0m \u001b[0merr\u001b[0m\u001b[0;34m:\u001b[0m\u001b[0;34m\u001b[0m\u001b[0;34m\u001b[0m\u001b[0m\n",
            "\u001b[0;32m/usr/local/lib/python3.9/dist-packages/pandas/_libs/index.pyx\u001b[0m in \u001b[0;36mpandas._libs.index.IndexEngine.get_loc\u001b[0;34m()\u001b[0m\n",
            "\u001b[0;32m/usr/local/lib/python3.9/dist-packages/pandas/_libs/index.pyx\u001b[0m in \u001b[0;36mpandas._libs.index.IndexEngine.get_loc\u001b[0;34m()\u001b[0m\n",
            "\u001b[0;32mpandas/_libs/hashtable_class_helper.pxi\u001b[0m in \u001b[0;36mpandas._libs.hashtable.PyObjectHashTable.get_item\u001b[0;34m()\u001b[0m\n",
            "\u001b[0;32mpandas/_libs/hashtable_class_helper.pxi\u001b[0m in \u001b[0;36mpandas._libs.hashtable.PyObjectHashTable.get_item\u001b[0;34m()\u001b[0m\n",
            "\u001b[0;31mKeyError\u001b[0m: 'totalspending'",
            "\nThe above exception was the direct cause of the following exception:\n",
            "\u001b[0;31mKeyError\u001b[0m                                  Traceback (most recent call last)",
            "\u001b[0;32m<ipython-input-9-e086cf93e720>\u001b[0m in \u001b[0;36m<cell line: 5>\u001b[0;34m()\u001b[0m\n\u001b[1;32m      3\u001b[0m \u001b[0;34m\u001b[0m\u001b[0m\n\u001b[1;32m      4\u001b[0m \u001b[0;34m\u001b[0m\u001b[0m\n\u001b[0;32m----> 5\u001b[0;31m \u001b[0mknown_df\u001b[0m\u001b[0;34m=\u001b[0m\u001b[0mknown_df\u001b[0m\u001b[0;34m.\u001b[0m\u001b[0mloc\u001b[0m\u001b[0;34m[\u001b[0m\u001b[0mknown_df\u001b[0m\u001b[0;34m[\u001b[0m\u001b[0;34m\"totalspending\"\u001b[0m\u001b[0;34m]\u001b[0m\u001b[0;34m>\u001b[0m\u001b[0;36m0\u001b[0m\u001b[0;34m]\u001b[0m\u001b[0;34m.\u001b[0m\u001b[0mreset_index\u001b[0m\u001b[0;34m(\u001b[0m\u001b[0mdrop\u001b[0m\u001b[0;34m=\u001b[0m\u001b[0;32mTrue\u001b[0m\u001b[0;34m)\u001b[0m\u001b[0;34m\u001b[0m\u001b[0;34m\u001b[0m\u001b[0m\n\u001b[0m\u001b[1;32m      6\u001b[0m \u001b[0mknown_df\u001b[0m\u001b[0;34m[\u001b[0m\u001b[0;34m\"totalspending\"\u001b[0m\u001b[0;34m]\u001b[0m\u001b[0;34m.\u001b[0m\u001b[0mmin\u001b[0m\u001b[0;34m(\u001b[0m\u001b[0;34m)\u001b[0m\u001b[0;34m\u001b[0m\u001b[0;34m\u001b[0m\u001b[0m\n",
            "\u001b[0;32m/usr/local/lib/python3.9/dist-packages/pandas/core/frame.py\u001b[0m in \u001b[0;36m__getitem__\u001b[0;34m(self, key)\u001b[0m\n\u001b[1;32m   3805\u001b[0m             \u001b[0;32mif\u001b[0m \u001b[0mself\u001b[0m\u001b[0;34m.\u001b[0m\u001b[0mcolumns\u001b[0m\u001b[0;34m.\u001b[0m\u001b[0mnlevels\u001b[0m \u001b[0;34m>\u001b[0m \u001b[0;36m1\u001b[0m\u001b[0;34m:\u001b[0m\u001b[0;34m\u001b[0m\u001b[0;34m\u001b[0m\u001b[0m\n\u001b[1;32m   3806\u001b[0m                 \u001b[0;32mreturn\u001b[0m \u001b[0mself\u001b[0m\u001b[0;34m.\u001b[0m\u001b[0m_getitem_multilevel\u001b[0m\u001b[0;34m(\u001b[0m\u001b[0mkey\u001b[0m\u001b[0;34m)\u001b[0m\u001b[0;34m\u001b[0m\u001b[0;34m\u001b[0m\u001b[0m\n\u001b[0;32m-> 3807\u001b[0;31m             \u001b[0mindexer\u001b[0m \u001b[0;34m=\u001b[0m \u001b[0mself\u001b[0m\u001b[0;34m.\u001b[0m\u001b[0mcolumns\u001b[0m\u001b[0;34m.\u001b[0m\u001b[0mget_loc\u001b[0m\u001b[0;34m(\u001b[0m\u001b[0mkey\u001b[0m\u001b[0;34m)\u001b[0m\u001b[0;34m\u001b[0m\u001b[0;34m\u001b[0m\u001b[0m\n\u001b[0m\u001b[1;32m   3808\u001b[0m             \u001b[0;32mif\u001b[0m \u001b[0mis_integer\u001b[0m\u001b[0;34m(\u001b[0m\u001b[0mindexer\u001b[0m\u001b[0;34m)\u001b[0m\u001b[0;34m:\u001b[0m\u001b[0;34m\u001b[0m\u001b[0;34m\u001b[0m\u001b[0m\n\u001b[1;32m   3809\u001b[0m                 \u001b[0mindexer\u001b[0m \u001b[0;34m=\u001b[0m \u001b[0;34m[\u001b[0m\u001b[0mindexer\u001b[0m\u001b[0;34m]\u001b[0m\u001b[0;34m\u001b[0m\u001b[0;34m\u001b[0m\u001b[0m\n",
            "\u001b[0;32m/usr/local/lib/python3.9/dist-packages/pandas/core/indexes/base.py\u001b[0m in \u001b[0;36mget_loc\u001b[0;34m(self, key, method, tolerance)\u001b[0m\n\u001b[1;32m   3802\u001b[0m                 \u001b[0;32mreturn\u001b[0m \u001b[0mself\u001b[0m\u001b[0;34m.\u001b[0m\u001b[0m_engine\u001b[0m\u001b[0;34m.\u001b[0m\u001b[0mget_loc\u001b[0m\u001b[0;34m(\u001b[0m\u001b[0mcasted_key\u001b[0m\u001b[0;34m)\u001b[0m\u001b[0;34m\u001b[0m\u001b[0;34m\u001b[0m\u001b[0m\n\u001b[1;32m   3803\u001b[0m             \u001b[0;32mexcept\u001b[0m \u001b[0mKeyError\u001b[0m \u001b[0;32mas\u001b[0m \u001b[0merr\u001b[0m\u001b[0;34m:\u001b[0m\u001b[0;34m\u001b[0m\u001b[0;34m\u001b[0m\u001b[0m\n\u001b[0;32m-> 3804\u001b[0;31m                 \u001b[0;32mraise\u001b[0m \u001b[0mKeyError\u001b[0m\u001b[0;34m(\u001b[0m\u001b[0mkey\u001b[0m\u001b[0;34m)\u001b[0m \u001b[0;32mfrom\u001b[0m \u001b[0merr\u001b[0m\u001b[0;34m\u001b[0m\u001b[0;34m\u001b[0m\u001b[0m\n\u001b[0m\u001b[1;32m   3805\u001b[0m             \u001b[0;32mexcept\u001b[0m \u001b[0mTypeError\u001b[0m\u001b[0;34m:\u001b[0m\u001b[0;34m\u001b[0m\u001b[0;34m\u001b[0m\u001b[0m\n\u001b[1;32m   3806\u001b[0m                 \u001b[0;31m# If we have a listlike key, _check_indexing_error will raise\u001b[0m\u001b[0;34m\u001b[0m\u001b[0;34m\u001b[0m\u001b[0m\n",
            "\u001b[0;31mKeyError\u001b[0m: 'totalspending'"
          ]
        }
      ],
      "source": [
        "### To reduce Complexity and scope, we will eliminiate returns. We assume all returns are negative. \n",
        "\n",
        "\n",
        "\n",
        "known_df=known_df.loc[known_df[\"totalspending\"]>0].reset_index(drop=True)\n",
        "known_df[\"totalspending\"].min()"
      ],
      "id": "LPnjU5heLHXT"
    },
    {
      "cell_type": "markdown",
      "source": [
        "We have found an anomoly, if\n",
        "#Company A transaction 1- bought 1000 of stuff\n",
        "#Company A transaction 101- returned 1000 of stuff\n",
        "#Company A balance 0\n",
        "\n",
        "#Then why do we have some companies with -1000? \n",
        "\n",
        "#Explainations: \n",
        "  #Items purchused from previous year. \n",
        "  #Unrecored purchases. \n",
        "  #Items returned for more than selling price.  \n"
      ],
      "metadata": {
        "id": "DovS3oPv5yL8"
      },
      "id": "DovS3oPv5yL8"
    },
    {
      "cell_type": "markdown",
      "metadata": {
        "id": "K9NovKmKEpYA"
      },
      "source": [],
      "id": "K9NovKmKEpYA"
    },
    {
      "cell_type": "code",
      "execution_count": null,
      "metadata": {
        "id": "uSYlvtswXbIb"
      },
      "outputs": [],
      "source": [
        "countries=known_df[\"Country\"].unique()\n",
        "results=[]\n",
        "for i in countries:\n",
        "  count_spend=known_df['totalspending'].loc[known_df['Country']==i]\n",
        "  results.append(sum(count_spend))\n"
      ],
      "id": "uSYlvtswXbIb"
    },
    {
      "cell_type": "code",
      "execution_count": null,
      "metadata": {
        "id": "WvxBqMUaETBL"
      },
      "outputs": [],
      "source": [
        "a=known_df.groupby(\"Country\")[\"totalspending\"].sum().reset_index().sort_values(by=\"totalspending\",ascending=False).reset_index(drop=True)\n",
        "pd.DataFrame(a)\n",
        "display(a)"
      ],
      "id": "WvxBqMUaETBL"
    },
    {
      "cell_type": "code",
      "execution_count": null,
      "metadata": {
        "id": "_kppCjEpZQcG"
      },
      "outputs": [],
      "source": [
        "Rankings=list(zip(results,countries))\n",
        "a=pd.DataFrame(Rankings,columns=[\"total_spending\",\"countries\"])"
      ],
      "id": "_kppCjEpZQcG"
    },
    {
      "cell_type": "code",
      "execution_count": null,
      "metadata": {
        "id": "BGC5s-G2bwW7"
      },
      "outputs": [],
      "source": [
        "a.sort_values(\"total_spending\",ascending=False).reset_index(drop=True)"
      ],
      "id": "BGC5s-G2bwW7"
    },
    {
      "cell_type": "markdown",
      "metadata": {
        "id": "VLy1ecOcEBE6"
      },
      "source": [
        "##Method 2: Code Known Customers by High, Meduim and Low Cart Value(the total sum of all products purchased during an order process.(WORKING) "
      ],
      "id": "VLy1ecOcEBE6"
    },
    {
      "cell_type": "markdown",
      "metadata": {
        "id": "F3quc-ZGpftq"
      },
      "source": [
        "1)Determine your customer segmentation goals and variables.\n",
        "\n",
        "2)Break goals into customer-centric segmentation projects.\n",
        "\n",
        "3)Set up and prioritize each customer segmentation project.\n",
        "\n",
        "4)Collect and organize your customer data.\n",
        "\n",
        "5)Segment your customers into groups of your choice.\n",
        "\n",
        "6)Target and market to your client and user segments.\n",
        "\n",
        "7)Run regular customer segmentation analysis."
      ],
      "id": "F3quc-ZGpftq"
    },
    {
      "cell_type": "markdown",
      "metadata": {
        "id": "qM9jsfO_Ee85"
      },
      "source": [
        "###DataFrame of Known Customers\n"
      ],
      "id": "qM9jsfO_Ee85"
    },
    {
      "cell_type": "code",
      "execution_count": null,
      "metadata": {
        "colab": {
          "base_uri": "https://localhost:8080/",
          "height": 300
        },
        "id": "JLg8Z7PqQPm-",
        "outputId": "1cc484ed-0d5a-4b89-e4a5-7370e019f8d8"
      },
      "outputs": [
        {
          "output_type": "execute_result",
          "data": {
            "text/plain": [
              "{'whiskers': [<matplotlib.lines.Line2D at 0x7fa0bf2045e0>,\n",
              "  <matplotlib.lines.Line2D at 0x7fa0bf204880>],\n",
              " 'caps': [<matplotlib.lines.Line2D at 0x7fa0bf204b20>,\n",
              "  <matplotlib.lines.Line2D at 0x7fa0bf204dc0>],\n",
              " 'boxes': [<matplotlib.lines.Line2D at 0x7fa0bf204340>],\n",
              " 'medians': [<matplotlib.lines.Line2D at 0x7fa0bf1f80a0>],\n",
              " 'fliers': [<matplotlib.lines.Line2D at 0x7fa0bf1f8340>],\n",
              " 'means': []}"
            ]
          },
          "metadata": {},
          "execution_count": 18
        },
        {
          "output_type": "display_data",
          "data": {
            "text/plain": [
              "<Figure size 2000x200 with 1 Axes>"
            ],
            "image/png": "[encoded data removed]"
          },
          "metadata": {}
        }
      ],
      "source": [
        "fig = plt.figure(figsize = (20, 2))\n",
        "plt.boxplot(y,vert=False)"
      ],
      "id": "JLg8Z7PqQPm-"
    },
    {
      "cell_type": "code",
      "execution_count": null,
      "metadata": {
        "id": "CNPenUccWrYs"
      },
      "outputs": [],
      "source": [
        "known_df['totalspending'] = known_df['Quantity'] * known_df['Price']\n"
      ],
      "id": "CNPenUccWrYs"
    },
    {
      "cell_type": "code",
      "source": [
        "customer_spending=Kndf.groupby(\"Customer ID\")[\"totalspending\"].sum().reset_index().sort_values(by=\"totalspending\",ascending=False)\n",
        "customer_spending[\"index\"]=np.arange(0,len(customer_spending))\n",
        "customer_spending.set_index(\"index\",inplace=True)"
      ],
      "metadata": {
        "id": "pnR6DixE-esV"
      },
      "id": "pnR6DixE-esV",
      "execution_count": null,
      "outputs": []
    },
    {
      "cell_type": "code",
      "source": [],
      "metadata": {
        "id": "oN_3W-k795XR"
      },
      "id": "oN_3W-k795XR",
      "execution_count": null,
      "outputs": []
    },
    {
      "cell_type": "code",
      "source": [
        "import pandas as pd\n",
        "from sklearn.cluster import KMeans\n",
        "import matplotlib.pyplot as plt\n",
        "\n",
        "# Load the data\n",
        "#customer_spending\n",
        "\n",
        "\n",
        "# Normalize the data\n",
        "#data_norm = (customer_spending - customer_spending.min()) / (customer_spending.max() - customer_spending.min())\n",
        "\n",
        "# Choose the number of clusters\n",
        "k = 2\n",
        "\n",
        "# Train the K-Means clustering model on the normalized data\n",
        "kmeans = KMeans(n_clusters=k)\n",
        "kmeans.fit(customer_spending)\n",
        "\n",
        "# Visualize the clusters\n",
        "plt.scatter(customer_spending['totalspending'], range(len(customer_spending)), c=kmeans.labels_)\n",
        "plt.scatter(kmeans.cluster_centers_[:, 0], kmeans.cluster_centers_[:, 1], marker='x', s=200, linewidths=3, color='r')\n",
        "plt.xlabel('totalspending')\n",
        "plt.ylabel('Customer_ID')\n",
        "plt.show()"
      ],
      "metadata": {
        "colab": {
          "base_uri": "https://localhost:8080/",
          "height": 505
        },
        "id": "_sp8mhWx9Ujw",
        "outputId": "1835e469-ba0d-4a84-aff3-df2a596ec657"
      },
      "id": "_sp8mhWx9Ujw",
      "execution_count": null,
      "outputs": [
        {
          "output_type": "stream",
          "name": "stderr",
          "text": [
            "/usr/local/lib/python3.9/dist-packages/sklearn/cluster/_kmeans.py:870: FutureWarning: The default value of `n_init` will change from 10 to 'auto' in 1.4. Set the value of `n_init` explicitly to suppress the warning\n",
            "  warnings.warn(\n"
          ]
        },
        {
          "output_type": "display_data",
          "data": {
            "text/plain": [
              "<Figure size 640x480 with 1 Axes>"
            ],
            "image/png": "[encoded data removed]"
          },
          "metadata": {}
        }
      ]
    },
    {
      "cell_type": "code",
      "source": [
        "# Create a list of groups for each cluster\n",
        "group_labels = kmeans.labels_\n",
        "group_0 = customer_spending[group_labels == 0]\n",
        "group_1 = customer_spending[group_labels == 1]\n",
        "\n",
        "# Print the number of people in each group\n",
        "print('Number of people in Group 0:', len(group_0))\n",
        "print('Number of people in Group 1:', len(group_1))"
      ],
      "metadata": {
        "colab": {
          "base_uri": "https://localhost:8080/"
        },
        "id": "OB9Fjng590Tx",
        "outputId": "bf553367-577d-40c6-8f95-31447ad73d55"
      },
      "id": "OB9Fjng590Tx",
      "execution_count": null,
      "outputs": [
        {
          "output_type": "stream",
          "name": "stdout",
          "text": [
            "Number of people in Group 0: 5935\n",
            "Number of people in Group 1: 7\n"
          ]
        }
      ]
    },
    {
      "cell_type": "code",
      "source": [
        "group_1"
      ],
      "metadata": {
        "colab": {
          "base_uri": "https://localhost:8080/",
          "height": 300
        },
        "id": "hh9u9gQiDB_8",
        "outputId": "f91d372a-98de-4817-c27d-d981fd87d92e"
      },
      "id": "hh9u9gQiDB_8",
      "execution_count": null,
      "outputs": [
        {
          "output_type": "execute_result",
          "data": {
            "text/plain": [
              "       Customer ID  totalspending\n",
              "index                            \n",
              "0          18102.0      598215.22\n",
              "1          14646.0      523342.07\n",
              "2          14156.0      296564.69\n",
              "3          14911.0      270248.53\n",
              "4          17450.0      233579.39\n",
              "5          13694.0      190825.52\n",
              "6          17511.0      171885.98"
            ],
            "text/html": [
              "\n",
              "  <div id=\"df-ff0952f2-d54d-470f-83df-1f068f045f8f\">\n",
              "    <div class=\"colab-df-container\">\n",
              "      <div>\n",
              "<style scoped>\n",
              "    .dataframe tbody tr th:only-of-type {\n",
              "        vertical-align: middle;\n",
              "    }\n",
              "\n",
              "    .dataframe tbody tr th {\n",
              "        vertical-align: top;\n",
              "    }\n",
              "\n",
              "    .dataframe thead th {\n",
              "        text-align: right;\n",
              "    }\n",
              "</style>\n",
              "<table border=\"1\" class=\"dataframe\">\n",
              "  <thead>\n",
              "    <tr style=\"text-align: right;\">\n",
              "      <th></th>\n",
              "      <th>Customer ID</th>\n",
              "      <th>totalspending</th>\n",
              "    </tr>\n",
              "    <tr>\n",
              "      <th>index</th>\n",
              "      <th></th>\n",
              "      <th></th>\n",
              "    </tr>\n",
              "  </thead>\n",
              "  <tbody>\n",
              "    <tr>\n",
              "      <th>0</th>\n",
              "      <td>18102.0</td>\n",
              "      <td>598215.22</td>\n",
              "    </tr>\n",
              "    <tr>\n",
              "      <th>1</th>\n",
              "      <td>14646.0</td>\n",
              "      <td>523342.07</td>\n",
              "    </tr>\n",
              "    <tr>\n",
              "      <th>2</th>\n",
              "      <td>14156.0</td>\n",
              "      <td>296564.69</td>\n",
              "    </tr>\n",
              "    <tr>\n",
              "      <th>3</th>\n",
              "      <td>14911.0</td>\n",
              "      <td>270248.53</td>\n",
              "    </tr>\n",
              "    <tr>\n",
              "      <th>4</th>\n",
              "      <td>17450.0</td>\n",
              "      <td>233579.39</td>\n",
              "    </tr>\n",
              "    <tr>\n",
              "      <th>5</th>\n",
              "      <td>13694.0</td>\n",
              "      <td>190825.52</td>\n",
              "    </tr>\n",
              "    <tr>\n",
              "      <th>6</th>\n",
              "      <td>17511.0</td>\n",
              "      <td>171885.98</td>\n",
              "    </tr>\n",
              "  </tbody>\n",
              "</table>\n",
              "</div>\n",
              "      <button class=\"colab-df-convert\" onclick=\"convertToInteractive('df-ff0952f2-d54d-470f-83df-1f068f045f8f')\"\n",
              "              title=\"Convert this dataframe to an interactive table.\"\n",
              "              style=\"display:none;\">\n",
              "        \n",
              "  <svg xmlns=\"http://www.w3.org/2000/svg\" height=\"24px\"viewBox=\"0 0 24 24\"\n",
              "       width=\"24px\">\n",
              "    <path d=\"M0 0h24v24H0V0z\" fill=\"none\"/>\n",
              "    <path d=\"M18.56 5.44l.94 2.06.94-2.06 2.06-.94-2.06-.94-.94-2.06-.94 2.06-2.06.94zm-11 1L8.5 8.5l.94-2.06 2.06-.94-2.06-.94L8.5 2.5l-.94 2.06-2.06.94zm10 10l.94 2.06.94-2.06 2.06-.94-2.06-.94-.94-2.06-.94 2.06-2.06.94z\"/><path d=\"M17.41 7.96l-1.37-1.37c-.4-.4-.92-.59-1.43-.59-.52 0-1.04.2-1.43.59L10.3 9.45l-7.72 7.72c-.78.78-.78 2.05 0 2.83L4 21.41c.39.39.9.59 1.41.59.51 0 1.02-.2 1.41-.59l7.78-7.78 2.81-2.81c.8-.78.8-2.07 0-2.86zM5.41 20L4 18.59l7.72-7.72 1.47 1.35L5.41 20z\"/>\n",
              "  </svg>\n",
              "      </button>\n",
              "      \n",
              "  <style>\n",
              "    .colab-df-container {\n",
              "      display:flex;\n",
              "      flex-wrap:wrap;\n",
              "      gap: 12px;\n",
              "    }\n",
              "\n",
              "    .colab-df-convert {\n",
              "      background-color: #E8F0FE;\n",
              "      border: none;\n",
              "      border-radius: 50%;\n",
              "      cursor: pointer;\n",
              "      display: none;\n",
              "      fill: #1967D2;\n",
              "      height: 32px;\n",
              "      padding: 0 0 0 0;\n",
              "      width: 32px;\n",
              "    }\n",
              "\n",
              "    .colab-df-convert:hover {\n",
              "      background-color: #E2EBFA;\n",
              "      box-shadow: 0px 1px 2px rgba(60, 64, 67, 0.3), 0px 1px 3px 1px rgba(60, 64, 67, 0.15);\n",
              "      fill: #174EA6;\n",
              "    }\n",
              "\n",
              "    [theme=dark] .colab-df-convert {\n",
              "      background-color: #3B4455;\n",
              "      fill: #D2E3FC;\n",
              "    }\n",
              "\n",
              "    [theme=dark] .colab-df-convert:hover {\n",
              "      background-color: #434B5C;\n",
              "      box-shadow: 0px 1px 3px 1px rgba(0, 0, 0, 0.15);\n",
              "      filter: drop-shadow(0px 1px 2px rgba(0, 0, 0, 0.3));\n",
              "      fill: #FFFFFF;\n",
              "    }\n",
              "  </style>\n",
              "\n",
              "      <script>\n",
              "        const buttonEl =\n",
              "          document.querySelector('#df-ff0952f2-d54d-470f-83df-1f068f045f8f button.colab-df-convert');\n",
              "        buttonEl.style.display =\n",
              "          google.colab.kernel.accessAllowed ? 'block' : 'none';\n",
              "\n",
              "        async function convertToInteractive(key) {\n",
              "          const element = document.querySelector('#df-ff0952f2-d54d-470f-83df-1f068f045f8f');\n",
              "          const dataTable =\n",
              "            await google.colab.kernel.invokeFunction('convertToInteractive',\n",
              "                                                     [key], {});\n",
              "          if (!dataTable) return;\n",
              "\n",
              "          const docLinkHtml = 'Like what you see? Visit the ' +\n",
              "            '<a target=\"_blank\" href=https://colab.research.google.com/notebooks/data_table.ipynb>data table notebook</a>'\n",
              "            + ' to learn more about interactive tables.';\n",
              "          element.innerHTML = '';\n",
              "          dataTable['output_type'] = 'display_data';\n",
              "          await google.colab.output.renderOutput(dataTable, element);\n",
              "          const docLink = document.createElement('div');\n",
              "          docLink.innerHTML = docLinkHtml;\n",
              "          element.appendChild(docLink);\n",
              "        }\n",
              "      </script>\n",
              "    </div>\n",
              "  </div>\n",
              "  "
            ]
          },
          "metadata": {},
          "execution_count": 34
        }
      ]
    },
    {
      "cell_type": "markdown",
      "metadata": {
        "id": "EdnkSJfLywb8"
      },
      "source": [
        "#Method 3  Bar Chart of Product Trends By Month (WORKING)\n"
      ],
      "id": "EdnkSJfLywb8"
    },
    {
      "cell_type": "code",
      "execution_count": null,
      "metadata": {
        "id": "KO0KMSeGAAKq"
      },
      "outputs": [],
      "source": [
        "#There are over 5699 unique items. However, which items sell the most?\n",
        "#We are going to create a dataframe that ranks items by volume. "
      ],
      "id": "KO0KMSeGAAKq"
    },
    {
      "cell_type": "code",
      "execution_count": null,
      "metadata": {
        "colab": {
          "base_uri": "https://localhost:8080/",
          "height": 486
        },
        "id": "-rUtnCYbOiVi",
        "outputId": "7dd7add3-9258-40df-cc4c-d1064425d7b1"
      },
      "outputs": [
        {
          "output_type": "display_data",
          "data": {
            "text/plain": [
              "<Figure size 640x480 with 1 Axes>"
            ],
            "image/png": "[encoded data removed]"
          },
          "metadata": {}
        }
      ],
      "source": [
        "import pandas as pd\n",
        "import numpy as np\n",
        "import matplotlib.pyplot as plt\n",
        "from statsmodels.tsa.arima_model import ARIMA\n",
        "\n",
        "# Load the data\n",
        "data = pd.read_csv('online_retail_II.csv', parse_dates=['InvoiceDate'])\n",
        "\n",
        "# Aggregate the data by month\n",
        "monthly_data = data.groupby(pd.Grouper(key='InvoiceDate', freq='M'))['Quantity'].sum().reset_index()\n",
        "\n",
        "# Visualize the data\n",
        "plt.plot(monthly_data['InvoiceDate'], monthly_data['Quantity'],markersize=16)\n",
        "plt.xlabel('Month')\n",
        "plt.ylabel('Number of items sold')\n",
        "plt.xticks(rotation=45)\n",
        "plt.show()"
      ],
      "id": "-rUtnCYbOiVi"
    },
    {
      "cell_type": "code",
      "source": [
        "#For every month in the year provide a dataset listing\n",
        "# 1) the top 100 items orded for the coming month\n",
        "# 2) the quantity for these items. "
      ],
      "metadata": {
        "id": "01YGBfJBG0MB"
      },
      "id": "01YGBfJBG0MB",
      "execution_count": null,
      "outputs": []
    },
    {
      "cell_type": "code",
      "execution_count": null,
      "metadata": {
        "colab": {
          "base_uri": "https://localhost:8080/"
        },
        "id": "3sr6wB2c0PE6",
        "outputId": "dcd7fd7e-5c29-4c2b-95ef-ce0e343f92c7"
      },
      "outputs": [
        {
          "data": {
            "text/plain": [
              "5305"
            ]
          },
          "execution_count": 20,
          "metadata": {},
          "output_type": "execute_result"
        }
      ],
      "source": [
        "len(df[\"StockCode\"].value_counts())\n"
      ],
      "id": "3sr6wB2c0PE6"
    },
    {
      "cell_type": "code",
      "execution_count": null,
      "metadata": {
        "colab": {
          "base_uri": "https://localhost:8080/",
          "height": 592
        },
        "id": "bVXPo-FsyzNp",
        "outputId": "ea5d4691-8c1a-4008-e30b-87029a24dc85"
      },
      "outputs": [
        {
          "data": {
            "image/png": "[encoded data removed]",
            "text/plain": [
              "<Figure size 720x720 with 1 Axes>"
            ]
          },
          "metadata": {},
          "output_type": "display_data"
        }
      ],
      "source": [
        "\n",
        "plt.figure(figsize=(10,10))\n",
        "plt.hist(df[\"StockCode\"].value_counts(), bins=200)\n",
        "plt.show()"
      ],
      "id": "bVXPo-FsyzNp"
    },
    {
      "cell_type": "code",
      "execution_count": null,
      "metadata": {
        "colab": {
          "base_uri": "https://localhost:8080/"
        },
        "id": "kQpNv6UouN5S",
        "outputId": "feb58e7f-6c5e-49b1-abc9-3caf424a2d4e"
      },
      "outputs": [
        {
          "data": {
            "text/plain": [
              "list"
            ]
          },
          "execution_count": 37,
          "metadata": {},
          "output_type": "execute_result"
        }
      ],
      "source": [
        "codes=df[\"StockCode\"].unique()\n",
        "type(codes.tolist())"
      ],
      "id": "kQpNv6UouN5S"
    },
    {
      "cell_type": "code",
      "execution_count": null,
      "metadata": {
        "id": "TNFSYBvW4f40"
      },
      "outputs": [],
      "source": [
        "#top_items=['84077', '85123A', '85099B', '21212', '84879', '22197', '17003', '21977', '84991', '22492', '15036', '21213', '22616', '84755', '20725', '22178', '22386', '21232', '84568', '84946', '21915', '22086', '85099F', '84992', '22952', '71459', '22355', '21982', '20724', '21975', '21980', '21080', '85099C', '23084', '16014', '21931', '21731', '22469', '21790', '22411', '47566', '22151', '21498', '84970S', '21981', '20727', '22423', '21985', '21984', '37410', '22383', '21929', '21181', '20719', '84212', '21928', '20728', '84945', '22417', '20726', '22629', '84978', '20668', '22384', '22382', '84836', '23203', '21137', '21166', '72741', '22356', '21094', '21231', '84692', '20972', '22910', '20971', '20713', '20914', '20723', '21326', '22189', '21175', '22630', '22470', '22585', '84270', '22029', '22693', '22961', '22489', '21497', '84970L', '21791', '21733', '20712', '22077', '22909', '84598', '20975', '22294', '22385', '82482', '79321', '21704', '22659', '16156S', '22090', '85152', '84947', '21500', '22379', '21086', '21121', '22457', '22326', '22551', '21967', '22865', '22560', '21499', '22969', '21210', '21976', '82494L', '21787', '21703', '22045', '21918', '84826', '23199', '22558', '22328', '22577', '40016', '21085', '22297', '21091', '22556', '21930', '22554', '22866', '21986', '22083', '20718', '22867', '23209', '21099', '84347', '21914', '82580', '75049L', '21889', '16161P', '20974', '21877', '22534', '22699', '21092', '23201', '22610', '22740', '21122', '21829', '22595', '22993', '71477', '22188', '85175', '22418', '21495', '20711', '22348', '82600', '82583', '22998', '22114', '22030', '16033', '22149', '22578', '22147', '17084R', '23206', '21891', '23310', '23307', '22555', '84949', '84029E', '84378', '21314', '35961', '22112', '22561', '84988', '21506', '22027', '22632', '21672', '82484', '22951', '21390', '21916', '21385', '20993', '16237', '22444', '21871', '23202', '22666', '22741', '21669', '22557', '20676', '15056N', '23077', '21668', '22467', '84380', '22139', '84997D', '22530', '84050', '21673', '21136', '48138', 'POST', '22536', '20973', '23344', '21124', '22662', '22111', '16161U', '22652', '21108', '22296', '22697', '20685', '21908', '21174', '79000', '22791', '62018', '15056BL', '22727', '22988', '21088', '22544', '22633', '85220', '21238', '22381', '21156', '47591D', '22734', '22759', '84997B', '21671', '22219', '22959', '22646', '22158', '21165', '21868', '22960', '21096', '22333', '15034', '22704', '21509', '21169', '21670', '22065', '23301', '22621', '22295', '37340', '22084', '22440', '23232', '23298', '22907', '22130', '23293', '22966', '21098', '22620', '22531', '21559', '22661', '21507', '35970', '22087', '22335', '23309', '85150', '22367', '23343', '84987', '23076', '21917', '22047', '84997C', '22553', '21989', '21154', '82581', '23230', '84950', '22698', '20677', '21485', '22726', '21892', '48194', '20979', '22041', '21754', '10002', '23204', '22154', '84375', '22464', '21481', '22432', '22771', '21936', '22950', '21786', '22243', '21240', '84029G', '21172', '22198', '22082', '21239', '23207', '48187', '84520B', '22834', '22491', '22816', '22712', '21519', '21479', '22720', '21988', '23231', '22150', '21623', '22579', '22352', '22037', '21523', '22710', '21935', '21242', '22419', '23200', '22609', '22945', '20991', '21900', '21078', '21810', '22488', '84832', '22413', '21974', '47503E', '21508', '21875', '23078', '22161', '21899', '22983', '21313', '72008', '22549', '23300', '82552', '22196', '84406B', '22602', '22064', '22437', '51014A', '22818', '20675', '21535', '85049E', '21874', '21621', '85110', '22138', '21155', '21429', '22046', '22596', '20996', '20983', '22728', '22631', '85049A', '22540', '21870', '22028', '37413', '23208', '23245', '21833', '84596B', '22713', '20992', '20717', '21983', '21811', '47556B', '17096', '18007', '85014B', '22152', '22900', '23308', '23170', '23171', '21901', '22155', '21987', '85199S', '84971S', '23295', '22227', '48185', '82582', '22156', '21544', '37370', '22338', '21164', '85061W', '21830', '22563', '22571', '21592', '22113', '22722', '21746', '22273', '22537', '21035', '22466', '20984', '22986', '22528', '22645', '20679', '47599A', '22663', '22153', '22614', '22567', '22539', '23355', '22608', '21755', '21114', '72351B', '22507', '23205', '22908', '21243', '21876', '47590B', '47503A', '20759', '21843', '20756', '22593', '82578', '16046', '22601', '21844', '20760', '37351', '16047', '22144', '22174', '22024', '22711', '22708', '82551', '21524', '85178', '23167', '22716', '22570', '22569']"
      ],
      "id": "TNFSYBvW4f40"
    },
    {
      "cell_type": "code",
      "execution_count": null,
      "metadata": {
        "colab": {
          "base_uri": "https://localhost:8080/",
          "height": 424
        },
        "id": "rS0h1A_-TbUC",
        "outputId": "ab602c1e-05b8-45e7-e071-d2e7526146a3"
      },
      "outputs": [
        {
          "data": {
            "text/html": [
              "\n",
              "  <div id=\"df-60e67bb0-cf9b-46d4-9883-8b1d80e44a9b\">\n",
              "    <div class=\"colab-df-container\">\n",
              "      <div>\n",
              "<style scoped>\n",
              "    .dataframe tbody tr th:only-of-type {\n",
              "        vertical-align: middle;\n",
              "    }\n",
              "\n",
              "    .dataframe tbody tr th {\n",
              "        vertical-align: top;\n",
              "    }\n",
              "\n",
              "    .dataframe thead th {\n",
              "        text-align: right;\n",
              "    }\n",
              "</style>\n",
              "<table border=\"1\" class=\"dataframe\">\n",
              "  <thead>\n",
              "    <tr style=\"text-align: right;\">\n",
              "      <th></th>\n",
              "      <th>StockCode</th>\n",
              "      <th>Number Ordered</th>\n",
              "    </tr>\n",
              "  </thead>\n",
              "  <tbody>\n",
              "    <tr>\n",
              "      <th>0</th>\n",
              "      <td>85048</td>\n",
              "      <td>2657</td>\n",
              "    </tr>\n",
              "    <tr>\n",
              "      <th>1</th>\n",
              "      <td>79323P</td>\n",
              "      <td>-633</td>\n",
              "    </tr>\n",
              "    <tr>\n",
              "      <th>2</th>\n",
              "      <td>79323W</td>\n",
              "      <td>-3050</td>\n",
              "    </tr>\n",
              "    <tr>\n",
              "      <th>3</th>\n",
              "      <td>22041</td>\n",
              "      <td>7819</td>\n",
              "    </tr>\n",
              "    <tr>\n",
              "      <th>4</th>\n",
              "      <td>21232</td>\n",
              "      <td>38033</td>\n",
              "    </tr>\n",
              "    <tr>\n",
              "      <th>...</th>\n",
              "      <td>...</td>\n",
              "      <td>...</td>\n",
              "    </tr>\n",
              "    <tr>\n",
              "      <th>5299</th>\n",
              "      <td>23576</td>\n",
              "      <td>198</td>\n",
              "    </tr>\n",
              "    <tr>\n",
              "      <th>5300</th>\n",
              "      <td>23562</td>\n",
              "      <td>253</td>\n",
              "    </tr>\n",
              "    <tr>\n",
              "      <th>5301</th>\n",
              "      <td>23561</td>\n",
              "      <td>170</td>\n",
              "    </tr>\n",
              "    <tr>\n",
              "      <th>5302</th>\n",
              "      <td>23609</td>\n",
              "      <td>1</td>\n",
              "    </tr>\n",
              "    <tr>\n",
              "      <th>5303</th>\n",
              "      <td>23617</td>\n",
              "      <td>2</td>\n",
              "    </tr>\n",
              "  </tbody>\n",
              "</table>\n",
              "<p>5304 rows × 2 columns</p>\n",
              "</div>\n",
              "      <button class=\"colab-df-convert\" onclick=\"convertToInteractive('df-60e67bb0-cf9b-46d4-9883-8b1d80e44a9b')\"\n",
              "              title=\"Convert this dataframe to an interactive table.\"\n",
              "              style=\"display:none;\">\n",
              "        \n",
              "  <svg xmlns=\"http://www.w3.org/2000/svg\" height=\"24px\"viewBox=\"0 0 24 24\"\n",
              "       width=\"24px\">\n",
              "    <path d=\"M0 0h24v24H0V0z\" fill=\"none\"/>\n",
              "    <path d=\"M18.56 5.44l.94 2.06.94-2.06 2.06-.94-2.06-.94-.94-2.06-.94 2.06-2.06.94zm-11 1L8.5 8.5l.94-2.06 2.06-.94-2.06-.94L8.5 2.5l-.94 2.06-2.06.94zm10 10l.94 2.06.94-2.06 2.06-.94-2.06-.94-.94-2.06-.94 2.06-2.06.94z\"/><path d=\"M17.41 7.96l-1.37-1.37c-.4-.4-.92-.59-1.43-.59-.52 0-1.04.2-1.43.59L10.3 9.45l-7.72 7.72c-.78.78-.78 2.05 0 2.83L4 21.41c.39.39.9.59 1.41.59.51 0 1.02-.2 1.41-.59l7.78-7.78 2.81-2.81c.8-.78.8-2.07 0-2.86zM5.41 20L4 18.59l7.72-7.72 1.47 1.35L5.41 20z\"/>\n",
              "  </svg>\n",
              "      </button>\n",
              "      \n",
              "  <style>\n",
              "    .colab-df-container {\n",
              "      display:flex;\n",
              "      flex-wrap:wrap;\n",
              "      gap: 12px;\n",
              "    }\n",
              "\n",
              "    .colab-df-convert {\n",
              "      background-color: #E8F0FE;\n",
              "      border: none;\n",
              "      border-radius: 50%;\n",
              "      cursor: pointer;\n",
              "      display: none;\n",
              "      fill: #1967D2;\n",
              "      height: 32px;\n",
              "      padding: 0 0 0 0;\n",
              "      width: 32px;\n",
              "    }\n",
              "\n",
              "    .colab-df-convert:hover {\n",
              "      background-color: #E2EBFA;\n",
              "      box-shadow: 0px 1px 2px rgba(60, 64, 67, 0.3), 0px 1px 3px 1px rgba(60, 64, 67, 0.15);\n",
              "      fill: #174EA6;\n",
              "    }\n",
              "\n",
              "    [theme=dark] .colab-df-convert {\n",
              "      background-color: #3B4455;\n",
              "      fill: #D2E3FC;\n",
              "    }\n",
              "\n",
              "    [theme=dark] .colab-df-convert:hover {\n",
              "      background-color: #434B5C;\n",
              "      box-shadow: 0px 1px 3px 1px rgba(0, 0, 0, 0.15);\n",
              "      filter: drop-shadow(0px 1px 2px rgba(0, 0, 0, 0.3));\n",
              "      fill: #FFFFFF;\n",
              "    }\n",
              "  </style>\n",
              "\n",
              "      <script>\n",
              "        const buttonEl =\n",
              "          document.querySelector('#df-60e67bb0-cf9b-46d4-9883-8b1d80e44a9b button.colab-df-convert');\n",
              "        buttonEl.style.display =\n",
              "          google.colab.kernel.accessAllowed ? 'block' : 'none';\n",
              "\n",
              "        async function convertToInteractive(key) {\n",
              "          const element = document.querySelector('#df-60e67bb0-cf9b-46d4-9883-8b1d80e44a9b');\n",
              "          const dataTable =\n",
              "            await google.colab.kernel.invokeFunction('convertToInteractive',\n",
              "                                                     [key], {});\n",
              "          if (!dataTable) return;\n",
              "\n",
              "          const docLinkHtml = 'Like what you see? Visit the ' +\n",
              "            '<a target=\"_blank\" href=https://colab.research.google.com/notebooks/data_table.ipynb>data table notebook</a>'\n",
              "            + ' to learn more about interactive tables.';\n",
              "          element.innerHTML = '';\n",
              "          dataTable['output_type'] = 'display_data';\n",
              "          await google.colab.output.renderOutput(dataTable, element);\n",
              "          const docLink = document.createElement('div');\n",
              "          docLink.innerHTML = docLinkHtml;\n",
              "          element.appendChild(docLink);\n",
              "        }\n",
              "      </script>\n",
              "    </div>\n",
              "  </div>\n",
              "  "
            ],
            "text/plain": [
              "     StockCode  Number Ordered\n",
              "0        85048            2657\n",
              "1       79323P            -633\n",
              "2       79323W           -3050\n",
              "3        22041            7819\n",
              "4        21232           38033\n",
              "...        ...             ...\n",
              "5299     23576             198\n",
              "5300     23562             253\n",
              "5301     23561             170\n",
              "5302     23609               1\n",
              "5303     23617               2\n",
              "\n",
              "[5304 rows x 2 columns]"
            ]
          },
          "execution_count": 41,
          "metadata": {},
          "output_type": "execute_result"
        }
      ],
      "source": [
        "#Takes 4m to compute.\n",
        "codes=df[\"StockCode\"].unique()\n",
        "codes.tolist()\n",
        "quantities=[]\n",
        "for i in codes[:-1]:\n",
        "  x=df['Quantity'].loc[df[\"StockCode\"]==i]\n",
        "  x=sum(x)\n",
        "  quantities.append(x)\n",
        "  items=list(zip(codes,quantities))\n",
        "items=pd.DataFrame(top_items,columns=[\"StockCode\",\"Number Ordered\"])\n",
        "items"
      ],
      "id": "rS0h1A_-TbUC"
    },
    {
      "cell_type": "code",
      "execution_count": null,
      "metadata": {
        "id": "EstgEJOnSUlg"
      },
      "outputs": [],
      "source": [
        "top_items=top_items.sort_values(by=\"Number Ordered\",ascending=False).head(500)"
      ],
      "id": "EstgEJOnSUlg"
    },
    {
      "cell_type": "code",
      "execution_count": null,
      "metadata": {
        "id": "rOPNfZb1N5dS"
      },
      "outputs": [],
      "source": [
        "df.groupby(pd.Grouper(key='InvoceDate', freq='M'))"
      ],
      "id": "rOPNfZb1N5dS"
    },
    {
      "cell_type": "code",
      "execution_count": null,
      "metadata": {
        "colab": {
          "base_uri": "https://localhost:8080/",
          "height": 222
        },
        "id": "Qk3_CC8jKAO-",
        "outputId": "b15b76de-98b6-41b3-eee8-5992dd901017"
      },
      "outputs": [
        {
          "ename": "AttributeError",
          "evalue": "ignored",
          "output_type": "error",
          "traceback": [
            "\u001b[0;31m---------------------------------------------------------------------------\u001b[0m",
            "\u001b[0;31mAttributeError\u001b[0m                            Traceback (most recent call last)",
            "\u001b[0;32m<ipython-input-93-fd8354ea5f02>\u001b[0m in \u001b[0;36m<module>\u001b[0;34m\u001b[0m\n\u001b[1;32m      1\u001b[0m \u001b[0mx\u001b[0m\u001b[0;34m=\u001b[0m\u001b[0mpd\u001b[0m\u001b[0;34m.\u001b[0m\u001b[0mto_datetime\u001b[0m\u001b[0;34m(\u001b[0m\u001b[0;34m\"2009-12-01 07:45:00\"\u001b[0m\u001b[0;34m)\u001b[0m\u001b[0;34m\u001b[0m\u001b[0;34m\u001b[0m\u001b[0m\n\u001b[1;32m      2\u001b[0m \u001b[0mx_list\u001b[0m\u001b[0;34m=\u001b[0m\u001b[0;34m(\u001b[0m\u001b[0mx\u001b[0m\u001b[0;34m,\u001b[0m\u001b[0mx\u001b[0m\u001b[0;34m,\u001b[0m\u001b[0mx\u001b[0m\u001b[0;34m,\u001b[0m\u001b[0mx\u001b[0m\u001b[0;34m)\u001b[0m\u001b[0;34m\u001b[0m\u001b[0;34m\u001b[0m\u001b[0m\n\u001b[0;32m----> 3\u001b[0;31m \u001b[0mb\u001b[0m\u001b[0;34m=\u001b[0m\u001b[0mx_list\u001b[0m\u001b[0;34m.\u001b[0m\u001b[0mgroupby\u001b[0m\u001b[0;34m(\u001b[0m\u001b[0mpd\u001b[0m\u001b[0;34m.\u001b[0m\u001b[0mGrouper\u001b[0m\u001b[0;34m(\u001b[0m\u001b[0mkey\u001b[0m\u001b[0;34m=\u001b[0m\u001b[0;34m'InvoceDate'\u001b[0m\u001b[0;34m,\u001b[0m \u001b[0mfreq\u001b[0m\u001b[0;34m=\u001b[0m\u001b[0;34m'M'\u001b[0m\u001b[0;34m)\u001b[0m\u001b[0;34m)\u001b[0m\u001b[0;34m\u001b[0m\u001b[0;34m\u001b[0m\u001b[0m\n\u001b[0m\u001b[1;32m      4\u001b[0m \u001b[0mb\u001b[0m\u001b[0;34m\u001b[0m\u001b[0;34m\u001b[0m\u001b[0m\n",
            "\u001b[0;31mAttributeError\u001b[0m: 'tuple' object has no attribute 'groupby'"
          ]
        }
      ],
      "source": [
        "x=pd.to_datetime(\"2009-12-01 07:45:00\")\n",
        "x_list=(x,x,x,x)\n",
        "b=x_list.groupby(pd.Grouper(key='InvoceDate', freq='M'))\n",
        "b"
      ],
      "id": "Qk3_CC8jKAO-"
    },
    {
      "cell_type": "code",
      "execution_count": null,
      "metadata": {
        "colab": {
          "base_uri": "https://localhost:8080/",
          "height": 371
        },
        "id": "N8r-1M-F3nlq",
        "outputId": "53d1bb01-827d-471a-cbf6-df89b7547817"
      },
      "outputs": [
        {
          "ename": "KeyboardInterrupt",
          "evalue": "ignored",
          "output_type": "error",
          "traceback": [
            "\u001b[0;31m---------------------------------------------------------------------------\u001b[0m",
            "\u001b[0;31mKeyboardInterrupt\u001b[0m                         Traceback (most recent call last)",
            "\u001b[0;32m<ipython-input-70-a1a016b9b600>\u001b[0m in \u001b[0;36m<module>\u001b[0;34m\u001b[0m\n\u001b[1;32m      1\u001b[0m \u001b[0;32mfor\u001b[0m \u001b[0mi\u001b[0m \u001b[0;32min\u001b[0m \u001b[0mtop_items\u001b[0m\u001b[0;34m[\u001b[0m\u001b[0;34m\"StockCode\"\u001b[0m\u001b[0;34m]\u001b[0m\u001b[0;34m:\u001b[0m\u001b[0;34m\u001b[0m\u001b[0;34m\u001b[0m\u001b[0m\n\u001b[0;32m----> 2\u001b[0;31m   \u001b[0mdf\u001b[0m\u001b[0;34m.\u001b[0m\u001b[0mloc\u001b[0m\u001b[0;34m[\u001b[0m\u001b[0mdf\u001b[0m\u001b[0;34m[\u001b[0m\u001b[0;34m'StockCode'\u001b[0m\u001b[0;34m]\u001b[0m\u001b[0;34m==\u001b[0m\u001b[0mi\u001b[0m\u001b[0;34m]\u001b[0m\u001b[0;34m\u001b[0m\u001b[0;34m\u001b[0m\u001b[0m\n\u001b[0m\u001b[1;32m      3\u001b[0m \u001b[0;34m\u001b[0m\u001b[0m\n",
            "\u001b[0;32m/usr/local/lib/python3.9/dist-packages/pandas/core/ops/common.py\u001b[0m in \u001b[0;36mnew_method\u001b[0;34m(self, other)\u001b[0m\n\u001b[1;32m     68\u001b[0m         \u001b[0mother\u001b[0m \u001b[0;34m=\u001b[0m \u001b[0mitem_from_zerodim\u001b[0m\u001b[0;34m(\u001b[0m\u001b[0mother\u001b[0m\u001b[0;34m)\u001b[0m\u001b[0;34m\u001b[0m\u001b[0;34m\u001b[0m\u001b[0m\n\u001b[1;32m     69\u001b[0m \u001b[0;34m\u001b[0m\u001b[0m\n\u001b[0;32m---> 70\u001b[0;31m         \u001b[0;32mreturn\u001b[0m \u001b[0mmethod\u001b[0m\u001b[0;34m(\u001b[0m\u001b[0mself\u001b[0m\u001b[0;34m,\u001b[0m \u001b[0mother\u001b[0m\u001b[0;34m)\u001b[0m\u001b[0;34m\u001b[0m\u001b[0;34m\u001b[0m\u001b[0m\n\u001b[0m\u001b[1;32m     71\u001b[0m \u001b[0;34m\u001b[0m\u001b[0m\n\u001b[1;32m     72\u001b[0m     \u001b[0;32mreturn\u001b[0m \u001b[0mnew_method\u001b[0m\u001b[0;34m\u001b[0m\u001b[0;34m\u001b[0m\u001b[0m\n",
            "\u001b[0;32m/usr/local/lib/python3.9/dist-packages/pandas/core/arraylike.py\u001b[0m in \u001b[0;36m__eq__\u001b[0;34m(self, other)\u001b[0m\n\u001b[1;32m     38\u001b[0m     \u001b[0;34m@\u001b[0m\u001b[0munpack_zerodim_and_defer\u001b[0m\u001b[0;34m(\u001b[0m\u001b[0;34m\"__eq__\"\u001b[0m\u001b[0;34m)\u001b[0m\u001b[0;34m\u001b[0m\u001b[0;34m\u001b[0m\u001b[0m\n\u001b[1;32m     39\u001b[0m     \u001b[0;32mdef\u001b[0m \u001b[0m__eq__\u001b[0m\u001b[0;34m(\u001b[0m\u001b[0mself\u001b[0m\u001b[0;34m,\u001b[0m \u001b[0mother\u001b[0m\u001b[0;34m)\u001b[0m\u001b[0;34m:\u001b[0m\u001b[0;34m\u001b[0m\u001b[0;34m\u001b[0m\u001b[0m\n\u001b[0;32m---> 40\u001b[0;31m         \u001b[0;32mreturn\u001b[0m \u001b[0mself\u001b[0m\u001b[0;34m.\u001b[0m\u001b[0m_cmp_method\u001b[0m\u001b[0;34m(\u001b[0m\u001b[0mother\u001b[0m\u001b[0;34m,\u001b[0m \u001b[0moperator\u001b[0m\u001b[0;34m.\u001b[0m\u001b[0meq\u001b[0m\u001b[0;34m)\u001b[0m\u001b[0;34m\u001b[0m\u001b[0;34m\u001b[0m\u001b[0m\n\u001b[0m\u001b[1;32m     41\u001b[0m \u001b[0;34m\u001b[0m\u001b[0m\n\u001b[1;32m     42\u001b[0m     \u001b[0;34m@\u001b[0m\u001b[0munpack_zerodim_and_defer\u001b[0m\u001b[0;34m(\u001b[0m\u001b[0;34m\"__ne__\"\u001b[0m\u001b[0;34m)\u001b[0m\u001b[0;34m\u001b[0m\u001b[0;34m\u001b[0m\u001b[0m\n",
            "\u001b[0;32m/usr/local/lib/python3.9/dist-packages/pandas/core/series.py\u001b[0m in \u001b[0;36m_cmp_method\u001b[0;34m(self, other, op)\u001b[0m\n\u001b[1;32m   5621\u001b[0m \u001b[0;34m\u001b[0m\u001b[0m\n\u001b[1;32m   5622\u001b[0m         \u001b[0;32mwith\u001b[0m \u001b[0mnp\u001b[0m\u001b[0;34m.\u001b[0m\u001b[0merrstate\u001b[0m\u001b[0;34m(\u001b[0m\u001b[0mall\u001b[0m\u001b[0;34m=\u001b[0m\u001b[0;34m\"ignore\"\u001b[0m\u001b[0;34m)\u001b[0m\u001b[0;34m:\u001b[0m\u001b[0;34m\u001b[0m\u001b[0;34m\u001b[0m\u001b[0m\n\u001b[0;32m-> 5623\u001b[0;31m             \u001b[0mres_values\u001b[0m \u001b[0;34m=\u001b[0m \u001b[0mops\u001b[0m\u001b[0;34m.\u001b[0m\u001b[0mcomparison_op\u001b[0m\u001b[0;34m(\u001b[0m\u001b[0mlvalues\u001b[0m\u001b[0;34m,\u001b[0m \u001b[0mrvalues\u001b[0m\u001b[0;34m,\u001b[0m \u001b[0mop\u001b[0m\u001b[0;34m)\u001b[0m\u001b[0;34m\u001b[0m\u001b[0;34m\u001b[0m\u001b[0m\n\u001b[0m\u001b[1;32m   5624\u001b[0m \u001b[0;34m\u001b[0m\u001b[0m\n\u001b[1;32m   5625\u001b[0m         \u001b[0;32mreturn\u001b[0m \u001b[0mself\u001b[0m\u001b[0;34m.\u001b[0m\u001b[0m_construct_result\u001b[0m\u001b[0;34m(\u001b[0m\u001b[0mres_values\u001b[0m\u001b[0;34m,\u001b[0m \u001b[0mname\u001b[0m\u001b[0;34m=\u001b[0m\u001b[0mres_name\u001b[0m\u001b[0;34m)\u001b[0m\u001b[0;34m\u001b[0m\u001b[0;34m\u001b[0m\u001b[0m\n",
            "\u001b[0;32m/usr/local/lib/python3.9/dist-packages/pandas/core/ops/array_ops.py\u001b[0m in \u001b[0;36mcomparison_op\u001b[0;34m(left, right, op)\u001b[0m\n\u001b[1;32m    281\u001b[0m \u001b[0;34m\u001b[0m\u001b[0m\n\u001b[1;32m    282\u001b[0m     \u001b[0;32melif\u001b[0m \u001b[0mis_object_dtype\u001b[0m\u001b[0;34m(\u001b[0m\u001b[0mlvalues\u001b[0m\u001b[0;34m.\u001b[0m\u001b[0mdtype\u001b[0m\u001b[0;34m)\u001b[0m \u001b[0;32mor\u001b[0m \u001b[0misinstance\u001b[0m\u001b[0;34m(\u001b[0m\u001b[0mrvalues\u001b[0m\u001b[0;34m,\u001b[0m \u001b[0mstr\u001b[0m\u001b[0;34m)\u001b[0m\u001b[0;34m:\u001b[0m\u001b[0;34m\u001b[0m\u001b[0;34m\u001b[0m\u001b[0m\n\u001b[0;32m--> 283\u001b[0;31m         \u001b[0mres_values\u001b[0m \u001b[0;34m=\u001b[0m \u001b[0mcomp_method_OBJECT_ARRAY\u001b[0m\u001b[0;34m(\u001b[0m\u001b[0mop\u001b[0m\u001b[0;34m,\u001b[0m \u001b[0mlvalues\u001b[0m\u001b[0;34m,\u001b[0m \u001b[0mrvalues\u001b[0m\u001b[0;34m)\u001b[0m\u001b[0;34m\u001b[0m\u001b[0;34m\u001b[0m\u001b[0m\n\u001b[0m\u001b[1;32m    284\u001b[0m \u001b[0;34m\u001b[0m\u001b[0m\n\u001b[1;32m    285\u001b[0m     \u001b[0;32melse\u001b[0m\u001b[0;34m:\u001b[0m\u001b[0;34m\u001b[0m\u001b[0;34m\u001b[0m\u001b[0m\n",
            "\u001b[0;32m/usr/local/lib/python3.9/dist-packages/pandas/core/ops/array_ops.py\u001b[0m in \u001b[0;36mcomp_method_OBJECT_ARRAY\u001b[0;34m(op, x, y)\u001b[0m\n\u001b[1;32m     71\u001b[0m         \u001b[0mresult\u001b[0m \u001b[0;34m=\u001b[0m \u001b[0mlibops\u001b[0m\u001b[0;34m.\u001b[0m\u001b[0mvec_compare\u001b[0m\u001b[0;34m(\u001b[0m\u001b[0mx\u001b[0m\u001b[0;34m.\u001b[0m\u001b[0mravel\u001b[0m\u001b[0;34m(\u001b[0m\u001b[0;34m)\u001b[0m\u001b[0;34m,\u001b[0m \u001b[0my\u001b[0m\u001b[0;34m.\u001b[0m\u001b[0mravel\u001b[0m\u001b[0;34m(\u001b[0m\u001b[0;34m)\u001b[0m\u001b[0;34m,\u001b[0m \u001b[0mop\u001b[0m\u001b[0;34m)\u001b[0m\u001b[0;34m\u001b[0m\u001b[0;34m\u001b[0m\u001b[0m\n\u001b[1;32m     72\u001b[0m     \u001b[0;32melse\u001b[0m\u001b[0;34m:\u001b[0m\u001b[0;34m\u001b[0m\u001b[0;34m\u001b[0m\u001b[0m\n\u001b[0;32m---> 73\u001b[0;31m         \u001b[0mresult\u001b[0m \u001b[0;34m=\u001b[0m \u001b[0mlibops\u001b[0m\u001b[0;34m.\u001b[0m\u001b[0mscalar_compare\u001b[0m\u001b[0;34m(\u001b[0m\u001b[0mx\u001b[0m\u001b[0;34m.\u001b[0m\u001b[0mravel\u001b[0m\u001b[0;34m(\u001b[0m\u001b[0;34m)\u001b[0m\u001b[0;34m,\u001b[0m \u001b[0my\u001b[0m\u001b[0;34m,\u001b[0m \u001b[0mop\u001b[0m\u001b[0;34m)\u001b[0m\u001b[0;34m\u001b[0m\u001b[0;34m\u001b[0m\u001b[0m\n\u001b[0m\u001b[1;32m     74\u001b[0m     \u001b[0;32mreturn\u001b[0m \u001b[0mresult\u001b[0m\u001b[0;34m.\u001b[0m\u001b[0mreshape\u001b[0m\u001b[0;34m(\u001b[0m\u001b[0mx\u001b[0m\u001b[0;34m.\u001b[0m\u001b[0mshape\u001b[0m\u001b[0;34m)\u001b[0m\u001b[0;34m\u001b[0m\u001b[0;34m\u001b[0m\u001b[0m\n\u001b[1;32m     75\u001b[0m \u001b[0;34m\u001b[0m\u001b[0m\n",
            "\u001b[0;31mKeyboardInterrupt\u001b[0m: "
          ]
        }
      ],
      "source": [
        "for i in top_items[\"StockCode\"]:\n",
        "  x=df.loc[df['StockCode']==i]\n",
        "    for k in range(len(x)):\n",
        "      if x[k].month==1\n",
        "        n.append(1)"
      ],
      "id": "N8r-1M-F3nlq"
    },
    {
      "cell_type": "code",
      "execution_count": null,
      "metadata": {
        "id": "9BVonMOjX2zZ"
      },
      "outputs": [],
      "source": [
        "plt.figure(figsize=(10,10))\n",
        "plt.hist(top_items.value_counts(), bins=200)\n",
        "plt.show()"
      ],
      "id": "9BVonMOjX2zZ"
    },
    {
      "cell_type": "code",
      "execution_count": null,
      "metadata": {
        "colab": {
          "base_uri": "https://localhost:8080/",
          "height": 294
        },
        "id": "gfp5WlFeXjR9",
        "outputId": "7327c769-dc34-4258-e06c-b1e5763823a8"
      },
      "outputs": [
        {
          "ename": "AttributeError",
          "evalue": "ignored",
          "output_type": "error",
          "traceback": [
            "\u001b[0;31m---------------------------------------------------------------------------\u001b[0m",
            "\u001b[0;31mAttributeError\u001b[0m                            Traceback (most recent call last)",
            "\u001b[0;32m<ipython-input-71-dd104148dafb>\u001b[0m in \u001b[0;36m<module>\u001b[0;34m\u001b[0m\n\u001b[0;32m----> 1\u001b[0;31m \u001b[0mtop_items\u001b[0m\u001b[0;34m.\u001b[0m\u001b[0msorted\u001b[0m\u001b[0;34m(\u001b[0m\u001b[0mascending\u001b[0m\u001b[0;34m=\u001b[0m\u001b[0;32mFalse\u001b[0m\u001b[0;34m)\u001b[0m\u001b[0;34m.\u001b[0m\u001b[0mhead\u001b[0m\u001b[0;34m(\u001b[0m\u001b[0;36m500\u001b[0m\u001b[0;34m)\u001b[0m\u001b[0;34m\u001b[0m\u001b[0;34m\u001b[0m\u001b[0m\n\u001b[0m",
            "\u001b[0;32m/usr/local/lib/python3.9/dist-packages/pandas/core/generic.py\u001b[0m in \u001b[0;36m__getattr__\u001b[0;34m(self, name)\u001b[0m\n\u001b[1;32m   5573\u001b[0m         ):\n\u001b[1;32m   5574\u001b[0m             \u001b[0;32mreturn\u001b[0m \u001b[0mself\u001b[0m\u001b[0;34m[\u001b[0m\u001b[0mname\u001b[0m\u001b[0;34m]\u001b[0m\u001b[0;34m\u001b[0m\u001b[0;34m\u001b[0m\u001b[0m\n\u001b[0;32m-> 5575\u001b[0;31m         \u001b[0;32mreturn\u001b[0m \u001b[0mobject\u001b[0m\u001b[0;34m.\u001b[0m\u001b[0m__getattribute__\u001b[0m\u001b[0;34m(\u001b[0m\u001b[0mself\u001b[0m\u001b[0;34m,\u001b[0m \u001b[0mname\u001b[0m\u001b[0;34m)\u001b[0m\u001b[0;34m\u001b[0m\u001b[0;34m\u001b[0m\u001b[0m\n\u001b[0m\u001b[1;32m   5576\u001b[0m \u001b[0;34m\u001b[0m\u001b[0m\n\u001b[1;32m   5577\u001b[0m     \u001b[0;32mdef\u001b[0m \u001b[0m__setattr__\u001b[0m\u001b[0;34m(\u001b[0m\u001b[0mself\u001b[0m\u001b[0;34m,\u001b[0m \u001b[0mname\u001b[0m\u001b[0;34m:\u001b[0m \u001b[0mstr\u001b[0m\u001b[0;34m,\u001b[0m \u001b[0mvalue\u001b[0m\u001b[0;34m)\u001b[0m \u001b[0;34m->\u001b[0m \u001b[0;32mNone\u001b[0m\u001b[0;34m:\u001b[0m\u001b[0;34m\u001b[0m\u001b[0;34m\u001b[0m\u001b[0m\n",
            "\u001b[0;31mAttributeError\u001b[0m: 'DataFrame' object has no attribute 'sorted'"
          ]
        }
      ],
      "source": [
        "top_items.sorted(ascending=False).head(500)"
      ],
      "id": "gfp5WlFeXjR9"
    },
    {
      "cell_type": "code",
      "execution_count": null,
      "metadata": {
        "id": "XyR89bLJRbaV"
      },
      "outputs": [],
      "source": [
        "df['StockCode'].loc[df[\"StockCode\"].value_counts()>500)]"
      ],
      "id": "XyR89bLJRbaV"
    },
    {
      "cell_type": "code",
      "execution_count": null,
      "metadata": {
        "id": "3_YAinvGNer1"
      },
      "outputs": [],
      "source": [
        "meth2_df=df[['InvoiceDate','StockCode','Quantity']]\n",
        "meth2_df.set_index(\"InvoiceDate\",inplace=True)\n",
        "meth2_df.head()"
      ],
      "id": "3_YAinvGNer1"
    },
    {
      "cell_type": "code",
      "execution_count": null,
      "metadata": {
        "colab": {
          "base_uri": "https://localhost:8080/",
          "height": 169
        },
        "id": "E5dandPq14iO",
        "outputId": "80599c36-76cb-49ce-819a-56c464f86dcb"
      },
      "outputs": [
        {
          "ename": "NameError",
          "evalue": "ignored",
          "output_type": "error",
          "traceback": [
            "\u001b[0;31m---------------------------------------------------------------------------\u001b[0m",
            "\u001b[0;31mNameError\u001b[0m                                 Traceback (most recent call last)",
            "\u001b[0;32m<ipython-input-72-bb44a08eb57c>\u001b[0m in \u001b[0;36m<module>\u001b[0;34m\u001b[0m\n\u001b[0;32m----> 1\u001b[0;31m \u001b[0mtype\u001b[0m\u001b[0;34m(\u001b[0m\u001b[0mmeth2_df\u001b[0m\u001b[0;34m[\u001b[0m\u001b[0;34m'InvoiceDate'\u001b[0m\u001b[0;34m]\u001b[0m\u001b[0;34m[\u001b[0m\u001b[0;36m0\u001b[0m\u001b[0;34m]\u001b[0m\u001b[0;34m)\u001b[0m\u001b[0;34m\u001b[0m\u001b[0;34m\u001b[0m\u001b[0m\n\u001b[0m",
            "\u001b[0;31mNameError\u001b[0m: name 'meth2_df' is not defined"
          ]
        }
      ],
      "source": [
        "type(meth2_df['InvoiceDate'][0])"
      ],
      "id": "E5dandPq14iO"
    },
    {
      "cell_type": "markdown",
      "metadata": {
        "id": "mFN41nVwyywk"
      },
      "source": [],
      "id": "mFN41nVwyywk"
    },
    {
      "cell_type": "code",
      "execution_count": null,
      "metadata": {
        "id": "mx7vetDuCnty"
      },
      "outputs": [],
      "source": [
        "meth2_df[\"Month\"]=pd.DatetimeIndex(df[\"InvoiceDate\"]).month\n",
        "meth2_df[\"Month\"].value_counts()"
      ],
      "id": "mx7vetDuCnty"
    },
    {
      "cell_type": "code",
      "execution_count": null,
      "metadata": {
        "id": "MiXQ09vIWWJ_"
      },
      "outputs": [],
      "source": [
        "meth2_df.loc[df['StockCode']contains ]"
      ],
      "id": "MiXQ09vIWWJ_"
    },
    {
      "cell_type": "code",
      "execution_count": null,
      "metadata": {
        "id": "cGDb9v9VXadK"
      },
      "outputs": [],
      "source": [
        "stockseries=meth2_df['StockCode']"
      ],
      "id": "cGDb9v9VXadK"
    },
    {
      "cell_type": "code",
      "execution_count": null,
      "metadata": {
        "id": "fWy83_sM90--"
      },
      "outputs": [],
      "source": [
        "months=[12,1,2,3,4,5,6,7,8,9,10,11,12,1,2,3,4,5,6,7,8,9,10,11,12]\n",
        "for i in months:\n",
        "\n",
        "  for i in stockseries:\n",
        "    rows=df.loc[df['StockCode']==i]\n",
        "    date=.to_datetime64()\n",
        "  date=np.datetime64(date, 'M')\n",
        "  date + 1\n",
        "#every step another month is added until the last month is reached.\n",
        "# The totals are then saved as values to a dictionary with Stockseries.index as the keys.\n",
        "\n"
      ],
      "id": "fWy83_sM90--"
    },
    {
      "cell_type": "code",
      "execution_count": null,
      "metadata": {
        "colab": {
          "base_uri": "https://localhost:8080/"
        },
        "id": "s3XODQi_9y_A",
        "outputId": "5b1ffede-9074-4707-d899-05287383ba57"
      },
      "outputs": [
        {
          "data": {
            "text/plain": [
              "numpy.datetime64('2009-12-01T07:45:00.000000001')"
            ]
          },
          "execution_count": 189,
          "metadata": {},
          "output_type": "execute_result"
        }
      ],
      "source": [
        "months = [\"Jan\", \"Feb\", \"Mar\", \"Apr\", \"May\", \"Jun\", \n",
        "          \"Jul\", \"Aug\", \"Sep\", \"Oct\", \"Nov\", \"Dec\"]\n",
        "df['months'] = pd.Categorical(df['months'], categories=months, ordered=True)\n",
        "df.sort_values(...)  # same as you have now; can use inplace=True"
      ],
      "id": "s3XODQi_9y_A"
    },
    {
      "cell_type": "markdown",
      "metadata": {
        "id": "DJeSREq2m8Xl"
      },
      "source": [
        "###Deal with Null Values"
      ],
      "id": "DJeSREq2m8Xl"
    },
    {
      "cell_type": "code",
      "execution_count": null,
      "metadata": {
        "colab": {
          "base_uri": "https://localhost:8080/"
        },
        "id": "ovbOOfm62H9X",
        "outputId": "344a07fc-f187-48a9-a74e-46579c569abe"
      },
      "outputs": [
        {
          "data": {
            "text/plain": [
              "500"
            ]
          },
          "execution_count": 141,
          "metadata": {},
          "output_type": "execute_result"
        }
      ],
      "source": [],
      "id": "ovbOOfm62H9X"
    },
    {
      "cell_type": "code",
      "execution_count": null,
      "metadata": {
        "colab": {
          "base_uri": "https://localhost:8080/",
          "height": 483
        },
        "id": "I98kg7kMIvV9",
        "outputId": "c96622f4-e149-48bf-f98c-c5997beabd9c"
      },
      "outputs": [
        {
          "data": {
            "image/png": "[encoded data removed]",
            "text/plain": [
              "<Figure size 864x576 with 1 Axes>"
            ]
          },
          "metadata": {},
          "output_type": "display_data"
        }
      ],
      "source": [
        "#Found all Missing Customers\n",
        "MissingCustomers=df.loc[df['Customer ID'].isnull()==True]\n",
        "#Distribution of Quantiy Ordered for all Customers\n",
        "fig = plt.subplots(figsize =(12, 8))\n",
        "plt.hist(df['Quantity'], bins=100,range=(-20,50))\n",
        "\n",
        "plt.show()"
      ],
      "id": "I98kg7kMIvV9"
    },
    {
      "cell_type": "code",
      "execution_count": null,
      "metadata": {
        "colab": {
          "base_uri": "https://localhost:8080/",
          "height": 483
        },
        "id": "AmjTgutRMNxg",
        "outputId": "9ba060d2-f0b0-4392-d7c8-23f3b109ac51"
      },
      "outputs": [
        {
          "data": {
            "image/png": "[encoded data removed]",
            "text/plain": [
              "<Figure size 864x576 with 1 Axes>"
            ]
          },
          "metadata": {},
          "output_type": "display_data"
        }
      ],
      "source": [
        "#Distribution of Quantiy Ordered for all Customers\n",
        "fig = plt.subplots(figsize =(12, 8))\n",
        "plt.hist(MissingCustomers['Quantity'], bins=100,range=(-20,50))\n",
        "\n",
        "plt.show()"
      ],
      "id": "AmjTgutRMNxg"
    },
    {
      "cell_type": "code",
      "execution_count": null,
      "metadata": {
        "id": "8VE9oqGJB0ze"
      },
      "outputs": [],
      "source": [
        "known_customers=df.loc[df['Customer ID'].isnull()==False]"
      ],
      "id": "8VE9oqGJB0ze"
    },
    {
      "cell_type": "code",
      "execution_count": null,
      "metadata": {
        "colab": {
          "base_uri": "https://localhost:8080/"
        },
        "id": "yPKCI5kOVRdc",
        "outputId": "ebf62428-8286-4716-bd49-855eea185a89"
      },
      "outputs": [
        {
          "data": {
            "text/plain": [
              "7307"
            ]
          },
          "execution_count": 86,
          "metadata": {},
          "output_type": "execute_result"
        }
      ],
      "source": [
        "len(known_customers['Customer ID'].loc[known_customers['Customer ID']==12748.0])"
      ],
      "id": "yPKCI5kOVRdc"
    },
    {
      "cell_type": "code",
      "execution_count": null,
      "metadata": {
        "colab": {
          "base_uri": "https://localhost:8080/",
          "height": 169
        },
        "id": "pGwYA-CDTiB-",
        "outputId": "946f88da-baa8-4bc6-f050-8b23caeb835c"
      },
      "outputs": [
        {
          "ename": "TypeError",
          "evalue": "ignored",
          "output_type": "error",
          "traceback": [
            "\u001b[0;31m---------------------------------------------------------------------------\u001b[0m",
            "\u001b[0;31mTypeError\u001b[0m                                 Traceback (most recent call last)",
            "\u001b[0;32m<ipython-input-87-f0c70e7e69ed>\u001b[0m in \u001b[0;36m<module>\u001b[0;34m\u001b[0m\n\u001b[0;32m----> 1\u001b[0;31m \u001b[0mknown_customers\u001b[0m\u001b[0;34m[\u001b[0m\u001b[0;34m'Customer ID'\u001b[0m\u001b[0;34m]\u001b[0m\u001b[0;34m.\u001b[0m\u001b[0mvalue_counts\u001b[0m\u001b[0;34m(\u001b[0m\u001b[0;34m)\u001b[0m\u001b[0;34m.\u001b[0m\u001b[0mindex\u001b[0m\u001b[0;34m(\u001b[0m\u001b[0;34m)\u001b[0m\u001b[0;34m\u001b[0m\u001b[0;34m\u001b[0m\u001b[0m\n\u001b[0m",
            "\u001b[0;31mTypeError\u001b[0m: 'Float64Index' object is not callable"
          ]
        }
      ],
      "source": [
        "known_customers['Customer ID'].value_counts().index()"
      ],
      "id": "pGwYA-CDTiB-"
    },
    {
      "cell_type": "code",
      "execution_count": null,
      "metadata": {
        "id": "CHQIAITWTsj-"
      },
      "outputs": [],
      "source": [
        "NonR_customer=[]\n",
        "for i in df['Customer ID'].value_counts().index:\n",
        "  if len(known_customers['Customer ID'].loc[known_customers['Customer ID']==i])>1:\n",
        "    continue\n",
        "  NonR_customer.append(i)"
      ],
      "id": "CHQIAITWTsj-"
    },
    {
      "cell_type": "markdown",
      "metadata": {
        "id": "W2fOCk0zoO9b"
      },
      "source": [
        "##Method 4:Find Repeat Customers and Perform Random Forest Classifier"
      ],
      "id": "W2fOCk0zoO9b"
    },
    {
      "cell_type": "code",
      "execution_count": null,
      "metadata": {
        "id": "NU7hMTTaT_dF"
      },
      "outputs": [],
      "source": [
        "Repeat_customer=[]\n",
        "for i in df['Customer ID']:\n",
        "  if i in NonR_customer:\n",
        "    Repeat_customer.append(False)\n",
        "    continue\n",
        "  Repeat_customer.append(True)"
      ],
      "id": "NU7hMTTaT_dF"
    },
    {
      "cell_type": "code",
      "execution_count": null,
      "metadata": {
        "colab": {
          "base_uri": "https://localhost:8080/"
        },
        "id": "L2e32Rt-Lqmi",
        "outputId": "54278e40-d08d-4e19-fd24-b4cd02c6d7a3"
      },
      "outputs": [
        {
          "data": {
            "text/plain": [
              "Index(['Invoice', 'StockCode', 'Description', 'Quantity', 'InvoiceDate',\n",
              "       'Price', 'Customer ID', 'Country', 'TotalSpending', 'Repeat_Customer'],\n",
              "      dtype='object')"
            ]
          },
          "execution_count": 90,
          "metadata": {},
          "output_type": "execute_result"
        }
      ],
      "source": [
        "df['Repeat_Customer']=Repeat_customer\n",
        "df.columns"
      ],
      "id": "L2e32Rt-Lqmi"
    },
    {
      "cell_type": "markdown",
      "metadata": {
        "id": "3CxTN8zOIQWe"
      },
      "source": [
        "###TODO:Replace Country with Ordinal Encoder\n",
        "###TODO:Standardize the values(price, quantitiy)"
      ],
      "id": "3CxTN8zOIQWe"
    },
    {
      "cell_type": "code",
      "execution_count": null,
      "metadata": {
        "id": "tUcnu_OtX8jj"
      },
      "outputs": [],
      "source": [
        "#Predict Repeat Customers Using ____  'StockCode', 'Quantity', 'InvoiceDate', 'Price',  'Country', \n",
        "X=df[['StockCode', 'Quantity', 'InvoiceDate', 'Price',  'Country']]\n",
        "y=df['Repeat_Customer']"
      ],
      "id": "tUcnu_OtX8jj"
    },
    {
      "cell_type": "code",
      "execution_count": null,
      "metadata": {
        "id": "1HTzLs1LX8HC"
      },
      "outputs": [],
      "source": [
        "X_train,X_test,y_train,y_test=train_test_split(X,y,test_size=.20)"
      ],
      "id": "1HTzLs1LX8HC"
    },
    {
      "cell_type": "code",
      "execution_count": null,
      "metadata": {
        "colab": {
          "base_uri": "https://localhost:8080/"
        },
        "id": "Tj8ntJ8WP8dt",
        "outputId": "6803d2a7-7735-4f15-c76e-a9b833ada335"
      },
      "outputs": [
        {
          "data": {
            "text/plain": [
              "0.25000117110280407"
            ]
          },
          "execution_count": 142,
          "metadata": {},
          "output_type": "execute_result"
        }
      ],
      "source": [
        "len(X_test)/len(X_train)"
      ],
      "id": "Tj8ntJ8WP8dt"
    },
    {
      "cell_type": "code",
      "execution_count": null,
      "metadata": {
        "colab": {
          "base_uri": "https://localhost:8080/",
          "height": 126
        },
        "id": "P-RtRRNsd7eM",
        "outputId": "82ec1829-8d76-4f9d-c570-e635b9e1be77"
      },
      "outputs": [
        {
          "data": {
            "text/html": [
              "<style>#sk-container-id-2 {color: black;background-color: white;}#sk-container-id-2 pre{padding: 0;}#sk-container-id-2 div.sk-toggleable {background-color: white;}#sk-container-id-2 label.sk-toggleable__label {cursor: pointer;display: block;width: 100%;margin-bottom: 0;padding: 0.3em;box-sizing: border-box;text-align: center;}#sk-container-id-2 label.sk-toggleable__label-arrow:before {content: \"▸\";float: left;margin-right: 0.25em;color: #696969;}#sk-container-id-2 label.sk-toggleable__label-arrow:hover:before {color: black;}#sk-container-id-2 div.sk-estimator:hover label.sk-toggleable__label-arrow:before {color: black;}#sk-container-id-2 div.sk-toggleable__content {max-height: 0;max-width: 0;overflow: hidden;text-align: left;background-color: #f0f8ff;}#sk-container-id-2 div.sk-toggleable__content pre {margin: 0.2em;color: black;border-radius: 0.25em;background-color: #f0f8ff;}#sk-container-id-2 input.sk-toggleable__control:checked~div.sk-toggleable__content {max-height: 200px;max-width: 100%;overflow: auto;}#sk-container-id-2 input.sk-toggleable__control:checked~label.sk-toggleable__label-arrow:before {content: \"▾\";}#sk-container-id-2 div.sk-estimator input.sk-toggleable__control:checked~label.sk-toggleable__label {background-color: #d4ebff;}#sk-container-id-2 div.sk-label input.sk-toggleable__control:checked~label.sk-toggleable__label {background-color: #d4ebff;}#sk-container-id-2 input.sk-hidden--visually {border: 0;clip: rect(1px 1px 1px 1px);clip: rect(1px, 1px, 1px, 1px);height: 1px;margin: -1px;overflow: hidden;padding: 0;position: absolute;width: 1px;}#sk-container-id-2 div.sk-estimator {font-family: monospace;background-color: #f0f8ff;border: 1px dotted black;border-radius: 0.25em;box-sizing: border-box;margin-bottom: 0.5em;}#sk-container-id-2 div.sk-estimator:hover {background-color: #d4ebff;}#sk-container-id-2 div.sk-parallel-item::after {content: \"\";width: 100%;border-bottom: 1px solid gray;flex-grow: 1;}#sk-container-id-2 div.sk-label:hover label.sk-toggleable__label {background-color: #d4ebff;}#sk-container-id-2 div.sk-serial::before {content: \"\";position: absolute;border-left: 1px solid gray;box-sizing: border-box;top: 0;bottom: 0;left: 50%;z-index: 0;}#sk-container-id-2 div.sk-serial {display: flex;flex-direction: column;align-items: center;background-color: white;padding-right: 0.2em;padding-left: 0.2em;position: relative;}#sk-container-id-2 div.sk-item {position: relative;z-index: 1;}#sk-container-id-2 div.sk-parallel {display: flex;align-items: stretch;justify-content: center;background-color: white;position: relative;}#sk-container-id-2 div.sk-item::before, #sk-container-id-2 div.sk-parallel-item::before {content: \"\";position: absolute;border-left: 1px solid gray;box-sizing: border-box;top: 0;bottom: 0;left: 50%;z-index: -1;}#sk-container-id-2 div.sk-parallel-item {display: flex;flex-direction: column;z-index: 1;position: relative;background-color: white;}#sk-container-id-2 div.sk-parallel-item:first-child::after {align-self: flex-end;width: 50%;}#sk-container-id-2 div.sk-parallel-item:last-child::after {align-self: flex-start;width: 50%;}#sk-container-id-2 div.sk-parallel-item:only-child::after {width: 0;}#sk-container-id-2 div.sk-dashed-wrapped {border: 1px dashed gray;margin: 0 0.4em 0.5em 0.4em;box-sizing: border-box;padding-bottom: 0.4em;background-color: white;}#sk-container-id-2 div.sk-label label {font-family: monospace;font-weight: bold;display: inline-block;line-height: 1.2em;}#sk-container-id-2 div.sk-label-container {text-align: center;}#sk-container-id-2 div.sk-container {/* jupyter's `normalize.less` sets `[hidden] { display: none; }` but bootstrap.min.css set `[hidden] { display: none !important; }` so we also need the `!important` here to be able to override the default hidden behavior on the sphinx rendered scikit-learn.org. See: https://github.com/scikit-learn/scikit-learn/issues/21755 */display: inline-block !important;position: relative;}#sk-container-id-2 div.sk-text-repr-fallback {display: none;}</style><div id=\"sk-container-id-2\" class=\"sk-top-container\"><div class=\"sk-text-repr-fallback\"><pre>Pipeline(steps=[(&#x27;ordinalencoder&#x27;,\n",
              "                 OrdinalEncoder(handle_unknown=&#x27;use_encoded_value&#x27;,\n",
              "                                unknown_value=-1)),\n",
              "                (&#x27;randomforestclassifier&#x27;, RandomForestClassifier())])</pre><b>In a Jupyter environment, please rerun this cell to show the HTML representation or trust the notebook. <br />On GitHub, the HTML representation is unable to render, please try loading this page with nbviewer.org.</b></div><div class=\"sk-container\" hidden><div class=\"sk-item sk-dashed-wrapped\"><div class=\"sk-label-container\"><div class=\"sk-label sk-toggleable\"><input class=\"sk-toggleable__control sk-hidden--visually\" id=\"sk-estimator-id-4\" type=\"checkbox\" ><label for=\"sk-estimator-id-4\" class=\"sk-toggleable__label sk-toggleable__label-arrow\">Pipeline</label><div class=\"sk-toggleable__content\"><pre>Pipeline(steps=[(&#x27;ordinalencoder&#x27;,\n",
              "                 OrdinalEncoder(handle_unknown=&#x27;use_encoded_value&#x27;,\n",
              "                                unknown_value=-1)),\n",
              "                (&#x27;randomforestclassifier&#x27;, RandomForestClassifier())])</pre></div></div></div><div class=\"sk-serial\"><div class=\"sk-item\"><div class=\"sk-estimator sk-toggleable\"><input class=\"sk-toggleable__control sk-hidden--visually\" id=\"sk-estimator-id-5\" type=\"checkbox\" ><label for=\"sk-estimator-id-5\" class=\"sk-toggleable__label sk-toggleable__label-arrow\">OrdinalEncoder</label><div class=\"sk-toggleable__content\"><pre>OrdinalEncoder(handle_unknown=&#x27;use_encoded_value&#x27;, unknown_value=-1)</pre></div></div></div><div class=\"sk-item\"><div class=\"sk-estimator sk-toggleable\"><input class=\"sk-toggleable__control sk-hidden--visually\" id=\"sk-estimator-id-6\" type=\"checkbox\" ><label for=\"sk-estimator-id-6\" class=\"sk-toggleable__label sk-toggleable__label-arrow\">RandomForestClassifier</label><div class=\"sk-toggleable__content\"><pre>RandomForestClassifier()</pre></div></div></div></div></div></div></div>"
            ],
            "text/plain": [
              "Pipeline(steps=[('ordinalencoder',\n",
              "                 OrdinalEncoder(handle_unknown='use_encoded_value',\n",
              "                                unknown_value=-1)),\n",
              "                ('randomforestclassifier', RandomForestClassifier())])"
            ]
          },
          "execution_count": 109,
          "metadata": {},
          "output_type": "execute_result"
        }
      ],
      "source": [
        "#Encode StockCode\n",
        "from sklearn.preprocessing import OrdinalEncoder\n",
        "from sklearn.pipeline import make_pipeline\n",
        "from sklearn.ensemble import RandomForestClassifier\n",
        "\n",
        "Pipe=make_pipeline(OrdinalEncoder(handle_unknown='use_encoded_value',unknown_value=-1),RandomForestClassifier())\n",
        "Pipe.fit(X_train,y_train)\n",
        "#df['StockCode']=Ord.transform(df['StockCode'])\n",
        "#df['Country']=Ord.tranform(df['Country'])"
      ],
      "id": "P-RtRRNsd7eM"
    },
    {
      "cell_type": "code",
      "execution_count": null,
      "metadata": {
        "colab": {
          "base_uri": "https://localhost:8080/"
        },
        "id": "d6fCz6ZVcvDi",
        "outputId": "95a9f9b9-97dd-4724-f5e3-b1dac1abbf46"
      },
      "outputs": [
        {
          "name": "stdout",
          "output_type": "stream",
          "text": [
            "0.9998454151539993\n"
          ]
        }
      ],
      "source": [
        "print(Pipe.score(X_test,y_test))"
      ],
      "id": "d6fCz6ZVcvDi"
    },
    {
      "cell_type": "code",
      "execution_count": null,
      "metadata": {
        "id": "7lvFzLERvG79"
      },
      "outputs": [],
      "source": [
        "from sklearn.metrics import f1_score"
      ],
      "id": "7lvFzLERvG79"
    },
    {
      "cell_type": "code",
      "execution_count": null,
      "metadata": {
        "colab": {
          "base_uri": "https://localhost:8080/"
        },
        "id": "6qc8mZ2vvpuN",
        "outputId": "de90d44d-d28c-4f95-a761-37c11fa562b5"
      },
      "outputs": [
        {
          "data": {
            "text/plain": [
              "0.9999227005160326"
            ]
          },
          "execution_count": 125,
          "metadata": {},
          "output_type": "execute_result"
        }
      ],
      "source": [
        "f1_score(y_test,Pipe.predict(X_test))"
      ],
      "id": "6qc8mZ2vvpuN"
    },
    {
      "cell_type": "code",
      "execution_count": null,
      "metadata": {
        "id": "iozQah3nv0Ed"
      },
      "outputs": [],
      "source": [
        "from sklearn.metrics import classification_report"
      ],
      "id": "iozQah3nv0Ed"
    },
    {
      "cell_type": "code",
      "execution_count": null,
      "metadata": {
        "colab": {
          "base_uri": "https://localhost:8080/"
        },
        "id": "9zJDbsTXv-cK",
        "outputId": "1d46e087-2bf6-4512-d71a-ee4896a20628"
      },
      "outputs": [
        {
          "name": "stdout",
          "output_type": "stream",
          "text": [
            "              precision    recall  f1-score   support\n",
            "\n",
            "       False       0.60      0.09      0.15        34\n",
            "        True       1.00      1.00      1.00    213441\n",
            "\n",
            "    accuracy                           1.00    213475\n",
            "   macro avg       0.80      0.54      0.58    213475\n",
            "weighted avg       1.00      1.00      1.00    213475\n",
            "\n"
          ]
        }
      ],
      "source": [
        "print(classification_report(y_test,Pipe.predict(X_test)))"
      ],
      "id": "9zJDbsTXv-cK"
    },
    {
      "cell_type": "markdown",
      "metadata": {
        "id": "29FOL32SwfiN"
      },
      "source": [
        "###From the data, we can see that a grand majority of customers are returning customers. Churn is extremly low. "
      ],
      "id": "29FOL32SwfiN"
    },
    {
      "cell_type": "code",
      "execution_count": null,
      "metadata": {
        "id": "uJEskF1Ktm_o"
      },
      "outputs": [],
      "source": [],
      "id": "uJEskF1Ktm_o"
    },
    {
      "cell_type": "markdown",
      "source": [
        "#Method 6: Multiple Linear Regression"
      ],
      "metadata": {
        "id": "Fw5Ry8iRWXon"
      },
      "id": "Fw5Ry8iRWXon"
    },
    {
      "cell_type": "code",
      "source": [
        "!pip install pystan~=2.14\n",
        "!pip install fbprophet"
      ],
      "metadata": {
        "id": "3tIJlt08WcGw"
      },
      "execution_count": null,
      "outputs": [],
      "id": "3tIJlt08WcGw"
    },
    {
      "cell_type": "code",
      "source": [
        "from fbprophet import Prophet"
      ],
      "metadata": {
        "colab": {
          "base_uri": "https://localhost:8080/",
          "height": 314
        },
        "id": "R-bcdid5ZTCd",
        "outputId": "5ad8d8ee-5312-424f-a932-8fee1c2222b9"
      },
      "execution_count": null,
      "outputs": [
        {
          "output_type": "error",
          "ename": "ModuleNotFoundError",
          "evalue": "ignored",
          "traceback": [
            "\u001b[0;31m---------------------------------------------------------------------------\u001b[0m",
            "\u001b[0;31mModuleNotFoundError\u001b[0m                       Traceback (most recent call last)",
            "\u001b[0;32m<ipython-input-17-f503e9c6cf11>\u001b[0m in \u001b[0;36m<cell line: 1>\u001b[0;34m()\u001b[0m\n\u001b[0;32m----> 1\u001b[0;31m \u001b[0;32mfrom\u001b[0m \u001b[0mfbprophet\u001b[0m \u001b[0;32mimport\u001b[0m \u001b[0mProphet\u001b[0m\u001b[0;34m\u001b[0m\u001b[0;34m\u001b[0m\u001b[0m\n\u001b[0m",
            "\u001b[0;31mModuleNotFoundError\u001b[0m: No module named 'fbprophet'",
            "",
            "\u001b[0;31m---------------------------------------------------------------------------\u001b[0;32m\nNOTE: If your import is failing due to a missing package, you can\nmanually install dependencies using either !pip or !apt.\n\nTo view examples of installing some common dependencies, click the\n\"Open Examples\" button below.\n\u001b[0;31m---------------------------------------------------------------------------\u001b[0m\n"
          ],
          "errorDetails": {
            "actions": [
              {
                "action": "open_url",
                "actionText": "Open Examples",
                "url": "/notebooks/snippets/importing_libraries.ipynb"
              }
            ]
          }
        }
      ],
      "id": "R-bcdid5ZTCd"
    },
    {
      "cell_type": "code",
      "source": [
        "# Import necessary libraries\n",
        "import pandas as pd\n",
        "import matplotlib.pyplot as plt\n",
        "import statsmodels.api as sm\n",
        "\n",
        "# Set the date column as the index of the dataframe\n",
        "df.set_index('date', inplace=True)\n",
        "\n",
        "# Decompose the time series into trend, seasonality, and residuals using statsmodels\n",
        "decomposition = sm.tsa.seasonal_decompose(df, model='additive')\n",
        "\n",
        "# Plot the original time series and the decomposed components\n",
        "fig, (ax1, ax2, ax3, ax4) = plt.subplots(4, 1, figsize=(12, 8))\n",
        "ax1.plot(df)\n",
        "ax1.set_title('Original Time Series')\n",
        "ax2.plot(decomposition.trend)\n",
        "ax2.set_title('Trend')\n",
        "ax3.plot(decomposition.seasonal)\n",
        "ax3.set_title('Seasonality')\n",
        "ax4.plot(decomposition.resid)\n",
        "ax4.set_title('Residuals')\n",
        "\n",
        "# Show the plot\n",
        "plt.show()"
      ],
      "metadata": {
        "id": "VPJOCv7BZ3qv"
      },
      "execution_count": null,
      "outputs": [],
      "id": "VPJOCv7BZ3qv"
    },
    {
      "cell_type": "code",
      "source": [],
      "metadata": {
        "id": "M3cEQ4Hd6XOL"
      },
      "execution_count": null,
      "outputs": [],
      "id": "M3cEQ4Hd6XOL"
    },
    {
      "cell_type": "code",
      "source": [
        "#LEAST ORDINARY SQUARES\n",
        "# Libraries for R^2 visualization\n",
        "from ipywidgets import interactive, IntSlider, FloatSlider\n",
        "from math import floor, ceil\n",
        "from sklearn.base import BaseEstimator, RegressorMixin\n",
        "\n",
        "# Libraries for model building\n",
        "from sklearn.linear_model import LinearRegression\n",
        "from sklearn.metrics import mean_absolute_error, mean_squared_error, r2_score\n",
        "from sklearn.model_selection import train_test_split\n",
        "\n",
        "from category_encoders import OrdinalEncoder\n",
        "\n",
        "import matplotlib.pyplot as plt\n",
        "import numpy as np\n",
        "import pandas as pd"
      ],
      "metadata": {
        "id": "Zyccju2Czl88"
      },
      "execution_count": null,
      "outputs": [],
      "id": "Zyccju2Czl88"
    },
    {
      "cell_type": "code",
      "source": [
        "target ='Quantity'\n",
        "X = known_df.drop(columns = target, axis = 1)\n",
        "y = known_df[target]"
      ],
      "metadata": {
        "id": "xZrig_T_Xkj4"
      },
      "execution_count": null,
      "outputs": [],
      "id": "xZrig_T_Xkj4"
    },
    {
      "cell_type": "code",
      "source": [
        "X_train, X_test, y_train, y_test=train_test_split(X,y, test_size=0.2,random_state=42)"
      ],
      "metadata": {
        "id": "_W4blLiYzWxZ"
      },
      "execution_count": null,
      "outputs": [],
      "id": "_W4blLiYzWxZ"
    },
    {
      "cell_type": "code",
      "source": [
        "# Providing the mean of our target we can have a baseline we always work with our train data & leave the test data for the end. \n",
        "y_pred_baseline = [y_train.mean()] * len(y_train)\n",
        "baseline_mae = mean_absolute_error(y_train, y_pred_baseline)\n",
        "\n",
        "print('Quantity:', y_train.mean())\n",
        "print('Baseline MAE:', baseline_mae)"
      ],
      "metadata": {
        "colab": {
          "base_uri": "https://localhost:8080/"
        },
        "id": "RPUQ3BrW1h6H",
        "outputId": "31310c22-45a1-4019-c3da-fa0a29009a2e"
      },
      "execution_count": null,
      "outputs": [
        {
          "output_type": "stream",
          "name": "stdout",
          "text": [
            "Quantity: 12.501427616146392\n",
            "Baseline MAE: 13.791227331755492\n"
          ]
        }
      ],
      "id": "RPUQ3BrW1h6H"
    },
    {
      "cell_type": "code",
      "source": [
        "#Fitting\n",
        "model=LinearRegression()\n",
        "model.fit(X_train,y_train)"
      ],
      "metadata": {
        "colab": {
          "base_uri": "https://localhost:8080/",
          "height": 74
        },
        "id": "ocNpgu611hW1",
        "outputId": "5a6475b2-50d9-424a-ad7e-d2dc277bdf5b"
      },
      "execution_count": null,
      "outputs": [
        {
          "output_type": "execute_result",
          "data": {
            "text/plain": [
              "LinearRegression()"
            ],
            "text/html": [
              "<style>#sk-container-id-1 {color: black;background-color: white;}#sk-container-id-1 pre{padding: 0;}#sk-container-id-1 div.sk-toggleable {background-color: white;}#sk-container-id-1 label.sk-toggleable__label {cursor: pointer;display: block;width: 100%;margin-bottom: 0;padding: 0.3em;box-sizing: border-box;text-align: center;}#sk-container-id-1 label.sk-toggleable__label-arrow:before {content: \"▸\";float: left;margin-right: 0.25em;color: #696969;}#sk-container-id-1 label.sk-toggleable__label-arrow:hover:before {color: black;}#sk-container-id-1 div.sk-estimator:hover label.sk-toggleable__label-arrow:before {color: black;}#sk-container-id-1 div.sk-toggleable__content {max-height: 0;max-width: 0;overflow: hidden;text-align: left;background-color: #f0f8ff;}#sk-container-id-1 div.sk-toggleable__content pre {margin: 0.2em;color: black;border-radius: 0.25em;background-color: #f0f8ff;}#sk-container-id-1 input.sk-toggleable__control:checked~div.sk-toggleable__content {max-height: 200px;max-width: 100%;overflow: auto;}#sk-container-id-1 input.sk-toggleable__control:checked~label.sk-toggleable__label-arrow:before {content: \"▾\";}#sk-container-id-1 div.sk-estimator input.sk-toggleable__control:checked~label.sk-toggleable__label {background-color: #d4ebff;}#sk-container-id-1 div.sk-label input.sk-toggleable__control:checked~label.sk-toggleable__label {background-color: #d4ebff;}#sk-container-id-1 input.sk-hidden--visually {border: 0;clip: rect(1px 1px 1px 1px);clip: rect(1px, 1px, 1px, 1px);height: 1px;margin: -1px;overflow: hidden;padding: 0;position: absolute;width: 1px;}#sk-container-id-1 div.sk-estimator {font-family: monospace;background-color: #f0f8ff;border: 1px dotted black;border-radius: 0.25em;box-sizing: border-box;margin-bottom: 0.5em;}#sk-container-id-1 div.sk-estimator:hover {background-color: #d4ebff;}#sk-container-id-1 div.sk-parallel-item::after {content: \"\";width: 100%;border-bottom: 1px solid gray;flex-grow: 1;}#sk-container-id-1 div.sk-label:hover label.sk-toggleable__label {background-color: #d4ebff;}#sk-container-id-1 div.sk-serial::before {content: \"\";position: absolute;border-left: 1px solid gray;box-sizing: border-box;top: 0;bottom: 0;left: 50%;z-index: 0;}#sk-container-id-1 div.sk-serial {display: flex;flex-direction: column;align-items: center;background-color: white;padding-right: 0.2em;padding-left: 0.2em;position: relative;}#sk-container-id-1 div.sk-item {position: relative;z-index: 1;}#sk-container-id-1 div.sk-parallel {display: flex;align-items: stretch;justify-content: center;background-color: white;position: relative;}#sk-container-id-1 div.sk-item::before, #sk-container-id-1 div.sk-parallel-item::before {content: \"\";position: absolute;border-left: 1px solid gray;box-sizing: border-box;top: 0;bottom: 0;left: 50%;z-index: -1;}#sk-container-id-1 div.sk-parallel-item {display: flex;flex-direction: column;z-index: 1;position: relative;background-color: white;}#sk-container-id-1 div.sk-parallel-item:first-child::after {align-self: flex-end;width: 50%;}#sk-container-id-1 div.sk-parallel-item:last-child::after {align-self: flex-start;width: 50%;}#sk-container-id-1 div.sk-parallel-item:only-child::after {width: 0;}#sk-container-id-1 div.sk-dashed-wrapped {border: 1px dashed gray;margin: 0 0.4em 0.5em 0.4em;box-sizing: border-box;padding-bottom: 0.4em;background-color: white;}#sk-container-id-1 div.sk-label label {font-family: monospace;font-weight: bold;display: inline-block;line-height: 1.2em;}#sk-container-id-1 div.sk-label-container {text-align: center;}#sk-container-id-1 div.sk-container {/* jupyter's `normalize.less` sets `[hidden] { display: none; }` but bootstrap.min.css set `[hidden] { display: none !important; }` so we also need the `!important` here to be able to override the default hidden behavior on the sphinx rendered scikit-learn.org. See: https://github.com/scikit-learn/scikit-learn/issues/21755 */display: inline-block !important;position: relative;}#sk-container-id-1 div.sk-text-repr-fallback {display: none;}</style><div id=\"sk-container-id-1\" class=\"sk-top-container\"><div class=\"sk-text-repr-fallback\"><pre>LinearRegression()</pre><b>In a Jupyter environment, please rerun this cell to show the HTML representation or trust the notebook. <br />On GitHub, the HTML representation is unable to render, please try loading this page with nbviewer.org.</b></div><div class=\"sk-container\" hidden><div class=\"sk-item\"><div class=\"sk-estimator sk-toggleable\"><input class=\"sk-toggleable__control sk-hidden--visually\" id=\"sk-estimator-id-1\" type=\"checkbox\" checked><label for=\"sk-estimator-id-1\" class=\"sk-toggleable__label sk-toggleable__label-arrow\">LinearRegression</label><div class=\"sk-toggleable__content\"><pre>LinearRegression()</pre></div></div></div></div></div>"
            ]
          },
          "metadata": {},
          "execution_count": 175
        }
      ],
      "id": "ocNpgu611hW1"
    },
    {
      "cell_type": "code",
      "source": [
        "#MAE Accuracy Score\n",
        "print('Training MAE:', mean_absolute_error(y_train, model.predict(X_train)))\n",
        "print('Test MAE:', mean_absolute_error(y_test, model.predict(X_test)))"
      ],
      "metadata": {
        "id": "jaY4LGdy2BR7",
        "colab": {
          "base_uri": "https://localhost:8080/"
        },
        "outputId": "74345448-390b-4d75-d55f-f4b88d0e9a5c"
      },
      "execution_count": null,
      "outputs": [
        {
          "output_type": "stream",
          "name": "stdout",
          "text": [
            "Training MAE: 13.76784341359538\n",
            "Test MAE: 13.8290638389274\n"
          ]
        }
      ],
      "id": "jaY4LGdy2BR7"
    },
    {
      "cell_type": "code",
      "source": [
        "# Training RMSE\n",
        "print('Training R-Squared:', r2_score(y_train, model.predict(X_train)))\n",
        "\n",
        "# Test RMSE\n",
        "print('Test R-Squared:', r2_score(y_test, model.predict(X_test)))"
      ],
      "metadata": {
        "colab": {
          "base_uri": "https://localhost:8080/"
        },
        "id": "V35FVi4W8SBV",
        "outputId": "adb3c1e0-9e84-4511-d4e4-6200bdb7f02e"
      },
      "execution_count": null,
      "outputs": [
        {
          "output_type": "stream",
          "name": "stdout",
          "text": [
            "Training R-Squared: 0.0002906756769159857\n",
            "Test R-Squared: 0.00027442299073199283\n"
          ]
        }
      ],
      "id": "V35FVi4W8SBV"
    },
    {
      "cell_type": "code",
      "source": [
        "# Coefficient with the most value allways is the absolut value of our coefficient in this case is the [0]\n",
        "print('The coefficient for Stock Code is:', model.coef_[0])\n",
        "print('The coefficient for Price is:', model.coef_[1])\n",
        "print('The coefficient for Customer ID is:', model.coef_[2])\n",
        "print('The coefficient for Country is:', model.coef_[3])\n",
        "# Intercept \n",
        "#print('The intercep for our model is:', model.intercept_)"
      ],
      "metadata": {
        "colab": {
          "base_uri": "https://localhost:8080/"
        },
        "id": "vwxyrVqb9Aas",
        "outputId": "fd4d8d8a-3c39-43c1-f6e7-0f79bb6d411f"
      },
      "execution_count": null,
      "outputs": [
        {
          "output_type": "stream",
          "name": "stdout",
          "text": [
            "The coefficient for Stock Code is: -0.0005397158253787512\n",
            "The coefficient for Price is: -0.005086663531309533\n",
            "The coefficient for Customer ID is: -0.00020597254245604234\n",
            "The coefficient for Country is: 0.8475541238402394\n"
          ]
        }
      ],
      "id": "vwxyrVqb9Aas"
    },
    {
      "cell_type": "markdown",
      "source": [
        "#Ridge Regression"
      ],
      "metadata": {
        "id": "-Ksj3knWlFaf"
      },
      "id": "-Ksj3knWlFaf"
    },
    {
      "cell_type": "code",
      "source": [
        "known_df[\"avg_price_30d\"]=known_df[\"Price\"].rolling(window=30).mean()\n",
        "\n",
        "known_df[\"avg_price_90d\"]=known_df[\"Price\"].rolling(window=90).mean()\n",
        "\n",
        "known_df[\"avg_price_1y\"]=known_df[\"Price\"].rolling(window=252).mean()\n",
        "known_df.dropna(inplace=True)"
      ],
      "metadata": {
        "id": "HryvcjRqxD-e"
      },
      "execution_count": null,
      "outputs": [],
      "id": "HryvcjRqxD-e"
    },
    {
      "cell_type": "code",
      "source": [
        "known_df[\"avg_quant_30d\"]=known_df[\"Quantity\"].rolling(window=30).std()\n",
        "\n",
        "known_df[\"avg_quant_90d\"]=known_df[\"Quantity\"].rolling(window=90).std()\n",
        "\n",
        "known_df[\"avg_quant_1y\"]=known_df[\"Quantity\"].rolling(window=252).std()\n",
        "known_df.dropna(inplace=True)"
      ],
      "metadata": {
        "id": "5FzKzwb5xfbo"
      },
      "execution_count": null,
      "outputs": [],
      "id": "5FzKzwb5xfbo"
    },
    {
      "cell_type": "code",
      "source": [
        "known_df"
      ],
      "metadata": {
        "colab": {
          "base_uri": "https://localhost:8080/",
          "height": 455
        },
        "id": "QhKcKlg4xb7q",
        "outputId": "0558fd2b-fe30-46c0-c6f8-acef3264ebf1"
      },
      "execution_count": null,
      "outputs": [
        {
          "output_type": "execute_result",
          "data": {
            "text/plain": [
              "                     StockCode  Quantity  Price  Customer ID  Country  \\\n",
              "InvoiceDate                                                             \n",
              "2009-12-01 13:07:00        757         1   5.95      17998.0        1   \n",
              "2009-12-01 13:07:00        758         1   5.95      17998.0        1   \n",
              "2009-12-01 13:07:00        759         1   3.75      17998.0        1   \n",
              "2009-12-01 13:07:00        760         2   5.95      17998.0        1   \n",
              "2009-12-01 13:07:00        761        24   0.42      17998.0        1   \n",
              "...                        ...       ...    ...          ...      ...   \n",
              "2011-12-09 12:50:00       4444         6   2.10      12680.0        2   \n",
              "2011-12-09 12:50:00       4718         4   4.15      12680.0        2   \n",
              "2011-12-09 12:50:00       4720         4   4.15      12680.0        2   \n",
              "2011-12-09 12:50:00         72         3   4.95      12680.0        2   \n",
              "2011-12-09 12:50:00         87         1  18.00      12680.0        2   \n",
              "\n",
              "                     avg_price_30d  avg_price_90d  avg_price_1y  \\\n",
              "InvoiceDate                                                       \n",
              "2009-12-01 13:07:00       5.657000       2.704556      3.206151   \n",
              "2009-12-01 13:07:00       5.827000       2.693444      3.214881   \n",
              "2009-12-01 13:07:00       5.930333       2.731000      3.170437   \n",
              "2009-12-01 13:07:00       6.080333       2.787667      3.174405   \n",
              "2009-12-01 13:07:00       6.029333       2.782889      3.156429   \n",
              "...                            ...            ...           ...   \n",
              "2011-12-09 12:50:00       2.695333       2.310000      2.793056   \n",
              "2011-12-09 12:50:00       2.805333       2.328444      2.803770   \n",
              "2011-12-09 12:50:00       2.802000       2.341778      2.815278   \n",
              "2011-12-09 12:50:00       2.768667       2.364000      2.825040   \n",
              "2011-12-09 12:50:00       3.243667       2.550111      2.881587   \n",
              "\n",
              "                     avg_quant_30d  avg_quant_90d  avg_quant_1y  \n",
              "InvoiceDate                                                      \n",
              "2009-12-01 13:07:00       5.575398      48.605400     32.930536  \n",
              "2009-12-01 13:07:00       5.575398      48.643683     32.936092  \n",
              "2009-12-01 13:07:00       5.575398      39.530288     32.936092  \n",
              "2009-12-01 13:07:00       5.569312      38.390718     32.937322  \n",
              "2009-12-01 13:07:00       6.802298      25.324057     32.939323  \n",
              "...                            ...            ...           ...  \n",
              "2011-12-09 12:50:00       6.926876      12.077987     17.506651  \n",
              "2011-12-09 12:50:00       6.572671      12.108462     17.500661  \n",
              "2011-12-09 12:50:00       6.572671      12.138202     17.494661  \n",
              "2011-12-09 12:50:00       6.572671      12.174942     17.490427  \n",
              "2011-12-09 12:50:00       6.774615      12.158776     17.490427  \n",
              "\n",
              "[823080 rows x 11 columns]"
            ],
            "text/html": [
              "\n",
              "  <div id=\"df-69056ff4-a298-40d5-99ae-d3b3fa14fd5a\">\n",
              "    <div class=\"colab-df-container\">\n",
              "      <div>\n",
              "<style scoped>\n",
              "    .dataframe tbody tr th:only-of-type {\n",
              "        vertical-align: middle;\n",
              "    }\n",
              "\n",
              "    .dataframe tbody tr th {\n",
              "        vertical-align: top;\n",
              "    }\n",
              "\n",
              "    .dataframe thead th {\n",
              "        text-align: right;\n",
              "    }\n",
              "</style>\n",
              "<table border=\"1\" class=\"dataframe\">\n",
              "  <thead>\n",
              "    <tr style=\"text-align: right;\">\n",
              "      <th></th>\n",
              "      <th>StockCode</th>\n",
              "      <th>Quantity</th>\n",
              "      <th>Price</th>\n",
              "      <th>Customer ID</th>\n",
              "      <th>Country</th>\n",
              "      <th>avg_price_30d</th>\n",
              "      <th>avg_price_90d</th>\n",
              "      <th>avg_price_1y</th>\n",
              "      <th>avg_quant_30d</th>\n",
              "      <th>avg_quant_90d</th>\n",
              "      <th>avg_quant_1y</th>\n",
              "    </tr>\n",
              "    <tr>\n",
              "      <th>InvoiceDate</th>\n",
              "      <th></th>\n",
              "      <th></th>\n",
              "      <th></th>\n",
              "      <th></th>\n",
              "      <th></th>\n",
              "      <th></th>\n",
              "      <th></th>\n",
              "      <th></th>\n",
              "      <th></th>\n",
              "      <th></th>\n",
              "      <th></th>\n",
              "    </tr>\n",
              "  </thead>\n",
              "  <tbody>\n",
              "    <tr>\n",
              "      <th>2009-12-01 13:07:00</th>\n",
              "      <td>757</td>\n",
              "      <td>1</td>\n",
              "      <td>5.95</td>\n",
              "      <td>17998.0</td>\n",
              "      <td>1</td>\n",
              "      <td>5.657000</td>\n",
              "      <td>2.704556</td>\n",
              "      <td>3.206151</td>\n",
              "      <td>5.575398</td>\n",
              "      <td>48.605400</td>\n",
              "      <td>32.930536</td>\n",
              "    </tr>\n",
              "    <tr>\n",
              "      <th>2009-12-01 13:07:00</th>\n",
              "      <td>758</td>\n",
              "      <td>1</td>\n",
              "      <td>5.95</td>\n",
              "      <td>17998.0</td>\n",
              "      <td>1</td>\n",
              "      <td>5.827000</td>\n",
              "      <td>2.693444</td>\n",
              "      <td>3.214881</td>\n",
              "      <td>5.575398</td>\n",
              "      <td>48.643683</td>\n",
              "      <td>32.936092</td>\n",
              "    </tr>\n",
              "    <tr>\n",
              "      <th>2009-12-01 13:07:00</th>\n",
              "      <td>759</td>\n",
              "      <td>1</td>\n",
              "      <td>3.75</td>\n",
              "      <td>17998.0</td>\n",
              "      <td>1</td>\n",
              "      <td>5.930333</td>\n",
              "      <td>2.731000</td>\n",
              "      <td>3.170437</td>\n",
              "      <td>5.575398</td>\n",
              "      <td>39.530288</td>\n",
              "      <td>32.936092</td>\n",
              "    </tr>\n",
              "    <tr>\n",
              "      <th>2009-12-01 13:07:00</th>\n",
              "      <td>760</td>\n",
              "      <td>2</td>\n",
              "      <td>5.95</td>\n",
              "      <td>17998.0</td>\n",
              "      <td>1</td>\n",
              "      <td>6.080333</td>\n",
              "      <td>2.787667</td>\n",
              "      <td>3.174405</td>\n",
              "      <td>5.569312</td>\n",
              "      <td>38.390718</td>\n",
              "      <td>32.937322</td>\n",
              "    </tr>\n",
              "    <tr>\n",
              "      <th>2009-12-01 13:07:00</th>\n",
              "      <td>761</td>\n",
              "      <td>24</td>\n",
              "      <td>0.42</td>\n",
              "      <td>17998.0</td>\n",
              "      <td>1</td>\n",
              "      <td>6.029333</td>\n",
              "      <td>2.782889</td>\n",
              "      <td>3.156429</td>\n",
              "      <td>6.802298</td>\n",
              "      <td>25.324057</td>\n",
              "      <td>32.939323</td>\n",
              "    </tr>\n",
              "    <tr>\n",
              "      <th>...</th>\n",
              "      <td>...</td>\n",
              "      <td>...</td>\n",
              "      <td>...</td>\n",
              "      <td>...</td>\n",
              "      <td>...</td>\n",
              "      <td>...</td>\n",
              "      <td>...</td>\n",
              "      <td>...</td>\n",
              "      <td>...</td>\n",
              "      <td>...</td>\n",
              "      <td>...</td>\n",
              "    </tr>\n",
              "    <tr>\n",
              "      <th>2011-12-09 12:50:00</th>\n",
              "      <td>4444</td>\n",
              "      <td>6</td>\n",
              "      <td>2.10</td>\n",
              "      <td>12680.0</td>\n",
              "      <td>2</td>\n",
              "      <td>2.695333</td>\n",
              "      <td>2.310000</td>\n",
              "      <td>2.793056</td>\n",
              "      <td>6.926876</td>\n",
              "      <td>12.077987</td>\n",
              "      <td>17.506651</td>\n",
              "    </tr>\n",
              "    <tr>\n",
              "      <th>2011-12-09 12:50:00</th>\n",
              "      <td>4718</td>\n",
              "      <td>4</td>\n",
              "      <td>4.15</td>\n",
              "      <td>12680.0</td>\n",
              "      <td>2</td>\n",
              "      <td>2.805333</td>\n",
              "      <td>2.328444</td>\n",
              "      <td>2.803770</td>\n",
              "      <td>6.572671</td>\n",
              "      <td>12.108462</td>\n",
              "      <td>17.500661</td>\n",
              "    </tr>\n",
              "    <tr>\n",
              "      <th>2011-12-09 12:50:00</th>\n",
              "      <td>4720</td>\n",
              "      <td>4</td>\n",
              "      <td>4.15</td>\n",
              "      <td>12680.0</td>\n",
              "      <td>2</td>\n",
              "      <td>2.802000</td>\n",
              "      <td>2.341778</td>\n",
              "      <td>2.815278</td>\n",
              "      <td>6.572671</td>\n",
              "      <td>12.138202</td>\n",
              "      <td>17.494661</td>\n",
              "    </tr>\n",
              "    <tr>\n",
              "      <th>2011-12-09 12:50:00</th>\n",
              "      <td>72</td>\n",
              "      <td>3</td>\n",
              "      <td>4.95</td>\n",
              "      <td>12680.0</td>\n",
              "      <td>2</td>\n",
              "      <td>2.768667</td>\n",
              "      <td>2.364000</td>\n",
              "      <td>2.825040</td>\n",
              "      <td>6.572671</td>\n",
              "      <td>12.174942</td>\n",
              "      <td>17.490427</td>\n",
              "    </tr>\n",
              "    <tr>\n",
              "      <th>2011-12-09 12:50:00</th>\n",
              "      <td>87</td>\n",
              "      <td>1</td>\n",
              "      <td>18.00</td>\n",
              "      <td>12680.0</td>\n",
              "      <td>2</td>\n",
              "      <td>3.243667</td>\n",
              "      <td>2.550111</td>\n",
              "      <td>2.881587</td>\n",
              "      <td>6.774615</td>\n",
              "      <td>12.158776</td>\n",
              "      <td>17.490427</td>\n",
              "    </tr>\n",
              "  </tbody>\n",
              "</table>\n",
              "<p>823080 rows × 11 columns</p>\n",
              "</div>\n",
              "      <button class=\"colab-df-convert\" onclick=\"convertToInteractive('df-69056ff4-a298-40d5-99ae-d3b3fa14fd5a')\"\n",
              "              title=\"Convert this dataframe to an interactive table.\"\n",
              "              style=\"display:none;\">\n",
              "        \n",
              "  <svg xmlns=\"http://www.w3.org/2000/svg\" height=\"24px\"viewBox=\"0 0 24 24\"\n",
              "       width=\"24px\">\n",
              "    <path d=\"M0 0h24v24H0V0z\" fill=\"none\"/>\n",
              "    <path d=\"M18.56 5.44l.94 2.06.94-2.06 2.06-.94-2.06-.94-.94-2.06-.94 2.06-2.06.94zm-11 1L8.5 8.5l.94-2.06 2.06-.94-2.06-.94L8.5 2.5l-.94 2.06-2.06.94zm10 10l.94 2.06.94-2.06 2.06-.94-2.06-.94-.94-2.06-.94 2.06-2.06.94z\"/><path d=\"M17.41 7.96l-1.37-1.37c-.4-.4-.92-.59-1.43-.59-.52 0-1.04.2-1.43.59L10.3 9.45l-7.72 7.72c-.78.78-.78 2.05 0 2.83L4 21.41c.39.39.9.59 1.41.59.51 0 1.02-.2 1.41-.59l7.78-7.78 2.81-2.81c.8-.78.8-2.07 0-2.86zM5.41 20L4 18.59l7.72-7.72 1.47 1.35L5.41 20z\"/>\n",
              "  </svg>\n",
              "      </button>\n",
              "      \n",
              "  <style>\n",
              "    .colab-df-container {\n",
              "      display:flex;\n",
              "      flex-wrap:wrap;\n",
              "      gap: 12px;\n",
              "    }\n",
              "\n",
              "    .colab-df-convert {\n",
              "      background-color: #E8F0FE;\n",
              "      border: none;\n",
              "      border-radius: 50%;\n",
              "      cursor: pointer;\n",
              "      display: none;\n",
              "      fill: #1967D2;\n",
              "      height: 32px;\n",
              "      padding: 0 0 0 0;\n",
              "      width: 32px;\n",
              "    }\n",
              "\n",
              "    .colab-df-convert:hover {\n",
              "      background-color: #E2EBFA;\n",
              "      box-shadow: 0px 1px 2px rgba(60, 64, 67, 0.3), 0px 1px 3px 1px rgba(60, 64, 67, 0.15);\n",
              "      fill: #174EA6;\n",
              "    }\n",
              "\n",
              "    [theme=dark] .colab-df-convert {\n",
              "      background-color: #3B4455;\n",
              "      fill: #D2E3FC;\n",
              "    }\n",
              "\n",
              "    [theme=dark] .colab-df-convert:hover {\n",
              "      background-color: #434B5C;\n",
              "      box-shadow: 0px 1px 3px 1px rgba(0, 0, 0, 0.15);\n",
              "      filter: drop-shadow(0px 1px 2px rgba(0, 0, 0, 0.3));\n",
              "      fill: #FFFFFF;\n",
              "    }\n",
              "  </style>\n",
              "\n",
              "      <script>\n",
              "        const buttonEl =\n",
              "          document.querySelector('#df-69056ff4-a298-40d5-99ae-d3b3fa14fd5a button.colab-df-convert');\n",
              "        buttonEl.style.display =\n",
              "          google.colab.kernel.accessAllowed ? 'block' : 'none';\n",
              "\n",
              "        async function convertToInteractive(key) {\n",
              "          const element = document.querySelector('#df-69056ff4-a298-40d5-99ae-d3b3fa14fd5a');\n",
              "          const dataTable =\n",
              "            await google.colab.kernel.invokeFunction('convertToInteractive',\n",
              "                                                     [key], {});\n",
              "          if (!dataTable) return;\n",
              "\n",
              "          const docLinkHtml = 'Like what you see? Visit the ' +\n",
              "            '<a target=\"_blank\" href=https://colab.research.google.com/notebooks/data_table.ipynb>data table notebook</a>'\n",
              "            + ' to learn more about interactive tables.';\n",
              "          element.innerHTML = '';\n",
              "          dataTable['output_type'] = 'display_data';\n",
              "          await google.colab.output.renderOutput(dataTable, element);\n",
              "          const docLink = document.createElement('div');\n",
              "          docLink.innerHTML = docLinkHtml;\n",
              "          element.appendChild(docLink);\n",
              "        }\n",
              "      </script>\n",
              "    </div>\n",
              "  </div>\n",
              "  "
            ]
          },
          "metadata": {},
          "execution_count": 41
        }
      ],
      "id": "QhKcKlg4xb7q"
    },
    {
      "cell_type": "code",
      "source": [
        "#Ridge Regression\n",
        "\n",
        "target ='Quantity'\n",
        "X = known_df.drop(columns = target, axis = 1)\n",
        "y = known_df[target]"
      ],
      "metadata": {
        "id": "TmZs4eTJlFKF"
      },
      "execution_count": null,
      "outputs": [],
      "id": "TmZs4eTJlFKF"
    },
    {
      "cell_type": "code",
      "source": [
        "X_train, X_test, y_train, y_test=train_test_split(X,y, test_size=0.2,random_state=42)"
      ],
      "metadata": {
        "id": "1IG5a_SDpTHQ"
      },
      "execution_count": null,
      "outputs": [],
      "id": "1IG5a_SDpTHQ"
    },
    {
      "cell_type": "code",
      "source": [
        "X"
      ],
      "metadata": {
        "colab": {
          "base_uri": "https://localhost:8080/",
          "height": 455
        },
        "id": "yRwRrH42qotf",
        "outputId": "7e2f5d25-19e8-4a0c-e49e-e5fe42ef4c90"
      },
      "execution_count": null,
      "outputs": [
        {
          "output_type": "execute_result",
          "data": {
            "text/plain": [
              "                     StockCode  Price  Customer ID  Country  avg_price_30d  \\\n",
              "InvoiceDate                                                                  \n",
              "2009-12-01 13:07:00        757   5.95      17998.0        1       5.657000   \n",
              "2009-12-01 13:07:00        758   5.95      17998.0        1       5.827000   \n",
              "2009-12-01 13:07:00        759   3.75      17998.0        1       5.930333   \n",
              "2009-12-01 13:07:00        760   5.95      17998.0        1       6.080333   \n",
              "2009-12-01 13:07:00        761   0.42      17998.0        1       6.029333   \n",
              "...                        ...    ...          ...      ...            ...   \n",
              "2011-12-09 12:50:00       4444   2.10      12680.0        2       2.695333   \n",
              "2011-12-09 12:50:00       4718   4.15      12680.0        2       2.805333   \n",
              "2011-12-09 12:50:00       4720   4.15      12680.0        2       2.802000   \n",
              "2011-12-09 12:50:00         72   4.95      12680.0        2       2.768667   \n",
              "2011-12-09 12:50:00         87  18.00      12680.0        2       3.243667   \n",
              "\n",
              "                     avg_price_90d  avg_price_1y  avg_quant_30d  \\\n",
              "InvoiceDate                                                       \n",
              "2009-12-01 13:07:00       2.704556      3.206151       5.575398   \n",
              "2009-12-01 13:07:00       2.693444      3.214881       5.575398   \n",
              "2009-12-01 13:07:00       2.731000      3.170437       5.575398   \n",
              "2009-12-01 13:07:00       2.787667      3.174405       5.569312   \n",
              "2009-12-01 13:07:00       2.782889      3.156429       6.802298   \n",
              "...                            ...           ...            ...   \n",
              "2011-12-09 12:50:00       2.310000      2.793056       6.926876   \n",
              "2011-12-09 12:50:00       2.328444      2.803770       6.572671   \n",
              "2011-12-09 12:50:00       2.341778      2.815278       6.572671   \n",
              "2011-12-09 12:50:00       2.364000      2.825040       6.572671   \n",
              "2011-12-09 12:50:00       2.550111      2.881587       6.774615   \n",
              "\n",
              "                     avg_quant_90d  avg_quant_1y  \n",
              "InvoiceDate                                       \n",
              "2009-12-01 13:07:00      48.605400     32.930536  \n",
              "2009-12-01 13:07:00      48.643683     32.936092  \n",
              "2009-12-01 13:07:00      39.530288     32.936092  \n",
              "2009-12-01 13:07:00      38.390718     32.937322  \n",
              "2009-12-01 13:07:00      25.324057     32.939323  \n",
              "...                            ...           ...  \n",
              "2011-12-09 12:50:00      12.077987     17.506651  \n",
              "2011-12-09 12:50:00      12.108462     17.500661  \n",
              "2011-12-09 12:50:00      12.138202     17.494661  \n",
              "2011-12-09 12:50:00      12.174942     17.490427  \n",
              "2011-12-09 12:50:00      12.158776     17.490427  \n",
              "\n",
              "[823080 rows x 10 columns]"
            ],
            "text/html": [
              "\n",
              "  <div id=\"df-055d7256-3d93-4eb6-b9ec-5a3c7b51c445\">\n",
              "    <div class=\"colab-df-container\">\n",
              "      <div>\n",
              "<style scoped>\n",
              "    .dataframe tbody tr th:only-of-type {\n",
              "        vertical-align: middle;\n",
              "    }\n",
              "\n",
              "    .dataframe tbody tr th {\n",
              "        vertical-align: top;\n",
              "    }\n",
              "\n",
              "    .dataframe thead th {\n",
              "        text-align: right;\n",
              "    }\n",
              "</style>\n",
              "<table border=\"1\" class=\"dataframe\">\n",
              "  <thead>\n",
              "    <tr style=\"text-align: right;\">\n",
              "      <th></th>\n",
              "      <th>StockCode</th>\n",
              "      <th>Price</th>\n",
              "      <th>Customer ID</th>\n",
              "      <th>Country</th>\n",
              "      <th>avg_price_30d</th>\n",
              "      <th>avg_price_90d</th>\n",
              "      <th>avg_price_1y</th>\n",
              "      <th>avg_quant_30d</th>\n",
              "      <th>avg_quant_90d</th>\n",
              "      <th>avg_quant_1y</th>\n",
              "    </tr>\n",
              "    <tr>\n",
              "      <th>InvoiceDate</th>\n",
              "      <th></th>\n",
              "      <th></th>\n",
              "      <th></th>\n",
              "      <th></th>\n",
              "      <th></th>\n",
              "      <th></th>\n",
              "      <th></th>\n",
              "      <th></th>\n",
              "      <th></th>\n",
              "      <th></th>\n",
              "    </tr>\n",
              "  </thead>\n",
              "  <tbody>\n",
              "    <tr>\n",
              "      <th>2009-12-01 13:07:00</th>\n",
              "      <td>757</td>\n",
              "      <td>5.95</td>\n",
              "      <td>17998.0</td>\n",
              "      <td>1</td>\n",
              "      <td>5.657000</td>\n",
              "      <td>2.704556</td>\n",
              "      <td>3.206151</td>\n",
              "      <td>5.575398</td>\n",
              "      <td>48.605400</td>\n",
              "      <td>32.930536</td>\n",
              "    </tr>\n",
              "    <tr>\n",
              "      <th>2009-12-01 13:07:00</th>\n",
              "      <td>758</td>\n",
              "      <td>5.95</td>\n",
              "      <td>17998.0</td>\n",
              "      <td>1</td>\n",
              "      <td>5.827000</td>\n",
              "      <td>2.693444</td>\n",
              "      <td>3.214881</td>\n",
              "      <td>5.575398</td>\n",
              "      <td>48.643683</td>\n",
              "      <td>32.936092</td>\n",
              "    </tr>\n",
              "    <tr>\n",
              "      <th>2009-12-01 13:07:00</th>\n",
              "      <td>759</td>\n",
              "      <td>3.75</td>\n",
              "      <td>17998.0</td>\n",
              "      <td>1</td>\n",
              "      <td>5.930333</td>\n",
              "      <td>2.731000</td>\n",
              "      <td>3.170437</td>\n",
              "      <td>5.575398</td>\n",
              "      <td>39.530288</td>\n",
              "      <td>32.936092</td>\n",
              "    </tr>\n",
              "    <tr>\n",
              "      <th>2009-12-01 13:07:00</th>\n",
              "      <td>760</td>\n",
              "      <td>5.95</td>\n",
              "      <td>17998.0</td>\n",
              "      <td>1</td>\n",
              "      <td>6.080333</td>\n",
              "      <td>2.787667</td>\n",
              "      <td>3.174405</td>\n",
              "      <td>5.569312</td>\n",
              "      <td>38.390718</td>\n",
              "      <td>32.937322</td>\n",
              "    </tr>\n",
              "    <tr>\n",
              "      <th>2009-12-01 13:07:00</th>\n",
              "      <td>761</td>\n",
              "      <td>0.42</td>\n",
              "      <td>17998.0</td>\n",
              "      <td>1</td>\n",
              "      <td>6.029333</td>\n",
              "      <td>2.782889</td>\n",
              "      <td>3.156429</td>\n",
              "      <td>6.802298</td>\n",
              "      <td>25.324057</td>\n",
              "      <td>32.939323</td>\n",
              "    </tr>\n",
              "    <tr>\n",
              "      <th>...</th>\n",
              "      <td>...</td>\n",
              "      <td>...</td>\n",
              "      <td>...</td>\n",
              "      <td>...</td>\n",
              "      <td>...</td>\n",
              "      <td>...</td>\n",
              "      <td>...</td>\n",
              "      <td>...</td>\n",
              "      <td>...</td>\n",
              "      <td>...</td>\n",
              "    </tr>\n",
              "    <tr>\n",
              "      <th>2011-12-09 12:50:00</th>\n",
              "      <td>4444</td>\n",
              "      <td>2.10</td>\n",
              "      <td>12680.0</td>\n",
              "      <td>2</td>\n",
              "      <td>2.695333</td>\n",
              "      <td>2.310000</td>\n",
              "      <td>2.793056</td>\n",
              "      <td>6.926876</td>\n",
              "      <td>12.077987</td>\n",
              "      <td>17.506651</td>\n",
              "    </tr>\n",
              "    <tr>\n",
              "      <th>2011-12-09 12:50:00</th>\n",
              "      <td>4718</td>\n",
              "      <td>4.15</td>\n",
              "      <td>12680.0</td>\n",
              "      <td>2</td>\n",
              "      <td>2.805333</td>\n",
              "      <td>2.328444</td>\n",
              "      <td>2.803770</td>\n",
              "      <td>6.572671</td>\n",
              "      <td>12.108462</td>\n",
              "      <td>17.500661</td>\n",
              "    </tr>\n",
              "    <tr>\n",
              "      <th>2011-12-09 12:50:00</th>\n",
              "      <td>4720</td>\n",
              "      <td>4.15</td>\n",
              "      <td>12680.0</td>\n",
              "      <td>2</td>\n",
              "      <td>2.802000</td>\n",
              "      <td>2.341778</td>\n",
              "      <td>2.815278</td>\n",
              "      <td>6.572671</td>\n",
              "      <td>12.138202</td>\n",
              "      <td>17.494661</td>\n",
              "    </tr>\n",
              "    <tr>\n",
              "      <th>2011-12-09 12:50:00</th>\n",
              "      <td>72</td>\n",
              "      <td>4.95</td>\n",
              "      <td>12680.0</td>\n",
              "      <td>2</td>\n",
              "      <td>2.768667</td>\n",
              "      <td>2.364000</td>\n",
              "      <td>2.825040</td>\n",
              "      <td>6.572671</td>\n",
              "      <td>12.174942</td>\n",
              "      <td>17.490427</td>\n",
              "    </tr>\n",
              "    <tr>\n",
              "      <th>2011-12-09 12:50:00</th>\n",
              "      <td>87</td>\n",
              "      <td>18.00</td>\n",
              "      <td>12680.0</td>\n",
              "      <td>2</td>\n",
              "      <td>3.243667</td>\n",
              "      <td>2.550111</td>\n",
              "      <td>2.881587</td>\n",
              "      <td>6.774615</td>\n",
              "      <td>12.158776</td>\n",
              "      <td>17.490427</td>\n",
              "    </tr>\n",
              "  </tbody>\n",
              "</table>\n",
              "<p>823080 rows × 10 columns</p>\n",
              "</div>\n",
              "      <button class=\"colab-df-convert\" onclick=\"convertToInteractive('df-055d7256-3d93-4eb6-b9ec-5a3c7b51c445')\"\n",
              "              title=\"Convert this dataframe to an interactive table.\"\n",
              "              style=\"display:none;\">\n",
              "        \n",
              "  <svg xmlns=\"http://www.w3.org/2000/svg\" height=\"24px\"viewBox=\"0 0 24 24\"\n",
              "       width=\"24px\">\n",
              "    <path d=\"M0 0h24v24H0V0z\" fill=\"none\"/>\n",
              "    <path d=\"M18.56 5.44l.94 2.06.94-2.06 2.06-.94-2.06-.94-.94-2.06-.94 2.06-2.06.94zm-11 1L8.5 8.5l.94-2.06 2.06-.94-2.06-.94L8.5 2.5l-.94 2.06-2.06.94zm10 10l.94 2.06.94-2.06 2.06-.94-2.06-.94-.94-2.06-.94 2.06-2.06.94z\"/><path d=\"M17.41 7.96l-1.37-1.37c-.4-.4-.92-.59-1.43-.59-.52 0-1.04.2-1.43.59L10.3 9.45l-7.72 7.72c-.78.78-.78 2.05 0 2.83L4 21.41c.39.39.9.59 1.41.59.51 0 1.02-.2 1.41-.59l7.78-7.78 2.81-2.81c.8-.78.8-2.07 0-2.86zM5.41 20L4 18.59l7.72-7.72 1.47 1.35L5.41 20z\"/>\n",
              "  </svg>\n",
              "      </button>\n",
              "      \n",
              "  <style>\n",
              "    .colab-df-container {\n",
              "      display:flex;\n",
              "      flex-wrap:wrap;\n",
              "      gap: 12px;\n",
              "    }\n",
              "\n",
              "    .colab-df-convert {\n",
              "      background-color: #E8F0FE;\n",
              "      border: none;\n",
              "      border-radius: 50%;\n",
              "      cursor: pointer;\n",
              "      display: none;\n",
              "      fill: #1967D2;\n",
              "      height: 32px;\n",
              "      padding: 0 0 0 0;\n",
              "      width: 32px;\n",
              "    }\n",
              "\n",
              "    .colab-df-convert:hover {\n",
              "      background-color: #E2EBFA;\n",
              "      box-shadow: 0px 1px 2px rgba(60, 64, 67, 0.3), 0px 1px 3px 1px rgba(60, 64, 67, 0.15);\n",
              "      fill: #174EA6;\n",
              "    }\n",
              "\n",
              "    [theme=dark] .colab-df-convert {\n",
              "      background-color: #3B4455;\n",
              "      fill: #D2E3FC;\n",
              "    }\n",
              "\n",
              "    [theme=dark] .colab-df-convert:hover {\n",
              "      background-color: #434B5C;\n",
              "      box-shadow: 0px 1px 3px 1px rgba(0, 0, 0, 0.15);\n",
              "      filter: drop-shadow(0px 1px 2px rgba(0, 0, 0, 0.3));\n",
              "      fill: #FFFFFF;\n",
              "    }\n",
              "  </style>\n",
              "\n",
              "      <script>\n",
              "        const buttonEl =\n",
              "          document.querySelector('#df-055d7256-3d93-4eb6-b9ec-5a3c7b51c445 button.colab-df-convert');\n",
              "        buttonEl.style.display =\n",
              "          google.colab.kernel.accessAllowed ? 'block' : 'none';\n",
              "\n",
              "        async function convertToInteractive(key) {\n",
              "          const element = document.querySelector('#df-055d7256-3d93-4eb6-b9ec-5a3c7b51c445');\n",
              "          const dataTable =\n",
              "            await google.colab.kernel.invokeFunction('convertToInteractive',\n",
              "                                                     [key], {});\n",
              "          if (!dataTable) return;\n",
              "\n",
              "          const docLinkHtml = 'Like what you see? Visit the ' +\n",
              "            '<a target=\"_blank\" href=https://colab.research.google.com/notebooks/data_table.ipynb>data table notebook</a>'\n",
              "            + ' to learn more about interactive tables.';\n",
              "          element.innerHTML = '';\n",
              "          dataTable['output_type'] = 'display_data';\n",
              "          await google.colab.output.renderOutput(dataTable, element);\n",
              "          const docLink = document.createElement('div');\n",
              "          docLink.innerHTML = docLinkHtml;\n",
              "          element.appendChild(docLink);\n",
              "        }\n",
              "      </script>\n",
              "    </div>\n",
              "  </div>\n",
              "  "
            ]
          },
          "metadata": {},
          "execution_count": 44
        }
      ],
      "id": "yRwRrH42qotf"
    },
    {
      "cell_type": "code",
      "source": [
        "# Providing the mean of our target we can have a baseline we always work with our train data & leave the test data for the end. \n",
        "y_pred_baseline = [y_train.mean()] * len(y_train)\n",
        "baseline_mae = mean_absolute_error(y_train, y_pred_baseline)\n",
        "baseline_mae"
      ],
      "metadata": {
        "colab": {
          "base_uri": "https://localhost:8080/"
        },
        "id": "IknNoTrwlcpf",
        "outputId": "ed8778cc-6edc-46e0-e16b-e2b6fd3ba3ef"
      },
      "execution_count": null,
      "outputs": [
        {
          "output_type": "execute_result",
          "data": {
            "text/plain": [
              "13.784324844301768"
            ]
          },
          "metadata": {},
          "execution_count": 105
        }
      ],
      "id": "IknNoTrwlcpf"
    },
    {
      "cell_type": "code",
      "source": [
        "y_train"
      ],
      "metadata": {
        "colab": {
          "base_uri": "https://localhost:8080/"
        },
        "id": "vxrWxHAZ9NSj",
        "outputId": "dc6db610-5c88-4322-8217-16de99d3b941"
      },
      "execution_count": null,
      "outputs": [
        {
          "output_type": "execute_result",
          "data": {
            "text/plain": [
              "InvoiceDate\n",
              "2010-11-04 16:50:00    12\n",
              "2010-10-17 13:10:00     3\n",
              "2011-09-08 12:04:00     2\n",
              "2011-12-06 12:56:00     1\n",
              "2011-05-25 12:55:00    12\n",
              "                       ..\n",
              "2010-09-07 13:25:00     1\n",
              "2010-11-14 14:00:00     1\n",
              "2010-04-26 15:43:00     2\n",
              "2011-09-20 12:21:00    12\n",
              "2010-04-16 15:55:00    12\n",
              "Name: Quantity, Length: 658464, dtype: int64"
            ]
          },
          "metadata": {},
          "execution_count": 104
        }
      ],
      "id": "vxrWxHAZ9NSj"
    },
    {
      "cell_type": "code",
      "source": [
        "from sklearn.model_selection import GridSearchCV"
      ],
      "metadata": {
        "id": "JOdRkPcSqQYP"
      },
      "execution_count": null,
      "outputs": [],
      "id": "JOdRkPcSqQYP"
    },
    {
      "cell_type": "code",
      "source": [
        "#Fitting\n",
        "ridge=Ridge()\n",
        "parameters={'alpha':[1,.5,.25,.10,.001]}\n",
        "grid=GridSearchCV(ridge,parameters,n_jobs=-1,scoring='neg_mean_absolute_error')\n",
        "\n",
        "\n",
        "grid.fit(X_train,y_train)"
      ],
      "metadata": {
        "colab": {
          "base_uri": "https://localhost:8080/",
          "height": 119
        },
        "id": "7GrDH9VgpnDa",
        "outputId": "c78287ed-a8ea-4bcd-97ad-50a807325e12"
      },
      "execution_count": null,
      "outputs": [
        {
          "output_type": "execute_result",
          "data": {
            "text/plain": [
              "GridSearchCV(estimator=Ridge(), n_jobs=-1,\n",
              "             param_grid={'alpha': [1, 0.5, 0.25, 0.1, 0.001]},\n",
              "             scoring='neg_mean_absolute_error')"
            ],
            "text/html": [
              "<style>#sk-container-id-7 {color: black;background-color: white;}#sk-container-id-7 pre{padding: 0;}#sk-container-id-7 div.sk-toggleable {background-color: white;}#sk-container-id-7 label.sk-toggleable__label {cursor: pointer;display: block;width: 100%;margin-bottom: 0;padding: 0.3em;box-sizing: border-box;text-align: center;}#sk-container-id-7 label.sk-toggleable__label-arrow:before {content: \"▸\";float: left;margin-right: 0.25em;color: #696969;}#sk-container-id-7 label.sk-toggleable__label-arrow:hover:before {color: black;}#sk-container-id-7 div.sk-estimator:hover label.sk-toggleable__label-arrow:before {color: black;}#sk-container-id-7 div.sk-toggleable__content {max-height: 0;max-width: 0;overflow: hidden;text-align: left;background-color: #f0f8ff;}#sk-container-id-7 div.sk-toggleable__content pre {margin: 0.2em;color: black;border-radius: 0.25em;background-color: #f0f8ff;}#sk-container-id-7 input.sk-toggleable__control:checked~div.sk-toggleable__content {max-height: 200px;max-width: 100%;overflow: auto;}#sk-container-id-7 input.sk-toggleable__control:checked~label.sk-toggleable__label-arrow:before {content: \"▾\";}#sk-container-id-7 div.sk-estimator input.sk-toggleable__control:checked~label.sk-toggleable__label {background-color: #d4ebff;}#sk-container-id-7 div.sk-label input.sk-toggleable__control:checked~label.sk-toggleable__label {background-color: #d4ebff;}#sk-container-id-7 input.sk-hidden--visually {border: 0;clip: rect(1px 1px 1px 1px);clip: rect(1px, 1px, 1px, 1px);height: 1px;margin: -1px;overflow: hidden;padding: 0;position: absolute;width: 1px;}#sk-container-id-7 div.sk-estimator {font-family: monospace;background-color: #f0f8ff;border: 1px dotted black;border-radius: 0.25em;box-sizing: border-box;margin-bottom: 0.5em;}#sk-container-id-7 div.sk-estimator:hover {background-color: #d4ebff;}#sk-container-id-7 div.sk-parallel-item::after {content: \"\";width: 100%;border-bottom: 1px solid gray;flex-grow: 1;}#sk-container-id-7 div.sk-label:hover label.sk-toggleable__label {background-color: #d4ebff;}#sk-container-id-7 div.sk-serial::before {content: \"\";position: absolute;border-left: 1px solid gray;box-sizing: border-box;top: 0;bottom: 0;left: 50%;z-index: 0;}#sk-container-id-7 div.sk-serial {display: flex;flex-direction: column;align-items: center;background-color: white;padding-right: 0.2em;padding-left: 0.2em;position: relative;}#sk-container-id-7 div.sk-item {position: relative;z-index: 1;}#sk-container-id-7 div.sk-parallel {display: flex;align-items: stretch;justify-content: center;background-color: white;position: relative;}#sk-container-id-7 div.sk-item::before, #sk-container-id-7 div.sk-parallel-item::before {content: \"\";position: absolute;border-left: 1px solid gray;box-sizing: border-box;top: 0;bottom: 0;left: 50%;z-index: -1;}#sk-container-id-7 div.sk-parallel-item {display: flex;flex-direction: column;z-index: 1;position: relative;background-color: white;}#sk-container-id-7 div.sk-parallel-item:first-child::after {align-self: flex-end;width: 50%;}#sk-container-id-7 div.sk-parallel-item:last-child::after {align-self: flex-start;width: 50%;}#sk-container-id-7 div.sk-parallel-item:only-child::after {width: 0;}#sk-container-id-7 div.sk-dashed-wrapped {border: 1px dashed gray;margin: 0 0.4em 0.5em 0.4em;box-sizing: border-box;padding-bottom: 0.4em;background-color: white;}#sk-container-id-7 div.sk-label label {font-family: monospace;font-weight: bold;display: inline-block;line-height: 1.2em;}#sk-container-id-7 div.sk-label-container {text-align: center;}#sk-container-id-7 div.sk-container {/* jupyter's `normalize.less` sets `[hidden] { display: none; }` but bootstrap.min.css set `[hidden] { display: none !important; }` so we also need the `!important` here to be able to override the default hidden behavior on the sphinx rendered scikit-learn.org. See: https://github.com/scikit-learn/scikit-learn/issues/21755 */display: inline-block !important;position: relative;}#sk-container-id-7 div.sk-text-repr-fallback {display: none;}</style><div id=\"sk-container-id-7\" class=\"sk-top-container\"><div class=\"sk-text-repr-fallback\"><pre>GridSearchCV(estimator=Ridge(), n_jobs=-1,\n",
              "             param_grid={&#x27;alpha&#x27;: [1, 0.5, 0.25, 0.1, 0.001]},\n",
              "             scoring=&#x27;neg_mean_absolute_error&#x27;)</pre><b>In a Jupyter environment, please rerun this cell to show the HTML representation or trust the notebook. <br />On GitHub, the HTML representation is unable to render, please try loading this page with nbviewer.org.</b></div><div class=\"sk-container\" hidden><div class=\"sk-item sk-dashed-wrapped\"><div class=\"sk-label-container\"><div class=\"sk-label sk-toggleable\"><input class=\"sk-toggleable__control sk-hidden--visually\" id=\"sk-estimator-id-17\" type=\"checkbox\" ><label for=\"sk-estimator-id-17\" class=\"sk-toggleable__label sk-toggleable__label-arrow\">GridSearchCV</label><div class=\"sk-toggleable__content\"><pre>GridSearchCV(estimator=Ridge(), n_jobs=-1,\n",
              "             param_grid={&#x27;alpha&#x27;: [1, 0.5, 0.25, 0.1, 0.001]},\n",
              "             scoring=&#x27;neg_mean_absolute_error&#x27;)</pre></div></div></div><div class=\"sk-parallel\"><div class=\"sk-parallel-item\"><div class=\"sk-item\"><div class=\"sk-label-container\"><div class=\"sk-label sk-toggleable\"><input class=\"sk-toggleable__control sk-hidden--visually\" id=\"sk-estimator-id-18\" type=\"checkbox\" ><label for=\"sk-estimator-id-18\" class=\"sk-toggleable__label sk-toggleable__label-arrow\">estimator: Ridge</label><div class=\"sk-toggleable__content\"><pre>Ridge()</pre></div></div></div><div class=\"sk-serial\"><div class=\"sk-item\"><div class=\"sk-estimator sk-toggleable\"><input class=\"sk-toggleable__control sk-hidden--visually\" id=\"sk-estimator-id-19\" type=\"checkbox\" ><label for=\"sk-estimator-id-19\" class=\"sk-toggleable__label sk-toggleable__label-arrow\">Ridge</label><div class=\"sk-toggleable__content\"><pre>Ridge()</pre></div></div></div></div></div></div></div></div></div></div>"
            ]
          },
          "metadata": {},
          "execution_count": 98
        }
      ],
      "id": "7GrDH9VgpnDa"
    },
    {
      "cell_type": "code",
      "source": [
        "from sklearn.metrics import get_scorer_names\n",
        "get_scorer_names()"
      ],
      "metadata": {
        "colab": {
          "base_uri": "https://localhost:8080/"
        },
        "id": "k8nY7dWlz9R4",
        "outputId": "7297eeef-6fc6-41df-a59f-c25923c5f8cf"
      },
      "execution_count": null,
      "outputs": [
        {
          "output_type": "execute_result",
          "data": {
            "text/plain": [
              "['accuracy',\n",
              " 'adjusted_mutual_info_score',\n",
              " 'adjusted_rand_score',\n",
              " 'average_precision',\n",
              " 'balanced_accuracy',\n",
              " 'completeness_score',\n",
              " 'explained_variance',\n",
              " 'f1',\n",
              " 'f1_macro',\n",
              " 'f1_micro',\n",
              " 'f1_samples',\n",
              " 'f1_weighted',\n",
              " 'fowlkes_mallows_score',\n",
              " 'homogeneity_score',\n",
              " 'jaccard',\n",
              " 'jaccard_macro',\n",
              " 'jaccard_micro',\n",
              " 'jaccard_samples',\n",
              " 'jaccard_weighted',\n",
              " 'matthews_corrcoef',\n",
              " 'max_error',\n",
              " 'mutual_info_score',\n",
              " 'neg_brier_score',\n",
              " 'neg_log_loss',\n",
              " 'neg_mean_absolute_error',\n",
              " 'neg_mean_absolute_percentage_error',\n",
              " 'neg_mean_gamma_deviance',\n",
              " 'neg_mean_poisson_deviance',\n",
              " 'neg_mean_squared_error',\n",
              " 'neg_mean_squared_log_error',\n",
              " 'neg_median_absolute_error',\n",
              " 'neg_negative_likelihood_ratio',\n",
              " 'neg_root_mean_squared_error',\n",
              " 'normalized_mutual_info_score',\n",
              " 'positive_likelihood_ratio',\n",
              " 'precision',\n",
              " 'precision_macro',\n",
              " 'precision_micro',\n",
              " 'precision_samples',\n",
              " 'precision_weighted',\n",
              " 'r2',\n",
              " 'rand_score',\n",
              " 'recall',\n",
              " 'recall_macro',\n",
              " 'recall_micro',\n",
              " 'recall_samples',\n",
              " 'recall_weighted',\n",
              " 'roc_auc',\n",
              " 'roc_auc_ovo',\n",
              " 'roc_auc_ovo_weighted',\n",
              " 'roc_auc_ovr',\n",
              " 'roc_auc_ovr_weighted',\n",
              " 'top_k_accuracy',\n",
              " 'v_measure_score']"
            ]
          },
          "metadata": {},
          "execution_count": 54
        }
      ],
      "id": "k8nY7dWlz9R4"
    },
    {
      "cell_type": "code",
      "source": [
        "grid.best_params_"
      ],
      "metadata": {
        "colab": {
          "base_uri": "https://localhost:8080/"
        },
        "id": "LLRxCsmKmeqZ",
        "outputId": "c9946873-9246-4c59-db54-524a026d43b9"
      },
      "execution_count": null,
      "outputs": [
        {
          "output_type": "execute_result",
          "data": {
            "text/plain": [
              "{'alpha': 1}"
            ]
          },
          "metadata": {},
          "execution_count": 99
        }
      ],
      "id": "LLRxCsmKmeqZ"
    },
    {
      "cell_type": "code",
      "source": [
        "grid.best_score_,baseline_mae"
      ],
      "metadata": {
        "colab": {
          "base_uri": "https://localhost:8080/"
        },
        "id": "vsWKK8fHsq9s",
        "outputId": "e5ac872d-eb24-47b9-e4c0-bd08ab306700"
      },
      "execution_count": null,
      "outputs": [
        {
          "output_type": "execute_result",
          "data": {
            "text/plain": [
              "(-14.065649790290195, 13.784324844301768)"
            ]
          },
          "metadata": {},
          "execution_count": 106
        }
      ],
      "id": "vsWKK8fHsq9s"
    },
    {
      "cell_type": "code",
      "source": [],
      "metadata": {
        "id": "XlBQHrZW9DaH"
      },
      "execution_count": null,
      "outputs": [],
      "id": "XlBQHrZW9DaH"
    },
    {
      "cell_type": "code",
      "source": [
        "a=grid.best_estimator_.coef_\n",
        "for i,k in enumerate(a):\n",
        "  print(round(i,9),k)\n"
      ],
      "metadata": {
        "colab": {
          "base_uri": "https://localhost:8080/"
        },
        "id": "EEebT6Sn6dwv",
        "outputId": "76a5ce4e-22f7-42f6-a16b-053992191981"
      },
      "execution_count": null,
      "outputs": [
        {
          "output_type": "stream",
          "name": "stdout",
          "text": [
            "0 -0.0005778289122553957\n",
            "1 -0.012582105326949164\n",
            "2 -0.00011561710430664384\n",
            "3 0.8909666303026675\n",
            "4 0.17361336945151545\n",
            "5 -0.07099329539490266\n",
            "6 0.1803343444723105\n",
            "7 5.3964227218745284e-05\n",
            "8 0.005385108465474201\n",
            "9 0.00010578137236593736\n"
          ]
        }
      ],
      "id": "EEebT6Sn6dwv"
    },
    {
      "cell_type": "code",
      "source": [
        "X"
      ],
      "metadata": {
        "colab": {
          "base_uri": "https://localhost:8080/",
          "height": 455
        },
        "id": "rsRju-yj748W",
        "outputId": "86b6008b-5332-49d2-b8c0-2e448e00663a"
      },
      "execution_count": null,
      "outputs": [
        {
          "output_type": "execute_result",
          "data": {
            "text/plain": [
              "                     StockCode  Price  Customer ID  Country  avg_price_30d  \\\n",
              "InvoiceDate                                                                  \n",
              "2009-12-01 13:07:00        757   5.95      17998.0        1       5.657000   \n",
              "2009-12-01 13:07:00        758   5.95      17998.0        1       5.827000   \n",
              "2009-12-01 13:07:00        759   3.75      17998.0        1       5.930333   \n",
              "2009-12-01 13:07:00        760   5.95      17998.0        1       6.080333   \n",
              "2009-12-01 13:07:00        761   0.42      17998.0        1       6.029333   \n",
              "...                        ...    ...          ...      ...            ...   \n",
              "2011-12-09 12:50:00       4444   2.10      12680.0        2       2.695333   \n",
              "2011-12-09 12:50:00       4718   4.15      12680.0        2       2.805333   \n",
              "2011-12-09 12:50:00       4720   4.15      12680.0        2       2.802000   \n",
              "2011-12-09 12:50:00         72   4.95      12680.0        2       2.768667   \n",
              "2011-12-09 12:50:00         87  18.00      12680.0        2       3.243667   \n",
              "\n",
              "                     avg_price_90d  avg_price_1y  avg_quant_30d  \\\n",
              "InvoiceDate                                                       \n",
              "2009-12-01 13:07:00       2.704556      3.206151       5.575398   \n",
              "2009-12-01 13:07:00       2.693444      3.214881       5.575398   \n",
              "2009-12-01 13:07:00       2.731000      3.170437       5.575398   \n",
              "2009-12-01 13:07:00       2.787667      3.174405       5.569312   \n",
              "2009-12-01 13:07:00       2.782889      3.156429       6.802298   \n",
              "...                            ...           ...            ...   \n",
              "2011-12-09 12:50:00       2.310000      2.793056       6.926876   \n",
              "2011-12-09 12:50:00       2.328444      2.803770       6.572671   \n",
              "2011-12-09 12:50:00       2.341778      2.815278       6.572671   \n",
              "2011-12-09 12:50:00       2.364000      2.825040       6.572671   \n",
              "2011-12-09 12:50:00       2.550111      2.881587       6.774615   \n",
              "\n",
              "                     avg_quant_90d  avg_quant_1y  \n",
              "InvoiceDate                                       \n",
              "2009-12-01 13:07:00      48.605400     32.930536  \n",
              "2009-12-01 13:07:00      48.643683     32.936092  \n",
              "2009-12-01 13:07:00      39.530288     32.936092  \n",
              "2009-12-01 13:07:00      38.390718     32.937322  \n",
              "2009-12-01 13:07:00      25.324057     32.939323  \n",
              "...                            ...           ...  \n",
              "2011-12-09 12:50:00      12.077987     17.506651  \n",
              "2011-12-09 12:50:00      12.108462     17.500661  \n",
              "2011-12-09 12:50:00      12.138202     17.494661  \n",
              "2011-12-09 12:50:00      12.174942     17.490427  \n",
              "2011-12-09 12:50:00      12.158776     17.490427  \n",
              "\n",
              "[823080 rows x 10 columns]"
            ],
            "text/html": [
              "\n",
              "  <div id=\"df-ef0ead12-82e0-4632-91b0-0931993e7e72\">\n",
              "    <div class=\"colab-df-container\">\n",
              "      <div>\n",
              "<style scoped>\n",
              "    .dataframe tbody tr th:only-of-type {\n",
              "        vertical-align: middle;\n",
              "    }\n",
              "\n",
              "    .dataframe tbody tr th {\n",
              "        vertical-align: top;\n",
              "    }\n",
              "\n",
              "    .dataframe thead th {\n",
              "        text-align: right;\n",
              "    }\n",
              "</style>\n",
              "<table border=\"1\" class=\"dataframe\">\n",
              "  <thead>\n",
              "    <tr style=\"text-align: right;\">\n",
              "      <th></th>\n",
              "      <th>StockCode</th>\n",
              "      <th>Price</th>\n",
              "      <th>Customer ID</th>\n",
              "      <th>Country</th>\n",
              "      <th>avg_price_30d</th>\n",
              "      <th>avg_price_90d</th>\n",
              "      <th>avg_price_1y</th>\n",
              "      <th>avg_quant_30d</th>\n",
              "      <th>avg_quant_90d</th>\n",
              "      <th>avg_quant_1y</th>\n",
              "    </tr>\n",
              "    <tr>\n",
              "      <th>InvoiceDate</th>\n",
              "      <th></th>\n",
              "      <th></th>\n",
              "      <th></th>\n",
              "      <th></th>\n",
              "      <th></th>\n",
              "      <th></th>\n",
              "      <th></th>\n",
              "      <th></th>\n",
              "      <th></th>\n",
              "      <th></th>\n",
              "    </tr>\n",
              "  </thead>\n",
              "  <tbody>\n",
              "    <tr>\n",
              "      <th>2009-12-01 13:07:00</th>\n",
              "      <td>757</td>\n",
              "      <td>5.95</td>\n",
              "      <td>17998.0</td>\n",
              "      <td>1</td>\n",
              "      <td>5.657000</td>\n",
              "      <td>2.704556</td>\n",
              "      <td>3.206151</td>\n",
              "      <td>5.575398</td>\n",
              "      <td>48.605400</td>\n",
              "      <td>32.930536</td>\n",
              "    </tr>\n",
              "    <tr>\n",
              "      <th>2009-12-01 13:07:00</th>\n",
              "      <td>758</td>\n",
              "      <td>5.95</td>\n",
              "      <td>17998.0</td>\n",
              "      <td>1</td>\n",
              "      <td>5.827000</td>\n",
              "      <td>2.693444</td>\n",
              "      <td>3.214881</td>\n",
              "      <td>5.575398</td>\n",
              "      <td>48.643683</td>\n",
              "      <td>32.936092</td>\n",
              "    </tr>\n",
              "    <tr>\n",
              "      <th>2009-12-01 13:07:00</th>\n",
              "      <td>759</td>\n",
              "      <td>3.75</td>\n",
              "      <td>17998.0</td>\n",
              "      <td>1</td>\n",
              "      <td>5.930333</td>\n",
              "      <td>2.731000</td>\n",
              "      <td>3.170437</td>\n",
              "      <td>5.575398</td>\n",
              "      <td>39.530288</td>\n",
              "      <td>32.936092</td>\n",
              "    </tr>\n",
              "    <tr>\n",
              "      <th>2009-12-01 13:07:00</th>\n",
              "      <td>760</td>\n",
              "      <td>5.95</td>\n",
              "      <td>17998.0</td>\n",
              "      <td>1</td>\n",
              "      <td>6.080333</td>\n",
              "      <td>2.787667</td>\n",
              "      <td>3.174405</td>\n",
              "      <td>5.569312</td>\n",
              "      <td>38.390718</td>\n",
              "      <td>32.937322</td>\n",
              "    </tr>\n",
              "    <tr>\n",
              "      <th>2009-12-01 13:07:00</th>\n",
              "      <td>761</td>\n",
              "      <td>0.42</td>\n",
              "      <td>17998.0</td>\n",
              "      <td>1</td>\n",
              "      <td>6.029333</td>\n",
              "      <td>2.782889</td>\n",
              "      <td>3.156429</td>\n",
              "      <td>6.802298</td>\n",
              "      <td>25.324057</td>\n",
              "      <td>32.939323</td>\n",
              "    </tr>\n",
              "    <tr>\n",
              "      <th>...</th>\n",
              "      <td>...</td>\n",
              "      <td>...</td>\n",
              "      <td>...</td>\n",
              "      <td>...</td>\n",
              "      <td>...</td>\n",
              "      <td>...</td>\n",
              "      <td>...</td>\n",
              "      <td>...</td>\n",
              "      <td>...</td>\n",
              "      <td>...</td>\n",
              "    </tr>\n",
              "    <tr>\n",
              "      <th>2011-12-09 12:50:00</th>\n",
              "      <td>4444</td>\n",
              "      <td>2.10</td>\n",
              "      <td>12680.0</td>\n",
              "      <td>2</td>\n",
              "      <td>2.695333</td>\n",
              "      <td>2.310000</td>\n",
              "      <td>2.793056</td>\n",
              "      <td>6.926876</td>\n",
              "      <td>12.077987</td>\n",
              "      <td>17.506651</td>\n",
              "    </tr>\n",
              "    <tr>\n",
              "      <th>2011-12-09 12:50:00</th>\n",
              "      <td>4718</td>\n",
              "      <td>4.15</td>\n",
              "      <td>12680.0</td>\n",
              "      <td>2</td>\n",
              "      <td>2.805333</td>\n",
              "      <td>2.328444</td>\n",
              "      <td>2.803770</td>\n",
              "      <td>6.572671</td>\n",
              "      <td>12.108462</td>\n",
              "      <td>17.500661</td>\n",
              "    </tr>\n",
              "    <tr>\n",
              "      <th>2011-12-09 12:50:00</th>\n",
              "      <td>4720</td>\n",
              "      <td>4.15</td>\n",
              "      <td>12680.0</td>\n",
              "      <td>2</td>\n",
              "      <td>2.802000</td>\n",
              "      <td>2.341778</td>\n",
              "      <td>2.815278</td>\n",
              "      <td>6.572671</td>\n",
              "      <td>12.138202</td>\n",
              "      <td>17.494661</td>\n",
              "    </tr>\n",
              "    <tr>\n",
              "      <th>2011-12-09 12:50:00</th>\n",
              "      <td>72</td>\n",
              "      <td>4.95</td>\n",
              "      <td>12680.0</td>\n",
              "      <td>2</td>\n",
              "      <td>2.768667</td>\n",
              "      <td>2.364000</td>\n",
              "      <td>2.825040</td>\n",
              "      <td>6.572671</td>\n",
              "      <td>12.174942</td>\n",
              "      <td>17.490427</td>\n",
              "    </tr>\n",
              "    <tr>\n",
              "      <th>2011-12-09 12:50:00</th>\n",
              "      <td>87</td>\n",
              "      <td>18.00</td>\n",
              "      <td>12680.0</td>\n",
              "      <td>2</td>\n",
              "      <td>3.243667</td>\n",
              "      <td>2.550111</td>\n",
              "      <td>2.881587</td>\n",
              "      <td>6.774615</td>\n",
              "      <td>12.158776</td>\n",
              "      <td>17.490427</td>\n",
              "    </tr>\n",
              "  </tbody>\n",
              "</table>\n",
              "<p>823080 rows × 10 columns</p>\n",
              "</div>\n",
              "      <button class=\"colab-df-convert\" onclick=\"convertToInteractive('df-ef0ead12-82e0-4632-91b0-0931993e7e72')\"\n",
              "              title=\"Convert this dataframe to an interactive table.\"\n",
              "              style=\"display:none;\">\n",
              "        \n",
              "  <svg xmlns=\"http://www.w3.org/2000/svg\" height=\"24px\"viewBox=\"0 0 24 24\"\n",
              "       width=\"24px\">\n",
              "    <path d=\"M0 0h24v24H0V0z\" fill=\"none\"/>\n",
              "    <path d=\"M18.56 5.44l.94 2.06.94-2.06 2.06-.94-2.06-.94-.94-2.06-.94 2.06-2.06.94zm-11 1L8.5 8.5l.94-2.06 2.06-.94-2.06-.94L8.5 2.5l-.94 2.06-2.06.94zm10 10l.94 2.06.94-2.06 2.06-.94-2.06-.94-.94-2.06-.94 2.06-2.06.94z\"/><path d=\"M17.41 7.96l-1.37-1.37c-.4-.4-.92-.59-1.43-.59-.52 0-1.04.2-1.43.59L10.3 9.45l-7.72 7.72c-.78.78-.78 2.05 0 2.83L4 21.41c.39.39.9.59 1.41.59.51 0 1.02-.2 1.41-.59l7.78-7.78 2.81-2.81c.8-.78.8-2.07 0-2.86zM5.41 20L4 18.59l7.72-7.72 1.47 1.35L5.41 20z\"/>\n",
              "  </svg>\n",
              "      </button>\n",
              "      \n",
              "  <style>\n",
              "    .colab-df-container {\n",
              "      display:flex;\n",
              "      flex-wrap:wrap;\n",
              "      gap: 12px;\n",
              "    }\n",
              "\n",
              "    .colab-df-convert {\n",
              "      background-color: #E8F0FE;\n",
              "      border: none;\n",
              "      border-radius: 50%;\n",
              "      cursor: pointer;\n",
              "      display: none;\n",
              "      fill: #1967D2;\n",
              "      height: 32px;\n",
              "      padding: 0 0 0 0;\n",
              "      width: 32px;\n",
              "    }\n",
              "\n",
              "    .colab-df-convert:hover {\n",
              "      background-color: #E2EBFA;\n",
              "      box-shadow: 0px 1px 2px rgba(60, 64, 67, 0.3), 0px 1px 3px 1px rgba(60, 64, 67, 0.15);\n",
              "      fill: #174EA6;\n",
              "    }\n",
              "\n",
              "    [theme=dark] .colab-df-convert {\n",
              "      background-color: #3B4455;\n",
              "      fill: #D2E3FC;\n",
              "    }\n",
              "\n",
              "    [theme=dark] .colab-df-convert:hover {\n",
              "      background-color: #434B5C;\n",
              "      box-shadow: 0px 1px 3px 1px rgba(0, 0, 0, 0.15);\n",
              "      filter: drop-shadow(0px 1px 2px rgba(0, 0, 0, 0.3));\n",
              "      fill: #FFFFFF;\n",
              "    }\n",
              "  </style>\n",
              "\n",
              "      <script>\n",
              "        const buttonEl =\n",
              "          document.querySelector('#df-ef0ead12-82e0-4632-91b0-0931993e7e72 button.colab-df-convert');\n",
              "        buttonEl.style.display =\n",
              "          google.colab.kernel.accessAllowed ? 'block' : 'none';\n",
              "\n",
              "        async function convertToInteractive(key) {\n",
              "          const element = document.querySelector('#df-ef0ead12-82e0-4632-91b0-0931993e7e72');\n",
              "          const dataTable =\n",
              "            await google.colab.kernel.invokeFunction('convertToInteractive',\n",
              "                                                     [key], {});\n",
              "          if (!dataTable) return;\n",
              "\n",
              "          const docLinkHtml = 'Like what you see? Visit the ' +\n",
              "            '<a target=\"_blank\" href=https://colab.research.google.com/notebooks/data_table.ipynb>data table notebook</a>'\n",
              "            + ' to learn more about interactive tables.';\n",
              "          element.innerHTML = '';\n",
              "          dataTable['output_type'] = 'display_data';\n",
              "          await google.colab.output.renderOutput(dataTable, element);\n",
              "          const docLink = document.createElement('div');\n",
              "          docLink.innerHTML = docLinkHtml;\n",
              "          element.appendChild(docLink);\n",
              "        }\n",
              "      </script>\n",
              "    </div>\n",
              "  </div>\n",
              "  "
            ]
          },
          "metadata": {},
          "execution_count": 97
        }
      ],
      "id": "rsRju-yj748W"
    },
    {
      "cell_type": "code",
      "source": [
        "y_pred=grid.predict(X_test)"
      ],
      "metadata": {
        "id": "VISXDPBc5nxx"
      },
      "execution_count": null,
      "outputs": [],
      "id": "VISXDPBc5nxx"
    },
    {
      "cell_type": "code",
      "source": [
        "from sklearn.linear_model import Ridge\n",
        "from sklearn.metrics import mean_absolute_error\n",
        "from sklearn.model_selection import train_test_split\n",
        "import numpy as np"
      ],
      "metadata": {
        "id": "lW67DTtW6Edw"
      },
      "execution_count": null,
      "outputs": [],
      "id": "lW67DTtW6Edw"
    },
    {
      "cell_type": "code",
      "source": [
        "mae = mean_absolute_error(y_test, y_pred)\n",
        "\n",
        "# Get coefficients\n",
        "coefficients = gird.coef_\n",
        "\n",
        "print(\"Mean Absolute Error:\", mae)\n",
        "print(\"Coefficients:\", coefficients)"
      ],
      "metadata": {
        "colab": {
          "base_uri": "https://localhost:8080/",
          "height": 235
        },
        "id": "P8VbLW_g5eJ3",
        "outputId": "9bfae148-c916-4aec-c131-7b3fdfb69900"
      },
      "execution_count": null,
      "outputs": [
        {
          "output_type": "error",
          "ename": "AttributeError",
          "evalue": "ignored",
          "traceback": [
            "\u001b[0;31m---------------------------------------------------------------------------\u001b[0m",
            "\u001b[0;31mAttributeError\u001b[0m                            Traceback (most recent call last)",
            "\u001b[0;32m<ipython-input-83-3b09c38d4035>\u001b[0m in \u001b[0;36m<cell line: 4>\u001b[0;34m()\u001b[0m\n\u001b[1;32m      2\u001b[0m \u001b[0;34m\u001b[0m\u001b[0m\n\u001b[1;32m      3\u001b[0m \u001b[0;31m# Get coefficients\u001b[0m\u001b[0;34m\u001b[0m\u001b[0;34m\u001b[0m\u001b[0m\n\u001b[0;32m----> 4\u001b[0;31m \u001b[0mcoefficients\u001b[0m \u001b[0;34m=\u001b[0m \u001b[0mridge\u001b[0m\u001b[0;34m.\u001b[0m\u001b[0mcoef_\u001b[0m\u001b[0;34m\u001b[0m\u001b[0;34m\u001b[0m\u001b[0m\n\u001b[0m\u001b[1;32m      5\u001b[0m \u001b[0;34m\u001b[0m\u001b[0m\n\u001b[1;32m      6\u001b[0m \u001b[0mprint\u001b[0m\u001b[0;34m(\u001b[0m\u001b[0;34m\"Mean Absolute Error:\"\u001b[0m\u001b[0;34m,\u001b[0m \u001b[0mmae\u001b[0m\u001b[0;34m)\u001b[0m\u001b[0;34m\u001b[0m\u001b[0;34m\u001b[0m\u001b[0m\n",
            "\u001b[0;31mAttributeError\u001b[0m: 'Ridge' object has no attribute 'coef_'"
          ]
        }
      ],
      "id": "P8VbLW_g5eJ3"
    },
    {
      "cell_type": "code",
      "source": [
        "#This model is a wierd predictor. "
      ],
      "metadata": {
        "id": "2WhF5efjs5pO"
      },
      "execution_count": null,
      "outputs": [],
      "id": "2WhF5efjs5pO"
    },
    {
      "cell_type": "code",
      "source": [],
      "metadata": {
        "id": "QVD0J-XA6HLA"
      },
      "execution_count": null,
      "outputs": [],
      "id": "QVD0J-XA6HLA"
    }
  ],
  "metadata": {
    "colab": {
      "provenance": []
    },
    "kernelspec": {
      "display_name": "Python 3",
      "name": "python3"
    },
    "language_info": {
      "name": "python"
    }
  },
  "nbformat": 4,
  "nbformat_minor": 5
}
